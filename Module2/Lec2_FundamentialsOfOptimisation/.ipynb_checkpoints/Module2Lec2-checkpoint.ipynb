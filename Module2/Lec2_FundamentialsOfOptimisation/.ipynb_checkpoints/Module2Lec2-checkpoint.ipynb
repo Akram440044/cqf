{
 "cells": [
  {
   "cell_type": "code",
   "execution_count": 1,
   "id": "81bb9050",
   "metadata": {},
   "outputs": [],
   "source": [
    "import numpy as np\n",
    "import pandas as pd\n",
    "import matplotlib.pyplot as plt\n",
    "\n",
    "plt.style.use('fivethirtyeight')"
   ]
  },
  {
   "cell_type": "markdown",
   "id": "fd0b6f8e",
   "metadata": {},
   "source": [
    "# 1. Example - maximisation with constrain - in Slide, Page 48-67"
   ]
  },
  {
   "cell_type": "markdown",
   "id": "b88c8d94",
   "metadata": {},
   "source": [
    "Assume there 4 assets in the market, $X_1, X_2, X_3, X_4$. With $\\mu$ and $\\sigma$ and correlation, $R$, showing below,"
   ]
  },
  {
   "cell_type": "code",
   "execution_count": 5,
   "id": "d2589297",
   "metadata": {},
   "outputs": [],
   "source": [
    "mu = np.array([0.05, 0.07, 0.15, 0.27])\n",
    "sigma = np.array([0.07, 0.12, 0.3 , 0.6])\n",
    "R = np.array([[1,0.8, 0.5, 0.4],[0.8, 1, 0.7, 0.5], [0.5, 0.7, 1, 0.8],[0.4, 0.5, 0.8, 1]])\n",
    "m = 0.1"
   ]
  },
  {
   "cell_type": "markdown",
   "id": "45915a6f",
   "metadata": {},
   "source": [
    "The variance-covariance matrix is,\n",
    "\n",
    "$$\\Sigma = SRS$$\n",
    "\n",
    ", where $S$ matrix is put the vector $\\sigma$ into the diagonal elements."
   ]
  },
  {
   "cell_type": "code",
   "execution_count": 31,
   "id": "1cb7fb77",
   "metadata": {
    "scrolled": true
   },
   "outputs": [
    {
     "name": "stdout",
     "output_type": "stream",
     "text": [
      "[[0.0049  0.00672 0.0105  0.0168 ]\n",
      " [0.00672 0.0144  0.0252  0.036  ]\n",
      " [0.0105  0.0252  0.09    0.144  ]\n",
      " [0.0168  0.036   0.144   0.36   ]]\n"
     ]
    }
   ],
   "source": [
    "S = np.diag(sigma)\n",
    "Sigma = np.dot(np.dot(S,R),S)\n",
    "print(Sigma)\n",
    "\n",
    "A = np.dot(np.dot(One.T , np.linalg.inv(Sigma)),One)\n",
    "B = np.dot(np.dot(mu.T, np.linalg.inv(Sigma)), One)\n",
    "C = np.dot(np.dot(mu.T, np.linalg.inv(Sigma)), mu)\n",
    "\n",
    "lam = (A*m - B)/(A*C - B**2)\n",
    "gam = (C - B*m)/(A*C - B**2)"
   ]
  },
  {
   "cell_type": "code",
   "execution_count": 37,
   "id": "a8d43666",
   "metadata": {},
   "outputs": [
    {
     "data": {
      "text/plain": [
       "array([0.52841211, 0.17288808, 0.15976434, 0.13893547])"
      ]
     },
     "execution_count": 37,
     "metadata": {},
     "output_type": "execute_result"
    }
   ],
   "source": [
    "w_star = np.dot(np.linalg.inv(Sigma),(lam * mu + gam * One))\n",
    "w_star"
   ]
  },
  {
   "cell_type": "markdown",
   "id": "35a3916b",
   "metadata": {},
   "source": [
    "# Another Example, Page 76-89"
   ]
  },
  {
   "cell_type": "markdown",
   "id": "e5b8bea6",
   "metadata": {},
   "source": [
    "$$min_{w} \\frac{1}{2}w^T \\Sigma w$$\n",
    "\n",
    "$$s.t.\\quad  r_f + w^T (\\mu - r_f \\mathbb{1}) = m$$\n",
    "\n",
    "Apply the Lagrangian Method,\n",
    "\n",
    "$$L(x,\\lambda) = \\frac{1}{2}w^t\\Sigma w + \\lambda \\bigg(m - r_f + w^T (\\mu - r_f \\mathbb{1})\\bigg)$$\n",
    "\n",
    "F.O.C.  w.r.t. w\n",
    "$\\frac{\\partial L}{\\partial w} = \\Sigma w - \\lambda(\\mu - r_f \\mathbb{1})$\n",
    "\n",
    "$$w^* = \\lambda \\Sigma^{-1} (\\mu - r_f \\mathbb{1})$$\n",
    "\n",
    "\n",
    "F.O.C. w.r.t. $\\lambda$\n",
    "$$r_f + w^T (\\mu - r_f \\mathbb{1}) = m$$\n",
    ", substitute $w^*$ into the above function we could solve for $\\lambda^*$\n",
    "\n",
    "$$\\lambda^* = \\frac{m-r}{\\big( \\mu - r_f \\mathbb{1} \\big)^T \\Sigma^{-1}\\big( \\mu - r_f \\mathbb{1} \\big) }$$\n",
    "\n",
    "So,\n",
    "\n",
    "$$w^* = \\frac{(m-r)\\Sigma^{-1}(\\mu - r_f \\mathbb{1})}{\\big( \\mu - r_f \\mathbb{1} \\big)^T \\Sigma^{-1}\\big( \\mu - r_f \\mathbb{1} \\big) }$$"
   ]
  },
  {
   "cell_type": "code",
   "execution_count": 45,
   "id": "b7400513",
   "metadata": {},
   "outputs": [
    {
     "data": {
      "text/plain": [
       "array([0.88735248, 0.08126325, 0.15484343, 0.12164862])"
      ]
     },
     "execution_count": 45,
     "metadata": {},
     "output_type": "execute_result"
    }
   ],
   "source": [
    "rf = 0.025\n",
    "\n",
    "w = (m - rf) * np.dot(np.linalg.inv(Sigma), (mu - rf * One)) / \\\n",
    "    (  np.dot(np.dot((mu - rf * One).T,np.linalg.inv(Sigma)), mu - rf * One)  )\n",
    "w"
   ]
  },
  {
   "cell_type": "markdown",
   "id": "de8a3c52",
   "metadata": {},
   "source": [
    "# Tangency Portfolio"
   ]
  },
  {
   "cell_type": "markdown",
   "id": "1e9194b9",
   "metadata": {},
   "source": [
    "# Black-Litterman"
   ]
  },
  {
   "cell_type": "markdown",
   "id": "0d50f8d5",
   "metadata": {},
   "source": [
    "## Part 1. Prior"
   ]
  },
  {
   "cell_type": "code",
   "execution_count": 57,
   "id": "482849e3",
   "metadata": {},
   "outputs": [],
   "source": [
    "Sigma = np.array( [[0.0049, 0.00672, 0.0105, 0.0168], \\\n",
    "                   [0.00672, 0.0144, 0.0252, 0.036],\\\n",
    "                   [0.0105, 0.0252, 0.09, 0.144],\n",
    "                   [0.0168, 0.036, 0.144, 0.36] ] )\n",
    "wm = np.array([0.05, 0.4, 0.45, 0.1])\n",
    "Sm = 0.5"
   ]
  },
  {
   "cell_type": "code",
   "execution_count": 60,
   "id": "1d15dc40",
   "metadata": {},
   "outputs": [
    {
     "name": "stdout",
     "output_type": "stream",
     "text": [
      "lambda: 2.236905855664812\n",
      "Pi: [0.02088823 0.04705555 0.14652852 0.25957056]\n"
     ]
    }
   ],
   "source": [
    "sigma = np.sqrt( wm.T.dot(Sigma).dot(wm) )\n",
    "lam = 1/sigma*Sm\n",
    "print('lambda:', lam)\n",
    "\n",
    "Pi = lam * Sigma.dot(wm)\n",
    "print('Pi:', Pi)"
   ]
  },
  {
   "cell_type": "code",
   "execution_count": 62,
   "id": "c42599ca",
   "metadata": {},
   "outputs": [
    {
     "name": "stdout",
     "output_type": "stream",
     "text": [
      "[[4.08333333e-05 5.60000000e-05 8.75000000e-05 1.40000000e-04]\n",
      " [5.60000000e-05 1.20000000e-04 2.10000000e-04 3.00000000e-04]\n",
      " [8.75000000e-05 2.10000000e-04 7.50000000e-04 1.20000000e-03]\n",
      " [1.40000000e-04 3.00000000e-04 1.20000000e-03 3.00000000e-03]]\n"
     ]
    }
   ],
   "source": [
    "T = 10*12 # 10 years 12 months\n",
    "tau = 1/T\n",
    "\n",
    "tSigma = tau * Sigma\n",
    "print(tSigma)"
   ]
  },
  {
   "cell_type": "markdown",
   "id": "a159dce9",
   "metadata": {},
   "source": [
    "## Part 2. Part 2 - Conditional Dist"
   ]
  },
  {
   "cell_type": "code",
   "execution_count": 66,
   "id": "413e3fb1",
   "metadata": {},
   "outputs": [],
   "source": [
    "P = np.array(  [[-1,0, 1, 0],[0, 1, 0, 0]]  )\n",
    "Q = np.array([0.1, 0.03])"
   ]
  },
  {
   "cell_type": "code",
   "execution_count": 85,
   "id": "7f06a365",
   "metadata": {},
   "outputs": [
    {
     "name": "stdout",
     "output_type": "stream",
     "text": [
      "[[0.00061583 0.000154  ]\n",
      " [0.000154   0.00012   ]]\n",
      "--------------------\n",
      "[[0.00061583 0.        ]\n",
      " [0.         0.00012   ]]\n"
     ]
    }
   ],
   "source": [
    "Omega = tau * P.dot(Sigma).dot(P.T)\n",
    "print(Omega)\n",
    "print('-'*20)\n",
    "Omega1 = np.diag(np.diag(Omega))\n",
    "print(Omega1)"
   ]
  },
  {
   "cell_type": "markdown",
   "id": "74caa2c7",
   "metadata": {},
   "source": [
    "## Posterior"
   ]
  },
  {
   "cell_type": "code",
   "execution_count": null,
   "id": "b90ef913",
   "metadata": {},
   "outputs": [],
   "source": [
    "Rhat = "
   ]
  },
  {
   "cell_type": "code",
   "execution_count": 90,
   "id": "1f3307bb",
   "metadata": {},
   "outputs": [
    {
     "data": {
      "text/plain": [
       "array([[2.70074127e-05, 2.80000000e-05, 5.03407461e-05, 9.03371593e-05],\n",
       "       [2.80000000e-05, 6.00000000e-05, 1.05000000e-04, 1.50000000e-04],\n",
       "       [5.03407461e-05, 1.05000000e-04, 3.81590746e-04, 6.20337159e-04],\n",
       "       [9.03371593e-05, 1.50000000e-04, 6.20337159e-04, 2.08025466e-03]])"
      ]
     },
     "execution_count": 90,
     "metadata": {},
     "output_type": "execute_result"
    }
   ],
   "source": [
    "deno = np.linalg.inv(np.linalg.inv(tau*Sigma) + P.T.dot(np.linalg.inv(Omega)).dot(P))"
   ]
  },
  {
   "cell_type": "code",
   "execution_count": 92,
   "id": "4a65e326",
   "metadata": {},
   "outputs": [
    {
     "data": {
      "text/plain": [
       "array([-133.6373884 ,  168.64599088,  267.85173974,   26.84287027])"
      ]
     },
     "execution_count": 92,
     "metadata": {},
     "output_type": "execute_result"
    }
   ],
   "source": [
    "numerator = np.linalg.inv(tau*Sigma).dot(Pi) + P.T.dot(np.linalg.inv(Omega)).dot(Q)"
   ]
  }
 ],
 "metadata": {
  "kernelspec": {
   "display_name": "Python 3 (ipykernel)",
   "language": "python",
   "name": "python3"
  },
  "language_info": {
   "codemirror_mode": {
    "name": "ipython",
    "version": 3
   },
   "file_extension": ".py",
   "mimetype": "text/x-python",
   "name": "python",
   "nbconvert_exporter": "python",
   "pygments_lexer": "ipython3",
   "version": "3.9.12"
  },
  "toc": {
   "base_numbering": 1,
   "nav_menu": {},
   "number_sections": true,
   "sideBar": true,
   "skip_h1_title": false,
   "title_cell": "Table of Contents",
   "title_sidebar": "Contents",
   "toc_cell": false,
   "toc_position": {},
   "toc_section_display": true,
   "toc_window_display": false
  }
 },
 "nbformat": 4,
 "nbformat_minor": 5
}
