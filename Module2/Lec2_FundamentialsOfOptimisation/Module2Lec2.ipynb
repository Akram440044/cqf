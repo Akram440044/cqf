{
 "cells": [
  {
   "cell_type": "code",
   "execution_count": 1,
   "id": "a3762eb7",
   "metadata": {},
   "outputs": [],
   "source": [
    "import numpy as np\n",
    "import pandas as pd\n",
    "import matplotlib.pyplot as plt\n",
    "\n",
    "plt.style.use('fivethirtyeight')"
   ]
  },
  {
   "cell_type": "markdown",
   "id": "1756f8cd",
   "metadata": {},
   "source": [
    "# 1. Example - maximisation with constrain - in Slide, Page 48-67"
   ]
  },
  {
   "cell_type": "markdown",
   "id": "967a8a5a",
   "metadata": {},
   "source": [
    "Assume there 4 assets in the market, $X_1, X_2, X_3, X_4$. With $\\mu$ and $\\sigma$ and correlation, $R$, showing below,"
   ]
  },
  {
   "cell_type": "code",
   "execution_count": 2,
   "id": "3134689c",
   "metadata": {},
   "outputs": [],
   "source": [
    "mu = np.array([0.05, 0.07, 0.15, 0.27])\n",
    "sigma = np.array([0.07, 0.12, 0.3 , 0.6])\n",
    "R = np.array([[1,0.8, 0.5, 0.4],[0.8, 1, 0.7, 0.5], [0.5, 0.7, 1, 0.8],[0.4, 0.5, 0.8, 1]])\n",
    "m = 0.1"
   ]
  },
  {
   "cell_type": "markdown",
   "id": "6f9d30c1",
   "metadata": {},
   "source": [
    "The variance-covariance matrix is,\n",
    "\n",
    "$$\\Sigma = SRS$$\n",
    "\n",
    ", where $S$ matrix is put the vector $\\sigma$ into the diagonal elements."
   ]
  },
  {
   "cell_type": "code",
   "execution_count": 3,
   "id": "f16fcdaa",
   "metadata": {
    "scrolled": true
   },
   "outputs": [
    {
     "name": "stdout",
     "output_type": "stream",
     "text": [
      "[[0.0049  0.00672 0.0105  0.0168 ]\n",
      " [0.00672 0.0144  0.0252  0.036  ]\n",
      " [0.0105  0.0252  0.09    0.144  ]\n",
      " [0.0168  0.036   0.144   0.36   ]]\n"
     ]
    }
   ],
   "source": [
    "S = np.diag(sigma)\n",
    "Sigma = np.dot(np.dot(S,R),S)\n",
    "One = np.ones(4)\n",
    "print(Sigma)\n",
    "\n",
    "A = np.dot(np.dot(One.T , np.linalg.inv(Sigma)),One)\n",
    "B = np.dot(np.dot(mu.T, np.linalg.inv(Sigma)), One)\n",
    "C = np.dot(np.dot(mu.T, np.linalg.inv(Sigma)), mu)\n",
    "\n",
    "lam = (A*m - B)/(A*C - B**2)\n",
    "gam = (C - B*m)/(A*C - B**2)"
   ]
  },
  {
   "cell_type": "code",
   "execution_count": 4,
   "id": "70abcfb9",
   "metadata": {},
   "outputs": [
    {
     "data": {
      "text/plain": [
       "array([0.52841211, 0.17288808, 0.15976434, 0.13893547])"
      ]
     },
     "execution_count": 4,
     "metadata": {},
     "output_type": "execute_result"
    }
   ],
   "source": [
    "w_star = np.dot(np.linalg.inv(Sigma),(lam * mu + gam * One))\n",
    "w_star"
   ]
  },
  {
   "cell_type": "markdown",
   "id": "becf2257",
   "metadata": {},
   "source": [
    "# Global Minimum Variance Portfolio, Page 54-71\n",
    "\n",
    "Now, we try to show the Effective Frontier in the matrix representations.\n",
    "\n",
    "Let's firstly clarify the question and steps.\n",
    "\n",
    "## Choose Weights that mini var of portfolio, given returns\n",
    "Find Weights vector, $w = w^*$, that can construct a portfolio with lowest risks, $\\sigma_p$, at each level of return, $\\mu_p$. \n",
    "\n",
    "$$ \\min_w \\frac{1}{2}\\sigma^2_p = \\frac{1}{2}w^T\\Sigma w$$\n",
    "\n",
    "\n",
    "$$s.t.\\quad w^T \\mu = m, \\quad w^T\\mathbb{1} = 1$$\n",
    "\n",
    "We construct the Lagrangian,\n",
    "\n",
    "$$L(x,\\lambda) = \\frac{1}{2}w^t\\Sigma w + \\lambda \\bigg(m - w^T \\mu\\bigg) + \\gamma \\bigg(1 - w^T \\mathbb{1}\\bigg)$$\n",
    "\n",
    "F.O.C. w.r.t. $w, \\lambda, \\gamma$\n",
    "\n",
    "we get three equations and three unknowns.\n",
    "\n",
    "Solve it, we get,\n",
    "\n",
    "$$w^* = \\frac{1}{AC-B^2}\\Sigma^{-1}\\bigg( (A\\mu - B\\mathbb{1})m + (C\\mathbb{1}-B\\mu) \\bigg)$$\n",
    "\n",
    "where, \n",
    "- $A = \\mathbb{1}^T \\Sigma^{-1} \\mathbb{1}$\n",
    "- $ B = \\mathbb{1}^T \\Sigma^{-1} \\mu = \\mu \\Sigma^{-1} \\mathbb{1}$\n",
    "- $C = \\mu^T \\Sigma^{-1} \\mu$\n",
    "- They are all scalars.\n",
    "\n",
    "$w^*$ is a vector of weights. Given the required return $m$, $w^*$ would build up a minimum variance portfolio.\n",
    "\n",
    "\n",
    "\n",
    "## Choose Return, mini var of portfolio (Global Minimum Variance Portfolio)\n",
    "\n",
    "Now, we can construct the portfolio by $w^*$. We aim to find the minimum variance portfolio's weights.\n",
    "\n",
    "\n",
    "$\\sigma^2_p = w^T \\Sigma w$, and plug $w^*$ inside and simplify, we get,\n",
    "\n",
    "$$\\sigma^2_p = \\frac{Am^2 - 2Bm + C}{AC-B^2}$$\n",
    "\n",
    "Now, we establish the problem,\n",
    "\n",
    "$$\\min_m \\sigma_p^2 = \\frac{Am^2 - 2Bm + C}{AC-B^2}$$\n",
    "\n",
    "F.O.C. w.r.t. $m$\n",
    "\n",
    "$$\\frac{d \\_}{d m} = \\frac{2Am - 2B}{AC-B^2}==0$$\n",
    "$$m_{globalMini} = \\frac{B}{A} = m_g$$\n",
    "\n",
    "Plug $m = B/A$ back into $w_*$, we would get the weights that can consist with the **Global Mini Var Portfolio**.\n",
    "\n",
    "$$w_g = \\frac{1}{A}\\Sigma^{-1}\\mathbb{1}=\\frac{\\Sigma^{-1}\\mathbb{1}}{\\mathbb{1}^T\\Sigma^{-1}\\mathbb{1}}$$\n",
    "\n",
    "$$\\sigma^2_g = \\frac{1}{A} = \\frac{1}{\\mathbb{1}^T\\Sigma^{-1}\\mathbb{1}}$$\n",
    "\n",
    "-------\n",
    "For $w$, \n",
    "- $\\mu_p = w^T \\mu = \\mu^T w$\n",
    "- $\\sigma^2_p = w^T\\Sigma w$\n",
    "\n",
    ",where $\\Sigma$ is the var-cov matrix for all assets (market portfolio; where $\\mu$ is the all-assets' returns vector."
   ]
  },
  {
   "cell_type": "code",
   "execution_count": 6,
   "id": "ea10fd9b",
   "metadata": {},
   "outputs": [
    {
     "name": "stdout",
     "output_type": "stream",
     "text": [
      "[[0.0049  0.00672 0.0105  0.0168 ]\n",
      " [0.00672 0.0144  0.0252  0.036  ]\n",
      " [0.0105  0.0252  0.09    0.144  ]\n",
      " [0.0168  0.036   0.144   0.36   ]]\n",
      "[0.52841211 0.17288808 0.15976434 0.13893547]\n"
     ]
    }
   ],
   "source": [
    "# In a two-assets case\n",
    "mu = np.array([0.05, 0.07, 0.15, 0.27])\n",
    "sigma = np.array([0.07, 0.12, 0.3 , 0.6])\n",
    "R = np.array([[1,0.8, 0.5, 0.4],[0.8, 1, 0.7, 0.5], [0.5, 0.7, 1, 0.8],[0.4, 0.5, 0.8, 1]])\n",
    "m = 0.1\n",
    "\n",
    "#--------\n",
    "S = np.diag(sigma)\n",
    "Sigma = np.dot(np.dot(S,R),S)\n",
    "One = np.ones(4)\n",
    "print(Sigma)\n",
    "\n",
    "A = np.dot(np.dot(One.T , np.linalg.inv(Sigma)),One)\n",
    "B = np.dot(np.dot(mu.T, np.linalg.inv(Sigma)), One)\n",
    "C = np.dot(np.dot(mu.T, np.linalg.inv(Sigma)), mu)\n",
    "\n",
    "lam = (A*m - B)/(A*C - B**2)\n",
    "gam = (C - B*m)/(A*C - B**2)\n",
    "\n",
    "w_star = np.linalg.inv(Sigma).dot( lam*mu + gam*One )\n",
    "print(w_star)\n",
    "\n",
    "#-----------\n",
    "def cal_w_star(m):\n",
    "    lam = (A*m - B)/(A*C - B**2)\n",
    "    gam = (C - B*m)/(A*C - B**2)\n",
    "    w_star = np.linalg.inv(Sigma).dot( lam*mu + gam*One )\n",
    "    return w_star\n",
    "\n",
    "def cal_sigma_p(w_star):\n",
    "    return w_star.T.dot(Sigma).dot(w_star)\n",
    "\n",
    "def cal_mu_p(w_star):\n",
    "    return w_star.T.dot(mu)"
   ]
  },
  {
   "cell_type": "code",
   "execution_count": 35,
   "id": "f90b86f3",
   "metadata": {
    "scrolled": true
   },
   "outputs": [
    {
     "data": {
      "image/png": "[encoded data removed]",
      "text/plain": [
       "<Figure size 432x288 with 1 Axes>"
      ]
     },
     "metadata": {},
     "output_type": "display_data"
    },
    {
     "name": "stdout",
     "output_type": "stream",
     "text": [
      "0.040186736235067966==0.040186736235067994\n"
     ]
    }
   ],
   "source": [
    "N = 1_000\n",
    "w_all = np.random.rand(4,N)\n",
    "w_all[3,:] = 1 - w_all[0,:] - w_all[1,:] - w_all[2,:]\n",
    "\n",
    "# global mini solution\n",
    "w_min = 1/A*np.linalg.inv(Sigma).dot(One)\n",
    "sigma_min = 1/A\n",
    "\n",
    "plt.scatter(np.diagonal(cal_sigma_p(w_all)), cal_mu_p(w_all))\n",
    "plt.scatter((cal_sigma_p(w_min)),cal_mu_p(w_min),color='red', marker='o',s=200)\n",
    "plt.xlabel('Return - Sigma^2 of Portfolio')\n",
    "plt.ylabel('Vol - Mu of Portfolio')\n",
    "plt.show()\n",
    "\n",
    "print(f'{B/A}=={cal_mu_p(w_min)}')\n",
    "# testify m = B/A is the mini return"
   ]
  },
  {
   "cell_type": "markdown",
   "id": "0acf498e",
   "metadata": {},
   "source": [
    "## Tangency - CML\n",
    "### Tangency Portfolio given return $m$\n",
    "\n",
    "Now, there is a constraint that allow as invest in only the risk free assets and the portfolio on the frontier.\n",
    "\n",
    "$$min_{w} \\frac{1}{2}w^T \\Sigma w$$\n",
    "\n",
    "$$s.t.\\quad  r_f + w^T (\\mu - r_f \\mathbb{1}) = m$$\n",
    "\n",
    "Apply the Lagrangian Method,\n",
    "\n",
    "$$L(x,\\lambda) = \\frac{1}{2}w^t\\Sigma w + \\lambda \\bigg(m - r_f + w^T (\\mu - r_f \\mathbb{1})\\bigg)$$\n",
    "\n",
    "F.O.C.  w.r.t. w\n",
    "$\\frac{\\partial L}{\\partial w} = \\Sigma w - \\lambda(\\mu - r_f \\mathbb{1})$\n",
    "\n",
    "$$w^*_f = \\lambda \\Sigma^{-1} (\\mu - r_f \\mathbb{1})$$\n",
    "\n",
    "\n",
    "F.O.C. w.r.t. $\\lambda$\n",
    "$$r_f + w^T (\\mu - r_f \\mathbb{1}) = m$$\n",
    ", substitute $w^*$ into the above function we could solve for $\\lambda^*$\n",
    "\n",
    "$$\\lambda^* = \\frac{m-r}{\\big( \\mu - r_f \\mathbb{1} \\big)^T \\Sigma^{-1}\\big( \\mu - r_f \\mathbb{1} \\big) }$$\n",
    "\n",
    "So,\n",
    "\n",
    "$$w^*_f = \\frac{(m-r)\\Sigma^{-1}(\\mu - r_f \\mathbb{1})}{\\big( \\mu - r_f \\mathbb{1} \\big)^T \\Sigma^{-1}\\big( \\mu - r_f \\mathbb{1} \\big) }$$\n",
    "\n",
    "### Find the risk-free considering level Return, $m^*$\n",
    "Haven Know $w_f^*$, we now add one more constraint to restrict $w_f^*$,\n",
    "\n",
    "$$\\mathbb{1}^T \\cdot w_f^* = 1$$\n",
    "\n",
    "\n",
    "$$(m-r)\\frac{\\mathbb{1}\\Sigma^{-1}(\\mu - r_f \\mathbb{1})}{\\big( \\mu - r_f \\mathbb{1} \\big)^T \\Sigma^{-1}\\big( \\mu - r_f \\mathbb{1} \\big) } = 1$$\n",
    "\n",
    "$$  (m-r)\\frac{B - r_f A}{C-2r_f B+r_f^2A}=1$$\n",
    "\n",
    "$$m(B-r_f A) = C- r_fB$$\n",
    "\n",
    "$$m^* = \\frac{C- r_fB}{B-r_fA }$$\n",
    "\n",
    "### Plug $m^*$ into `cal_w_star(m^*)`\n",
    "\n",
    "\n",
    "1\n"
   ]
  },
  {
   "cell_type": "code",
   "execution_count": 45,
   "id": "42711d6d",
   "metadata": {},
   "outputs": [
    {
     "name": "stdout",
     "output_type": "stream",
     "text": [
      "[0.88735248 0.08126325 0.15484343 0.12164862]\n"
     ]
    }
   ],
   "source": [
    "# w^*_f\n",
    "\n",
    "rf = 0.025\n",
    "\n",
    "def cal_w_rf(m):\n",
    "    w = (m - rf) * np.dot(np.linalg.inv(Sigma), (mu - rf * One)) / \\\n",
    "        (  np.dot(np.dot((mu - rf * One).T,np.linalg.inv(Sigma)), mu - rf * One)  )\n",
    "    return w\n",
    "\n",
    "print(cal_w_rf(m))\n",
    "\n",
    "# m^*\n",
    "m_star = (C-B*rf)/(B-A*rf)\n",
    "w_fstar = cal_w_star(m_star)\n",
    "cml_var = cal_sigma_p(w_fstar)\n",
    "cml_mu = cal_mu_p(w_fstar)\n",
    "# slope = (cml_var-0)/(cml_mu - rf)\n",
    "# def cml(x):\n",
    "#     y = x*slope + r\n",
    "#     return y\n",
    "# x = np.linspace(0,0.5,100)\n",
    "# y_cml = cml(x)"
   ]
  },
  {
   "cell_type": "code",
   "execution_count": 51,
   "id": "4f904900",
   "metadata": {},
   "outputs": [
    {
     "data": {
      "image/png": "[encoded data removed]",
      "text/plain": [
       "<Figure size 432x288 with 1 Axes>"
      ]
     },
     "metadata": {},
     "output_type": "display_data"
    },
    {
     "name": "stdout",
     "output_type": "stream",
     "text": [
      "0.040186736235067966==0.040186736235067994\n"
     ]
    }
   ],
   "source": [
    "N = 1_000\n",
    "w_all = np.random.rand(4,N)\n",
    "w_all[3,:] = 1 - w_all[0,:] - w_all[1,:] - w_all[2,:]\n",
    "\n",
    "# global mini solution\n",
    "w_min = 1/A*np.linalg.inv(Sigma).dot(One)\n",
    "sigma_min = 1/A\n",
    "\n",
    "plt.scatter(np.diagonal(cal_sigma_p(w_all)), cal_mu_p(w_all))\n",
    "plt.scatter((cal_sigma_p(w_min)),cal_mu_p(w_min),color='red', marker='o',s=200)\n",
    "# here is the w^*_f\n",
    "plt.scatter(cml_var,cml_mu,color='orange', marker='o',s=200)\n",
    "\n",
    "plt.xlabel('Return - Sigma^2 of Portfolio')\n",
    "plt.ylabel('Vol - Mu of Portfolio')\n",
    "plt.show()\n",
    "\n",
    "print(f'{B/A}=={cal_mu_p(w_min)}')\n",
    "# testify m = B/A is the mini return"
   ]
  },
  {
   "cell_type": "code",
   "execution_count": 50,
   "id": "1b511adf",
   "metadata": {},
   "outputs": [
    {
     "data": {
      "text/plain": [
       "[<matplotlib.lines.Line2D at 0x7fdaf0f44100>]"
      ]
     },
     "execution_count": 50,
     "metadata": {},
     "output_type": "execute_result"
    },
    {
     "data": {
      "image/png": "[encoded data removed]",
      "text/plain": [
       "<Figure size 432x288 with 1 Axes>"
      ]
     },
     "metadata": {},
     "output_type": "display_data"
    }
   ],
   "source": []
  },
  {
   "cell_type": "code",
   "execution_count": null,
   "id": "b895332d",
   "metadata": {},
   "outputs": [],
   "source": []
  },
  {
   "cell_type": "markdown",
   "id": "eb000d2c",
   "metadata": {},
   "source": [
    "# Black-Litterman"
   ]
  },
  {
   "cell_type": "markdown",
   "id": "7b4ec31a",
   "metadata": {},
   "source": [
    "## Part 1. Prior"
   ]
  },
  {
   "cell_type": "code",
   "execution_count": 11,
   "id": "40d6d627",
   "metadata": {},
   "outputs": [],
   "source": [
    "Sigma = np.array( [[0.0049, 0.00672, 0.0105, 0.0168], \\\n",
    "                   [0.00672, 0.0144, 0.0252, 0.036],\\\n",
    "                   [0.0105, 0.0252, 0.09, 0.144],\n",
    "                   [0.0168, 0.036, 0.144, 0.36] ] )\n",
    "wm = np.array([0.05, 0.4, 0.45, 0.1])\n",
    "Sm = 0.5"
   ]
  },
  {
   "cell_type": "code",
   "execution_count": 12,
   "id": "8f3d72a4",
   "metadata": {},
   "outputs": [
    {
     "name": "stdout",
     "output_type": "stream",
     "text": [
      "lambda: 2.236905855664812\n",
      "Pi: [0.02088823 0.04705555 0.14652852 0.25957056]\n"
     ]
    }
   ],
   "source": [
    "sigma = np.sqrt( wm.T.dot(Sigma).dot(wm) )\n",
    "lam = 1/sigma*Sm\n",
    "print('lambda:', lam)\n",
    "\n",
    "Pi = lam * Sigma.dot(wm)\n",
    "print('Pi:', Pi)"
   ]
  },
  {
   "cell_type": "code",
   "execution_count": 13,
   "id": "2c502e45",
   "metadata": {},
   "outputs": [
    {
     "name": "stdout",
     "output_type": "stream",
     "text": [
      "[[4.08333333e-05 5.60000000e-05 8.75000000e-05 1.40000000e-04]\n",
      " [5.60000000e-05 1.20000000e-04 2.10000000e-04 3.00000000e-04]\n",
      " [8.75000000e-05 2.10000000e-04 7.50000000e-04 1.20000000e-03]\n",
      " [1.40000000e-04 3.00000000e-04 1.20000000e-03 3.00000000e-03]]\n"
     ]
    }
   ],
   "source": [
    "T = 10*12 # 10 years 12 months\n",
    "tau = 1/T\n",
    "\n",
    "tSigma = tau * Sigma\n",
    "print(tSigma)"
   ]
  },
  {
   "cell_type": "markdown",
   "id": "48d3b3cf",
   "metadata": {},
   "source": [
    "## Part 2. Part 2 - Conditional Dist"
   ]
  },
  {
   "cell_type": "code",
   "execution_count": 14,
   "id": "8af5148a",
   "metadata": {},
   "outputs": [],
   "source": [
    "P = np.array(  [[-1,0, 1, 0],[0, 1, 0, 0]]  )\n",
    "Q = np.array([0.1, 0.03])"
   ]
  },
  {
   "cell_type": "code",
   "execution_count": 15,
   "id": "0f38e28e",
   "metadata": {},
   "outputs": [
    {
     "name": "stdout",
     "output_type": "stream",
     "text": [
      "--------------------\n",
      "[[0.00061583 0.        ]\n",
      " [0.         0.00012   ]]\n"
     ]
    }
   ],
   "source": [
    "# Omega = tau * P.dot(Sigma).dot(P.T)\n",
    "# print(Omega)\n",
    "print('-'*20)\n",
    "Omega = np.diag(np.diag( tau * P.dot(Sigma).dot(P.T) ))  # Keep the Diagonal only\n",
    "print(Omega)"
   ]
  },
  {
   "cell_type": "markdown",
   "id": "dc47e7b6",
   "metadata": {},
   "source": [
    "## Posterior\n",
    "\n",
    "The **Posterior Distribution** is,\n",
    "\n",
    "$$P(E|I) \\sim N\\Bigg(\\bigg[ (\\tau \\Sigma)^{-1} + P^T \\Omega^{-1}P \\bigg]^{-1}\\bigg[ (\\tau \\Sigma)^{-1}\\Pi + P^T \\Omega^{-1}Q \\bigg], \\bigg[(\\tau \\Sigma)^{-1} + P^T \\Omega^{-1}P \\bigg]^{-1} \\Bigg)$$\n",
    "\n",
    "Thus, the result of Black-Litterman Formula is, (the excess return given analyst's view, I)\n",
    "\n",
    "$$\\hat{R}_I:= E(r-r_f|I) = \\bigg[ (\\tau \\Sigma)^{-1} + P^T \\Omega^{-1}P \\bigg]^{-1}\\bigg[ (\\tau \\Sigma)^{-1}\\Pi + P^T \\Omega^{-1}Q \\bigg]$$"
   ]
  },
  {
   "cell_type": "code",
   "execution_count": 16,
   "id": "7bcfd8bf",
   "metadata": {},
   "outputs": [
    {
     "data": {
      "text/plain": [
       "array([0.01676936, 0.03752887, 0.12475848, 0.22699715])"
      ]
     },
     "execution_count": 16,
     "metadata": {},
     "output_type": "execute_result"
    }
   ],
   "source": [
    "denominator = np.linalg.inv(np.linalg.inv(tau*Sigma) + P.T.dot(np.linalg.inv(Omega)).dot(P))\n",
    "numerator = np.linalg.inv(tau*Sigma).dot(Pi) + P.T.dot(np.linalg.inv(Omega)).dot(Q)\n",
    "Rhat = np.dot(denominator, numerator)\n",
    "Rhat"
   ]
  },
  {
   "cell_type": "code",
   "execution_count": 17,
   "id": "6361d776",
   "metadata": {},
   "outputs": [
    {
     "data": {
      "text/plain": [
       "array([[2.76649723e-05, 2.72704536e-05, 3.34997646e-05, 6.17807594e-05],\n",
       "       [2.72704536e-05, 5.47662974e-05, 6.91287461e-05, 9.10358830e-05],\n",
       "       [3.34997646e-05, 6.91287461e-05, 3.20392153e-04, 5.33366068e-04],\n",
       "       [6.17807594e-05, 9.10358830e-05, 5.33366068e-04, 1.96069647e-03]])"
      ]
     },
     "execution_count": 17,
     "metadata": {},
     "output_type": "execute_result"
    }
   ],
   "source": [
    "varhat = denominator\n",
    "varhat"
   ]
  },
  {
   "cell_type": "markdown",
   "id": "414161ed",
   "metadata": {},
   "source": [
    "## Asset Allocation - $w^*$"
   ]
  },
  {
   "cell_type": "code",
   "execution_count": 18,
   "id": "a8399f6f",
   "metadata": {},
   "outputs": [
    {
     "data": {
      "text/plain": [
       "array([0.09832891, 0.16626739, 0.40167109, 0.1       ])"
      ]
     },
     "execution_count": 18,
     "metadata": {},
     "output_type": "execute_result"
    }
   ],
   "source": [
    "def w_star(lam = lam):\n",
    "    wstar = 1 / lam * np.linalg.inv(Sigma).dot(Rhat)\n",
    "    return wstar\n",
    "\n",
    "w_star()"
   ]
  },
  {
   "cell_type": "code",
   "execution_count": 19,
   "id": "f395e473",
   "metadata": {},
   "outputs": [
    {
     "name": "stdout",
     "output_type": "stream",
     "text": [
      "if lambda = 0.1, then w_star =  [2.19952517 3.71924492 8.98500411 2.23690586]\n",
      "if lambda = 1, then w_star =  [0.21995252 0.37192449 0.89850041 0.22369059]\n",
      "if lambda = 2.236905855664812, then w_star =  [0.09832891 0.16626739 0.40167109 0.1       ]\n",
      "if lambda = 6, then w_star =  [0.03665875 0.06198742 0.14975007 0.03728176]\n"
     ]
    }
   ],
   "source": [
    "print(\"if lambda = 0.1, then w_star = \",w_star(0.1))\n",
    "print(\"if lambda = 1, then w_star = \",w_star(1))\n",
    "print(f\"if lambda = {lam}, then w_star = \",w_star(lam))\n",
    "print(\"if lambda = 6, then w_star = \",w_star(6))"
   ]
  },
  {
   "cell_type": "code",
   "execution_count": null,
   "id": "907e4687",
   "metadata": {},
   "outputs": [],
   "source": []
  },
  {
   "cell_type": "code",
   "execution_count": null,
   "id": "946e77a0",
   "metadata": {},
   "outputs": [],
   "source": []
  }
 ],
 "metadata": {
  "kernelspec": {
   "display_name": "Python 3 (ipykernel)",
   "language": "python",
   "name": "python3"
  },
  "language_info": {
   "codemirror_mode": {
    "name": "ipython",
    "version": 3
   },
   "file_extension": ".py",
   "mimetype": "text/x-python",
   "name": "python",
   "nbconvert_exporter": "python",
   "pygments_lexer": "ipython3",
   "version": "3.9.12"
  },
  "toc": {
   "base_numbering": 1,
   "nav_menu": {},
   "number_sections": true,
   "sideBar": true,
   "skip_h1_title": false,
   "title_cell": "Table of Contents",
   "title_sidebar": "Contents",
   "toc_cell": false,
   "toc_position": {},
   "toc_section_display": true,
   "toc_window_display": false
  }
 },
 "nbformat": 4,
 "nbformat_minor": 5
}
