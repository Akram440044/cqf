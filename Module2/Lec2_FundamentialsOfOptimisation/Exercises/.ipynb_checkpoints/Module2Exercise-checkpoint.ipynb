{
 "cells": [
  {
   "cell_type": "markdown",
   "id": "2979996b",
   "metadata": {},
   "source": [
    "# Q1\n",
    "\n",
    "We minimise the variance of portfolio, subject to constraints.\n",
    "\n",
    "constraint 1: $\\mu^T w = m$\n",
    "\n",
    "constraint 2: $\\mathbb{1}^Tw = 1$\n",
    "\n",
    "In other words,\n",
    "$$ \\min_w {\\frac{1}{2}w^T SRS w}  $$\n",
    "s.t.\n",
    "$$\\mu^T w = m$$\n",
    "$$\\mathbb{1}^Tw = 1$$\n",
    "\n",
    "To construct the Lagrangian,\n",
    "\n",
    "$$\\mathscr{L}(w, \\lambda, \\gamma) = {\\frac{1}{2}w^T SRS w}  + \\lambda (m -\\mu^T w ) + \\gamma (1-\\mathbb{1}^Tw )$$\n",
    "\n",
    "F.O.C.\n",
    "\n",
    "w.r.t. $w$:\n",
    "\n",
    "Let, $\\frac{\\partial L}{\\partial w} = SRSw - \\lambda \\mu - \\gamma \\mathbb{1}=0$,\n",
    "\n",
    "so we get $w^* = (SRS)^{-1}(\\lambda \\mu + \\gamma \\mathbb{1})$\n",
    "\n",
    "w.r.t. $\\lambda, \\gamma$, we would simply get the constraints.\n",
    "\n",
    "\n",
    "Three equations and three unknowns $w, \\lambda, \\gamma$,\n",
    "- $  w= (SRS)^{-1}(\\lambda \\mu + \\gamma \\mathbb{1}) $\n",
    "- $m = \\mu^T w $\n",
    "- $1 = \\mathbb{1}^Tw$\n",
    "\n",
    "The answer would be:\n",
    "- $ \\lambda = \\frac{Am - B}{AC-B^2} $\n",
    "- $ \\gamma = \\frac{C - Bm}{AC-B^2} $\n",
    "- $  w= (SRS)^{-1}(\\lambda \\mu + \\gamma \\mathbb{1}) $\n",
    "\n",
    ", where\n",
    "- $A = \\mathbb{1}^T (SRS)^{-1} \\mathbb{1}$\n",
    "- $B = \\mu^T (SRS)^{-1} \\mathbb{1} =  \\mathbb{1}^T(SRS)^{-1}\\mu $\n",
    "- $C = \\mu^T (SRS)^{-1} \\mu$"
   ]
  },
  {
   "cell_type": "code",
   "execution_count": 1,
   "id": "e2b65982",
   "metadata": {},
   "outputs": [],
   "source": [
    "import numpy as np"
   ]
  },
  {
   "cell_type": "code",
   "execution_count": 77,
   "id": "b22c7fb0",
   "metadata": {},
   "outputs": [],
   "source": [
    "mu = np.array( [0.08, 0.1, 0.1, 0.14] )\n",
    "sigma = np.array([0.12, 0.12, 0.15, 0.2])\n",
    "S = np.diag(sigma)\n",
    "One = np.ones(4)\n",
    "m=0.1\n",
    "\n",
    "def cal_ABC(R):\n",
    "    A = One.T.dot(   np.linalg.inv( S.dot(R).dot(S) )   ).dot(One)\n",
    "    B = mu.T.dot(   np.linalg.inv( S.dot(R).dot(S) )   ).dot(One)\n",
    "    C = mu.T.dot(   np.linalg.inv( S.dot(R).dot(S) )   ).dot(mu)\n",
    "    return A, B, C\n",
    "\n",
    "def cal_lambda_gamma(A,B,C):\n",
    "    lam = (A*m - B)/(A*C - B**2)\n",
    "    gam = (C - B*m)/(A*C - B**2)\n",
    "    return lam, gam\n",
    "\n",
    "def cal_wstar(R):\n",
    "    if np.linalg.det( S.dot(rho).dot(S) ) == 0: # the singular matrix has determiant = 0\n",
    "        Zero = np.zeros(4)\n",
    "        Zero[np.lexsort((mu*(-1), sigma))[0]] = 1\n",
    "        # return the portfolio with only one assets that have lowest sigma and highest return\n",
    "        return Zero\n",
    "    A,B,C = cal_ABC(R)\n",
    "    lam, gam = cal_lambda_gamma(A,B,C)\n",
    "    w_star = np.linalg.inv( S.dot(R).dot(S) ).dot(  lam*mu + gam * One  )\n",
    "    return w_star"
   ]
  },
  {
   "cell_type": "code",
   "execution_count": 78,
   "id": "e20207d9",
   "metadata": {},
   "outputs": [
    {
     "data": {
      "text/plain": [
       "array([ 0.76228686,  0.84419926, -0.98762956,  0.38114343])"
      ]
     },
     "execution_count": 78,
     "metadata": {},
     "output_type": "execute_result"
    }
   ],
   "source": [
    "# 1.1\n",
    "rho = np.array([[1, 0.2, 0.5, 0.3],[0.2, 1, 0.7, 0.4],[0.5, 0.7, 1, 0.9],[0.3, 0.4, 0.9, 1]])\n",
    "cal_wstar(rho)"
   ]
  },
  {
   "cell_type": "code",
   "execution_count": 79,
   "id": "73217644",
   "metadata": {},
   "outputs": [
    {
     "data": {
      "text/plain": [
       "array([0.29827662, 0.33694211, 0.21564295, 0.14913831])"
      ]
     },
     "execution_count": 79,
     "metadata": {},
     "output_type": "execute_result"
    }
   ],
   "source": [
    "# 1.2\n",
    "rho = np.diag(One)\n",
    "cal_wstar(rho)"
   ]
  },
  {
   "cell_type": "code",
   "execution_count": 82,
   "id": "b426a9a9",
   "metadata": {},
   "outputs": [
    {
     "data": {
      "text/plain": [
       "array([0., 1., 0., 0.])"
      ]
     },
     "execution_count": 82,
     "metadata": {},
     "output_type": "execute_result"
    }
   ],
   "source": [
    "# 1.3 \n",
    "'''\n",
    "In this case, we find that the correlation matrix is all one, \n",
    "which means those assets are all perfectly correlated. \n",
    "In another words, if asset A increase by 10%, asset B,C, and D will increase also 10%.\n",
    "Thus, we pick only the asset with lowest var (because that is a minimisation prob) \n",
    ", and then highest return\n",
    "\n",
    "def cal_wstar(R):\n",
    "    if np.linalg.det( S.dot(rho).dot(S) ) == 0:  # the singular matrix has determiant = 0\n",
    "        Zero = np.zeros(4)\n",
    "        Zero[np.lexsort((mu*(-1), sigma))[0]] = 1 \n",
    "        # return the portfolio with only one assets that have lowest sigma and highest return\n",
    "        return Zero\n",
    "    A,B,C = cal_ABC(R)\n",
    "    lam, gam = cal_lambda_gamma(A,B,C)\n",
    "    w_star = np.linalg.inv( S.dot(R).dot(S) ).dot(  lam*mu + gam * One  )\n",
    "    return w_star\n",
    "'''\n",
    "\n",
    "\n",
    "rho = np.ones([4,4])\n",
    "cal_wstar(rho)"
   ]
  },
  {
   "cell_type": "code",
   "execution_count": 118,
   "id": "bff0f77d",
   "metadata": {},
   "outputs": [
    {
     "name": "stdout",
     "output_type": "stream",
     "text": [
      "[-5.4358827   7.58335372  8.61634298 -7.75070753]\n",
      "Any tiny diff would be exaggerated, so that method does not work!\n"
     ]
    }
   ],
   "source": [
    "# 1.3 Interestedly, if I substract a tiny random from the all-one rho, to make it invertible\n",
    "# the result is as the following.\n",
    "rho = np.ones([4,4])\n",
    "for i in range(4):\n",
    "    for j in range(4):\n",
    "        rho[i,j] += np.random.randn()/1_000_000\n",
    "        \n",
    "print(cal_wstar(rho))\n",
    "print('Any tiny diff would be exaggerated, so that method does not work!')"
   ]
  },
  {
   "cell_type": "markdown",
   "id": "47d48474",
   "metadata": {},
   "source": [
    "# 3\n",
    "\n"
   ]
  },
  {
   "cell_type": "code",
   "execution_count": null,
   "id": "6439e1e1",
   "metadata": {},
   "outputs": [],
   "source": []
  },
  {
   "cell_type": "code",
   "execution_count": null,
   "id": "c5a43227",
   "metadata": {},
   "outputs": [],
   "source": []
  },
  {
   "cell_type": "code",
   "execution_count": null,
   "id": "1d5ec728",
   "metadata": {},
   "outputs": [],
   "source": []
  },
  {
   "cell_type": "code",
   "execution_count": null,
   "id": "6665bb83",
   "metadata": {},
   "outputs": [],
   "source": []
  }
 ],
 "metadata": {
  "kernelspec": {
   "display_name": "Python 3 (ipykernel)",
   "language": "python",
   "name": "python3"
  },
  "language_info": {
   "codemirror_mode": {
    "name": "ipython",
    "version": 3
   },
   "file_extension": ".py",
   "mimetype": "text/x-python",
   "name": "python",
   "nbconvert_exporter": "python",
   "pygments_lexer": "ipython3",
   "version": "3.9.12"
  },
  "toc": {
   "base_numbering": 1,
   "nav_menu": {},
   "number_sections": true,
   "sideBar": true,
   "skip_h1_title": false,
   "title_cell": "Table of Contents",
   "title_sidebar": "Contents",
   "toc_cell": false,
   "toc_position": {},
   "toc_section_display": true,
   "toc_window_display": false
  }
 },
 "nbformat": 4,
 "nbformat_minor": 5
}
