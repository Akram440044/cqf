{
 "cells": [
  {
   "cell_type": "markdown",
   "id": "2979996b",
   "metadata": {},
   "source": [
    "# Q1\n",
    "\n",
    "We minimise the variance of portfolio, subject to constraints.\n",
    "\n",
    "constraint 1: $\\mu^T w = m$\n",
    "\n",
    "constraint 2: $\\mathbb{1}^Tw = 1$\n",
    "\n",
    "In other words,\n",
    "$$ \\min_w {\\frac{1}{2}w^T SRS w}  $$\n",
    "s.t.\n",
    "$$\\mu^T w = m$$\n",
    "$$\\mathbb{1}^Tw = 1$$\n",
    "\n",
    "To construct the Lagrangian,\n",
    "\n",
    "$$\\mathscr{L}(w, \\lambda, \\gamma) = {\\frac{1}{2}w^T SRS w}  + \\lambda (m -\\mu^T w ) + \\gamma (1-\\mathbb{1}^Tw )$$\n",
    "\n",
    "F.O.C.\n",
    "\n",
    "w.r.t. $w$:\n",
    "\n",
    "Let, $\\frac{\\partial L}{\\partial w} = SRSw - \\lambda \\mu - \\gamma \\mathbb{1}=0$,\n",
    "\n",
    "so we get $w^* = (SRS)^{-1}(\\lambda \\mu + \\gamma \\mathbb{1})$\n",
    "\n",
    "w.r.t. $\\lambda, \\gamma$, we would simply get the constraints.\n",
    "\n",
    "\n",
    "Three equations and three unknowns $w, \\lambda, \\gamma$,\n",
    "- $  w= (SRS)^{-1}(\\lambda \\mu + \\gamma \\mathbb{1}) $\n",
    "- $m = \\mu^T w $\n",
    "- $1 = \\mathbb{1}^Tw$\n",
    "\n",
    "The answer would be:\n",
    "- $ \\lambda = \\frac{Am - B}{AC-B^2} $\n",
    "- $ \\gamma = \\frac{C - Bm}{AC-B^2} $\n",
    "- $  w= (SRS)^{-1}(\\lambda \\mu + \\gamma \\mathbb{1}) $\n",
    "\n",
    ", where\n",
    "- $A = \\mathbb{1}^T (SRS)^{-1} \\mathbb{1}$\n",
    "- $B = \\mu^T (SRS)^{-1} \\mathbb{1} =  \\mathbb{1}^T(SRS)^{-1}\\mu $\n",
    "- $C = \\mu^T (SRS)^{-1} \\mu$"
   ]
  },
  {
   "cell_type": "code",
   "execution_count": 15,
   "id": "e2b65982",
   "metadata": {},
   "outputs": [],
   "source": [
    "import numpy as np\n",
    "import matplotlib.pyplot as plt"
   ]
  },
  {
   "cell_type": "code",
   "execution_count": 2,
   "id": "b22c7fb0",
   "metadata": {},
   "outputs": [],
   "source": [
    "mu = np.array( [0.08, 0.1, 0.1, 0.14] )\n",
    "sigma = np.array([0.12, 0.12, 0.15, 0.2])\n",
    "S = np.diag(sigma)\n",
    "One = np.ones(4)\n",
    "m=0.1\n",
    "\n",
    "def cal_ABC(R):\n",
    "    A = One.T.dot(   np.linalg.inv( S.dot(R).dot(S) )   ).dot(One)\n",
    "    B = mu.T.dot(   np.linalg.inv( S.dot(R).dot(S) )   ).dot(One)\n",
    "    C = mu.T.dot(   np.linalg.inv( S.dot(R).dot(S) )   ).dot(mu)\n",
    "    return A, B, C\n",
    "\n",
    "def cal_lambda_gamma(A,B,C):\n",
    "    lam = (A*m - B)/(A*C - B**2)\n",
    "    gam = (C - B*m)/(A*C - B**2)\n",
    "    return lam, gam\n",
    "\n",
    "def cal_wstar(R):\n",
    "    if np.linalg.det( S.dot(rho).dot(S) ) == 0: # the singular matrix has determiant = 0\n",
    "        Zero = np.zeros(4)\n",
    "        Zero[np.lexsort((mu*(-1), sigma))[0]] = 1\n",
    "        # return the portfolio with only one assets that have lowest sigma and highest return\n",
    "        return Zero\n",
    "    A,B,C = cal_ABC(R)\n",
    "    lam, gam = cal_lambda_gamma(A,B,C)\n",
    "    w_star = np.linalg.inv( S.dot(R).dot(S) ).dot(  lam*mu + gam * One  )\n",
    "    return w_star"
   ]
  },
  {
   "cell_type": "code",
   "execution_count": 3,
   "id": "e20207d9",
   "metadata": {},
   "outputs": [
    {
     "data": {
      "text/plain": [
       "array([ 0.76228686,  0.84419926, -0.98762956,  0.38114343])"
      ]
     },
     "execution_count": 3,
     "metadata": {},
     "output_type": "execute_result"
    }
   ],
   "source": [
    "# 1.1\n",
    "rho = np.array([[1, 0.2, 0.5, 0.3],[0.2, 1, 0.7, 0.4],[0.5, 0.7, 1, 0.9],[0.3, 0.4, 0.9, 1]])\n",
    "cal_wstar(rho)"
   ]
  },
  {
   "cell_type": "code",
   "execution_count": 4,
   "id": "73217644",
   "metadata": {},
   "outputs": [
    {
     "data": {
      "text/plain": [
       "array([0.29827662, 0.33694211, 0.21564295, 0.14913831])"
      ]
     },
     "execution_count": 4,
     "metadata": {},
     "output_type": "execute_result"
    }
   ],
   "source": [
    "# 1.2\n",
    "rho = np.diag(One)\n",
    "cal_wstar(rho)"
   ]
  },
  {
   "cell_type": "code",
   "execution_count": 5,
   "id": "b426a9a9",
   "metadata": {},
   "outputs": [
    {
     "data": {
      "text/plain": [
       "array([0., 1., 0., 0.])"
      ]
     },
     "execution_count": 5,
     "metadata": {},
     "output_type": "execute_result"
    }
   ],
   "source": [
    "# 1.3 \n",
    "'''\n",
    "In this case, we find that the correlation matrix is all one, \n",
    "which means those assets are all perfectly correlated. \n",
    "In another words, if asset A increase by 10%, asset B,C, and D will increase also 10%.\n",
    "Thus, we pick only the asset with lowest var (because that is a minimisation prob) \n",
    ", and then highest return\n",
    "\n",
    "def cal_wstar(R):\n",
    "    if np.linalg.det( S.dot(rho).dot(S) ) == 0:  # the singular matrix has determiant = 0\n",
    "        Zero = np.zeros(4)\n",
    "        Zero[np.lexsort((mu*(-1), sigma))[0]] = 1 \n",
    "        # return the portfolio with only one assets that have lowest sigma and highest return\n",
    "        return Zero\n",
    "    A,B,C = cal_ABC(R)\n",
    "    lam, gam = cal_lambda_gamma(A,B,C)\n",
    "    w_star = np.linalg.inv( S.dot(R).dot(S) ).dot(  lam*mu + gam * One  )\n",
    "    return w_star\n",
    "'''\n",
    "\n",
    "\n",
    "rho = np.ones([4,4])\n",
    "cal_wstar(rho)"
   ]
  },
  {
   "cell_type": "code",
   "execution_count": 6,
   "id": "bff0f77d",
   "metadata": {},
   "outputs": [
    {
     "name": "stdout",
     "output_type": "stream",
     "text": [
      "[ 7.80753431  7.27645364 -2.96240168 -6.82862815]\n",
      "Any tiny diff would be exaggerated, so that method does not work!\n"
     ]
    }
   ],
   "source": [
    "# 1.3 Interestedly, if I substract a tiny random from the all-one rho, to make it invertible\n",
    "# the result is as the following.\n",
    "rho = np.ones([4,4])\n",
    "for i in range(4):\n",
    "    for j in range(4):\n",
    "        rho[i,j] += np.random.randn()/1_000_000\n",
    "        \n",
    "print(cal_wstar(rho))\n",
    "print('Any tiny diff would be exaggerated, so that method does not work!')"
   ]
  },
  {
   "cell_type": "markdown",
   "id": "47d48474",
   "metadata": {},
   "source": [
    "# 3"
   ]
  },
  {
   "cell_type": "code",
   "execution_count": 16,
   "id": "2cf9f511",
   "metadata": {},
   "outputs": [
    {
     "name": "stdout",
     "output_type": "stream",
     "text": [
      "[[0.0049  0.00672 0.0105  0.0168 ]\n",
      " [0.00672 0.0144  0.0252  0.036  ]\n",
      " [0.0105  0.0252  0.09    0.144  ]\n",
      " [0.0168  0.036   0.144   0.36   ]]\n",
      "[0.52841211 0.17288808 0.15976434 0.13893547]\n"
     ]
    }
   ],
   "source": [
    "mu = np.array([0.05, 0.07, 0.15, 0.27])\n",
    "sigma = np.array([0.07, 0.12, 0.3 , 0.6])\n",
    "R = np.array([[1,0.8, 0.5, 0.4],[0.8, 1, 0.7, 0.5], [0.5, 0.7, 1, 0.8],[0.4, 0.5, 0.8, 1]])\n",
    "m = 0.1\n",
    "\n",
    "#--------\n",
    "S = np.diag(sigma)\n",
    "Sigma = np.dot(np.dot(S,R),S)\n",
    "One = np.ones(4)\n",
    "print(Sigma)\n",
    "\n",
    "A = np.dot(np.dot(One.T , np.linalg.inv(Sigma)),One)\n",
    "B = np.dot(np.dot(mu.T, np.linalg.inv(Sigma)), One)\n",
    "C = np.dot(np.dot(mu.T, np.linalg.inv(Sigma)), mu)\n",
    "\n",
    "lam = (A*m - B)/(A*C - B**2)\n",
    "gam = (C - B*m)/(A*C - B**2)\n",
    "\n",
    "w_star = np.linalg.inv(Sigma).dot( lam*mu + gam*One )\n",
    "print(w_star)\n",
    "\n",
    "#-----------\n",
    "def cal_w_star(m):\n",
    "    lam = (A*m - B)/(A*C - B**2)\n",
    "    gam = (C - B*m)/(A*C - B**2)\n",
    "    w_star = np.linalg.inv(Sigma).dot( lam*mu + gam*One )\n",
    "    return w_star\n",
    "\n",
    "def cal_sigma_p(w_star):\n",
    "    return w_star.T.dot(Sigma).dot(w_star)\n",
    "\n",
    "def cal_mu_p(w_star):\n",
    "    return w_star.T.dot(mu)"
   ]
  },
  {
   "cell_type": "code",
   "execution_count": 23,
   "id": "6439e1e1",
   "metadata": {},
   "outputs": [],
   "source": [
    "def cal_w_rf(m):\n",
    "    w = (m - rf) * np.dot(np.linalg.inv(Sigma), (mu - rf * One)) / \\\n",
    "        (  np.dot(np.dot((mu - rf * One).T,np.linalg.inv(Sigma)), mu - rf * One)  )\n",
    "    return w\n",
    "\n",
    "def cml(cml_mu, cml_var, x):\n",
    "    slope = (cml_mu - rf)/(cml_var-0)\n",
    "    y = x*slope + rf\n",
    "    return y\n",
    "\n",
    "def plot_cml():\n",
    "    m_star = (C-B*rf)/(B-A*rf)\n",
    "    w_fstar = np.linalg.inv(Sigma).dot(  mu - rf*One  ) / (B-rf*A)\n",
    "    cml_var = cal_sigma_p(w_fstar)\n",
    "    cml_mu = cal_mu_p(w_fstar)\n",
    "    print(w_fstar)\n",
    "    print(m_star)\n",
    "    print(np.sqrt(cml_var))\n",
    "\n",
    "    N = 10_000\n",
    "    w_all = np.random.rand(4,N)\n",
    "    w_all[3,:] = 1 - w_all[0,:] - w_all[1,:] - w_all[2,:]\n",
    "\n",
    "    # global mini solution\n",
    "    w_min = 1/A*np.linalg.inv(Sigma).dot(One)\n",
    "    sigma_min = 1/A\n",
    "\n",
    "    plt.scatter(np.diagonal(cal_sigma_p(w_all)), cal_mu_p(w_all))\n",
    "    plt.scatter((cal_sigma_p(w_min)),cal_mu_p(w_min),color='red', marker='o',s=200)\n",
    "    # here is the w^*_f\n",
    "    plt.scatter(cml_var,cml_mu,color='orange', marker='o',s=200)\n",
    "    \n",
    "    \n",
    "    x = np.linspace(-0.01,0.3,100)\n",
    "    y_cml = cml(cml_mu, cml_var, x)\n",
    "    plt.plot( x, y_cml , color = 'green')\n",
    "\n",
    "    plt.xlabel('Risks - Sigma^2 of Portfolio')\n",
    "    plt.ylabel('Return - Mu of Portfolio')\n",
    "    plt.show()\n",
    "\n",
    "    print(f'{B/A}=={cal_mu_p(w_min)}')\n",
    "    # testify m = B/A is the mini return"
   ]
  },
  {
   "cell_type": "code",
   "execution_count": 29,
   "id": "c5a43227",
   "metadata": {},
   "outputs": [
    {
     "name": "stdout",
     "output_type": "stream",
     "text": [
      "[0.71267122 0.06526604 0.12436147 0.09770128]\n",
      "0.08523574883594774\n",
      "0.12873114050310236\n"
     ]
    },
    {
     "data": {
      "image/png": "[encoded data removed]",
      "text/plain": [
       "<Figure size 432x288 with 1 Axes>"
      ]
     },
     "metadata": {
      "needs_background": "light"
     },
     "output_type": "display_data"
    },
    {
     "name": "stdout",
     "output_type": "stream",
     "text": [
      "0.04018673623506796==0.04018673623506797\n"
     ]
    }
   ],
   "source": [
    "rf = 0.025\n",
    "plot_cml()"
   ]
  },
  {
   "cell_type": "code",
   "execution_count": null,
   "id": "1d5ec728",
   "metadata": {},
   "outputs": [],
   "source": []
  },
  {
   "cell_type": "code",
   "execution_count": null,
   "id": "6665bb83",
   "metadata": {},
   "outputs": [],
   "source": []
  }
 ],
 "metadata": {
  "kernelspec": {
   "display_name": "Python 3 (ipykernel)",
   "language": "python",
   "name": "python3"
  },
  "language_info": {
   "codemirror_mode": {
    "name": "ipython",
    "version": 3
   },
   "file_extension": ".py",
   "mimetype": "text/x-python",
   "name": "python",
   "nbconvert_exporter": "python",
   "pygments_lexer": "ipython3",
   "version": "3.9.12"
  },
  "toc": {
   "base_numbering": 1,
   "nav_menu": {},
   "number_sections": true,
   "sideBar": true,
   "skip_h1_title": false,
   "title_cell": "Table of Contents",
   "title_sidebar": "Contents",
   "toc_cell": false,
   "toc_position": {},
   "toc_section_display": true,
   "toc_window_display": false
  }
 },
 "nbformat": 4,
 "nbformat_minor": 5
}
