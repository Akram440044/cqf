{
 "cells": [
  {
   "cell_type": "markdown",
   "id": "194eb31f",
   "metadata": {},
   "source": [
    "# Deep Sequence Modeling\n",
    "\n",
    "Deep sequence modeling is essentially applying neural network to problems involving sequential processing of data. Sequence data has memory and comes in many forms such as text, audio, video and financial time series. Thus, requiring a different modeling approaches.\n",
    "\n",
    "## Recurrent Neural Network\n",
    "\n",
    "Recurrent Neural Network (RNN) generalize the feedforward neural network with an internal memory state and good at modeling sequence data as it uses sequential memory for prediction. Sequential memory is a mechanism used to identify the sequence patterns. RNNs are faster and use less computational resources as there are less tensor operations. Sequence problems can be broadly categorized into the following types.\n",
    "\n",
    "# Long Short Term Memory Network\n",
    "\n",
    "Long Short Term Memory (LSTM) algorithm is a special kind of RNN, explicitly designed to avoid the long-term dependency problem by addressing the problem of short term memory. LSTM models are fundamental to deep learning for financial timeseries and have four interacting layers as given below.\n",
    "\n",
    "# TensorFlow = Tensor + Flow\n",
    "\n",
    "TensorFlow is an open-source library for numerical computation originally developed by researchers and engineers working at the Google Brain team. It was originally built as a proprietary machine learning system based on deep learning neural networks.\n",
    "\n",
    "TensorFlow is made up of two words tensor and flow where Tensor is a multidimensional array and Flow is a graph of operations. Internally, TensorFlow implements machine learning algorithms as a graph of operations on multidimensional array. Tensor is a container for data to store numerical data (almost always) and are a generalization of matrices to an arbitrary number of dimensions which are also called as axis or rank. A tensor is defined by three key attributes:\n",
    "\n",
    "- a) Number of axis or ranks `ndim`\n",
    "- b) Shape `shape`\n",
    "- c) Data type `dtype`\n",
    "\n",
    "TensorFlow is preferred for the following reason\n",
    "\n",
    "- Easy to build and deploy machine learning models for a beginner.\n",
    "- Build state of art machine learning models with Keras functional API and model sub classing APIs.\n",
    "- Supports production of machine learning models, anywhere from CPUs, GPUs to edge devices as well as web servers.\n",
    "- APIs available for Python, Java and Go programming languages.\n",
    "Has a very flexible architecture\n",
    "- Enables easy deployment across different hardware platforms like CPUs, TPUs and GPUs, and computing devices like desktops, servers, mobile devices, and edge devices.\n",
    "\n",
    "**TensorFlow** is a foundation (base) library that can be used to create deep learning models directly or by using wrapper libraries that simplify the process built on top of it. It is an open source (symbolic math) library for fast numerical computing, created and maintained by Google. Like NumPy, the primary purpose of TensorFlow is to manipulate mathematical expressions over numerical tensors. It can run not only on CPU, but also on GPUs and TPUs, highly-parallel hardware accelerators.\n",
    "\n",
    "Theano is an open source project developed by now Montreal Institute for Learning Algorithms group at the University of Montreal. However, Theano is considered effectively dead with the team announcing on September 2017 that they would cease all its major development after the release of 1.0 version.\n",
    "\n",
    "## TensorFlow 2 Installation\n",
    "\n",
    "Tensorflow is tested and supported on the 64-bit systems and has the following system requirements:\n",
    "\n",
    "- Python 3.7–3.10\n",
    "- pip 19.0 (or >20.3 for macOS)\n",
    "- Ubuntu 16.04 or later\n",
    "- Windows 7 or later (with C++ redistributable)\n",
    "- macOS 10.12.6 (Sierra) or later (no GPU support)\n",
    "- Raspbian 9.0 or later : GPU support requires a CUDA®-enabled card (Ubuntu and Windows)\n",
    "- WSL2 via Windows 10 19044 or higher including GPUs (Experimental)\n",
    "\n",
    "Install the Python development environment on your system (recommended)\n",
    "\n",
    "> pip install --user virtualenv\n",
    "> pip install --upgrade tensorflow\n",
    "\n",
    "Alternatively, install the current stable release for CPU and GPU if above requirements were already satisfied\n",
    "\n",
    "> pip install tensorflow\n",
    "\n",
    "Or using the conda run\n",
    "> conda install -c anaconda tensorflow\n",
    "\n",
    "## Keras\n",
    "\n",
    "Keras is a deep learning API for Python and is one of the most powerful and easy to use library which runs on top of popular libraries like TensorFlow and Theano for creating deep learning models. It was originally created and developed by Google AI Developer/Researcher, Francois Chollet to facilitate his own research and experiement. He committed and released the first version of Keras to his GitHub on March 2015.\n",
    "\n",
    "Originally, Keras’ default backend was Theano. At the same time, Google had released TensorFlow. Given the synergies, Keras started supporting TensorFlow as a backend, and slowly TensorFlow became the most popular backend, resulting in TensorFlow being the default backend starting from the release of Keras v1.1.0.\n",
    "\n",
    "Deep Learning Software and Harware Stack\n",
    "\n",
    "The core data structures of Keras are layers and models. The simplest type of model is the Sequential model, which is a linear stack of layers. For more complex architectures, we should use the Keras functional API, which allows to build arbitrary graphs of layers.\n",
    "\n",
    "Keras is ideal for prototyping simple concepts and comes with a large community support. It is the default backend now shipped with tensorflow. "
   ]
  },
  {
   "cell_type": "code",
   "execution_count": 1,
   "id": "fe0be75f",
   "metadata": {},
   "outputs": [],
   "source": [
    "# supress warnings\n",
    "import warnings\n",
    "warnings.filterwarnings('ignore')\n",
    "\n",
    "import os\n",
    "import random\n",
    "os.environ['TF_CPP_MIN_LOG_LEVEL'] = '3'\n",
    "\n",
    "# data manipulation\n",
    "import numpy as np\n",
    "import pandas as pd\n",
    "import datetime\n",
    "from pathlib import Path\n",
    "\n",
    "# scikit-learn modules\n",
    "from sklearn.preprocessing import MinMaxScaler\n",
    "from sklearn.model_selection import train_test_split\n",
    "from sklearn.metrics import mean_squared_error, r2_score\n",
    "\n",
    "# tensorflow modules\n",
    "import tensorflow\n",
    "from tensorflow.keras.models import Sequential\n",
    "from tensorflow.keras.layers import Dense, Dropout, Flatten, LSTM\n",
    "\n",
    "from tensorflow.keras.optimizers import Adam, RMSprop \n",
    "from tensorflow.keras.utils import plot_model\n",
    "from tensorflow.keras.callbacks import EarlyStopping, ModelCheckpoint, TensorBoard\n",
    "\n",
    "# plotting & outputs\n",
    "import matplotlib.pyplot as plt\n",
    "plt.style.use('seaborn')\n",
    "from pprint import pprint"
   ]
  },
  {
   "cell_type": "code",
   "execution_count": 2,
   "id": "db412bd5",
   "metadata": {},
   "outputs": [],
   "source": [
    "def set_seeds(seed=2022): \n",
    "    random.seed(seed)\n",
    "    np.random.seed(seed)\n",
    "    tensorflow.random.set_seed(seed)"
   ]
  },
  {
   "cell_type": "markdown",
   "id": "c2fac7ab",
   "metadata": {},
   "source": [
    "## Example : Many-to-One Single Feature\n",
    "\n",
    "Let's prepare a sample dataset of 20 samples with 3 timesteps where each timestep will consist of a single feature. The output of each sample will be the sum of these 3 inputs. For example, if our sample consists of a sequence 1,2,3, the output would be sum of these inputs, 1+2+3 = 6."
   ]
  },
  {
   "cell_type": "code",
   "execution_count": 3,
   "id": "9907a85c",
   "metadata": {},
   "outputs": [],
   "source": [
    "# create sample dataset\n",
    "X = np.array([i+1 for i in range(60)])"
   ]
  },
  {
   "cell_type": "code",
   "execution_count": 4,
   "id": "06f1436c",
   "metadata": {},
   "outputs": [],
   "source": [
    "# reshape into 3D\n",
    "X = np.array(X).reshape(20,3,1)"
   ]
  },
  {
   "cell_type": "code",
   "execution_count": 5,
   "id": "66057ecf",
   "metadata": {},
   "outputs": [
    {
     "name": "stdout",
     "output_type": "stream",
     "text": [
      "X: [[[ 1]\n",
      "  [ 2]\n",
      "  [ 3]]\n",
      "\n",
      " [[ 4]\n",
      "  [ 5]\n",
      "  [ 6]]\n",
      "\n",
      " [[ 7]\n",
      "  [ 8]\n",
      "  [ 9]]\n",
      "\n",
      " [[10]\n",
      "  [11]\n",
      "  [12]]\n",
      "\n",
      " [[13]\n",
      "  [14]\n",
      "  [15]]\n",
      "\n",
      " [[16]\n",
      "  [17]\n",
      "  [18]]\n",
      "\n",
      " [[19]\n",
      "  [20]\n",
      "  [21]]\n",
      "\n",
      " [[22]\n",
      "  [23]\n",
      "  [24]]\n",
      "\n",
      " [[25]\n",
      "  [26]\n",
      "  [27]]\n",
      "\n",
      " [[28]\n",
      "  [29]\n",
      "  [30]]\n",
      "\n",
      " [[31]\n",
      "  [32]\n",
      "  [33]]\n",
      "\n",
      " [[34]\n",
      "  [35]\n",
      "  [36]]\n",
      "\n",
      " [[37]\n",
      "  [38]\n",
      "  [39]]\n",
      "\n",
      " [[40]\n",
      "  [41]\n",
      "  [42]]\n",
      "\n",
      " [[43]\n",
      "  [44]\n",
      "  [45]]\n",
      "\n",
      " [[46]\n",
      "  [47]\n",
      "  [48]]\n",
      "\n",
      " [[49]\n",
      "  [50]\n",
      "  [51]]\n",
      "\n",
      " [[52]\n",
      "  [53]\n",
      "  [54]]\n",
      "\n",
      " [[55]\n",
      "  [56]\n",
      "  [57]]\n",
      "\n",
      " [[58]\n",
      "  [59]\n",
      "  [60]]]\n"
     ]
    }
   ],
   "source": [
    "print(f'X: {X}')"
   ]
  },
  {
   "cell_type": "code",
   "execution_count": 6,
   "id": "afadbc49",
   "metadata": {},
   "outputs": [
    {
     "data": {
      "text/plain": [
       "(20, 3, 1)"
      ]
     },
     "execution_count": 6,
     "metadata": {},
     "output_type": "execute_result"
    }
   ],
   "source": [
    "# check the shape\n",
    "X.shape"
   ]
  },
  {
   "cell_type": "code",
   "execution_count": 7,
   "id": "88e3d992",
   "metadata": {},
   "outputs": [
    {
     "name": "stdout",
     "output_type": "stream",
     "text": [
      "y: [  6  15  24  33  42  51  60  69  78  87  96 105 114 123 132 141 150 159\n",
      " 168 177]\n"
     ]
    }
   ],
   "source": [
    "# y is the sum of the values in the timesteps\n",
    "y = []\n",
    "for each in X:\n",
    "    y.append(each.sum())\n",
    "    \n",
    "# convert to array\n",
    "y = np.array(y)\n",
    "\n",
    "# check the output\n",
    "print(f'y: {y}')"
   ]
  },
  {
   "cell_type": "code",
   "execution_count": 8,
   "id": "9bc10e59",
   "metadata": {},
   "outputs": [
    {
     "data": {
      "text/plain": [
       "(20,)"
      ]
     },
     "execution_count": 8,
     "metadata": {},
     "output_type": "execute_result"
    }
   ],
   "source": [
    "# check the shape\n",
    "y.shape"
   ]
  },
  {
   "cell_type": "code",
   "execution_count": 9,
   "id": "dd676a0e",
   "metadata": {},
   "outputs": [
    {
     "name": "stdout",
     "output_type": "stream",
     "text": [
      "Model: \"sequential\"\n",
      "_________________________________________________________________\n",
      " Layer (type)                Output Shape              Param #   \n",
      "=================================================================\n",
      " lstm (LSTM)                 (None, 50)                10400     \n",
      "                                                                 \n",
      " dense (Dense)               (None, 1)                 51        \n",
      "                                                                 \n",
      "=================================================================\n",
      "Total params: 10,451\n",
      "Trainable params: 10,451\n",
      "Non-trainable params: 0\n",
      "_________________________________________________________________\n",
      "None\n"
     ]
    }
   ],
   "source": [
    "# compile model five\n",
    "nn = Sequential()\n",
    "nn.add(LSTM(50, activation='relu', input_shape=(3, 1)))\n",
    "nn.add(Dense(1))\n",
    "nn.compile(optimizer='adam', loss='mse')\n",
    "print(nn.summary())"
   ]
  },
  {
   "cell_type": "code",
   "execution_count": 10,
   "id": "dca56b85",
   "metadata": {},
   "outputs": [
    {
     "data": {
      "text/plain": [
       "<keras.callbacks.History at 0x7fdb9397ffa0>"
      ]
     },
     "execution_count": 10,
     "metadata": {},
     "output_type": "execute_result"
    }
   ],
   "source": [
    "# fit model\n",
    "nn.fit(X, y, batch_size=5, epochs=2000, validation_split=0.2, verbose=0)"
   ]
  },
  {
   "cell_type": "code",
   "execution_count": 11,
   "id": "de19dcbe",
   "metadata": {},
   "outputs": [
    {
     "name": "stdout",
     "output_type": "stream",
     "text": [
      "[[212.8032]]\n"
     ]
    }
   ],
   "source": [
    "# predict the outcome\n",
    "test_input = np.array([70,71,72])\n",
    "test_input = test_input.reshape((1, 3, 1))\n",
    "test_output = nn.predict(test_input, verbose=0)\n",
    "print(test_output)"
   ]
  },
  {
   "cell_type": "markdown",
   "id": "f1cc7652",
   "metadata": {},
   "source": [
    "## Applying Neural Networks to Financial Time Series\n",
    "\n",
    "Given that we have some understanding of the above deep sequence modeling, let us now apply neural networks to financial timeseries which is a many-to-one sequence problem.\n",
    "\n",
    "We will retrive the 20 years of SPY price data that we stored earlier for this exercise. We then apply LSTM network given the nature of financial timeseries with a lookback (window size) of 60 days.\n",
    "\n",
    "### Path to Store Results"
   ]
  },
  {
   "cell_type": "code",
   "execution_count": 12,
   "id": "b70323dd",
   "metadata": {},
   "outputs": [],
   "source": [
    "results_path = Path('results', 'lstm_time_series')\n",
    "if not results_path.exists():\n",
    "    results_path.mkdir(parents=True)"
   ]
  },
  {
   "cell_type": "markdown",
   "id": "83208a52",
   "metadata": {},
   "source": [
    "### Retrieve Data"
   ]
  },
  {
   "cell_type": "code",
   "execution_count": 13,
   "id": "7a838efe",
   "metadata": {},
   "outputs": [],
   "source": [
    "# Read data from the locally stored file\n",
    "data = pd.read_csv('spy.csv', index_col=0, parse_dates=True)[['Adj Close']]['2000':'2019']"
   ]
  },
  {
   "cell_type": "code",
   "execution_count": 14,
   "id": "df5299d4",
   "metadata": {},
   "outputs": [
    {
     "data": {
      "text/plain": [
       "(5031, 1)"
      ]
     },
     "execution_count": 14,
     "metadata": {},
     "output_type": "execute_result"
    }
   ],
   "source": [
    "# Check the shape - has to be 2D\n",
    "data.shape"
   ]
  },
  {
   "cell_type": "code",
   "execution_count": 15,
   "id": "1437e53d",
   "metadata": {},
   "outputs": [
    {
     "data": {
      "text/plain": [
       "Adj Close    0\n",
       "dtype: int64"
      ]
     },
     "execution_count": 15,
     "metadata": {},
     "output_type": "execute_result"
    }
   ],
   "source": [
    "# Check for missing values\n",
    "data.isna().sum()"
   ]
  },
  {
   "cell_type": "markdown",
   "id": "2d78a81d",
   "metadata": {},
   "source": [
    "### Visualisation"
   ]
  },
  {
   "cell_type": "code",
   "execution_count": 16,
   "id": "13426ef2",
   "metadata": {},
   "outputs": [
    {
     "data": {
      "image/png": "[encoded data removed]",
      "text/plain": [
       "<Figure size 1008x432 with 1 Axes>"
      ]
     },
     "metadata": {},
     "output_type": "display_data"
    }
   ],
   "source": [
    "# Visualization \n",
    "plt.figure(figsize=(14,6))\n",
    "plt.title('SPY Price')\n",
    "plt.plot(data);"
   ]
  },
  {
   "cell_type": "markdown",
   "id": "62bac1fd",
   "metadata": {},
   "source": [
    "### Train - Test - Split"
   ]
  },
  {
   "cell_type": "code",
   "execution_count": 17,
   "id": "d62415a7",
   "metadata": {},
   "outputs": [
    {
     "name": "stdout",
     "output_type": "stream",
     "text": [
      "Train and Test Size 4024, 1007\n"
     ]
    }
   ],
   "source": [
    "# Splitting the datasets into training and testing data.\n",
    "train_data, test_data = train_test_split(data, train_size=0.8, test_size=0.2, shuffle=False)\n",
    "\n",
    "# Output the train and test data size\n",
    "print(f\"Train and Test Size {len(train_data)}, {len(test_data)}\")"
   ]
  },
  {
   "cell_type": "markdown",
   "id": "e6d5f897",
   "metadata": {},
   "source": [
    "### Preprocessing"
   ]
  },
  {
   "cell_type": "code",
   "execution_count": 18,
   "id": "17b6e829",
   "metadata": {},
   "outputs": [],
   "source": [
    "# Scale the features MinMax for training and test datasets\n",
    "scaler = MinMaxScaler()\n",
    "scaled_train_data = scaler.fit_transform(train_data)\n",
    "scaled_test_data = scaler.transform(test_data)"
   ]
  },
  {
   "cell_type": "markdown",
   "id": "1de7c41c",
   "metadata": {},
   "source": [
    "### Generate sequences\n",
    "\n",
    "We'll create a function to generate sequence in the format required for deep sequence modeling."
   ]
  },
  {
   "cell_type": "code",
   "execution_count": 19,
   "id": "6e4cc5df",
   "metadata": {},
   "outputs": [],
   "source": [
    "def generate_sequence(data, sequence_length=60):\n",
    "    \n",
    "    # create X & y data array\n",
    "    X = []\n",
    "    y = []\n",
    "\n",
    "    for i in range(sequence_length, len(data)):\n",
    "        X.append(data[i - sequence_length:i, 0])\n",
    "        y.append(data[i, 0])\n",
    "    \n",
    "    # Converting x_train and y_train to Numpy arrays\n",
    "    return np.array(X), np.array(y)"
   ]
  },
  {
   "cell_type": "code",
   "execution_count": 20,
   "id": "21e1b230",
   "metadata": {},
   "outputs": [],
   "source": [
    "# sequence length\n",
    "lookback = 60"
   ]
  },
  {
   "cell_type": "code",
   "execution_count": 21,
   "id": "0927489f",
   "metadata": {},
   "outputs": [
    {
     "name": "stdout",
     "output_type": "stream",
     "text": [
      "X_train: (3964, 60), y_train (3964,)\n"
     ]
    }
   ],
   "source": [
    "X_train, y_train = generate_sequence(data=scaled_train_data, sequence_length=lookback)\n",
    "print(f'X_train: {X_train.shape}, y_train {y_train.shape}')"
   ]
  },
  {
   "cell_type": "code",
   "execution_count": 22,
   "id": "3d6db335",
   "metadata": {},
   "outputs": [
    {
     "name": "stdout",
     "output_type": "stream",
     "text": [
      "X_test: (947, 60), y_test (947,)\n"
     ]
    }
   ],
   "source": [
    "X_test, y_test = generate_sequence(data=scaled_test_data, sequence_length=lookback)\n",
    "print(f'X_test: {X_test.shape}, y_test {y_test.shape}')"
   ]
  },
  {
   "cell_type": "markdown",
   "id": "35ff1c9b",
   "metadata": {},
   "source": [
    "### Reshape\n",
    "\n",
    "We need to reshape the data as LSTM network consume input in a 3-dimensional array in the form of `n_samples x timesteps x n_features`."
   ]
  },
  {
   "cell_type": "code",
   "execution_count": 23,
   "id": "04ddf9de",
   "metadata": {},
   "outputs": [
    {
     "name": "stdout",
     "output_type": "stream",
     "text": [
      "X_train Shape: (3964, 60, 1), y_train (3964, 1)\n"
     ]
    }
   ],
   "source": [
    "# reshaping array\n",
    "X_train = np.reshape(X_train, (X_train.shape[0], X_train.shape[1], 1))\n",
    "y_train = y_train[:, np.newaxis] \n",
    "\n",
    "# check the array size\n",
    "print(f'X_train Shape: {X_train.shape}, y_train {y_train.shape}')"
   ]
  },
  {
   "cell_type": "code",
   "execution_count": 24,
   "id": "5df4759f",
   "metadata": {},
   "outputs": [
    {
     "name": "stdout",
     "output_type": "stream",
     "text": [
      "X_test Shape: (947, 60, 1), y_test (947, 1)\n"
     ]
    }
   ],
   "source": [
    "# reshaping array\n",
    "X_test = np.reshape(X_test, (X_test.shape[0], X_test.shape[1], 1))\n",
    "y_test = y_test[:, np.newaxis] \n",
    "\n",
    "# check the array size\n",
    "print(f'X_test Shape: {X_test.shape}, y_test {y_test.shape}')"
   ]
  },
  {
   "cell_type": "markdown",
   "id": "ce5311a7",
   "metadata": {},
   "source": [
    "### Building a LSTM Model\n",
    "\n",
    "First, we define the LSTM Recurrent Neural Network by initializing the **Sequential** Model. We'll add more **LSTM** layers and adjust the **Dropout** in order to improve the accuracy of our model. Finally, a **Dense** layer is used as output layer.\n",
    "\n",
    "Next, we compile and train the model defined above. Iteratively, we can increase or decrease the epochs and batch size to get more accuracy."
   ]
  },
  {
   "cell_type": "code",
   "execution_count": 25,
   "id": "676bb375",
   "metadata": {},
   "outputs": [],
   "source": [
    "# Create a model\n",
    "def create_model(hu=256, lookback=60):\n",
    "\n",
    "    tensorflow.keras.backend.clear_session()   \n",
    "    \n",
    "    # instantiate the model\n",
    "    model = Sequential()\n",
    "    model.add(LSTM(units=hu, input_shape=(lookback, 1), activation = 'relu', return_sequences=False, name='LSTM'))\n",
    "    model.add(Dense(units=1, name='Output'))              # can also specify linear activation function \n",
    "    \n",
    "    # specify optimizer separately (preferred method))\n",
    "#     opt = RMSprop(lr=0.001, rho=0.9, epsilon=1e-08, decay=0.0)\n",
    "    opt = Adam(lr=0.001, epsilon=1e-08, decay=0.0)       # adam optimizer seems to perform better for a single lstm\n",
    "    \n",
    "    # model compilation\n",
    "    model.compile(optimizer=opt, loss='mse', metrics=['mae'])\n",
    "    \n",
    "    return model"
   ]
  },
  {
   "cell_type": "code",
   "execution_count": 26,
   "id": "703efdfa",
   "metadata": {},
   "outputs": [],
   "source": [
    "# lstm network\n",
    "model = create_model(hu=10, lookback=lookback)"
   ]
  },
  {
   "cell_type": "code",
   "execution_count": 27,
   "id": "7adc149a",
   "metadata": {},
   "outputs": [
    {
     "name": "stdout",
     "output_type": "stream",
     "text": [
      "Model: \"sequential\"\n",
      "_________________________________________________________________\n",
      " Layer (type)                Output Shape              Param #   \n",
      "=================================================================\n",
      " LSTM (LSTM)                 (None, 10)                480       \n",
      "                                                                 \n",
      " Output (Dense)              (None, 1)                 11        \n",
      "                                                                 \n",
      "=================================================================\n",
      "Total params: 491\n",
      "Trainable params: 491\n",
      "Non-trainable params: 0\n",
      "_________________________________________________________________\n"
     ]
    }
   ],
   "source": [
    "# summary\n",
    "model.summary()"
   ]
  },
  {
   "cell_type": "code",
   "execution_count": 42,
   "id": "904016f8",
   "metadata": {},
   "outputs": [
    {
     "name": "stdout",
     "output_type": "stream",
     "text": [
      "You must install pydot (`pip install pydot`) and install graphviz (see instructions at https://graphviz.gitlab.io/download/) for plot_model to work.\n"
     ]
    }
   ],
   "source": [
    "plot_model(model, to_file='./img/model.png', show_shapes=True, show_layer_names=True)"
   ]
  },
  {
   "cell_type": "markdown",
   "id": "ab53a9a5",
   "metadata": {},
   "source": [
    "### Train the model"
   ]
  },
  {
   "cell_type": "code",
   "execution_count": 29,
   "id": "27d81018",
   "metadata": {},
   "outputs": [],
   "source": [
    "# Specify callback functions\n",
    "model_path = (results_path / 'model.h5').as_posix()\n",
    "logdir = os.path.join(\"logs\", datetime.datetime.now().strftime(\"%Y%m%d-%H%M%S\"))\n",
    "\n",
    "my_callbacks = [\n",
    "    EarlyStopping(patience=10, monitor='loss', mode='min', verbose=1, restore_best_weights=True),\n",
    "    ModelCheckpoint(filepath=model_path, verbose=1, monitor='loss', save_best_only=True),\n",
    "    TensorBoard(log_dir=logdir, histogram_freq=1)\n",
    "]"
   ]
  },
  {
   "cell_type": "code",
   "execution_count": 30,
   "id": "362345d7",
   "metadata": {},
   "outputs": [
    {
     "name": "stdout",
     "output_type": "stream",
     "text": [
      "Epoch 1/500\n",
      "60/62 [============================>.] - ETA: 0s - loss: 0.0210 - mae: 0.1128\n",
      "Epoch 1: loss improved from inf to 0.02038, saving model to results/lstm_time_series/model.h5\n",
      "62/62 [==============================] - 2s 12ms/step - loss: 0.0204 - mae: 0.1103\n",
      "Epoch 2/500\n",
      "60/62 [============================>.] - ETA: 0s - loss: 0.0064 - mae: 0.0695\n",
      "Epoch 2: loss improved from 0.02038 to 0.00651, saving model to results/lstm_time_series/model.h5\n",
      "62/62 [==============================] - 1s 11ms/step - loss: 0.0065 - mae: 0.0702\n",
      "Epoch 3/500\n",
      "62/62 [==============================] - ETA: 0s - loss: 0.0039 - mae: 0.0530\n",
      "Epoch 3: loss improved from 0.00651 to 0.00393, saving model to results/lstm_time_series/model.h5\n",
      "62/62 [==============================] - 1s 11ms/step - loss: 0.0039 - mae: 0.0530\n",
      "Epoch 4/500\n",
      "61/62 [============================>.] - ETA: 0s - loss: 0.0030 - mae: 0.0451\n",
      "Epoch 4: loss improved from 0.00393 to 0.00294, saving model to results/lstm_time_series/model.h5\n",
      "62/62 [==============================] - 1s 11ms/step - loss: 0.0029 - mae: 0.0448\n",
      "Epoch 5/500\n",
      "58/62 [===========================>..] - ETA: 0s - loss: 0.0019 - mae: 0.0360\n",
      "Epoch 5: loss improved from 0.00294 to 0.00185, saving model to results/lstm_time_series/model.h5\n",
      "62/62 [==============================] - 1s 11ms/step - loss: 0.0018 - mae: 0.0356\n",
      "Epoch 6/500\n",
      "61/62 [============================>.] - ETA: 0s - loss: 0.0014 - mae: 0.0305\n",
      "Epoch 6: loss improved from 0.00185 to 0.00137, saving model to results/lstm_time_series/model.h5\n",
      "62/62 [==============================] - 1s 11ms/step - loss: 0.0014 - mae: 0.0303\n",
      "Epoch 7/500\n",
      "59/62 [===========================>..] - ETA: 0s - loss: 8.9978e-04 - mae: 0.0246\n",
      "Epoch 7: loss improved from 0.00137 to 0.00092, saving model to results/lstm_time_series/model.h5\n",
      "62/62 [==============================] - 1s 11ms/step - loss: 9.1624e-04 - mae: 0.0248\n",
      "Epoch 8/500\n",
      "60/62 [============================>.] - ETA: 0s - loss: 6.2906e-04 - mae: 0.0205\n",
      "Epoch 8: loss improved from 0.00092 to 0.00065, saving model to results/lstm_time_series/model.h5\n",
      "62/62 [==============================] - 1s 11ms/step - loss: 6.5278e-04 - mae: 0.0208\n",
      "Epoch 9/500\n",
      "59/62 [===========================>..] - ETA: 0s - loss: 4.8769e-04 - mae: 0.0179\n",
      "Epoch 9: loss improved from 0.00065 to 0.00052, saving model to results/lstm_time_series/model.h5\n",
      "62/62 [==============================] - 1s 12ms/step - loss: 5.2052e-04 - mae: 0.0183\n",
      "Epoch 10/500\n",
      "58/62 [===========================>..] - ETA: 0s - loss: 4.3529e-04 - mae: 0.0168\n",
      "Epoch 10: loss improved from 0.00052 to 0.00048, saving model to results/lstm_time_series/model.h5\n",
      "62/62 [==============================] - 1s 11ms/step - loss: 4.7578e-04 - mae: 0.0174\n",
      "Epoch 11/500\n",
      "60/62 [============================>.] - ETA: 0s - loss: 4.4075e-04 - mae: 0.0169\n",
      "Epoch 11: loss did not improve from 0.00048\n",
      "62/62 [==============================] - 1s 10ms/step - loss: 4.7626e-04 - mae: 0.0173\n",
      "Epoch 12/500\n",
      "59/62 [===========================>..] - ETA: 0s - loss: 4.4941e-04 - mae: 0.0170\n",
      "Epoch 12: loss did not improve from 0.00048\n",
      "62/62 [==============================] - 1s 10ms/step - loss: 4.9385e-04 - mae: 0.0177\n",
      "Epoch 13/500\n",
      "59/62 [===========================>..] - ETA: 0s - loss: 4.6258e-04 - mae: 0.0173\n",
      "Epoch 13: loss did not improve from 0.00048\n",
      "62/62 [==============================] - 1s 10ms/step - loss: 5.0545e-04 - mae: 0.0179\n",
      "Epoch 14/500\n",
      "59/62 [===========================>..] - ETA: 0s - loss: 4.6292e-04 - mae: 0.0173\n",
      "Epoch 14: loss did not improve from 0.00048\n",
      "62/62 [==============================] - 1s 10ms/step - loss: 5.0064e-04 - mae: 0.0178\n",
      "Epoch 15/500\n",
      "59/62 [===========================>..] - ETA: 0s - loss: 4.4371e-04 - mae: 0.0169\n",
      "Epoch 15: loss improved from 0.00048 to 0.00047, saving model to results/lstm_time_series/model.h5\n",
      "62/62 [==============================] - 1s 11ms/step - loss: 4.7418e-04 - mae: 0.0173\n",
      "Epoch 16/500\n",
      "58/62 [===========================>..] - ETA: 0s - loss: 4.1376e-04 - mae: 0.0163\n",
      "Epoch 16: loss improved from 0.00047 to 0.00043, saving model to results/lstm_time_series/model.h5\n",
      "62/62 [==============================] - 1s 11ms/step - loss: 4.3497e-04 - mae: 0.0165\n",
      "Epoch 17/500\n",
      "61/62 [============================>.] - ETA: 0s - loss: 3.9612e-04 - mae: 0.0157\n",
      "Epoch 17: loss improved from 0.00043 to 0.00040, saving model to results/lstm_time_series/model.h5\n",
      "62/62 [==============================] - 1s 11ms/step - loss: 3.9728e-04 - mae: 0.0157\n",
      "Epoch 18/500\n",
      "61/62 [============================>.] - ETA: 0s - loss: 3.6182e-04 - mae: 0.0149\n",
      "Epoch 18: loss improved from 0.00040 to 0.00036, saving model to results/lstm_time_series/model.h5\n",
      "62/62 [==============================] - 1s 11ms/step - loss: 3.6236e-04 - mae: 0.0149\n",
      "Epoch 19/500\n",
      "61/62 [============================>.] - ETA: 0s - loss: 3.3496e-04 - mae: 0.0143\n",
      "Epoch 19: loss improved from 0.00036 to 0.00034, saving model to results/lstm_time_series/model.h5\n",
      "62/62 [==============================] - 1s 12ms/step - loss: 3.3515e-04 - mae: 0.0142\n",
      "Epoch 20/500\n",
      "61/62 [============================>.] - ETA: 0s - loss: 3.1753e-04 - mae: 0.0138\n",
      "Epoch 20: loss improved from 0.00034 to 0.00032, saving model to results/lstm_time_series/model.h5\n",
      "62/62 [==============================] - 1s 13ms/step - loss: 3.1759e-04 - mae: 0.0138\n",
      "Epoch 21/500\n",
      "58/62 [===========================>..] - ETA: 0s - loss: 2.9577e-04 - mae: 0.0134\n",
      "Epoch 21: loss improved from 0.00032 to 0.00031, saving model to results/lstm_time_series/model.h5\n",
      "62/62 [==============================] - 1s 12ms/step - loss: 3.0504e-04 - mae: 0.0135\n",
      "Epoch 22/500\n",
      "61/62 [============================>.] - ETA: 0s - loss: 2.9846e-04 - mae: 0.0133\n",
      "Epoch 22: loss improved from 0.00031 to 0.00030, saving model to results/lstm_time_series/model.h5\n",
      "62/62 [==============================] - 1s 11ms/step - loss: 2.9849e-04 - mae: 0.0133\n",
      "Epoch 23/500\n",
      "61/62 [============================>.] - ETA: 0s - loss: 2.9683e-04 - mae: 0.0133\n",
      "Epoch 23: loss improved from 0.00030 to 0.00030, saving model to results/lstm_time_series/model.h5\n",
      "62/62 [==============================] - 1s 11ms/step - loss: 2.9684e-04 - mae: 0.0133\n",
      "Epoch 24/500\n",
      "59/62 [===========================>..] - ETA: 0s - loss: 2.9096e-04 - mae: 0.0133\n",
      "Epoch 24: loss did not improve from 0.00030\n",
      "62/62 [==============================] - 1s 12ms/step - loss: 2.9994e-04 - mae: 0.0134\n",
      "Epoch 25/500\n",
      "58/62 [===========================>..] - ETA: 0s - loss: 3.0154e-04 - mae: 0.0136\n",
      "Epoch 25: loss did not improve from 0.00030\n",
      "62/62 [==============================] - 1s 11ms/step - loss: 3.1033e-04 - mae: 0.0137\n",
      "Epoch 26/500\n",
      "57/62 [==========================>...] - ETA: 0s - loss: 3.1865e-04 - mae: 0.0140\n",
      "Epoch 26: loss did not improve from 0.00030\n",
      "62/62 [==============================] - 1s 11ms/step - loss: 3.3314e-04 - mae: 0.0142\n",
      "Epoch 27/500\n",
      "60/62 [============================>.] - ETA: 0s - loss: 3.6653e-04 - mae: 0.0152\n",
      "Epoch 27: loss did not improve from 0.00030\n",
      "62/62 [==============================] - 1s 11ms/step - loss: 3.8557e-04 - mae: 0.0155\n",
      "Epoch 28/500\n",
      "61/62 [============================>.] - ETA: 0s - loss: 5.1422e-04 - mae: 0.0182\n",
      "Epoch 28: loss did not improve from 0.00030\n",
      "62/62 [==============================] - 1s 13ms/step - loss: 5.1370e-04 - mae: 0.0182\n",
      "Epoch 29/500\n",
      "59/62 [===========================>..] - ETA: 0s - loss: 7.5195e-04 - mae: 0.0226\n",
      "Epoch 29: loss did not improve from 0.00030\n",
      "62/62 [==============================] - 1s 12ms/step - loss: 8.0945e-04 - mae: 0.0233\n",
      "Epoch 30/500\n",
      "61/62 [============================>.] - ETA: 0s - loss: 0.0012 - mae: 0.0283   \n",
      "Epoch 30: loss did not improve from 0.00030\n",
      "62/62 [==============================] - 1s 11ms/step - loss: 0.0012 - mae: 0.0285\n",
      "Epoch 31/500\n",
      "61/62 [============================>.] - ETA: 0s - loss: 0.0016 - mae: 0.0332\n",
      "Epoch 31: loss did not improve from 0.00030\n",
      "62/62 [==============================] - 1s 12ms/step - loss: 0.0016 - mae: 0.0337\n",
      "Epoch 32/500\n",
      "61/62 [============================>.] - ETA: 0s - loss: 0.0015 - mae: 0.0315\n",
      "Epoch 32: loss did not improve from 0.00030\n",
      "62/62 [==============================] - 1s 12ms/step - loss: 0.0015 - mae: 0.0315\n",
      "Epoch 33/500\n"
     ]
    },
    {
     "name": "stdout",
     "output_type": "stream",
     "text": [
      "59/62 [===========================>..] - ETA: 0s - loss: 7.0001e-04 - mae: 0.0198Restoring model weights from the end of the best epoch: 23.\n",
      "\n",
      "Epoch 33: loss did not improve from 0.00030\n",
      "62/62 [==============================] - 1s 11ms/step - loss: 6.8490e-04 - mae: 0.0195\n",
      "Epoch 33: early stopping\n",
      "CPU times: user 33.5 s, sys: 5.12 s, total: 38.6 s\n",
      "Wall time: 24.1 s\n"
     ]
    }
   ],
   "source": [
    "%%time\n",
    "# Model fitting\n",
    "lstm_training = model.fit(X_train, \n",
    "                          y_train, \n",
    "                          batch_size=64, \n",
    "                          epochs=500, \n",
    "                          verbose=1, \n",
    "                          callbacks=my_callbacks, \n",
    "                          shuffle=False)"
   ]
  },
  {
   "cell_type": "markdown",
   "id": "961f16e3",
   "metadata": {},
   "source": [
    "### Evaluate model performance"
   ]
  },
  {
   "cell_type": "code",
   "execution_count": 34,
   "id": "9e183ee0",
   "metadata": {},
   "outputs": [],
   "source": [
    "%load_ext tensorboard"
   ]
  },
  {
   "cell_type": "code",
   "execution_count": 35,
   "id": "86d24592",
   "metadata": {
    "scrolled": true
   },
   "outputs": [
    {
     "data": {
      "text/html": [
       "\n",
       "      <iframe id=\"tensorboard-frame-f45ba6fd2ccaa3fa\" width=\"100%\" height=\"800\" frameborder=\"0\">\n",
       "      </iframe>\n",
       "      <script>\n",
       "        (function() {\n",
       "          const frame = document.getElementById(\"tensorboard-frame-f45ba6fd2ccaa3fa\");\n",
       "          const url = new URL(\"/\", window.location);\n",
       "          const port = 6006;\n",
       "          if (port) {\n",
       "            url.port = port;\n",
       "          }\n",
       "          frame.src = url;\n",
       "        })();\n",
       "      </script>\n",
       "    "
      ],
      "text/plain": [
       "<IPython.core.display.HTML object>"
      ]
     },
     "metadata": {},
     "output_type": "display_data"
    }
   ],
   "source": [
    "%tensorboard --logdir logs"
   ]
  },
  {
   "cell_type": "code",
   "execution_count": 36,
   "id": "7463e955",
   "metadata": {},
   "outputs": [
    {
     "name": "stdout",
     "output_type": "stream",
     "text": [
      "Train RMSE: 0.0251 | Test RMSE: 0.0339\n"
     ]
    }
   ],
   "source": [
    "# calculate rmse of loss function\n",
    "train_rmse_scaled = np.sqrt(model.evaluate(X_train, y_train, verbose=0))\n",
    "test_rmse_scaled = np.sqrt(model.evaluate(X_test, y_test, verbose=0))\n",
    "print(f'Train RMSE: {train_rmse_scaled[0]:.4f} | Test RMSE: {test_rmse_scaled[0]:.4f}')"
   ]
  },
  {
   "cell_type": "markdown",
   "id": "61711c99",
   "metadata": {},
   "source": [
    "### Prediction"
   ]
  },
  {
   "cell_type": "code",
   "execution_count": 37,
   "id": "594c0d60",
   "metadata": {},
   "outputs": [
    {
     "name": "stdout",
     "output_type": "stream",
     "text": [
      "30/30 [==============================] - 0s 3ms/step\n"
     ]
    }
   ],
   "source": [
    "# predictions\n",
    "y_pred = model.predict(X_test)"
   ]
  },
  {
   "cell_type": "code",
   "execution_count": 38,
   "id": "01be2769",
   "metadata": {},
   "outputs": [
    {
     "data": {
      "text/html": [
       "<div>\n",
       "<style scoped>\n",
       "    .dataframe tbody tr th:only-of-type {\n",
       "        vertical-align: middle;\n",
       "    }\n",
       "\n",
       "    .dataframe tbody tr th {\n",
       "        vertical-align: top;\n",
       "    }\n",
       "\n",
       "    .dataframe thead th {\n",
       "        text-align: right;\n",
       "    }\n",
       "</style>\n",
       "<table border=\"1\" class=\"dataframe\">\n",
       "  <thead>\n",
       "    <tr style=\"text-align: right;\">\n",
       "      <th></th>\n",
       "      <th>actual</th>\n",
       "      <th>prediction</th>\n",
       "      <th>spread</th>\n",
       "    </tr>\n",
       "    <tr>\n",
       "      <th>Date</th>\n",
       "      <th></th>\n",
       "      <th></th>\n",
       "      <th></th>\n",
       "    </tr>\n",
       "  </thead>\n",
       "  <tbody>\n",
       "    <tr>\n",
       "      <th>2016-03-30</th>\n",
       "      <td>190.409622</td>\n",
       "      <td>188.852707</td>\n",
       "      <td>-1.556915</td>\n",
       "    </tr>\n",
       "    <tr>\n",
       "      <th>2016-03-31</th>\n",
       "      <td>189.947510</td>\n",
       "      <td>189.270523</td>\n",
       "      <td>-0.676987</td>\n",
       "    </tr>\n",
       "    <tr>\n",
       "      <th>2016-04-01</th>\n",
       "      <td>191.241440</td>\n",
       "      <td>189.523315</td>\n",
       "      <td>-1.718124</td>\n",
       "    </tr>\n",
       "    <tr>\n",
       "      <th>2016-04-04</th>\n",
       "      <td>190.622208</td>\n",
       "      <td>189.983551</td>\n",
       "      <td>-0.638657</td>\n",
       "    </tr>\n",
       "    <tr>\n",
       "      <th>2016-04-05</th>\n",
       "      <td>188.718277</td>\n",
       "      <td>190.220978</td>\n",
       "      <td>1.502701</td>\n",
       "    </tr>\n",
       "    <tr>\n",
       "      <th>...</th>\n",
       "      <td>...</td>\n",
       "      <td>...</td>\n",
       "      <td>...</td>\n",
       "    </tr>\n",
       "    <tr>\n",
       "      <th>2019-12-24</th>\n",
       "      <td>319.352142</td>\n",
       "      <td>324.807159</td>\n",
       "      <td>5.455017</td>\n",
       "    </tr>\n",
       "    <tr>\n",
       "      <th>2019-12-26</th>\n",
       "      <td>321.052124</td>\n",
       "      <td>325.476990</td>\n",
       "      <td>4.424866</td>\n",
       "    </tr>\n",
       "    <tr>\n",
       "      <th>2019-12-27</th>\n",
       "      <td>320.972565</td>\n",
       "      <td>326.424835</td>\n",
       "      <td>5.452271</td>\n",
       "    </tr>\n",
       "    <tr>\n",
       "      <th>2019-12-30</th>\n",
       "      <td>319.202972</td>\n",
       "      <td>327.116028</td>\n",
       "      <td>7.913055</td>\n",
       "    </tr>\n",
       "    <tr>\n",
       "      <th>2019-12-31</th>\n",
       "      <td>319.978424</td>\n",
       "      <td>327.375244</td>\n",
       "      <td>7.396820</td>\n",
       "    </tr>\n",
       "  </tbody>\n",
       "</table>\n",
       "<p>947 rows × 3 columns</p>\n",
       "</div>"
      ],
      "text/plain": [
       "                actual  prediction    spread\n",
       "Date                                        \n",
       "2016-03-30  190.409622  188.852707 -1.556915\n",
       "2016-03-31  189.947510  189.270523 -0.676987\n",
       "2016-04-01  191.241440  189.523315 -1.718124\n",
       "2016-04-04  190.622208  189.983551 -0.638657\n",
       "2016-04-05  188.718277  190.220978  1.502701\n",
       "...                ...         ...       ...\n",
       "2019-12-24  319.352142  324.807159  5.455017\n",
       "2019-12-26  321.052124  325.476990  4.424866\n",
       "2019-12-27  320.972565  326.424835  5.452271\n",
       "2019-12-30  319.202972  327.116028  7.913055\n",
       "2019-12-31  319.978424  327.375244  7.396820\n",
       "\n",
       "[947 rows x 3 columns]"
      ]
     },
     "execution_count": 38,
     "metadata": {},
     "output_type": "execute_result"
    }
   ],
   "source": [
    "df = pd.DataFrame({\n",
    "    'actual': scaler.inverse_transform(y_test).flatten(),\n",
    "    'prediction': scaler.inverse_transform(y_pred).flatten()}, \n",
    "    index = test_data[lookback:].index)\n",
    "\n",
    "df['spread'] = df['prediction'] - df['actual']\n",
    "df"
   ]
  },
  {
   "cell_type": "code",
   "execution_count": 39,
   "id": "2259e45d",
   "metadata": {},
   "outputs": [
    {
     "name": "stdout",
     "output_type": "stream",
     "text": [
      "R-square: 0.9808\n"
     ]
    }
   ],
   "source": [
    "print(f'R-square: {r2_score(df.actual, df.prediction):0.4}')"
   ]
  },
  {
   "cell_type": "markdown",
   "id": "a43c6a31",
   "metadata": {},
   "source": [
    "### Plot Results"
   ]
  },
  {
   "cell_type": "code",
   "execution_count": 40,
   "id": "7aa8d63d",
   "metadata": {},
   "outputs": [
    {
     "data": {
      "image/png": "[encoded data removed]",
      "text/plain": [
       "<Figure size 1440x432 with 2 Axes>"
      ]
     },
     "metadata": {},
     "output_type": "display_data"
    }
   ],
   "source": [
    "fig, ax = plt.subplots(nrows=1, ncols=2, figsize=(20,6))\n",
    "\n",
    "ax[0].plot(df.actual, color='red', label='actual')\n",
    "ax[0].plot(df.prediction, color='blue', label='prediction')\n",
    "ax[1].hist(df.spread, bins=50, density=True, label='spread')\n",
    "\n",
    "ax[0].legend()\n",
    "ax[1].legend()\n",
    "\n",
    "plt.suptitle('SPY LSTM Prediction');"
   ]
  }
 ],
 "metadata": {
  "kernelspec": {
   "display_name": "Python 3 (ipykernel)",
   "language": "python",
   "name": "python3"
  },
  "language_info": {
   "codemirror_mode": {
    "name": "ipython",
    "version": 3
   },
   "file_extension": ".py",
   "mimetype": "text/x-python",
   "name": "python",
   "nbconvert_exporter": "python",
   "pygments_lexer": "ipython3",
   "version": "3.9.12"
  }
 },
 "nbformat": 4,
 "nbformat_minor": 5
}
