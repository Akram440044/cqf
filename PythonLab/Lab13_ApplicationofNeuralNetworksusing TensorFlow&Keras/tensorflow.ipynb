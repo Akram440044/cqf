{
 "cells": [
  {
   "cell_type": "markdown",
   "id": "ff44aed1",
   "metadata": {},
   "source": [
    "# Deep Sequence Modeling\n",
    "\n",
    "Deep sequence modeling is essentially applying neural network to problems involving sequential processing of data. Sequence data has memory and comes in many forms such as text, audio, video and financial time series. Thus, requiring a different modeling approaches.\n",
    "\n",
    "## Recurrent Neural Network\n",
    "\n",
    "Recurrent Neural Network (RNN) generalize the feedforward neural network with an internal memory state and good at modeling sequence data as it uses sequential memory for prediction. Sequential memory is a mechanism used to identify the sequence patterns. RNNs are faster and use less computational resources as there are less tensor operations. Sequence problems can be broadly categorized into the following types.\n",
    "\n",
    "# Long Short Term Memory Network\n",
    "\n",
    "Long Short Term Memory (LSTM) algorithm is a special kind of RNN, explicitly designed to avoid the long-term dependency problem by addressing the problem of short term memory. LSTM models are fundamental to deep learning for financial timeseries and have four interacting layers as given below.\n",
    "\n",
    "# TensorFlow = Tensor + Flow\n",
    "\n",
    "TensorFlow is an open-source library for numerical computation originally developed by researchers and engineers working at the Google Brain team. It was originally built as a proprietary machine learning system based on deep learning neural networks.\n",
    "\n",
    "TensorFlow is made up of two words tensor and flow where Tensor is a multidimensional array and Flow is a graph of operations. Internally, TensorFlow implements machine learning algorithms as a graph of operations on multidimensional array. Tensor is a container for data to store numerical data (almost always) and are a generalization of matrices to an arbitrary number of dimensions which are also called as axis or rank. A tensor is defined by three key attributes:\n",
    "\n",
    "- a) Number of axis or ranks `ndim`\n",
    "- b) Shape `shape`\n",
    "- c) Data type `dtype`\n",
    "\n",
    "TensorFlow is preferred for the following reason\n",
    "\n",
    "- Easy to build and deploy machine learning models for a beginner.\n",
    "- Build state of art machine learning models with Keras functional API and model sub classing APIs.\n",
    "- Supports production of machine learning models, anywhere from CPUs, GPUs to edge devices as well as web servers.\n",
    "- APIs available for Python, Java and Go programming languages.\n",
    "Has a very flexible architecture\n",
    "- Enables easy deployment across different hardware platforms like CPUs, TPUs and GPUs, and computing devices like desktops, servers, mobile devices, and edge devices.\n",
    "\n",
    "**TensorFlow** is a foundation (base) library that can be used to create deep learning models directly or by using wrapper libraries that simplify the process built on top of it. It is an open source (symbolic math) library for fast numerical computing, created and maintained by Google. Like NumPy, the primary purpose of TensorFlow is to manipulate mathematical expressions over numerical tensors. It can run not only on CPU, but also on GPUs and TPUs, highly-parallel hardware accelerators.\n",
    "\n",
    "Theano is an open source project developed by now Montreal Institute for Learning Algorithms group at the University of Montreal. However, Theano is considered effectively dead with the team announcing on September 2017 that they would cease all its major development after the release of 1.0 version.\n",
    "\n",
    "## TensorFlow 2 Installation\n",
    "\n",
    "Tensorflow is tested and supported on the 64-bit systems and has the following system requirements:\n",
    "\n",
    "- Python 3.7–3.10\n",
    "- pip 19.0 (or >20.3 for macOS)\n",
    "- Ubuntu 16.04 or later\n",
    "- Windows 7 or later (with C++ redistributable)\n",
    "- macOS 10.12.6 (Sierra) or later (no GPU support)\n",
    "- Raspbian 9.0 or later : GPU support requires a CUDA®-enabled card (Ubuntu and Windows)\n",
    "- WSL2 via Windows 10 19044 or higher including GPUs (Experimental)\n",
    "\n",
    "Install the Python development environment on your system (recommended)\n",
    "\n",
    "> pip install --user virtualenv\n",
    "> pip install --upgrade tensorflow\n",
    "\n",
    "Alternatively, install the current stable release for CPU and GPU if above requirements were already satisfied\n",
    "\n",
    "> pip install tensorflow\n",
    "\n",
    "Or using the conda run\n",
    "> conda install -c anaconda tensorflow\n",
    "\n",
    "## Keras\n",
    "\n",
    "Keras is a deep learning API for Python and is one of the most powerful and easy to use library which runs on top of popular libraries like TensorFlow and Theano for creating deep learning models. It was originally created and developed by Google AI Developer/Researcher, Francois Chollet to facilitate his own research and experiement. He committed and released the first version of Keras to his GitHub on March 2015.\n",
    "\n",
    "Originally, Keras’ default backend was Theano. At the same time, Google had released TensorFlow. Given the synergies, Keras started supporting TensorFlow as a backend, and slowly TensorFlow became the most popular backend, resulting in TensorFlow being the default backend starting from the release of Keras v1.1.0.\n",
    "\n",
    "Deep Learning Software and Harware Stack\n",
    "\n",
    "The core data structures of Keras are layers and models. The simplest type of model is the Sequential model, which is a linear stack of layers. For more complex architectures, we should use the Keras functional API, which allows to build arbitrary graphs of layers.\n",
    "\n",
    "Keras is ideal for prototyping simple concepts and comes with a large community support. It is the default backend now shipped with tensorflow. "
   ]
  },
  {
   "cell_type": "code",
   "execution_count": 1,
   "id": "1e835436",
   "metadata": {},
   "outputs": [],
   "source": [
    "# supress warnings\n",
    "import warnings\n",
    "warnings.filterwarnings('ignore')\n",
    "\n",
    "import os\n",
    "import random\n",
    "os.environ['TF_CPP_MIN_LOG_LEVEL'] = '3'\n",
    "\n",
    "# data manipulation\n",
    "import numpy as np\n",
    "import pandas as pd\n",
    "import datetime\n",
    "from pathlib import Path\n",
    "\n",
    "# scikit-learn modules\n",
    "from sklearn.preprocessing import MinMaxScaler\n",
    "from sklearn.model_selection import train_test_split\n",
    "from sklearn.metrics import mean_squared_error, r2_score\n",
    "\n",
    "# tensorflow modules\n",
    "import tensorflow\n",
    "from tensorflow.keras.models import Sequential\n",
    "from tensorflow.keras.layers import Dense, Dropout, Flatten, LSTM\n",
    "\n",
    "from tensorflow.keras.optimizers import RMSprop \n",
    "from tensorflow.keras.optimizers.legacy import Adam\n",
    "from tensorflow.keras.utils import plot_model\n",
    "from tensorflow.keras.callbacks import EarlyStopping, ModelCheckpoint, TensorBoard\n",
    "\n",
    "# plotting & outputs\n",
    "import matplotlib.pyplot as plt\n",
    "plt.style.use('seaborn')\n",
    "from pprint import pprint"
   ]
  },
  {
   "cell_type": "code",
   "execution_count": 2,
   "id": "b17fec08",
   "metadata": {},
   "outputs": [],
   "source": [
    "def set_seeds(seed=2022): \n",
    "    random.seed(seed)\n",
    "    np.random.seed(seed)\n",
    "    tensorflow.random.set_seed(seed)"
   ]
  },
  {
   "cell_type": "markdown",
   "id": "f577d71c",
   "metadata": {},
   "source": [
    "## Example : Many-to-One Single Feature\n",
    "\n",
    "Let's prepare a sample dataset of 20 samples with 3 timesteps where each timestep will consist of a single feature. The output of each sample will be the sum of these 3 inputs. For example, if our sample consists of a sequence 1,2,3, the output would be sum of these inputs, 1+2+3 = 6."
   ]
  },
  {
   "cell_type": "code",
   "execution_count": 3,
   "id": "1e3f0465",
   "metadata": {},
   "outputs": [],
   "source": [
    "# create sample dataset\n",
    "X = np.array([i+1 for i in range(60)])"
   ]
  },
  {
   "cell_type": "code",
   "execution_count": 4,
   "id": "8452ab6b",
   "metadata": {},
   "outputs": [],
   "source": [
    "# reshape into 3D\n",
    "X = np.array(X).reshape(20,3,1)"
   ]
  },
  {
   "cell_type": "code",
   "execution_count": 5,
   "id": "bb55228a",
   "metadata": {},
   "outputs": [
    {
     "name": "stdout",
     "output_type": "stream",
     "text": [
      "X: [[[ 1]\n",
      "  [ 2]\n",
      "  [ 3]]\n",
      "\n",
      " [[ 4]\n",
      "  [ 5]\n",
      "  [ 6]]\n",
      "\n",
      " [[ 7]\n",
      "  [ 8]\n",
      "  [ 9]]\n",
      "\n",
      " [[10]\n",
      "  [11]\n",
      "  [12]]\n",
      "\n",
      " [[13]\n",
      "  [14]\n",
      "  [15]]\n",
      "\n",
      " [[16]\n",
      "  [17]\n",
      "  [18]]\n",
      "\n",
      " [[19]\n",
      "  [20]\n",
      "  [21]]\n",
      "\n",
      " [[22]\n",
      "  [23]\n",
      "  [24]]\n",
      "\n",
      " [[25]\n",
      "  [26]\n",
      "  [27]]\n",
      "\n",
      " [[28]\n",
      "  [29]\n",
      "  [30]]\n",
      "\n",
      " [[31]\n",
      "  [32]\n",
      "  [33]]\n",
      "\n",
      " [[34]\n",
      "  [35]\n",
      "  [36]]\n",
      "\n",
      " [[37]\n",
      "  [38]\n",
      "  [39]]\n",
      "\n",
      " [[40]\n",
      "  [41]\n",
      "  [42]]\n",
      "\n",
      " [[43]\n",
      "  [44]\n",
      "  [45]]\n",
      "\n",
      " [[46]\n",
      "  [47]\n",
      "  [48]]\n",
      "\n",
      " [[49]\n",
      "  [50]\n",
      "  [51]]\n",
      "\n",
      " [[52]\n",
      "  [53]\n",
      "  [54]]\n",
      "\n",
      " [[55]\n",
      "  [56]\n",
      "  [57]]\n",
      "\n",
      " [[58]\n",
      "  [59]\n",
      "  [60]]]\n"
     ]
    }
   ],
   "source": [
    "print(f'X: {X}')"
   ]
  },
  {
   "cell_type": "code",
   "execution_count": 6,
   "id": "2d2f7452",
   "metadata": {},
   "outputs": [
    {
     "data": {
      "text/plain": [
       "(20, 3, 1)"
      ]
     },
     "execution_count": 6,
     "metadata": {},
     "output_type": "execute_result"
    }
   ],
   "source": [
    "# check the shape\n",
    "X.shape"
   ]
  },
  {
   "cell_type": "code",
   "execution_count": 7,
   "id": "9b1b6110",
   "metadata": {},
   "outputs": [
    {
     "name": "stdout",
     "output_type": "stream",
     "text": [
      "y: [  6  15  24  33  42  51  60  69  78  87  96 105 114 123 132 141 150 159\n",
      " 168 177]\n"
     ]
    }
   ],
   "source": [
    "# y is the sum of the values in the timesteps\n",
    "y = []\n",
    "for each in X:\n",
    "    y.append(each.sum())\n",
    "    \n",
    "# convert to array\n",
    "y = np.array(y)\n",
    "\n",
    "# check the output\n",
    "print(f'y: {y}')"
   ]
  },
  {
   "cell_type": "code",
   "execution_count": 8,
   "id": "43ad6b0f",
   "metadata": {},
   "outputs": [
    {
     "data": {
      "text/plain": [
       "(20,)"
      ]
     },
     "execution_count": 8,
     "metadata": {},
     "output_type": "execute_result"
    }
   ],
   "source": [
    "# check the shape\n",
    "y.shape"
   ]
  },
  {
   "cell_type": "code",
   "execution_count": 9,
   "id": "0e7838b2",
   "metadata": {},
   "outputs": [
    {
     "name": "stdout",
     "output_type": "stream",
     "text": [
      "Model: \"sequential\"\n",
      "_________________________________________________________________\n",
      " Layer (type)                Output Shape              Param #   \n",
      "=================================================================\n",
      " lstm (LSTM)                 (None, 50)                10400     \n",
      "                                                                 \n",
      " dense (Dense)               (None, 1)                 51        \n",
      "                                                                 \n",
      "=================================================================\n",
      "Total params: 10451 (40.82 KB)\n",
      "Trainable params: 10451 (40.82 KB)\n",
      "Non-trainable params: 0 (0.00 Byte)\n",
      "_________________________________________________________________\n",
      "None\n"
     ]
    }
   ],
   "source": [
    "# compile model five\n",
    "nn = Sequential()\n",
    "nn.add(LSTM(50, activation='relu', input_shape=(3, 1)))\n",
    "nn.add(Dense(1))\n",
    "nn.compile(optimizer='adam', loss='mse')\n",
    "print(nn.summary())"
   ]
  },
  {
   "cell_type": "code",
   "execution_count": 10,
   "id": "5fb84f56",
   "metadata": {},
   "outputs": [
    {
     "name": "stdout",
     "output_type": "stream",
     "text": [
      "CPU times: user 19 s, sys: 2.57 s, total: 21.6 s\n",
      "Wall time: 18.2 s\n"
     ]
    },
    {
     "data": {
      "text/plain": [
       "<keras.src.callbacks.History at 0x282848100>"
      ]
     },
     "execution_count": 10,
     "metadata": {},
     "output_type": "execute_result"
    }
   ],
   "source": [
    "%%time\n",
    "# fit model\n",
    "nn.fit(X, y, batch_size=5, epochs=2000, validation_split=0.2, verbose=0)"
   ]
  },
  {
   "cell_type": "code",
   "execution_count": 11,
   "id": "3a0d5b7f",
   "metadata": {},
   "outputs": [
    {
     "name": "stdout",
     "output_type": "stream",
     "text": [
      "Predicted Value is: [[211.44325]]\n",
      "True Value should be: 213\n"
     ]
    }
   ],
   "source": [
    "# predict the outcome\n",
    "x_input = [70,71,72]\n",
    "test_input = np.array(x_input)\n",
    "test_input = test_input.reshape((1, 3, 1))\n",
    "test_output = nn.predict(test_input, verbose=0)\n",
    "print('Predicted Value is:', test_output)\n",
    "print('True Value should be:', sum(x_input))"
   ]
  },
  {
   "cell_type": "markdown",
   "id": "39dfa6c2",
   "metadata": {},
   "source": [
    "## Applying Neural Networks to Financial Time Series\n",
    "\n",
    "Given that we have some understanding of the above deep sequence modeling, let us now apply neural networks to financial timeseries which is a many-to-one sequence problem.\n",
    "\n",
    "We will retrive the 20 years of SPY price data that we stored earlier for this exercise. We then apply LSTM network given the nature of financial timeseries with a lookback (window size) of 60 days.\n",
    "\n",
    "### Path to Store Results"
   ]
  },
  {
   "cell_type": "code",
   "execution_count": 12,
   "id": "198b77df",
   "metadata": {},
   "outputs": [],
   "source": [
    "results_path = Path('results', 'lstm_time_series')\n",
    "if not results_path.exists():\n",
    "    results_path.mkdir(parents=True)"
   ]
  },
  {
   "cell_type": "markdown",
   "id": "9166a094",
   "metadata": {},
   "source": [
    "### Retrieve Data"
   ]
  },
  {
   "cell_type": "code",
   "execution_count": 13,
   "id": "1ff24a00",
   "metadata": {},
   "outputs": [],
   "source": [
    "# Read data from the locally stored file\n",
    "data = pd.read_csv('spy.csv', index_col=0, parse_dates=True)[['Adj Close']]['2000':'2019']"
   ]
  },
  {
   "cell_type": "code",
   "execution_count": 14,
   "id": "9acb8fe3",
   "metadata": {},
   "outputs": [
    {
     "data": {
      "text/plain": [
       "(5031, 1)"
      ]
     },
     "execution_count": 14,
     "metadata": {},
     "output_type": "execute_result"
    }
   ],
   "source": [
    "# Check the shape - has to be 2D\n",
    "data.shape"
   ]
  },
  {
   "cell_type": "code",
   "execution_count": 15,
   "id": "2dd91853",
   "metadata": {},
   "outputs": [
    {
     "data": {
      "text/plain": [
       "Adj Close    0\n",
       "dtype: int64"
      ]
     },
     "execution_count": 15,
     "metadata": {},
     "output_type": "execute_result"
    }
   ],
   "source": [
    "# Check for missing values\n",
    "data.isna().sum()"
   ]
  },
  {
   "cell_type": "markdown",
   "id": "5ec76bfb",
   "metadata": {},
   "source": [
    "### Visualisation"
   ]
  },
  {
   "cell_type": "code",
   "execution_count": 16,
   "id": "c2a53f8e",
   "metadata": {},
   "outputs": [
    {
     "data": {
      "image/png": "[encoded data removed]",
      "text/plain": [
       "<Figure size 1500x500 with 1 Axes>"
      ]
     },
     "metadata": {},
     "output_type": "display_data"
    }
   ],
   "source": [
    "# Visualization \n",
    "plt.figure(figsize=(15,5))\n",
    "plt.title('SPY Price')\n",
    "plt.plot(data);"
   ]
  },
  {
   "cell_type": "markdown",
   "id": "a51854e4",
   "metadata": {},
   "source": [
    "### Train - Test - Split"
   ]
  },
  {
   "cell_type": "code",
   "execution_count": 17,
   "id": "92ac08d1",
   "metadata": {
    "scrolled": true
   },
   "outputs": [
    {
     "name": "stdout",
     "output_type": "stream",
     "text": [
      "Train and Test Size 4024, 1007\n"
     ]
    }
   ],
   "source": [
    "# Splitting the datasets into training and testing data.\n",
    "train_data, test_data = train_test_split(data, train_size=0.8, test_size=0.2, shuffle=False)\n",
    "\n",
    "# Output the train and test data size\n",
    "print(f\"Train and Test Size {len(train_data)}, {len(test_data)}\")"
   ]
  },
  {
   "cell_type": "markdown",
   "id": "97f1befa",
   "metadata": {},
   "source": [
    "### Preprocessing"
   ]
  },
  {
   "cell_type": "code",
   "execution_count": 18,
   "id": "fd974bba",
   "metadata": {},
   "outputs": [],
   "source": [
    "# Scale the features MinMax for training and test datasets\n",
    "scaler = MinMaxScaler()\n",
    "scaled_train_data = scaler.fit_transform(train_data)\n",
    "# use the formation from the train-set to transform the test-set, to make datasets consistent\n",
    "scaled_test_data = scaler.transform(test_data) "
   ]
  },
  {
   "cell_type": "markdown",
   "id": "27031c3c",
   "metadata": {},
   "source": [
    "### Generate sequences\n",
    "\n",
    "We'll create a function to generate sequence in the format required for deep sequence modeling."
   ]
  },
  {
   "cell_type": "code",
   "execution_count": 19,
   "id": "0bb831b7",
   "metadata": {},
   "outputs": [],
   "source": [
    "def generate_sequence(data, sequence_length=60):\n",
    "    \n",
    "    # create X & y data array\n",
    "    X = []\n",
    "    y = []\n",
    "\n",
    "    for i in range(sequence_length, len(data)):\n",
    "        X.append(data[i - sequence_length:i, 0])\n",
    "        y.append(data[i, 0])\n",
    "    \n",
    "    # Converting x_train and y_train to Numpy arrays\n",
    "    return np.array(X), np.array(y)"
   ]
  },
  {
   "cell_type": "code",
   "execution_count": 20,
   "id": "4191cc1a",
   "metadata": {},
   "outputs": [],
   "source": [
    "# sequence length\n",
    "lookback = 60"
   ]
  },
  {
   "cell_type": "code",
   "execution_count": 21,
   "id": "811195d8",
   "metadata": {},
   "outputs": [
    {
     "name": "stdout",
     "output_type": "stream",
     "text": [
      "X_train: (3964, 60), y_train (3964,)\n"
     ]
    }
   ],
   "source": [
    "X_train, y_train = generate_sequence(data=scaled_train_data, sequence_length=lookback)\n",
    "print(f'X_train: {X_train.shape}, y_train {y_train.shape}')"
   ]
  },
  {
   "cell_type": "code",
   "execution_count": 22,
   "id": "1e42e926",
   "metadata": {},
   "outputs": [
    {
     "name": "stdout",
     "output_type": "stream",
     "text": [
      "X_test: (947, 60), y_test (947,)\n"
     ]
    }
   ],
   "source": [
    "X_test, y_test = generate_sequence(data=scaled_test_data, sequence_length=lookback)\n",
    "print(f'X_test: {X_test.shape}, y_test {y_test.shape}')"
   ]
  },
  {
   "cell_type": "markdown",
   "id": "23400904",
   "metadata": {},
   "source": [
    "### Reshape\n",
    "\n",
    "We need to reshape the data as LSTM network consume input in a 3-dimensional array in the form of `n_samples` $\\times$ `timesteps` $\\times$ `n_features`."
   ]
  },
  {
   "cell_type": "code",
   "execution_count": 23,
   "id": "e6b91806",
   "metadata": {},
   "outputs": [
    {
     "name": "stdout",
     "output_type": "stream",
     "text": [
      "X_train Shape: (3964, 60, 1), y_train (3964, 1)\n"
     ]
    }
   ],
   "source": [
    "# reshaping array\n",
    "X_train = np.reshape(X_train, (X_train.shape[0], X_train.shape[1], 1))\n",
    "y_train = y_train[:, np.newaxis] \n",
    "\n",
    "# check the array size\n",
    "print(f'X_train Shape: {X_train.shape}, y_train {y_train.shape}')"
   ]
  },
  {
   "cell_type": "code",
   "execution_count": 24,
   "id": "cb056e18",
   "metadata": {},
   "outputs": [
    {
     "name": "stdout",
     "output_type": "stream",
     "text": [
      "X_test Shape: (947, 60, 1), y_test (947, 1)\n"
     ]
    }
   ],
   "source": [
    "# reshaping array\n",
    "X_test = np.reshape(X_test, (X_test.shape[0], X_test.shape[1], 1))\n",
    "y_test = y_test[:, np.newaxis] \n",
    "\n",
    "# check the array size\n",
    "print(f'X_test Shape: {X_test.shape}, y_test {y_test.shape}')"
   ]
  },
  {
   "cell_type": "markdown",
   "id": "7791eb7a",
   "metadata": {},
   "source": [
    "### Building a LSTM Model\n",
    "\n",
    "- First, we define the LSTM Recurrent Neural Network by initializing the **Sequential** Model. \n",
    "- We'll add more **LSTM** layers and adjust the **Dropout** in order to improve the accuracy of our model. \n",
    "- Finally, a **Dense** layer is used as output layer.\n",
    "\n",
    "Next, we compile and train the model defined above. Iteratively, we can increase or decrease the epochs and batch size to get more accuracy."
   ]
  },
  {
   "cell_type": "code",
   "execution_count": 25,
   "id": "2164f452",
   "metadata": {},
   "outputs": [],
   "source": [
    "# Create a model\n",
    "def create_model(hu=256, lookback=60):\n",
    "\n",
    "    tensorflow.keras.backend.clear_session()   \n",
    "    \n",
    "    # instantiate the model\n",
    "    model = Sequential()\n",
    "    model.add(LSTM(units=hu, input_shape=(lookback, 1), activation = 'relu', return_sequences=False, name='LSTM'))\n",
    "    model.add(Dense(units=1, name='Output'))              # can also specify linear activation function \n",
    "    \n",
    "    # specify optimizer separately (preferred method))\n",
    "#     opt = RMSprop(lr=0.001, rho=0.9, epsilon=1e-08, decay=0.0)\n",
    "    opt = Adam(lr=0.001, epsilon=1e-08, decay=0.0)       # adam optimizer seems to perform better for a single lstm\n",
    "    \n",
    "    # model compilation\n",
    "    model.compile(optimizer=opt, loss='mse', metrics=['mae'])\n",
    "    \n",
    "    return model"
   ]
  },
  {
   "cell_type": "code",
   "execution_count": 26,
   "id": "f94d0a72",
   "metadata": {},
   "outputs": [],
   "source": [
    "# lstm network\n",
    "model = create_model(hu=10, lookback=lookback)"
   ]
  },
  {
   "cell_type": "code",
   "execution_count": 42,
   "id": "de3ea473",
   "metadata": {
    "scrolled": true
   },
   "outputs": [
    {
     "name": "stdout",
     "output_type": "stream",
     "text": [
      "Model: \"sequential\"\n",
      "_________________________________________________________________\n",
      " Layer (type)                Output Shape              Param #   \n",
      "=================================================================\n",
      " LSTM (LSTM)                 (None, 10)                480       \n",
      "                                                                 \n",
      " Output (Dense)              (None, 1)                 11        \n",
      "                                                                 \n",
      "=================================================================\n",
      "Total params: 491 (1.92 KB)\n",
      "Trainable params: 491 (1.92 KB)\n",
      "Non-trainable params: 0 (0.00 Byte)\n",
      "_________________________________________________________________\n"
     ]
    }
   ],
   "source": [
    "# summary\n",
    "model.summary()"
   ]
  },
  {
   "cell_type": "code",
   "execution_count": 28,
   "id": "9de4f155",
   "metadata": {
    "scrolled": true
   },
   "outputs": [
    {
     "name": "stdout",
     "output_type": "stream",
     "text": [
      "You must install pydot (`pip install pydot`) and install graphviz (see instructions at https://graphviz.gitlab.io/download/) for plot_model to work.\n"
     ]
    }
   ],
   "source": [
    "plot_model(model, to_file='./img/model.png', show_shapes=True, show_layer_names=True)"
   ]
  },
  {
   "cell_type": "markdown",
   "id": "996270c2",
   "metadata": {},
   "source": [
    "### Train the model"
   ]
  },
  {
   "cell_type": "code",
   "execution_count": 29,
   "id": "6aea440b",
   "metadata": {},
   "outputs": [],
   "source": [
    "# Specify callback functions\n",
    "model_path = (results_path / 'model.h5').as_posix()\n",
    "logdir = os.path.join(\"logs\", datetime.datetime.now().strftime(\"%Y%m%d-%H%M%S\"))\n",
    "\n",
    "my_callbacks = [\n",
    "    EarlyStopping(patience=10, monitor='loss', mode='min', verbose=1, restore_best_weights=True),\n",
    "    ModelCheckpoint(filepath=model_path, verbose=1, monitor='loss', save_best_only=True),\n",
    "    TensorBoard(log_dir=logdir, histogram_freq=1)\n",
    "]"
   ]
  },
  {
   "cell_type": "code",
   "execution_count": 30,
   "id": "553798bb",
   "metadata": {},
   "outputs": [
    {
     "name": "stdout",
     "output_type": "stream",
     "text": [
      "Epoch 1/500\n",
      "51/62 [=======================>......] - ETA: 0s - loss: 0.0139 - mae: 0.1022\n",
      "Epoch 1: loss improved from inf to 0.01219, saving model to results/lstm_time_series/model.h5\n",
      "62/62 [==============================] - 1s 5ms/step - loss: 0.0122 - mae: 0.0944\n",
      "Epoch 2/500\n",
      "61/62 [============================>.] - ETA: 0s - loss: 0.0051 - mae: 0.0616\n",
      "Epoch 2: loss improved from 0.01219 to 0.00500, saving model to results/lstm_time_series/model.h5\n",
      "62/62 [==============================] - 0s 5ms/step - loss: 0.0050 - mae: 0.0612\n",
      "Epoch 3/500\n",
      "55/62 [=========================>....] - ETA: 0s - loss: 0.0040 - mae: 0.0480\n",
      "Epoch 3: loss improved from 0.00500 to 0.00359, saving model to results/lstm_time_series/model.h5\n",
      "62/62 [==============================] - 0s 5ms/step - loss: 0.0036 - mae: 0.0447\n",
      "Epoch 4/500\n",
      "55/62 [=========================>....] - ETA: 0s - loss: 9.5216e-04 - mae: 0.0250\n",
      "Epoch 4: loss improved from 0.00359 to 0.00091, saving model to results/lstm_time_series/model.h5\n",
      "62/62 [==============================] - 0s 5ms/step - loss: 9.0895e-04 - mae: 0.0242\n",
      "Epoch 5/500\n",
      "56/62 [==========================>...] - ETA: 0s - loss: 8.0188e-04 - mae: 0.0228\n",
      "Epoch 5: loss improved from 0.00091 to 0.00078, saving model to results/lstm_time_series/model.h5\n",
      "62/62 [==============================] - 0s 5ms/step - loss: 7.8215e-04 - mae: 0.0224\n",
      "Epoch 6/500\n",
      "56/62 [==========================>...] - ETA: 0s - loss: 6.7764e-04 - mae: 0.0209\n",
      "Epoch 6: loss improved from 0.00078 to 0.00067, saving model to results/lstm_time_series/model.h5\n",
      "62/62 [==============================] - 0s 5ms/step - loss: 6.6604e-04 - mae: 0.0206\n",
      "Epoch 7/500\n",
      "53/62 [========================>.....] - ETA: 0s - loss: 5.9913e-04 - mae: 0.0198\n",
      "Epoch 7: loss improved from 0.00067 to 0.00057, saving model to results/lstm_time_series/model.h5\n",
      "62/62 [==============================] - 0s 5ms/step - loss: 5.6504e-04 - mae: 0.0189\n",
      "Epoch 8/500\n",
      "57/62 [==========================>...] - ETA: 0s - loss: 4.6338e-04 - mae: 0.0172\n",
      "Epoch 8: loss improved from 0.00057 to 0.00047, saving model to results/lstm_time_series/model.h5\n",
      "62/62 [==============================] - 0s 5ms/step - loss: 4.6728e-04 - mae: 0.0172\n",
      "Epoch 9/500\n",
      "56/62 [==========================>...] - ETA: 0s - loss: 3.5216e-04 - mae: 0.0149\n",
      "Epoch 9: loss improved from 0.00047 to 0.00036, saving model to results/lstm_time_series/model.h5\n",
      "62/62 [==============================] - 0s 5ms/step - loss: 3.6153e-04 - mae: 0.0149\n",
      "Epoch 10/500\n",
      "54/62 [=========================>....] - ETA: 0s - loss: 2.6333e-04 - mae: 0.0127\n",
      "Epoch 10: loss improved from 0.00036 to 0.00028, saving model to results/lstm_time_series/model.h5\n",
      "62/62 [==============================] - 0s 5ms/step - loss: 2.8081e-04 - mae: 0.0130\n",
      "Epoch 11/500\n",
      "54/62 [=========================>....] - ETA: 0s - loss: 2.3422e-04 - mae: 0.0119\n",
      "Epoch 11: loss improved from 0.00028 to 0.00026, saving model to results/lstm_time_series/model.h5\n",
      "62/62 [==============================] - 0s 5ms/step - loss: 2.5887e-04 - mae: 0.0124\n",
      "Epoch 12/500\n",
      "55/62 [=========================>....] - ETA: 0s - loss: 2.3800e-04 - mae: 0.0121\n",
      "Epoch 12: loss did not improve from 0.00026\n",
      "62/62 [==============================] - 0s 5ms/step - loss: 2.6532e-04 - mae: 0.0126\n",
      "Epoch 13/500\n",
      "55/62 [=========================>....] - ETA: 0s - loss: 2.5526e-04 - mae: 0.0126\n",
      "Epoch 13: loss did not improve from 0.00026\n",
      "62/62 [==============================] - 0s 5ms/step - loss: 2.8556e-04 - mae: 0.0131\n",
      "Epoch 14/500\n",
      "55/62 [=========================>....] - ETA: 0s - loss: 2.7674e-04 - mae: 0.0132\n",
      "Epoch 14: loss did not improve from 0.00026\n",
      "62/62 [==============================] - 0s 5ms/step - loss: 3.0750e-04 - mae: 0.0137\n",
      "Epoch 15/500\n",
      "54/62 [=========================>....] - ETA: 0s - loss: 2.8434e-04 - mae: 0.0134\n",
      "Epoch 15: loss did not improve from 0.00026\n",
      "62/62 [==============================] - 0s 5ms/step - loss: 3.1691e-04 - mae: 0.0140\n",
      "Epoch 16/500\n",
      "54/62 [=========================>....] - ETA: 0s - loss: 2.8041e-04 - mae: 0.0133\n",
      "Epoch 16: loss did not improve from 0.00026\n",
      "62/62 [==============================] - 0s 5ms/step - loss: 3.0610e-04 - mae: 0.0137\n",
      "Epoch 17/500\n",
      "55/62 [=========================>....] - ETA: 0s - loss: 2.6285e-04 - mae: 0.0128\n",
      "Epoch 17: loss did not improve from 0.00026\n",
      "62/62 [==============================] - 0s 5ms/step - loss: 2.7997e-04 - mae: 0.0130\n",
      "Epoch 18/500\n",
      "56/62 [==========================>...] - ETA: 0s - loss: 2.3630e-04 - mae: 0.0120\n",
      "Epoch 18: loss improved from 0.00026 to 0.00025, saving model to results/lstm_time_series/model.h5\n",
      "62/62 [==============================] - 0s 5ms/step - loss: 2.5132e-04 - mae: 0.0123\n",
      "Epoch 19/500\n",
      "54/62 [=========================>....] - ETA: 0s - loss: 2.1305e-04 - mae: 0.0113\n",
      "Epoch 19: loss improved from 0.00025 to 0.00023, saving model to results/lstm_time_series/model.h5\n",
      "62/62 [==============================] - 0s 5ms/step - loss: 2.2665e-04 - mae: 0.0115\n",
      "Epoch 20/500\n",
      "55/62 [=========================>....] - ETA: 0s - loss: 1.9311e-04 - mae: 0.0107\n",
      "Epoch 20: loss improved from 0.00023 to 0.00021, saving model to results/lstm_time_series/model.h5\n",
      "62/62 [==============================] - 0s 5ms/step - loss: 2.0792e-04 - mae: 0.0110\n",
      "Epoch 21/500\n",
      "54/62 [=========================>....] - ETA: 0s - loss: 1.7232e-04 - mae: 0.0100\n",
      "Epoch 21: loss improved from 0.00021 to 0.00019, saving model to results/lstm_time_series/model.h5\n",
      "62/62 [==============================] - 0s 5ms/step - loss: 1.9470e-04 - mae: 0.0105\n",
      "Epoch 22/500\n",
      "56/62 [==========================>...] - ETA: 0s - loss: 1.6494e-04 - mae: 0.0097\n",
      "Epoch 22: loss improved from 0.00019 to 0.00019, saving model to results/lstm_time_series/model.h5\n",
      "62/62 [==============================] - 0s 5ms/step - loss: 1.8573e-04 - mae: 0.0102\n",
      "Epoch 23/500\n",
      "57/62 [==========================>...] - ETA: 0s - loss: 1.6194e-04 - mae: 0.0096\n",
      "Epoch 23: loss improved from 0.00019 to 0.00018, saving model to results/lstm_time_series/model.h5\n",
      "62/62 [==============================] - 0s 5ms/step - loss: 1.8316e-04 - mae: 0.0101\n",
      "Epoch 24/500\n",
      "56/62 [==========================>...] - ETA: 0s - loss: 1.6119e-04 - mae: 0.0095\n",
      "Epoch 24: loss improved from 0.00018 to 0.00018, saving model to results/lstm_time_series/model.h5\n",
      "62/62 [==============================] - 0s 5ms/step - loss: 1.8230e-04 - mae: 0.0101\n",
      "Epoch 25/500\n",
      "53/62 [========================>.....] - ETA: 0s - loss: 1.6060e-04 - mae: 0.0095\n",
      "Epoch 25: loss did not improve from 0.00018\n",
      "62/62 [==============================] - 0s 5ms/step - loss: 1.8263e-04 - mae: 0.0101\n",
      "Epoch 26/500\n",
      "56/62 [==========================>...] - ETA: 0s - loss: 1.6358e-04 - mae: 0.0096\n",
      "Epoch 26: loss did not improve from 0.00018\n",
      "62/62 [==============================] - 0s 5ms/step - loss: 1.8440e-04 - mae: 0.0101\n",
      "Epoch 27/500\n",
      "56/62 [==========================>...] - ETA: 0s - loss: 1.7395e-04 - mae: 0.0100\n",
      "Epoch 27: loss did not improve from 0.00018\n",
      "62/62 [==============================] - 0s 5ms/step - loss: 1.9377e-04 - mae: 0.0104\n",
      "Epoch 28/500\n",
      "54/62 [=========================>....] - ETA: 0s - loss: 1.6437e-04 - mae: 0.0096\n",
      "Epoch 28: loss did not improve from 0.00018\n",
      "62/62 [==============================] - 0s 5ms/step - loss: 1.8525e-04 - mae: 0.0101\n",
      "Epoch 29/500\n",
      "55/62 [=========================>....] - ETA: 0s - loss: 1.6991e-04 - mae: 0.0098\n",
      "Epoch 29: loss did not improve from 0.00018\n",
      "62/62 [==============================] - 0s 5ms/step - loss: 1.8862e-04 - mae: 0.0102\n",
      "Epoch 30/500\n",
      "55/62 [=========================>....] - ETA: 0s - loss: 1.7479e-04 - mae: 0.0099\n",
      "Epoch 30: loss did not improve from 0.00018\n",
      "62/62 [==============================] - 0s 5ms/step - loss: 1.9292e-04 - mae: 0.0104\n",
      "Epoch 31/500\n",
      "54/62 [=========================>....] - ETA: 0s - loss: 1.7970e-04 - mae: 0.0101\n",
      "Epoch 31: loss did not improve from 0.00018\n",
      "62/62 [==============================] - 0s 5ms/step - loss: 1.9817e-04 - mae: 0.0105\n",
      "Epoch 32/500\n",
      "54/62 [=========================>....] - ETA: 0s - loss: 1.8678e-04 - mae: 0.0103\n",
      "Epoch 32: loss did not improve from 0.00018\n",
      "62/62 [==============================] - 0s 5ms/step - loss: 2.0438e-04 - mae: 0.0107\n",
      "Epoch 33/500\n"
     ]
    },
    {
     "name": "stdout",
     "output_type": "stream",
     "text": [
      "57/62 [==========================>...] - ETA: 0s - loss: 1.9292e-04 - mae: 0.0105\n",
      "Epoch 33: loss did not improve from 0.00018\n",
      "62/62 [==============================] - 0s 5ms/step - loss: 2.1161e-04 - mae: 0.0109\n",
      "Epoch 34/500\n",
      "56/62 [==========================>...] - ETA: 0s - loss: 2.0308e-04 - mae: 0.0108Restoring model weights from the end of the best epoch: 24.\n",
      "\n",
      "Epoch 34: loss did not improve from 0.00018\n",
      "62/62 [==============================] - 0s 5ms/step - loss: 2.2018e-04 - mae: 0.0112\n",
      "Epoch 34: early stopping\n",
      "CPU times: user 11.1 s, sys: 534 ms, total: 11.6 s\n",
      "Wall time: 10.9 s\n"
     ]
    }
   ],
   "source": [
    "%%time\n",
    "# Model fitting\n",
    "lstm_training = model.fit(X_train, \n",
    "                          y_train, \n",
    "                          batch_size=64, \n",
    "                          epochs=500, \n",
    "                          verbose=1, \n",
    "                          callbacks=my_callbacks, \n",
    "                          shuffle=False)"
   ]
  },
  {
   "cell_type": "markdown",
   "id": "deac212a",
   "metadata": {},
   "source": [
    "### Evaluate model performance"
   ]
  },
  {
   "cell_type": "code",
   "execution_count": 31,
   "id": "432934dc",
   "metadata": {},
   "outputs": [],
   "source": [
    "%load_ext tensorboard"
   ]
  },
  {
   "cell_type": "code",
   "execution_count": 32,
   "id": "739c379d",
   "metadata": {
    "scrolled": true
   },
   "outputs": [
    {
     "data": {
      "text/html": [
       "\n",
       "      <iframe id=\"tensorboard-frame-dddf42f35c866857\" width=\"100%\" height=\"800\" frameborder=\"0\">\n",
       "      </iframe>\n",
       "      <script>\n",
       "        (function() {\n",
       "          const frame = document.getElementById(\"tensorboard-frame-dddf42f35c866857\");\n",
       "          const url = new URL(\"/\", window.location);\n",
       "          const port = 6006;\n",
       "          if (port) {\n",
       "            url.port = port;\n",
       "          }\n",
       "          frame.src = url;\n",
       "        })();\n",
       "      </script>\n",
       "    "
      ],
      "text/plain": [
       "<IPython.core.display.HTML object>"
      ]
     },
     "metadata": {},
     "output_type": "display_data"
    }
   ],
   "source": [
    "%tensorboard --logdir logs"
   ]
  },
  {
   "cell_type": "code",
   "execution_count": 33,
   "id": "33a0d518",
   "metadata": {},
   "outputs": [
    {
     "name": "stdout",
     "output_type": "stream",
     "text": [
      "Train RMSE: 0.0158 | Test RMSE: 0.0320\n"
     ]
    }
   ],
   "source": [
    "# calculate rmse of loss function\n",
    "train_rmse_scaled = np.sqrt(model.evaluate(X_train, y_train, verbose=0))\n",
    "test_rmse_scaled = np.sqrt(model.evaluate(X_test, y_test, verbose=0))\n",
    "print(f'Train RMSE: {train_rmse_scaled[0]:.4f} | Test RMSE: {test_rmse_scaled[0]:.4f}')"
   ]
  },
  {
   "cell_type": "markdown",
   "id": "c761616b",
   "metadata": {},
   "source": [
    "### Prediction"
   ]
  },
  {
   "cell_type": "code",
   "execution_count": 34,
   "id": "559645ce",
   "metadata": {},
   "outputs": [
    {
     "name": "stdout",
     "output_type": "stream",
     "text": [
      "30/30 [==============================] - 0s 1ms/step\n"
     ]
    }
   ],
   "source": [
    "# predictions\n",
    "y_pred = model.predict(X_test)"
   ]
  },
  {
   "cell_type": "code",
   "execution_count": 35,
   "id": "bc096c07",
   "metadata": {},
   "outputs": [
    {
     "data": {
      "text/html": [
       "<div>\n",
       "<style scoped>\n",
       "    .dataframe tbody tr th:only-of-type {\n",
       "        vertical-align: middle;\n",
       "    }\n",
       "\n",
       "    .dataframe tbody tr th {\n",
       "        vertical-align: top;\n",
       "    }\n",
       "\n",
       "    .dataframe thead th {\n",
       "        text-align: right;\n",
       "    }\n",
       "</style>\n",
       "<table border=\"1\" class=\"dataframe\">\n",
       "  <thead>\n",
       "    <tr style=\"text-align: right;\">\n",
       "      <th></th>\n",
       "      <th>actual</th>\n",
       "      <th>prediction</th>\n",
       "      <th>spread</th>\n",
       "    </tr>\n",
       "    <tr>\n",
       "      <th>Date</th>\n",
       "      <th></th>\n",
       "      <th></th>\n",
       "      <th></th>\n",
       "    </tr>\n",
       "  </thead>\n",
       "  <tbody>\n",
       "    <tr>\n",
       "      <th>2016-03-30</th>\n",
       "      <td>190.409622</td>\n",
       "      <td>188.833298</td>\n",
       "      <td>-1.576324</td>\n",
       "    </tr>\n",
       "    <tr>\n",
       "      <th>2016-03-31</th>\n",
       "      <td>189.947510</td>\n",
       "      <td>189.242630</td>\n",
       "      <td>-0.704880</td>\n",
       "    </tr>\n",
       "    <tr>\n",
       "      <th>2016-04-01</th>\n",
       "      <td>191.241440</td>\n",
       "      <td>189.490509</td>\n",
       "      <td>-1.750931</td>\n",
       "    </tr>\n",
       "    <tr>\n",
       "      <th>2016-04-04</th>\n",
       "      <td>190.622208</td>\n",
       "      <td>189.926346</td>\n",
       "      <td>-0.695862</td>\n",
       "    </tr>\n",
       "    <tr>\n",
       "      <th>2016-04-05</th>\n",
       "      <td>188.718277</td>\n",
       "      <td>190.172836</td>\n",
       "      <td>1.454559</td>\n",
       "    </tr>\n",
       "    <tr>\n",
       "      <th>...</th>\n",
       "      <td>...</td>\n",
       "      <td>...</td>\n",
       "      <td>...</td>\n",
       "    </tr>\n",
       "    <tr>\n",
       "      <th>2019-12-24</th>\n",
       "      <td>319.352142</td>\n",
       "      <td>310.634796</td>\n",
       "      <td>-8.717346</td>\n",
       "    </tr>\n",
       "    <tr>\n",
       "      <th>2019-12-26</th>\n",
       "      <td>321.052124</td>\n",
       "      <td>311.429413</td>\n",
       "      <td>-9.622711</td>\n",
       "    </tr>\n",
       "    <tr>\n",
       "      <th>2019-12-27</th>\n",
       "      <td>320.972565</td>\n",
       "      <td>312.331329</td>\n",
       "      <td>-8.641235</td>\n",
       "    </tr>\n",
       "    <tr>\n",
       "      <th>2019-12-30</th>\n",
       "      <td>319.202972</td>\n",
       "      <td>313.114594</td>\n",
       "      <td>-6.088379</td>\n",
       "    </tr>\n",
       "    <tr>\n",
       "      <th>2019-12-31</th>\n",
       "      <td>319.978424</td>\n",
       "      <td>313.542389</td>\n",
       "      <td>-6.436035</td>\n",
       "    </tr>\n",
       "  </tbody>\n",
       "</table>\n",
       "<p>947 rows × 3 columns</p>\n",
       "</div>"
      ],
      "text/plain": [
       "                actual  prediction    spread\n",
       "Date                                        \n",
       "2016-03-30  190.409622  188.833298 -1.576324\n",
       "2016-03-31  189.947510  189.242630 -0.704880\n",
       "2016-04-01  191.241440  189.490509 -1.750931\n",
       "2016-04-04  190.622208  189.926346 -0.695862\n",
       "2016-04-05  188.718277  190.172836  1.454559\n",
       "...                ...         ...       ...\n",
       "2019-12-24  319.352142  310.634796 -8.717346\n",
       "2019-12-26  321.052124  311.429413 -9.622711\n",
       "2019-12-27  320.972565  312.331329 -8.641235\n",
       "2019-12-30  319.202972  313.114594 -6.088379\n",
       "2019-12-31  319.978424  313.542389 -6.436035\n",
       "\n",
       "[947 rows x 3 columns]"
      ]
     },
     "execution_count": 35,
     "metadata": {},
     "output_type": "execute_result"
    }
   ],
   "source": [
    "df = pd.DataFrame({\n",
    "    'actual': scaler.inverse_transform(y_test).flatten(),\n",
    "    'prediction': scaler.inverse_transform(y_pred).flatten()}, \n",
    "    index = test_data[lookback:].index)\n",
    "\n",
    "df['spread'] = df['prediction'] - df['actual']\n",
    "df"
   ]
  },
  {
   "cell_type": "code",
   "execution_count": 36,
   "id": "16cc5f61",
   "metadata": {},
   "outputs": [
    {
     "name": "stdout",
     "output_type": "stream",
     "text": [
      "R-square: 0.9829\n"
     ]
    }
   ],
   "source": [
    "print(f'R-square: {r2_score(df.actual, df.prediction):0.4}')"
   ]
  },
  {
   "cell_type": "markdown",
   "id": "f60f94d9",
   "metadata": {},
   "source": [
    "### Plot Results"
   ]
  },
  {
   "cell_type": "code",
   "execution_count": 45,
   "id": "8f3c7b47",
   "metadata": {},
   "outputs": [
    {
     "data": {
      "image/png": "[encoded data removed]",
      "text/plain": [
       "<Figure size 2000x600 with 2 Axes>"
      ]
     },
     "metadata": {},
     "output_type": "display_data"
    }
   ],
   "source": [
    "fig, ax = plt.subplots(nrows=1, ncols=2, figsize=(20,6))\n",
    "\n",
    "ax[0].plot(df.actual, color='red', label='actual')\n",
    "ax[0].plot(df.prediction, color='blue', label='prediction')\n",
    "ax[1].hist(df.spread, bins=50, density=True, label='spread')\n",
    "\n",
    "ax[0].legend()\n",
    "ax[1].legend()\n",
    "\n",
    "plt.suptitle('SPY LSTM Prediction');"
   ]
  },
  {
   "cell_type": "code",
   "execution_count": 53,
   "id": "407fa027",
   "metadata": {},
   "outputs": [
    {
     "data": {
      "image/png": "[encoded data removed]",
      "text/plain": [
       "<Figure size 2000x600 with 2 Axes>"
      ]
     },
     "metadata": {},
     "output_type": "display_data"
    }
   ],
   "source": [
    "fig, ax = plt.subplots(nrows=1, ncols=2, figsize=(20,6))\n",
    "\n",
    "ax[0].plot(df.actual['2019-01'], color='red', label='actual')\n",
    "ax[0].plot(df.prediction['2019-01'], color='blue', label='prediction')\n",
    "ax[1].hist(df.spread['2019-01'], bins=50, density=True, label='spread')\n",
    "\n",
    "ax[0].legend()\n",
    "ax[1].legend()\n",
    "\n",
    "plt.suptitle('SPY LSTM Prediction');"
   ]
  }
 ],
 "metadata": {
  "kernelspec": {
   "display_name": "Python 3 (ipykernel)",
   "language": "python",
   "name": "python3"
  },
  "language_info": {
   "codemirror_mode": {
    "name": "ipython",
    "version": 3
   },
   "file_extension": ".py",
   "mimetype": "text/x-python",
   "name": "python",
   "nbconvert_exporter": "python",
   "pygments_lexer": "ipython3",
   "version": "3.9.13"
  }
 },
 "nbformat": 4,
 "nbformat_minor": 5
}
