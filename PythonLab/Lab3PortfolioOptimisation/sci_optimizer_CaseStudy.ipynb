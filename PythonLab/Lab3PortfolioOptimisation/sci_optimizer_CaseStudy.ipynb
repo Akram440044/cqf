{
 "cells": [
  {
   "cell_type": "markdown",
   "id": "8dc26044",
   "metadata": {},
   "source": [
    "# Recipe of `scipy.optimize`"
   ]
  },
  {
   "cell_type": "markdown",
   "id": "e985007e",
   "metadata": {},
   "source": [
    "## Dimension of 1"
   ]
  },
  {
   "cell_type": "code",
   "execution_count": 69,
   "id": "f0fb1a19",
   "metadata": {},
   "outputs": [],
   "source": [
    "import scipy.optimize as spo"
   ]
  },
  {
   "cell_type": "code",
   "execution_count": 70,
   "id": "d5c99321",
   "metadata": {},
   "outputs": [],
   "source": [
    "def f(x):\n",
    "    y = x**2 + 12*x + 20\n",
    "    return y"
   ]
  },
  {
   "cell_type": "code",
   "execution_count": 71,
   "id": "3620619b",
   "metadata": {},
   "outputs": [
    {
     "data": {
      "text/plain": [
       "  message: Optimization terminated successfully.\n",
       "  success: True\n",
       "   status: 0\n",
       "      fun: -15.999999999999737\n",
       "        x: [-6.000e+00]\n",
       "      nit: 3\n",
       "      jac: [-9.537e-07]\n",
       " hess_inv: [[ 5.000e-01]]\n",
       "     nfev: 8\n",
       "     njev: 4"
      ]
     },
     "execution_count": 71,
     "metadata": {},
     "output_type": "execute_result"
    }
   ],
   "source": [
    "x_start = 2.0\n",
    "result = spo.minimize(f, x_start)\n",
    "result"
   ]
  },
  {
   "cell_type": "markdown",
   "id": "0b3931e0",
   "metadata": {},
   "source": [
    "## Dimension of 2"
   ]
  },
  {
   "cell_type": "code",
   "execution_count": 77,
   "id": "df25f53a",
   "metadata": {},
   "outputs": [],
   "source": [
    "def f(xy):\n",
    "    x = xy[0]\n",
    "    y = xy[1]\n",
    "    area = x*y\n",
    "    return area"
   ]
  },
  {
   "cell_type": "code",
   "execution_count": 78,
   "id": "ecca1cc9",
   "metadata": {
    "scrolled": true
   },
   "outputs": [
    {
     "data": {
      "text/plain": [
       "  message: Optimization terminated successfully.\n",
       "  success: True\n",
       "   status: 0\n",
       "      fun: 4.49201140067838e-23\n",
       "        x: [-6.702e-12 -6.702e-12]\n",
       "      nit: 3\n",
       "      jac: [-6.702e-12 -6.702e-12]\n",
       " hess_inv: [[ 1.000e+00 -1.198e-07]\n",
       "            [-1.198e-07  1.000e+00]]\n",
       "     nfev: 18\n",
       "     njev: 6"
      ]
     },
     "execution_count": 78,
     "metadata": {},
     "output_type": "execute_result"
    }
   ],
   "source": [
    "xy_start = [50.0, 50.0]\n",
    "\n",
    "result = spo.minimize(f, xy_start) \n",
    "result"
   ]
  },
  {
   "cell_type": "markdown",
   "id": "945da722",
   "metadata": {},
   "source": [
    "## Consraint Included\n",
    "\n",
    "i.e.\n",
    "$$2x + y = 100$$"
   ]
  },
  {
   "cell_type": "code",
   "execution_count": 91,
   "id": "c58bb665",
   "metadata": {
    "scrolled": true
   },
   "outputs": [
    {
     "name": "stderr",
     "output_type": "stream",
     "text": [
      "/tmp/ipykernel_3141909/3654397944.py:4: RuntimeWarning: overflow encountered in double_scalars\n",
      "  area = x*y\n",
      "/root/miniconda3/lib/python3.9/site-packages/scipy/optimize/_numdiff.py:576: RuntimeWarning: invalid value encountered in subtract\n",
      "  df = fun(x) - f0\n"
     ]
    }
   ],
   "source": [
    "cons = ({'type': 'eq', 'fun' : lambda xy: 2*xy[0] + xy[1] - 100.0})\n",
    "result = spo.minimize(f, x0 = xy_start, constraints= cons)\n",
    "# there is an error, coz we cannot get an optimal with the constraint and bound"
   ]
  },
  {
   "cell_type": "markdown",
   "id": "b93bd7db",
   "metadata": {},
   "source": [
    "## Bounds\n",
    "\n",
    "Add the bounds to restrict the range/domin of variables"
   ]
  },
  {
   "cell_type": "code",
   "execution_count": 97,
   "id": "4c21adf6",
   "metadata": {},
   "outputs": [
    {
     "data": {
      "text/plain": [
       " message: Optimization terminated successfully\n",
       " success: True\n",
       "  status: 0\n",
       "     fun: 49.50000000000242\n",
       "       x: [ 4.950e+01  1.000e+00]\n",
       "     nit: 3\n",
       "     jac: [ 1.000e+00  4.950e+01]\n",
       "    nfev: 9\n",
       "    njev: 3"
      ]
     },
     "execution_count": 97,
     "metadata": {},
     "output_type": "execute_result"
    }
   ],
   "source": [
    "bounds = ((1,100), (1,100))\n",
    "\n",
    "cons = ({'type': 'eq', 'fun' : lambda xy: 2*xy[0] + xy[1] - 100.0})\n",
    "result = spo.minimize(f, x0 = xy_start, constraints= cons, bounds=bounds)\n",
    "result"
   ]
  },
  {
   "cell_type": "markdown",
   "id": "e7ed4d31",
   "metadata": {},
   "source": [
    "## Make it an Maximum"
   ]
  },
  {
   "cell_type": "code",
   "execution_count": 99,
   "id": "39ca826a",
   "metadata": {},
   "outputs": [
    {
     "data": {
      "text/plain": [
       " message: Optimization terminated successfully\n",
       " success: True\n",
       "  status: 0\n",
       "     fun: -1049.9999999999015\n",
       "       x: [ 3.500e+01  3.000e+01]\n",
       "     nit: 2\n",
       "     jac: [-3.000e+01 -3.500e+01]\n",
       "    nfev: 6\n",
       "    njev: 2"
      ]
     },
     "execution_count": 99,
     "metadata": {},
     "output_type": "execute_result"
    }
   ],
   "source": [
    "def f(xy):\n",
    "    x = xy[0]\n",
    "    y = xy[1]\n",
    "    area = x*y\n",
    "    return -area\n",
    "\n",
    "\n",
    "xy_start = [50.0, 50.0]\n",
    "bounds = ((1,100), (1,30))\n",
    "cons = ({'type': 'eq', 'fun' : lambda xy: 2*xy[0] + xy[1] - 100.0})\n",
    "result = spo.minimize(f, x0 = xy_start, constraints= cons, bounds=bounds)\n",
    "result"
   ]
  },
  {
   "cell_type": "markdown",
   "id": "1d16d153",
   "metadata": {},
   "source": [
    "## Another Example"
   ]
  },
  {
   "cell_type": "markdown",
   "id": "b51c49ff",
   "metadata": {},
   "source": [
    "$$ min x_1 x_4 (x_1 + x_2 + x_3) + x_3 $$\n",
    "\n",
    "$$s.t. \\quad x_1 x_2 x_3 x_4 \\geq 25$$\n",
    "\n",
    "$$ x_1^2 +  x_2^2  + x_3^2 +  x_4^2  = 40$$\n",
    "\n",
    "$$ 1\\leq x_1 , x_2, x_3 , x_4 \\leq 5  $$\n",
    "\n",
    "$x_0 = (1,5,5,1)$"
   ]
  },
  {
   "cell_type": "code",
   "execution_count": 113,
   "id": "988bf388",
   "metadata": {},
   "outputs": [],
   "source": [
    "import numpy as np\n",
    "import scipy\n",
    "\n",
    "def objective(x):\n",
    "    x1 = x[0]\n",
    "    x2 = x[1]\n",
    "    x3 = x[2]\n",
    "    x4 = x[3]\n",
    "    y = x1*x4*(x1+x2+x3) + x3\n",
    "    return y\n",
    "\n",
    "def constraint1(x):\n",
    "    y = x[0] * x[1] * x[2] * x[3] -25\n",
    "    return y\n",
    "\n",
    "def constraint2(x):\n",
    "    sum_all = 0\n",
    "    for i in x:\n",
    "        sum_all += i**2\n",
    "    y = sum_all - 40\n",
    "    return y\n",
    "\n",
    "b = (1.0, 5.0)\n",
    "bounds = (b, b, b, b)\n",
    "con1 = {'type':'ineq', 'fun':constraint1}  # inequality constraint\n",
    "con2 = {'type':'eq', 'fun':constraint2}  # equality constraint\n",
    "cons = [con1, con2]"
   ]
  },
  {
   "cell_type": "code",
   "execution_count": 112,
   "id": "6e0a7493",
   "metadata": {},
   "outputs": [
    {
     "data": {
      "text/plain": [
       "16"
      ]
     },
     "execution_count": 112,
     "metadata": {},
     "output_type": "execute_result"
    }
   ],
   "source": [
    "x0 = np.array([1,5,5,1])\n",
    "objective(x0)"
   ]
  },
  {
   "cell_type": "code",
   "execution_count": 116,
   "id": "b766291b",
   "metadata": {},
   "outputs": [
    {
     "data": {
      "text/plain": [
       " message: Optimization terminated successfully\n",
       " success: True\n",
       "  status: 0\n",
       "     fun: 17.01401724556073\n",
       "       x: [ 1.000e+00  4.743e+00  3.821e+00  1.379e+00]\n",
       "     nit: 5\n",
       "     jac: [ 1.457e+01  1.379e+00  2.379e+00  9.564e+00]\n",
       "    nfev: 25\n",
       "    njev: 5"
      ]
     },
     "execution_count": 116,
     "metadata": {},
     "output_type": "execute_result"
    }
   ],
   "source": [
    "solution = scipy.optimize.minimize(objective, \n",
    "                                   x0, \n",
    "                                   bounds=bounds, \n",
    "                                   constraints=cons )\n",
    "solution"
   ]
  },
  {
   "cell_type": "code",
   "execution_count": 121,
   "id": "6787b9b6",
   "metadata": {},
   "outputs": [
    {
     "name": "stdout",
     "output_type": "stream",
     "text": [
      "x:  [1.   4.74 3.82 1.38]\n",
      "func: 17.01\n"
     ]
    }
   ],
   "source": [
    "print('x: ',np.around(solution.x,2))\n",
    "print('func:', np.around(solution.fun,2))"
   ]
  }
 ],
 "metadata": {
  "kernelspec": {
   "display_name": "Python 3 (ipykernel)",
   "language": "python",
   "name": "python3"
  },
  "language_info": {
   "codemirror_mode": {
    "name": "ipython",
    "version": 3
   },
   "file_extension": ".py",
   "mimetype": "text/x-python",
   "name": "python",
   "nbconvert_exporter": "python",
   "pygments_lexer": "ipython3",
   "version": "3.9.1"
  }
 },
 "nbformat": 4,
 "nbformat_minor": 5
}
