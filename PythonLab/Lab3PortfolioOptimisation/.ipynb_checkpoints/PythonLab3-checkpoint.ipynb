{
 "cells": [
  {
   "cell_type": "markdown",
   "id": "8162e24f",
   "metadata": {},
   "source": [
    "# Modern Portfolio Theory\n",
    "Modern portfolio theory also popularly called Mean-Variance Portfolio Theory (MVP) is a major breakthrough in finance. It is based on the premise that returns are normally distributed and by looking at mean and variance, we can essentially describe the distribution of end-of-period wealth.\n",
    "\n",
    "The basic idea of this theory is to achieve diversification by constructing a portfolio for a minimal portfolio risk or maximal portfolio returns. Accordingly, the **Efficient Frontier** is a set of optimal portfolios in the risk-return spectrum, and portfolios located under the Efficient Frontier curve are considered sub-optimal.\n",
    "\n",
    "This means that the portfolios on the frontier offered\n",
    "\n",
    "- `Highest expected return for a given level of risk`\n",
    "\n",
    "- `Lowest level of risk for a given level of expected returns`\n",
    "\n",
    "In essence, the investors' goal should be to select a level of risk that he/she is comfortable with and then find a portfolio that maximizes returns based on the selected risk level."
   ]
  },
  {
   "cell_type": "code",
   "execution_count": 1,
   "id": "286c4d10",
   "metadata": {},
   "outputs": [],
   "source": [
    "# Import pandas & yfinance\n",
    "import pandas as pd\n",
    "import yfinance as yf\n",
    "import matplotlib.pyplot as plt\n",
    "plt.style.use('fivethirtyeight')\n",
    "\n",
    "# Import numpy\n",
    "import numpy as np\n",
    "# from numpy import *\n",
    "from numpy.linalg import multi_dot\n",
    "\n",
    "# # Import cufflinks\n",
    "# import cufflinks as cf\n",
    "# cf.set_config_file(offline=True, dimensions=((1000,600))) # theme= 'henanigans'\n",
    "\n",
    "# Import plotly express for EF plot\n",
    "import plotly.express as px\n",
    "# px.defaults.template = \"plotly_dark\"\n",
    "px.defaults.width, px.defaults.height = 1000, 600\n",
    "\n",
    "# # Machine info & package version\n",
    "# from watermark import watermark\n",
    "# %load_ext watermark\n",
    "# %watermark -a \"Kannan Singaravelu\" -u -d -v -m -iv\n",
    "\n",
    "import warnings\n",
    "warnings.filterwarnings('ignore')\n",
    "pd.set_option('display.precision', 4)"
   ]
  },
  {
   "cell_type": "markdown",
   "id": "d60bdf22",
   "metadata": {},
   "source": [
    "## Retrive Data\n",
    "\n",
    "We will retrieve price data from our list of stocks as before to build our portfolio"
   ]
  },
  {
   "cell_type": "code",
   "execution_count": 2,
   "id": "b77fd576",
   "metadata": {},
   "outputs": [],
   "source": [
    "# Specify assets / stocks\n",
    "# international etf portfolio : 'SPY', 'GLD', 'IWM', 'VWO', 'BND']\n",
    "# indian stocks : bank, consumer goods, diversified, it, consumer durables\n",
    "assets = ['HDFCBANK', 'ITC', 'RELIANCE', 'TCS', 'ASIANPAINT']\n",
    "assets.sort()\n",
    "\n",
    "# Number of assets\n",
    "numofasset = len(assets)\n",
    "\n",
    "# Number of portfolio for optimization\n",
    "numofportfolio = 5000"
   ]
  },
  {
   "cell_type": "code",
   "execution_count": 3,
   "id": "6f595f2e",
   "metadata": {},
   "outputs": [
    {
     "data": {
      "text/html": [
       "<div>\n",
       "<style scoped>\n",
       "    .dataframe tbody tr th:only-of-type {\n",
       "        vertical-align: middle;\n",
       "    }\n",
       "\n",
       "    .dataframe tbody tr th {\n",
       "        vertical-align: top;\n",
       "    }\n",
       "\n",
       "    .dataframe thead th {\n",
       "        text-align: right;\n",
       "    }\n",
       "</style>\n",
       "<table border=\"1\" class=\"dataframe\">\n",
       "  <thead>\n",
       "    <tr style=\"text-align: right;\">\n",
       "      <th></th>\n",
       "      <th>ASIANPAINT</th>\n",
       "      <th>HDFCBANK</th>\n",
       "      <th>ITC</th>\n",
       "      <th>RELIANCE</th>\n",
       "      <th>TCS</th>\n",
       "    </tr>\n",
       "    <tr>\n",
       "      <th>Date</th>\n",
       "      <th></th>\n",
       "      <th></th>\n",
       "      <th></th>\n",
       "      <th></th>\n",
       "      <th></th>\n",
       "    </tr>\n",
       "  </thead>\n",
       "  <tbody>\n",
       "    <tr>\n",
       "      <th>2015-01-01</th>\n",
       "      <td>709.6138</td>\n",
       "      <td>451.4753</td>\n",
       "      <td>192.3574</td>\n",
       "      <td>417.9890</td>\n",
       "      <td>1075.8506</td>\n",
       "    </tr>\n",
       "    <tr>\n",
       "      <th>2015-01-02</th>\n",
       "      <td>734.1468</td>\n",
       "      <td>457.7587</td>\n",
       "      <td>192.9599</td>\n",
       "      <td>416.8826</td>\n",
       "      <td>1090.1783</td>\n",
       "    </tr>\n",
       "    <tr>\n",
       "      <th>2015-01-05</th>\n",
       "      <td>734.0996</td>\n",
       "      <td>453.8938</td>\n",
       "      <td>193.7196</td>\n",
       "      <td>412.3163</td>\n",
       "      <td>1073.6106</td>\n",
       "    </tr>\n",
       "    <tr>\n",
       "      <th>2015-01-06</th>\n",
       "      <td>716.5757</td>\n",
       "      <td>446.8280</td>\n",
       "      <td>188.7424</td>\n",
       "      <td>393.6035</td>\n",
       "      <td>1034.0305</td>\n",
       "    </tr>\n",
       "    <tr>\n",
       "      <th>2015-01-07</th>\n",
       "      <td>730.9737</td>\n",
       "      <td>448.1320</td>\n",
       "      <td>185.2321</td>\n",
       "      <td>402.1713</td>\n",
       "      <td>1021.8166</td>\n",
       "    </tr>\n",
       "    <tr>\n",
       "      <th>...</th>\n",
       "      <td>...</td>\n",
       "      <td>...</td>\n",
       "      <td>...</td>\n",
       "      <td>...</td>\n",
       "      <td>...</td>\n",
       "    </tr>\n",
       "    <tr>\n",
       "      <th>2022-12-26</th>\n",
       "      <td>3056.0500</td>\n",
       "      <td>1629.4500</td>\n",
       "      <td>329.4050</td>\n",
       "      <td>2524.0500</td>\n",
       "      <td>3188.3152</td>\n",
       "    </tr>\n",
       "    <tr>\n",
       "      <th>2022-12-27</th>\n",
       "      <td>3112.6001</td>\n",
       "      <td>1631.1000</td>\n",
       "      <td>327.9775</td>\n",
       "      <td>2544.7000</td>\n",
       "      <td>3194.7844</td>\n",
       "    </tr>\n",
       "    <tr>\n",
       "      <th>2022-12-28</th>\n",
       "      <td>3123.7000</td>\n",
       "      <td>1629.8000</td>\n",
       "      <td>329.2081</td>\n",
       "      <td>2544.4500</td>\n",
       "      <td>3192.4321</td>\n",
       "    </tr>\n",
       "    <tr>\n",
       "      <th>2022-12-29</th>\n",
       "      <td>3115.1499</td>\n",
       "      <td>1641.3000</td>\n",
       "      <td>330.1434</td>\n",
       "      <td>2543.3000</td>\n",
       "      <td>3203.8506</td>\n",
       "    </tr>\n",
       "    <tr>\n",
       "      <th>2022-12-30</th>\n",
       "      <td>3087.8999</td>\n",
       "      <td>1628.1500</td>\n",
       "      <td>326.4024</td>\n",
       "      <td>2547.2000</td>\n",
       "      <td>3192.0398</td>\n",
       "    </tr>\n",
       "  </tbody>\n",
       "</table>\n",
       "<p>1976 rows × 5 columns</p>\n",
       "</div>"
      ],
      "text/plain": [
       "            ASIANPAINT   HDFCBANK       ITC   RELIANCE        TCS\n",
       "Date                                                             \n",
       "2015-01-01    709.6138   451.4753  192.3574   417.9890  1075.8506\n",
       "2015-01-02    734.1468   457.7587  192.9599   416.8826  1090.1783\n",
       "2015-01-05    734.0996   453.8938  193.7196   412.3163  1073.6106\n",
       "2015-01-06    716.5757   446.8280  188.7424   393.6035  1034.0305\n",
       "2015-01-07    730.9737   448.1320  185.2321   402.1713  1021.8166\n",
       "...                ...        ...       ...        ...        ...\n",
       "2022-12-26   3056.0500  1629.4500  329.4050  2524.0500  3188.3152\n",
       "2022-12-27   3112.6001  1631.1000  327.9775  2544.7000  3194.7844\n",
       "2022-12-28   3123.7000  1629.8000  329.2081  2544.4500  3192.4321\n",
       "2022-12-29   3115.1499  1641.3000  330.1434  2543.3000  3203.8506\n",
       "2022-12-30   3087.8999  1628.1500  326.4024  2547.2000  3192.0398\n",
       "\n",
       "[1976 rows x 5 columns]"
      ]
     },
     "execution_count": 3,
     "metadata": {},
     "output_type": "execute_result"
    }
   ],
   "source": [
    "# Get yahoo tickers\n",
    "yahooticker = [x+'.NS' for x in assets]\n",
    "# Fetch / read data for multiple stocks at once\n",
    "df = yf.download(yahooticker, start='2015-01-01', end='2022-12-31', progress=False)['Adj Close']\n",
    "df.columns = assets\n",
    "\n",
    "# write data to file for future use\n",
    "df.to_csv('stocks.csv')\n",
    "\n",
    "# Read from file\n",
    "df = pd.read_csv('stocks.csv', index_col=0, parse_dates=True)\n",
    "\n",
    "# Display dataframe\n",
    "df"
   ]
  },
  {
   "cell_type": "markdown",
   "id": "48d78682",
   "metadata": {},
   "source": [
    "## Visualize Time Series"
   ]
  },
  {
   "cell_type": "code",
   "execution_count": 4,
   "id": "d1bb3b8c",
   "metadata": {},
   "outputs": [
    {
     "data": {
      "text/plain": [
       "<AxesSubplot:xlabel='Date'>"
      ]
     },
     "execution_count": 4,
     "metadata": {},
     "output_type": "execute_result"
    },
    {
     "data": {
      "image/png": "[encoded data removed]",
      "text/plain": [
       "<Figure size 432x288 with 1 Axes>"
      ]
     },
     "metadata": {},
     "output_type": "display_data"
    }
   ],
   "source": [
    "df['2022':].plot()"
   ]
  },
  {
   "cell_type": "code",
   "execution_count": 5,
   "id": "55e37e2d",
   "metadata": {
    "scrolled": true
   },
   "outputs": [
    {
     "data": {
      "text/html": [
       "<div>\n",
       "<style scoped>\n",
       "    .dataframe tbody tr th:only-of-type {\n",
       "        vertical-align: middle;\n",
       "    }\n",
       "\n",
       "    .dataframe tbody tr th {\n",
       "        vertical-align: top;\n",
       "    }\n",
       "\n",
       "    .dataframe thead th {\n",
       "        text-align: right;\n",
       "    }\n",
       "</style>\n",
       "<table border=\"1\" class=\"dataframe\">\n",
       "  <thead>\n",
       "    <tr style=\"text-align: right;\">\n",
       "      <th></th>\n",
       "      <th>Ann Ret</th>\n",
       "      <th>Ann Vol</th>\n",
       "    </tr>\n",
       "  </thead>\n",
       "  <tbody>\n",
       "    <tr>\n",
       "      <th>ASIANPAINT</th>\n",
       "      <td>22.27</td>\n",
       "      <td>26.46</td>\n",
       "    </tr>\n",
       "    <tr>\n",
       "      <th>HDFCBANK</th>\n",
       "      <td>19.10</td>\n",
       "      <td>23.38</td>\n",
       "    </tr>\n",
       "    <tr>\n",
       "      <th>ITC</th>\n",
       "      <td>10.30</td>\n",
       "      <td>26.58</td>\n",
       "    </tr>\n",
       "    <tr>\n",
       "      <th>RELIANCE</th>\n",
       "      <td>27.36</td>\n",
       "      <td>29.35</td>\n",
       "    </tr>\n",
       "    <tr>\n",
       "      <th>TCS</th>\n",
       "      <td>16.85</td>\n",
       "      <td>24.39</td>\n",
       "    </tr>\n",
       "  </tbody>\n",
       "</table>\n",
       "</div>"
      ],
      "text/plain": [
       "            Ann Ret  Ann Vol\n",
       "ASIANPAINT    22.27    26.46\n",
       "HDFCBANK      19.10    23.38\n",
       "ITC           10.30    26.58\n",
       "RELIANCE      27.36    29.35\n",
       "TCS           16.85    24.39"
      ]
     },
     "execution_count": 5,
     "metadata": {},
     "output_type": "execute_result"
    }
   ],
   "source": [
    "# Dataframe of returns and volatility\n",
    "returns = df.pct_change().dropna()\n",
    "df1 = pd.DataFrame({\n",
    "    'Ann Ret': round(returns.mean()*252*100,2),  #252 days, *100 means % percerntage\n",
    "    'Ann Vol': round(returns.std()*np.sqrt(252)*100,2) # for s.d. it should be squared root of 252 days\n",
    "})\n",
    "df1"
   ]
  },
  {
   "cell_type": "code",
   "execution_count": 6,
   "id": "a67f3618",
   "metadata": {},
   "outputs": [
    {
     "data": {
      "text/plain": [
       "<AxesSubplot:title={'center':'Annualized Return & Volatility (%)'}>"
      ]
     },
     "execution_count": 6,
     "metadata": {},
     "output_type": "execute_result"
    },
    {
     "data": {
      "image/png": "[encoded data removed]",
      "text/plain": [
       "<Figure size 432x288 with 1 Axes>"
      ]
     },
     "metadata": {},
     "output_type": "display_data"
    }
   ],
   "source": [
    "# Plot annualized return and volatility\n",
    "df1.plot(\n",
    "    kind='bar', \n",
    "    title='Annualized Return & Volatility (%)') #subplots=True"
   ]
  },
  {
   "cell_type": "markdown",
   "id": "cb597036",
   "metadata": {},
   "source": [
    "## Portfolio Composition"
   ]
  },
  {
   "cell_type": "code",
   "execution_count": 7,
   "id": "0d87052d",
   "metadata": {},
   "outputs": [
    {
     "data": {
      "image/png": "[encoded data removed]",
      "text/plain": [
       "<Figure size 432x288 with 1 Axes>"
      ]
     },
     "metadata": {},
     "output_type": "display_data"
    }
   ],
   "source": [
    "plt.pie(df1['Ann Ret'],\n",
    "       labels=df1.index)\n",
    "plt.show()"
   ]
  },
  {
   "cell_type": "markdown",
   "id": "fefc6bff",
   "metadata": {},
   "source": [
    "# Portfolio Statistics"
   ]
  },
  {
   "cell_type": "markdown",
   "id": "7debb989",
   "metadata": {},
   "source": [
    "## Notation\n",
    "- $\\vec{w}$, a vector of weights\n",
    "- $\\mu$, mean return of *n* assets\n",
    "\n",
    "### Expected Portfolio Return\n",
    "$$ \\mu_{\\pi} = w^T \\mu $$\n",
    ", which is equivalent to $\\sum_{i=1}^n w_i \\mu_i$.\n",
    "\n",
    "### Expectd Portfolio Variance\n",
    "$$ \\sigma_{\\pi}^2  = w^T \\Sigma w$$\n",
    ", where $\\Sigma$ is the variance corvariance matrix."
   ]
  },
  {
   "cell_type": "markdown",
   "id": "01f40532",
   "metadata": {},
   "source": [
    "## Portfolio Simulation\n",
    "\n",
    "Now, we will implement a Monte Carlo simulation to generate random portfolio weights on a larger scale and calculate the expected portfolio return, variance and sharpe ratio for every simulated allocation. We will then identify the portfolio with a highest return for per unit of risk."
   ]
  },
  {
   "cell_type": "code",
   "execution_count": 8,
   "id": "3caaadec",
   "metadata": {},
   "outputs": [],
   "source": [
    "def portfolio_simulation(returns, numofportfolio = 5000):\n",
    "\n",
    "    # Initialize the lists\n",
    "    rets = []; vols = []; wts = []\n",
    "\n",
    "    # Simulate 5,000 portfolios\n",
    "    for i in range (numofportfolio):\n",
    "        \n",
    "        # Generate random weights\n",
    "        weights = np.random.random(numofasset)[:, np.newaxis] # [:, np.newaxis] would make it a column vector\n",
    "        \n",
    "        # Set weights such that sum of weights equals 1\n",
    "        weights /= sum(weights)\n",
    "        \n",
    "        # Portfolio statistics\n",
    "        rets.append(weights.T @ np.array(returns.mean() * 252)[:, np.newaxis])        \n",
    "        vols.append(np.sqrt(multi_dot([weights.T, returns.cov()*252, weights])))\n",
    "        wts.append(weights.flatten())\n",
    "\n",
    "    # Create a dataframe for analysis\n",
    "    portdf = 100*pd.DataFrame({\n",
    "        'port_rets': np.array(rets).flatten(),\n",
    "        'port_vols': np.array(vols).flatten(),\n",
    "        'weights': list(np.array(wts))\n",
    "        })\n",
    "    \n",
    "    portdf['sharpe_ratio'] = portdf['port_rets'] / portdf['port_vols']\n",
    "\n",
    "    return round(portdf,2)"
   ]
  },
  {
   "cell_type": "markdown",
   "id": "0058d4ad",
   "metadata": {},
   "source": [
    "## Maximum Sharpe Portfolio"
   ]
  },
  {
   "cell_type": "code",
   "execution_count": 9,
   "id": "aca720be",
   "metadata": {
    "scrolled": true
   },
   "outputs": [
    {
     "data": {
      "text/html": [
       "<div>\n",
       "<style scoped>\n",
       "    .dataframe tbody tr th:only-of-type {\n",
       "        vertical-align: middle;\n",
       "    }\n",
       "\n",
       "    .dataframe tbody tr th {\n",
       "        vertical-align: top;\n",
       "    }\n",
       "\n",
       "    .dataframe thead th {\n",
       "        text-align: right;\n",
       "    }\n",
       "</style>\n",
       "<table border=\"1\" class=\"dataframe\">\n",
       "  <thead>\n",
       "    <tr style=\"text-align: right;\">\n",
       "      <th></th>\n",
       "      <th>port_rets</th>\n",
       "      <th>port_vols</th>\n",
       "      <th>weights</th>\n",
       "      <th>sharpe_ratio</th>\n",
       "    </tr>\n",
       "  </thead>\n",
       "  <tbody>\n",
       "    <tr>\n",
       "      <th>0</th>\n",
       "      <td>19.06</td>\n",
       "      <td>17.05</td>\n",
       "      <td>[23.3315412240545, 13.728757577674688, 23.5342...</td>\n",
       "      <td>1.12</td>\n",
       "    </tr>\n",
       "    <tr>\n",
       "      <th>1</th>\n",
       "      <td>20.21</td>\n",
       "      <td>19.22</td>\n",
       "      <td>[15.517141303719805, 6.0101034984852175, 29.69...</td>\n",
       "      <td>1.05</td>\n",
       "    </tr>\n",
       "    <tr>\n",
       "      <th>2</th>\n",
       "      <td>18.36</td>\n",
       "      <td>17.18</td>\n",
       "      <td>[24.938012701487594, 2.677364197622706, 27.013...</td>\n",
       "      <td>1.07</td>\n",
       "    </tr>\n",
       "    <tr>\n",
       "      <th>3</th>\n",
       "      <td>21.55</td>\n",
       "      <td>18.57</td>\n",
       "      <td>[40.92458123652787, 19.83155134993344, 6.38144...</td>\n",
       "      <td>1.16</td>\n",
       "    </tr>\n",
       "    <tr>\n",
       "      <th>4</th>\n",
       "      <td>20.80</td>\n",
       "      <td>20.14</td>\n",
       "      <td>[9.359714800202692, 9.609864127823036, 28.2427...</td>\n",
       "      <td>1.03</td>\n",
       "    </tr>\n",
       "  </tbody>\n",
       "</table>\n",
       "</div>"
      ],
      "text/plain": [
       "   port_rets  port_vols                                            weights  \\\n",
       "0      19.06      17.05  [23.3315412240545, 13.728757577674688, 23.5342...   \n",
       "1      20.21      19.22  [15.517141303719805, 6.0101034984852175, 29.69...   \n",
       "2      18.36      17.18  [24.938012701487594, 2.677364197622706, 27.013...   \n",
       "3      21.55      18.57  [40.92458123652787, 19.83155134993344, 6.38144...   \n",
       "4      20.80      20.14  [9.359714800202692, 9.609864127823036, 28.2427...   \n",
       "\n",
       "   sharpe_ratio  \n",
       "0          1.12  \n",
       "1          1.05  \n",
       "2          1.07  \n",
       "3          1.16  \n",
       "4          1.03  "
      ]
     },
     "execution_count": 9,
     "metadata": {},
     "output_type": "execute_result"
    }
   ],
   "source": [
    "# Create a dataframe for analysis\n",
    "temp = portfolio_simulation(returns)\n",
    "temp.head()"
   ]
  },
  {
   "cell_type": "code",
   "execution_count": 10,
   "id": "254d4337",
   "metadata": {
    "scrolled": true
   },
   "outputs": [
    {
     "data": {
      "text/plain": [
       "port_rets                                                   21.46\n",
       "port_vols                                                   17.93\n",
       "weights         [26.870834545796274, 21.778801872616373, 0.806...\n",
       "sharpe_ratio                                                  1.2\n",
       "Name: 189, dtype: object"
      ]
     },
     "execution_count": 10,
     "metadata": {},
     "output_type": "execute_result"
    }
   ],
   "source": [
    "# Get the max sharpe portfolio stats\n",
    "# The One with Max Sharpe Ratio\n",
    "temp.iloc[temp.sharpe_ratio.idxmax()]"
   ]
  },
  {
   "cell_type": "code",
   "execution_count": 11,
   "id": "b22ea2a0",
   "metadata": {},
   "outputs": [
    {
     "name": "stdout",
     "output_type": "stream",
     "text": [
      "8    9\n",
      "1    1\n",
      "4    7\n",
      "5    2\n",
      "7    0\n",
      "2    4\n",
      "6    6\n",
      "0    8\n",
      "9    3\n",
      "3    5\n",
      "dtype: int64\n",
      "--------------------\n",
      ".argmax() returns the max value's Order \n",
      "0\n",
      "--------------------\n",
      ".idxmax() returns the max value's index # \n",
      "8\n"
     ]
    }
   ],
   "source": [
    "a = pd.Series(np.arange(10))\n",
    "np.random.shuffle(a)\n",
    "print(a[a])\n",
    "print('-'*20)\n",
    "print(\".argmax() returns the max value's Order \")\n",
    "print(a[a].argmax())\n",
    "print('-'*20)\n",
    "print(\".idxmax() returns the max value's index # \")\n",
    "print(a[a].idxmax())"
   ]
  },
  {
   "cell_type": "code",
   "execution_count": 12,
   "id": "c948e6ee",
   "metadata": {
    "scrolled": true
   },
   "outputs": [
    {
     "data": {
      "text/html": [
       "<div>\n",
       "<style scoped>\n",
       "    .dataframe tbody tr th:only-of-type {\n",
       "        vertical-align: middle;\n",
       "    }\n",
       "\n",
       "    .dataframe tbody tr th {\n",
       "        vertical-align: top;\n",
       "    }\n",
       "\n",
       "    .dataframe thead th {\n",
       "        text-align: right;\n",
       "    }\n",
       "</style>\n",
       "<table border=\"1\" class=\"dataframe\">\n",
       "  <thead>\n",
       "    <tr style=\"text-align: right;\">\n",
       "      <th></th>\n",
       "      <th>count</th>\n",
       "      <th>mean</th>\n",
       "      <th>std</th>\n",
       "      <th>min</th>\n",
       "      <th>25%</th>\n",
       "      <th>50%</th>\n",
       "      <th>75%</th>\n",
       "      <th>max</th>\n",
       "    </tr>\n",
       "  </thead>\n",
       "  <tbody>\n",
       "    <tr>\n",
       "      <th>port_rets</th>\n",
       "      <td>5000.0</td>\n",
       "      <td>19.1645</td>\n",
       "      <td>1.6134</td>\n",
       "      <td>12.49</td>\n",
       "      <td>18.10</td>\n",
       "      <td>19.15</td>\n",
       "      <td>20.24</td>\n",
       "      <td>24.54</td>\n",
       "    </tr>\n",
       "    <tr>\n",
       "      <th>port_vols</th>\n",
       "      <td>5000.0</td>\n",
       "      <td>17.7846</td>\n",
       "      <td>0.8817</td>\n",
       "      <td>16.49</td>\n",
       "      <td>17.13</td>\n",
       "      <td>17.61</td>\n",
       "      <td>18.24</td>\n",
       "      <td>23.43</td>\n",
       "    </tr>\n",
       "    <tr>\n",
       "      <th>sharpe_ratio</th>\n",
       "      <td>5000.0</td>\n",
       "      <td>1.0780</td>\n",
       "      <td>0.0771</td>\n",
       "      <td>0.57</td>\n",
       "      <td>1.04</td>\n",
       "      <td>1.09</td>\n",
       "      <td>1.13</td>\n",
       "      <td>1.20</td>\n",
       "    </tr>\n",
       "  </tbody>\n",
       "</table>\n",
       "</div>"
      ],
      "text/plain": [
       "               count     mean     std    min    25%    50%    75%    max\n",
       "port_rets     5000.0  19.1645  1.6134  12.49  18.10  19.15  20.24  24.54\n",
       "port_vols     5000.0  17.7846  0.8817  16.49  17.13  17.61  18.24  23.43\n",
       "sharpe_ratio  5000.0   1.0780  0.0771   0.57   1.04   1.09   1.13   1.20"
      ]
     },
     "execution_count": 12,
     "metadata": {},
     "output_type": "execute_result"
    }
   ],
   "source": [
    "# Verify the above result\n",
    "temp.describe().T"
   ]
  },
  {
   "cell_type": "code",
   "execution_count": 13,
   "id": "a66b809f",
   "metadata": {
    "scrolled": true
   },
   "outputs": [
    {
     "data": {
      "text/plain": [
       "{'ASIANPAINT': 26.87,\n",
       " 'HDFCBANK': 21.78,\n",
       " 'ITC': 0.81,\n",
       " 'RELIANCE': 25.86,\n",
       " 'TCS': 24.69}"
      ]
     },
     "execution_count": 13,
     "metadata": {},
     "output_type": "execute_result"
    }
   ],
   "source": [
    "# Max sharpe ratio portfolio weights\n",
    "msrpwts = temp['weights'][temp['sharpe_ratio'].idxmax()]\n",
    "\n",
    "# Allocation to achieve max sharpe ratio portfolio\n",
    "dict(zip(assets, np.around(msrpwts,2))) # np.around() means to round with 2 decimals"
   ]
  },
  {
   "cell_type": "markdown",
   "id": "4da7ea54",
   "metadata": {},
   "source": [
    "## Visulaize Simulated Portfolio"
   ]
  },
  {
   "cell_type": "code",
   "execution_count": 14,
   "id": "517938af",
   "metadata": {},
   "outputs": [
    {
     "data": {
      "text/plain": [
       "port_rets                                                   21.46\n",
       "port_vols                                                   17.93\n",
       "weights         [26.870834545796274, 21.778801872616373, 0.806...\n",
       "sharpe_ratio                                                  1.2\n",
       "Name: 189, dtype: object"
      ]
     },
     "execution_count": 14,
     "metadata": {},
     "output_type": "execute_result"
    }
   ],
   "source": [
    "# Get the max sharpe portfolio stats\n",
    "# The One with Max Sharpe Ratio\n",
    "temp.iloc[temp.sharpe_ratio.idxmax()]"
   ]
  },
  {
   "cell_type": "code",
   "execution_count": 16,
   "id": "b18b3c31",
   "metadata": {},
   "outputs": [
    {
     "data": {
      "text/plain": [
       "<matplotlib.collections.PathCollection at 0x7fb83c130c10>"
      ]
     },
     "execution_count": 16,
     "metadata": {},
     "output_type": "execute_result"
    },
    {
     "data": {
      "image/png": "[encoded data removed]",
      "text/plain": [
       "<Figure size 432x288 with 1 Axes>"
      ]
     },
     "metadata": {},
     "output_type": "display_data"
    }
   ],
   "source": [
    "plt.scatter(x = temp.port_vols, y =temp.port_rets )\n",
    "plt.scatter(x=temp.iloc[temp.sharpe_ratio.idxmax(),1] , y=temp.iloc[temp.sharpe_ratio.idxmax(),0], s=200)"
   ]
  },
  {
   "cell_type": "markdown",
   "id": "b9eee12b",
   "metadata": {},
   "source": [
    "# Efficient Frontier\n",
    "The Efficient Frontier is formed by a set of portfolios offering the highest expected portfolio return for a certain volatility or offering the lowest volatility for a certain level of expected returns.\n",
    "\n",
    "### Objective Function - Risks\n",
    "\n",
    "$$ \\min_w \\sigma_p^2 $$\n",
    "$$s.t. \\quad \\mathbb{E}(R_p) = m$$\n",
    "\n",
    "### Objective Function - Returns\n",
    "\n",
    "$$ \\max_w \\mathbb{E}(R_p) $$\n",
    "$$s.t. \\quad \\sigma^2_p = v^2$$\n",
    "\n",
    ", where $\\sum_{i=1}^n w_i = 1$ for those two objective functions.\n",
    "\n",
    "We can use numerical optimization to achieve this objective. The goal of optimization is to find the optimal value of the objective function by adjusting the target variables operating withing some boundary conditions and constraints."
   ]
  },
  {
   "cell_type": "markdown",
   "id": "da9d77b4",
   "metadata": {},
   "source": [
    "## Constrained Optimization\n",
    "Construction of optimal portfolios is a constrained optimization problem where we specify some boundary conditions and constraints. The objective function here is a function returning maximum sharpe ratio, minimum variance (volatility) and the target variables are portfolio weights. We will use the `minimize` function from `scipy` optimization module to achieve our objective.\n",
    "\n",
    "https://docs.scipy.org/doc/scipy/reference/generated/scipy.optimize.minimize.html"
   ]
  },
  {
   "cell_type": "code",
   "execution_count": 17,
   "id": "885d9ea7",
   "metadata": {},
   "outputs": [],
   "source": [
    "# Import optimization module from scipy\n",
    "import scipy.optimize as sco"
   ]
  },
  {
   "cell_type": "markdown",
   "id": "5b63145c",
   "metadata": {},
   "source": [
    "## Portfolio Statistics\n",
    "Let's subsume key statistics into a function which can be used for optimization exercise."
   ]
  },
  {
   "cell_type": "code",
   "execution_count": 18,
   "id": "2408fc0a",
   "metadata": {},
   "outputs": [],
   "source": [
    "def portfolio_stats(weights):\n",
    "    \n",
    "    port_rets = weights.T @ np.array(returns.mean() * 252)[:,np.newaxis]    \n",
    "    port_vols = np.sqrt(weights.T @ (returns.cov()*252) @ weights)\n",
    "    \n",
    "    return np.array([port_rets, port_vols, port_rets/port_vols]).flatten()\n",
    "\n",
    "\n",
    "# Minimize the volatility\n",
    "def min_volatility(weights):\n",
    "    return portfolio_stats(weights)[1]\n",
    "\n",
    "# Minimize the variance\n",
    "def min_variance(weights):\n",
    "    return portfolio_stats(weights)[1]**2\n",
    "\n",
    "# Maximizing sharpe ratio\n",
    "def max_sharpe_ratio(weights):\n",
    "    return -portfolio_stats(weights)[2] # mini minus func <=> max func"
   ]
  },
  {
   "cell_type": "markdown",
   "id": "dc18b224",
   "metadata": {},
   "source": [
    "## Efficient Frontier Portfolio - Build the Optimiser\n",
    "For efficient frontier portfolios, we fix a target return and derive for objective function."
   ]
  },
  {
   "cell_type": "code",
   "execution_count": 19,
   "id": "508fc64a",
   "metadata": {},
   "outputs": [
    {
     "data": {
      "text/plain": [
       "<function __main__.max_sharpe_ratio(weights)>"
      ]
     },
     "execution_count": 19,
     "metadata": {},
     "output_type": "execute_result"
    }
   ],
   "source": [
    "max_sharpe_ratio"
   ]
  },
  {
   "cell_type": "code",
   "execution_count": 20,
   "id": "01421fc6",
   "metadata": {},
   "outputs": [],
   "source": [
    "# Specify constraints, bounds and initial weights\n",
    "cons = ({'type': 'eq', 'fun': lambda x: np.sum(x) - 1})\n",
    "bnds = tuple((0, 1) for x in range(numofasset))\n",
    "initial_wts = numofasset*[1./numofasset]"
   ]
  },
  {
   "cell_type": "code",
   "execution_count": 21,
   "id": "f864dd92",
   "metadata": {},
   "outputs": [],
   "source": [
    "# Optimizing for maximum sharpe ratio  <-- Optimal Shape\n",
    "opt_sharpe = sco.minimize(max_sharpe_ratio, initial_wts, method='SLSQP', bounds=bnds, constraints=cons)\n",
    "\n",
    "# Optimizing for minimum variance <-- Global Mini Var\n",
    "opt_var = sco.minimize(min_variance, initial_wts, method='SLSQP', bounds=bnds, constraints=cons)"
   ]
  },
  {
   "cell_type": "code",
   "execution_count": 22,
   "id": "598d46fe",
   "metadata": {},
   "outputs": [],
   "source": [
    "# Efficient Frontier\n",
    "# targetrets = linspace(0.01,0.11,100)\n",
    "targetrets = np.linspace(0.155,0.24,100)\n",
    "tvols = []\n",
    "\n",
    "for tr in targetrets:\n",
    "    \n",
    "    ef_cons = ({'type': 'eq', 'fun': lambda x: portfolio_stats(x)[0] - tr},\n",
    "               {'type': 'eq', 'fun': lambda x: np.sum(x) - 1})\n",
    "    \n",
    "    opt_ef = sco.minimize(min_volatility, initial_wts, method='SLSQP', bounds=bnds, constraints=ef_cons)\n",
    "    \n",
    "    tvols.append(opt_ef['fun'])\n",
    "\n",
    "targetvols = np.array(tvols)"
   ]
  },
  {
   "cell_type": "code",
   "execution_count": 23,
   "id": "31cbe0a8",
   "metadata": {},
   "outputs": [
    {
     "data": {
      "text/html": [
       "<div>\n",
       "<style scoped>\n",
       "    .dataframe tbody tr th:only-of-type {\n",
       "        vertical-align: middle;\n",
       "    }\n",
       "\n",
       "    .dataframe tbody tr th {\n",
       "        vertical-align: top;\n",
       "    }\n",
       "\n",
       "    .dataframe thead th {\n",
       "        text-align: right;\n",
       "    }\n",
       "</style>\n",
       "<table border=\"1\" class=\"dataframe\">\n",
       "  <thead>\n",
       "    <tr style=\"text-align: right;\">\n",
       "      <th></th>\n",
       "      <th>targetrets</th>\n",
       "      <th>targetvols</th>\n",
       "      <th>targetsharpe</th>\n",
       "    </tr>\n",
       "  </thead>\n",
       "  <tbody>\n",
       "    <tr>\n",
       "      <th>0</th>\n",
       "      <td>15.50</td>\n",
       "      <td>17.15</td>\n",
       "      <td>0.90</td>\n",
       "    </tr>\n",
       "    <tr>\n",
       "      <th>1</th>\n",
       "      <td>15.59</td>\n",
       "      <td>17.09</td>\n",
       "      <td>0.91</td>\n",
       "    </tr>\n",
       "    <tr>\n",
       "      <th>2</th>\n",
       "      <td>15.67</td>\n",
       "      <td>17.04</td>\n",
       "      <td>0.92</td>\n",
       "    </tr>\n",
       "    <tr>\n",
       "      <th>3</th>\n",
       "      <td>15.76</td>\n",
       "      <td>16.99</td>\n",
       "      <td>0.93</td>\n",
       "    </tr>\n",
       "    <tr>\n",
       "      <th>4</th>\n",
       "      <td>15.84</td>\n",
       "      <td>16.94</td>\n",
       "      <td>0.94</td>\n",
       "    </tr>\n",
       "  </tbody>\n",
       "</table>\n",
       "</div>"
      ],
      "text/plain": [
       "   targetrets  targetvols  targetsharpe\n",
       "0       15.50       17.15          0.90\n",
       "1       15.59       17.09          0.91\n",
       "2       15.67       17.04          0.92\n",
       "3       15.76       16.99          0.93\n",
       "4       15.84       16.94          0.94"
      ]
     },
     "execution_count": 23,
     "metadata": {},
     "output_type": "execute_result"
    }
   ],
   "source": [
    "# Create EF Dataframe for plotting\n",
    "efport = pd.DataFrame({\n",
    "    'targetrets' : np.around(100*targetrets,2),\n",
    "    'targetvols': np.around(100*targetvols,2),\n",
    "    'targetsharpe': np.around(targetrets/targetvols,2)\n",
    "})\n",
    "\n",
    "efport.head()"
   ]
  },
  {
   "cell_type": "code",
   "execution_count": 48,
   "id": "e641fc66",
   "metadata": {},
   "outputs": [
    {
     "data": {
      "image/png": "[encoded data removed]",
      "text/plain": [
       "<Figure size 432x288 with 1 Axes>"
      ]
     },
     "metadata": {},
     "output_type": "display_data"
    }
   ],
   "source": [
    "plt.scatter(x= efport.targetvols, y = efport.targetrets)\n",
    "plt.scatter(x=  [100*portfolio_stats(opt_sharpe['x'])[1]], y = [100*portfolio_stats(opt_sharpe['x'])[0]], s=200)\n",
    "plt.scatter(x=  [100*portfolio_stats(opt_var['x'])[1]], y = [100*portfolio_stats(opt_var['x'])[0]], s=200)\n",
    "plt.show()"
   ]
  }
 ],
 "metadata": {
  "kernelspec": {
   "display_name": "Python 3 (ipykernel)",
   "language": "python",
   "name": "python3"
  },
  "language_info": {
   "codemirror_mode": {
    "name": "ipython",
    "version": 3
   },
   "file_extension": ".py",
   "mimetype": "text/x-python",
   "name": "python",
   "nbconvert_exporter": "python",
   "pygments_lexer": "ipython3",
   "version": "3.9.12"
  },
  "toc": {
   "base_numbering": 1,
   "nav_menu": {},
   "number_sections": true,
   "sideBar": true,
   "skip_h1_title": false,
   "title_cell": "Table of Contents",
   "title_sidebar": "Contents",
   "toc_cell": false,
   "toc_position": {},
   "toc_section_display": true,
   "toc_window_display": false
  }
 },
 "nbformat": 4,
 "nbformat_minor": 5
}
