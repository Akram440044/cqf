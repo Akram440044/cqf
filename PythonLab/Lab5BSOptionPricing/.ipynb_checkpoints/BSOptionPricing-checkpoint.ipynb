{
 "cells": [
  {
   "cell_type": "markdown",
   "id": "ea41c35e",
   "metadata": {},
   "source": [
    "# Black Scholes Model\n",
    "\n",
    "The Black Scholes model was published in 1973 for non-dividend paying stocks and since then the model has created a revolution in quantitative finance and opened up derivatives pricing paradigm. Black Scholes model is based on number of assumptions about how financial markets operate and those are:\n",
    "\n",
    "- Arbitrage Free Markets\n",
    "- Frictionless and Continuous Markets\n",
    "- Risk Free Rates\n",
    "- Log-normally Distributed Price Movements\n",
    "- Constant Volatility\n",
    "\n",
    "These assumptions maynot hold true in reality, but are not particularly limiting. The generalized Black Scholes framework have been extended to price derivaties of other asset classes such as Black 76 (Commodity Futures) and Garman-Kohlhagen (FX Futures) that are currently used in derivative pricing and risk management."
   ]
  },
  {
   "cell_type": "markdown",
   "id": "08b28957",
   "metadata": {},
   "source": [
    "## Black Scholes Formula\n",
    "\n",
    "The Black–Scholes equation describes the price of the option over time as,\n",
    "\n",
    "$$  \\frac{\\partial V}{\\partial t} +\\frac{1}{2}\\sigma^2 S^2  \\frac{\\partial^2 V}{\\partial S^2} + r S \\frac{\\partial V}{\\partial S} - rV=0$$\n",
    "\n",
    "Solving the above equation, we know that the value of a call option for a non-dividend paying stock is:\n",
    "\n",
    "$$ C = S\\ N(d_1) + K\\ e^{-rt}N(d_2) $$\n",
    "\n",
    ", and the corresponding put option price is:\n",
    "\n",
    "$$ P = K\\ e^{-rt}\\ N(d_2) + S\\ N(d_1) $$\n",
    "\n",
    ", where\n",
    "\n",
    "$$d_1 = \\frac{1}{\\sigma \\sqrt{t}}\\bigg[ ln\\big(\\frac{S}{K}\\big) + \\big(r+\\frac{\\sigma^2}{2}\\big)t \\bigg]$$\n",
    "\n",
    "$$d_2 = d_1 - \\sigma \\sqrt{t}$$\n",
    "\n",
    "$$N(x) = \\frac{1}{\\sqrt{2\\pi}} \\int_{-\\infty}^x e^{-\\frac{1}{2} x^2 } dx$$\n",
    "\n",
    "- $S$ is the spot price of the underlying asset\n",
    "- $K$ is the strike price\n",
    "- $r$ is the annualized continuous compounded risk free rate\n",
    "- $\\sigma$ is the volatility of returns of the underlying asset\n",
    "- $t$ is time to maturity (expressed in years)\n",
    "- $N(x)$ is the standard normal cumulative distribution"
   ]
  },
  {
   "cell_type": "markdown",
   "id": "34f94e1a",
   "metadata": {},
   "source": [
    "## Greeks\n",
    "\n",
    "| Description | Notation                             | Greeks for Call Option                                 | **Greeks for Put Option**                              |\n",
    "| ----------- | ------------------------------------ | ------------------------------------------------------ | ------------------------------------------------------ |\n",
    "| **Delta**   | $\\frac{\\partial V}{\\partial S}$      | $N(d_1)$                                               | $-N(-d_1)$                                             |\n",
    "| **Gamma**   | $\\frac{\\partial^2 V}{\\partial S^2}$  | $\\frac{N'(d_1)}{S\\sigma\\sqrt{t}}$                      |                                                        |\n",
    "| **Vega**    | $\\frac{\\partial V}{\\partial \\sigma}$ | $SN'(d_1)\\sqrt{t}$                                     |                                                        |\n",
    "| **Theta**   | $\\frac{\\partial V}{\\partial t}$      | $\\frac{SN'(d_1)\\sigma}{2\\sqrt{t}}$ $- rKe^{-rt}N(d_2)$ | $\\frac{SN'(d_1)\\sigma}{2\\sqrt{t}}$$ + rKe^{-rt}N(d_2)$ |\n",
    "| **Rho**     | $\\frac{\\partial V}{\\partial r}$      | $Kte^{-rt}N(d_2)$                                      | $-Kte^{-rt}N(-d_2)$                                    |"
   ]
  },
  {
   "cell_type": "markdown",
   "id": "35dfbb2b",
   "metadata": {},
   "source": [
    "## Options Object\n",
    "\n",
    "Python is an object oriented programming language. Almost everything in Python is an object, with its properties and methods. There are two common programming paradigm in Python.\n",
    "\n",
    "> - Procedural Programming \n",
    "> - Object-oriented Programming (OOP)\n",
    "\n",
    "The key difference between them is that in OOP, objects are at the center, not only representing the data, as in the procedural programming, but in the overall structure of the program as well.\n",
    "\n",
    "### Class\n",
    "\n",
    "We use Classes to create user-defined data structures. Classes define functions called methods, which identify the characteristics and actions that an object created from the class can perform with its data. A Class is like an object constructor, or a \"blueprint\" for creating objects. To create a class, use the keyword **class**.\n",
    "\n",
    "#### `__init__`\n",
    "\n",
    "The properties of the class objects are defined in a method called \n",
    "`_init`\n",
    "\n",
    "> - `__init__()` sets the initial state of the object by assigning the values of the object’s properties.\n",
    "> - `__init__()` initializes each new instance of the class\n",
    "> - `Attributes` created in `__init__()` are called instance attributes, while class attributes are attributes that have the same value for all class instances.\n",
    "\n",
    "#### `self`\n",
    "\n",
    "The self is a parameter used to represent the instance of the class. With self, you can access the attributes and methods of the class in python. It binds the attributes with the given arguments. When a new class instance is created, the instance is automatically passed to the self parameter in `__init__()` so that new attributes can be defined on the object.\n",
    "\n",
    "> `__init__()` can any number of parameters, but the first parameter will always be a variable called self.\n",
    "\n",
    "We will now construct a Black Scholes Options class"
   ]
  },
  {
   "cell_type": "code",
   "execution_count": 1,
   "id": "7fe05d85",
   "metadata": {},
   "outputs": [],
   "source": [
    "# Importing libraries\n",
    "import pandas as pd\n",
    "from numpy import *\n",
    "import yfinance as yf\n",
    "from scipy.stats import norm\n",
    "\n",
    "# Plotting\n",
    "import matplotlib.pyplot as plt\n",
    "from tabulate import tabulate\n",
    "\n",
    "# Set max row to 300\n",
    "pd.set_option('display.max_rows', 300)"
   ]
  },
  {
   "cell_type": "code",
   "execution_count": 3,
   "id": "fe9c4f32",
   "metadata": {},
   "outputs": [],
   "source": [
    "class BS:\n",
    "    \n",
    "    \"\"\"\n",
    "    This is a class for Options contract for pricing European options on stocks without dividends.\n",
    "    \n",
    "    Attributes: \n",
    "        spot          : int or float\n",
    "        strike        : int or float \n",
    "        rate          : float\n",
    "        dte           : int or float [days to expiration in number of years]\n",
    "        volatility    : float\n",
    "    \"\"\"    \n",
    "    \n",
    "    def __init__(self, spot, strike, rate, dte, volatility):\n",
    "        # Spot Price\n",
    "        self.spot = spot\n",
    "        # Option Strike\n",
    "        self.strike = strike\n",
    "        # Interest Rate\n",
    "        self.rate = rate\n",
    "        # Days To Expiration\n",
    "        self.dte = dte\n",
    "        # Volaitlity\n",
    "        self.volatility = volatility\n",
    "        # Utility \n",
    "        self._a_ = self.volatility * self.dte**0.5    # \\sigma \\sqrt{T}\n",
    "        if self.strike == 0:\n",
    "            raise ZeroDivisionError('The strike price cannot be zero')\n",
    "        else:\n",
    "            self._d1_ = (log(self.spot / self.strike) + \\\n",
    "                     (self.rate + (self.volatility**2) / 2) * self.dte) / self._a_  # d1 is the d_1 in B-S Fomula\n",
    "        self._d2_ = self._d1_ - self._a_\n",
    "        self._b_ = e** -(self.rate * self.dte)  # e^{-rt}\n",
    "        \n",
    "\n",
    "        # self.__dict__ is a built in method in the class.\n",
    "        # append elements into the self.__dict__, containing all the varialbes in the __init__()\n",
    "        # The __dict__ attribute\n",
    "        '''\n",
    "        Contains all the attributes defined for the object itself. It maps the attribute name to its value.\n",
    "        '''\n",
    "        for i in ['callPrice', 'putPrice', 'callDelta', 'putDelta', 'callTheta', 'putTheta', \\\n",
    "                  'callRho', 'putRho', 'vega', 'gamma']:\n",
    "            self.__dict__[i] = None\n",
    "        \n",
    "        # calculate attribute through those methods inside the class.\n",
    "        [self.callPrice, self.putPrice] = self._price()\n",
    "        [self.callDelta, self.putDelta] = self._delta()\n",
    "        [self.callTheta, self.putTheta] = self._theta()\n",
    "        [self.callRho, self.putRho] = self._rho()\n",
    "        self.vega = self._vega()\n",
    "        self.gamma = self._gamma()\n",
    "        \n",
    "    \n",
    "    # Option Price\n",
    "    def _price(self):\n",
    "        '''Returns the option price: [Call price, Put price]'''\n",
    "\n",
    "        if self.volatility == 0 or self.dte == 0:\n",
    "            call = maximum(0.0, self.spot - self.strike)  # max(S-K,0)\n",
    "            put = maximum(0.0, self.strike - self.spot)  # max(K-S,0)\n",
    "        else:  # , Otherwise return the value calculated by the Black-Schole Fomula\n",
    "            call = self.spot * norm.cdf(self._d1_) - self.strike * e**(-self.rate * \\\n",
    "                                                                       self.dte) * norm.cdf(self._d2_)\n",
    "            put = self.strike * e**(-self.rate * self.dte) * norm.cdf(-self._d2_) - \\\n",
    "                                                                        self.spot * norm.cdf(-self._d1_)\n",
    "        return [call, put]\n",
    "\n",
    "    # Option Delta\n",
    "    def _delta(self):\n",
    "        '''Returns the option delta: [Call delta, Put delta]'''\n",
    "\n",
    "        if self.volatility == 0 or self.dte == 0:\n",
    "            call = 1.0 if self.spot > self.strike else 0.0\n",
    "            put = -1.0 if self.spot < self.strike else 0.0\n",
    "        else:\n",
    "            call = norm.cdf(self._d1_)\n",
    "            put = -norm.cdf(-self._d1_)\n",
    "        return [call, put]\n",
    "\n",
    "    # Option Gamma\n",
    "    def _gamma(self):\n",
    "        '''Returns the option gamma'''\n",
    "        return norm.pdf(self._d1_) / (self.spot * self._a_)\n",
    "\n",
    "    # Option Vega\n",
    "    def _vega(self):\n",
    "        '''Returns the option vega'''\n",
    "        if self.volatility == 0 or self.dte == 0:\n",
    "            return 0.0\n",
    "        else:\n",
    "            return self.spot * norm.pdf(self._d1_) * self.dte**0.5 / 100\n",
    "\n",
    "    # Option Theta\n",
    "    def _theta(self):\n",
    "        '''Returns the option theta: [Call theta, Put theta]'''\n",
    "        call = -self.spot * norm.pdf(self._d1_) * self.volatility / (2 * self.dte**0.5) - self.rate * self.strike * self._b_ * norm.cdf(self._d2_)\n",
    "        put = -self.spot * norm.pdf(self._d1_) * self.volatility / (2 * self.dte**0.5) + self.rate * self.strike * self._b_ * norm.cdf(-self._d2_)\n",
    "        return [call / 365, put / 365]\n",
    "\n",
    "    # Option Rho\n",
    "    def _rho(self):\n",
    "        '''Returns the option rho: [Call rho, Put rho]'''\n",
    "        call = self.strike * self.dte * self._b_ * norm.cdf(self._d2_) / 100\n",
    "        put = -self.strike * self.dte * self._b_ * norm.cdf(-self._d2_) / 100\n",
    "        return [call, put]"
   ]
  },
  {
   "cell_type": "code",
   "execution_count": 4,
   "id": "f03ef38e",
   "metadata": {
    "scrolled": true
   },
   "outputs": [
    {
     "name": "stdout",
     "output_type": "stream",
     "text": [
      "  Option Price     Delta      Gamma       Theta      Vega       Rho\n",
      "--------------  --------  ---------  ----------  --------  --------\n",
      "       7.96557  0.539828  0.0198476  -0.0108754  0.396953  0.460172\n"
     ]
    }
   ],
   "source": [
    "# Initialize option\n",
    "option = BS(100,100,0.0,1,0.2)\n",
    "\n",
    "header = ['Option Price', 'Delta', 'Gamma', 'Theta', 'Vega', 'Rho']\n",
    "table = [[option.callPrice, option.callDelta, option.gamma, option.callTheta, option.vega, option.callRho]]\n",
    "\n",
    "print(tabulate(table,header))"
   ]
  },
  {
   "cell_type": "code",
   "execution_count": 6,
   "id": "e4c920c9",
   "metadata": {},
   "outputs": [
    {
     "data": {
      "text/plain": [
       "{'spot': 100,\n",
       " 'strike': 100,\n",
       " 'rate': 0.0,\n",
       " 'dte': 1,\n",
       " 'volatility': 0.2,\n",
       " '_a_': 0.2,\n",
       " '_d1_': 0.10000000000000002,\n",
       " '_d2_': -0.09999999999999999,\n",
       " '_b_': 1.0,\n",
       " 'callPrice': 7.965567455405804,\n",
       " 'putPrice': 7.965567455405804,\n",
       " 'callDelta': 0.539827837277029,\n",
       " 'putDelta': -0.460172162722971,\n",
       " 'callTheta': -0.010875412259644158,\n",
       " 'putTheta': -0.010875412259644158,\n",
       " 'callRho': 0.46017216272297096,\n",
       " 'putRho': -0.539827837277029,\n",
       " 'vega': 0.39695254747701175,\n",
       " 'gamma': 0.01984762737385059}"
      ]
     },
     "execution_count": 6,
     "metadata": {},
     "output_type": "execute_result"
    }
   ],
   "source": [
    "option.__dict__"
   ]
  },
  {
   "cell_type": "markdown",
   "id": "a41b7741",
   "metadata": {},
   "source": [
    "## SPY Option\n",
    "\n",
    "Let's now retrieve SPY option price from Yahoo Finance using yfinance library and manipulate the dataframe using the above Black Scholes option pricing model that we created.\n",
    "\n",
    "https://finance.yahoo.com/quote/SPY/options?date=1680220800&p=SPY"
   ]
  },
  {
   "cell_type": "code",
   "execution_count": 32,
   "id": "6ac66882",
   "metadata": {},
   "outputs": [],
   "source": [
    "# Get SPY option chain\n",
    "spy = yf.Ticker('SPY')\n",
    "options = spy.option_chain('2025-12-19')"
   ]
  },
  {
   "cell_type": "code",
   "execution_count": 55,
   "id": "7186c89f",
   "metadata": {
    "scrolled": true
   },
   "outputs": [
    {
     "name": "stdout",
     "output_type": "stream",
     "text": [
      "2.712328767123288\n"
     ]
    }
   ],
   "source": [
    "from datetime import datetime\n",
    "dte = (datetime(2025, 12, 19) - datetime.today()).days/365\n",
    "print(dte)"
   ]
  },
  {
   "cell_type": "code",
   "execution_count": 54,
   "id": "3a474b8a",
   "metadata": {},
   "outputs": [
    {
     "name": "stdout",
     "output_type": "stream",
     "text": [
      "Option Price of SPY251219C00400000 with BS Model is 47.2630\n"
     ]
    }
   ],
   "source": [
    "# Dec 2025 400 SPY call option price\n",
    "spot = 400; strike = 400; rate = 0.0; dte = dte; vol = 0.1805\n",
    "\n",
    "spy_opt = BS(spot,strike,rate,dte,vol)\n",
    "print(f'Option Price of SPY251219C00400000 with BS Model is {spy_opt.callPrice:0.4f}')"
   ]
  },
  {
   "cell_type": "code",
   "execution_count": 56,
   "id": "57aca193",
   "metadata": {
    "scrolled": false
   },
   "outputs": [
    {
     "data": {
      "text/html": [
       "<div>\n",
       "<style scoped>\n",
       "    .dataframe tbody tr th:only-of-type {\n",
       "        vertical-align: middle;\n",
       "    }\n",
       "\n",
       "    .dataframe tbody tr th {\n",
       "        vertical-align: top;\n",
       "    }\n",
       "\n",
       "    .dataframe thead th {\n",
       "        text-align: right;\n",
       "    }\n",
       "</style>\n",
       "<table border=\"1\" class=\"dataframe\">\n",
       "  <thead>\n",
       "    <tr style=\"text-align: right;\">\n",
       "      <th></th>\n",
       "      <th>contractSymbol</th>\n",
       "      <th>lastTradeDate</th>\n",
       "      <th>strike</th>\n",
       "      <th>lastPrice</th>\n",
       "      <th>bid</th>\n",
       "      <th>ask</th>\n",
       "      <th>change</th>\n",
       "      <th>percentChange</th>\n",
       "      <th>volume</th>\n",
       "      <th>openInterest</th>\n",
       "      <th>impliedVolatility</th>\n",
       "      <th>inTheMoney</th>\n",
       "      <th>contractSize</th>\n",
       "      <th>currency</th>\n",
       "    </tr>\n",
       "  </thead>\n",
       "  <tbody>\n",
       "    <tr>\n",
       "      <th>43</th>\n",
       "      <td>SPY251219C00400000</td>\n",
       "      <td>2023-03-31 19:53:37+00:00</td>\n",
       "      <td>400.0</td>\n",
       "      <td>70.26</td>\n",
       "      <td>0.0</td>\n",
       "      <td>0.0</td>\n",
       "      <td>0.0</td>\n",
       "      <td>0.0</td>\n",
       "      <td>10.0</td>\n",
       "      <td>0</td>\n",
       "      <td>0.00001</td>\n",
       "      <td>True</td>\n",
       "      <td>REGULAR</td>\n",
       "      <td>USD</td>\n",
       "    </tr>\n",
       "  </tbody>\n",
       "</table>\n",
       "</div>"
      ],
      "text/plain": [
       "        contractSymbol             lastTradeDate  strike  lastPrice  bid  ask  \\\n",
       "43  SPY251219C00400000 2023-03-31 19:53:37+00:00   400.0      70.26  0.0  0.0   \n",
       "\n",
       "    change  percentChange  volume  openInterest  impliedVolatility  \\\n",
       "43     0.0            0.0    10.0             0            0.00001   \n",
       "\n",
       "    inTheMoney contractSize currency  \n",
       "43        True      REGULAR      USD  "
      ]
     },
     "execution_count": 56,
     "metadata": {},
     "output_type": "execute_result"
    }
   ],
   "source": [
    "# Verify the options output\n",
    "options.calls.query(\" contractSymbol=='SPY251219C00400000' \")"
   ]
  },
  {
   "cell_type": "code",
   "execution_count": 90,
   "id": "5095fcf3",
   "metadata": {
    "scrolled": true
   },
   "outputs": [
    {
     "data": {
      "text/html": [
       "<div>\n",
       "<style scoped>\n",
       "    .dataframe tbody tr th:only-of-type {\n",
       "        vertical-align: middle;\n",
       "    }\n",
       "\n",
       "    .dataframe tbody tr th {\n",
       "        vertical-align: top;\n",
       "    }\n",
       "\n",
       "    .dataframe thead th {\n",
       "        text-align: right;\n",
       "    }\n",
       "</style>\n",
       "<table border=\"1\" class=\"dataframe\">\n",
       "  <thead>\n",
       "    <tr style=\"text-align: right;\">\n",
       "      <th></th>\n",
       "      <th>Strike</th>\n",
       "      <th>Price</th>\n",
       "      <th>ImpVol</th>\n",
       "      <th>Delta</th>\n",
       "      <th>Gamma</th>\n",
       "      <th>Vega</th>\n",
       "      <th>Theta</th>\n",
       "    </tr>\n",
       "  </thead>\n",
       "  <tbody>\n",
       "    <tr>\n",
       "      <th>0</th>\n",
       "      <td>400.0</td>\n",
       "      <td>70.26</td>\n",
       "      <td>0.000010</td>\n",
       "      <td>5.000033e-01</td>\n",
       "      <td>6.055903e+01</td>\n",
       "      <td>2.628096e+00</td>\n",
       "      <td>-1.327321e-06</td>\n",
       "    </tr>\n",
       "    <tr>\n",
       "      <th>1</th>\n",
       "      <td>405.0</td>\n",
       "      <td>68.53</td>\n",
       "      <td>0.000010</td>\n",
       "      <td>0.000000e+00</td>\n",
       "      <td>0.000000e+00</td>\n",
       "      <td>0.000000e+00</td>\n",
       "      <td>-0.000000e+00</td>\n",
       "    </tr>\n",
       "    <tr>\n",
       "      <th>2</th>\n",
       "      <td>410.0</td>\n",
       "      <td>66.22</td>\n",
       "      <td>0.000254</td>\n",
       "      <td>0.000000e+00</td>\n",
       "      <td>0.000000e+00</td>\n",
       "      <td>0.000000e+00</td>\n",
       "      <td>-0.000000e+00</td>\n",
       "    </tr>\n",
       "    <tr>\n",
       "      <th>3</th>\n",
       "      <td>415.0</td>\n",
       "      <td>64.50</td>\n",
       "      <td>0.001963</td>\n",
       "      <td>2.481025e-30</td>\n",
       "      <td>2.200801e-29</td>\n",
       "      <td>1.874937e-28</td>\n",
       "      <td>-1.858939e-32</td>\n",
       "    </tr>\n",
       "    <tr>\n",
       "      <th>4</th>\n",
       "      <td>420.0</td>\n",
       "      <td>55.90</td>\n",
       "      <td>0.003916</td>\n",
       "      <td>1.991729e-14</td>\n",
       "      <td>5.936521e-14</td>\n",
       "      <td>1.008929e-12</td>\n",
       "      <td>-1.995544e-16</td>\n",
       "    </tr>\n",
       "  </tbody>\n",
       "</table>\n",
       "</div>"
      ],
      "text/plain": [
       "   Strike  Price    ImpVol         Delta         Gamma          Vega  \\\n",
       "0   400.0  70.26  0.000010  5.000033e-01  6.055903e+01  2.628096e+00   \n",
       "1   405.0  68.53  0.000010  0.000000e+00  0.000000e+00  0.000000e+00   \n",
       "2   410.0  66.22  0.000254  0.000000e+00  0.000000e+00  0.000000e+00   \n",
       "3   415.0  64.50  0.001963  2.481025e-30  2.200801e-29  1.874937e-28   \n",
       "4   420.0  55.90  0.003916  1.991729e-14  5.936521e-14  1.008929e-12   \n",
       "\n",
       "          Theta  \n",
       "0 -1.327321e-06  \n",
       "1 -0.000000e+00  \n",
       "2 -0.000000e+00  \n",
       "3 -1.858939e-32  \n",
       "4 -1.995544e-16  "
      ]
     },
     "execution_count": 90,
     "metadata": {},
     "output_type": "execute_result"
    }
   ],
   "source": [
    "# Filter calls for strike at or above 400\n",
    "df = options.calls[options.calls['strike']>=400]\n",
    "df.reset_index(drop=True, inplace=True)\n",
    "\n",
    "# Dataframe manipulation with selected fields\n",
    "df = pd.DataFrame({'Strike': df['strike'], \n",
    "                   'Price': df['lastPrice'], \n",
    "                   'ImpVol': df['impliedVolatility']})\n",
    "\n",
    "# Derive greeks and assign to dataframe as columns\n",
    "df['Delta'] = df['Gamma'] = df['Vega'] = df['Theta'] = 0.\n",
    "\n",
    "# Calculate Greeks by BS Fomula row by row, by inputting the SPY's market data.\n",
    "for i in range(len(df)):\n",
    "    temp_obj = BS(spot,df['Strike'].iloc[i],rate,dte,df['ImpVol'].iloc[i])\n",
    "    df['Delta'].iloc[i] = temp_obj.callDelta\n",
    "    df['Gamma'].iloc[i] = temp_obj.gamma\n",
    "    df['Vega'].iloc[i] = temp_obj.vega\n",
    "    df['Theta'].iloc[i] = temp_obj.callTheta\n",
    "\n",
    "# Check output\n",
    "df.head(5)"
   ]
  },
  {
   "cell_type": "markdown",
   "id": "a457c949",
   "metadata": {},
   "source": [
    "## Visualise Those Greeks"
   ]
  },
  {
   "cell_type": "code",
   "execution_count": 91,
   "id": "5e66ec06",
   "metadata": {},
   "outputs": [
    {
     "data": {
      "image/png": "[encoded data removed]",
      "text/plain": [
       "<Figure size 1440x720 with 4 Axes>"
      ]
     },
     "metadata": {
      "needs_background": "light"
     },
     "output_type": "display_data"
    }
   ],
   "source": [
    "# Plot graph iteratively\n",
    "fig, ax = plt.subplots(2,2, figsize=(20,10))\n",
    "\n",
    "ax[0,0].plot(df['Strike'], df['Delta'], color='r', label='DEC 25')\n",
    "ax[0,1].plot(df['Strike'], df['Gamma'], color='b', label='DEC 25')\n",
    "ax[1,0].plot(df['Strike'], df['Vega'], color='k', label='DEC 25')\n",
    "ax[1,1].plot(df['Strike'], df['Theta'], color='g', label='DEC 25')\n",
    "    \n",
    "# Set axis title\n",
    "ax[0,0].set_title('Delta'), ax[0,1].set_title('Gamma'), ax[1,0].set_title('Vega'), ax[1,1].set_title('Theta')\n",
    "\n",
    "# Define legend\n",
    "ax[0,0].legend(), ax[0,1].legend(), ax[1,0].legend(), ax[1,1].legend()\n",
    "\n",
    "# Set title\n",
    "fig.suptitle('Greeks Vs Strike')\n",
    "\n",
    "plt.show()"
   ]
  }
 ],
 "metadata": {
  "kernelspec": {
   "display_name": "Python 3 (ipykernel)",
   "language": "python",
   "name": "python3"
  },
  "language_info": {
   "codemirror_mode": {
    "name": "ipython",
    "version": 3
   },
   "file_extension": ".py",
   "mimetype": "text/x-python",
   "name": "python",
   "nbconvert_exporter": "python",
   "pygments_lexer": "ipython3",
   "version": "3.9.12"
  },
  "toc": {
   "base_numbering": 1,
   "nav_menu": {},
   "number_sections": true,
   "sideBar": true,
   "skip_h1_title": false,
   "title_cell": "Table of Contents",
   "title_sidebar": "Contents",
   "toc_cell": false,
   "toc_position": {},
   "toc_section_display": true,
   "toc_window_display": false
  }
 },
 "nbformat": 4,
 "nbformat_minor": 5
}
