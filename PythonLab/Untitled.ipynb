{
 "cells": [
  {
   "cell_type": "markdown",
   "id": "640752af",
   "metadata": {},
   "source": [
    "# Modern Portfolio Theory\n",
    "Modern portfolio theory also popularly called Mean-Variance Portfolio Theory (MVP) is a major breakthrough in finance. It is based on the premise that returns are normally distributed and by looking at mean and variance, we can essentially describe the distribution of end-of-period wealth.\n",
    "\n",
    "The basic idea of this theory is to achieve diversification by constructing a portfolio for a minimal portfolio risk or maximal portfolio returns. Accordingly, the **Efficient Frontier** is a set of optimal portfolios in the risk-return spectrum, and portfolios located under the Efficient Frontier curve are considered sub-optimal.\n",
    "\n",
    "This means that the portfolios on the frontier offered\n",
    "\n",
    "- `Highest expected return for a given level of risk`\n",
    "\n",
    "- `Lowest level of risk for a given level of expected returns`\n",
    "\n",
    "In essence, the investors' goal should be to select a level of risk that he/she is comfortable with and then find a portfolio that maximizes returns based on the selected risk level."
   ]
  },
  {
   "cell_type": "code",
   "execution_count": 1,
   "id": "c12f55a5",
   "metadata": {},
   "outputs": [
    {
     "data": {
      "text/html": [
       "        <script type=\"text/javascript\">\n",
       "        window.PlotlyConfig = {MathJaxConfig: 'local'};\n",
       "        if (window.MathJax) {MathJax.Hub.Config({SVG: {font: \"STIX-Web\"}});}\n",
       "        if (typeof require !== 'undefined') {\n",
       "        require.undef(\"plotly\");\n",
       "        requirejs.config({\n",
       "            paths: {\n",
       "                'plotly': ['https://cdn.plot.ly/plotly-2.9.0.min']\n",
       "            }\n",
       "        });\n",
       "        require(['plotly'], function(Plotly) {\n",
       "            window._Plotly = Plotly;\n",
       "        });\n",
       "        }\n",
       "        </script>\n",
       "        "
      ]
     },
     "metadata": {},
     "output_type": "display_data"
    },
    {
     "data": {
      "text/html": [
       "        <script type=\"text/javascript\">\n",
       "        window.PlotlyConfig = {MathJaxConfig: 'local'};\n",
       "        if (window.MathJax) {MathJax.Hub.Config({SVG: {font: \"STIX-Web\"}});}\n",
       "        if (typeof require !== 'undefined') {\n",
       "        require.undef(\"plotly\");\n",
       "        requirejs.config({\n",
       "            paths: {\n",
       "                'plotly': ['https://cdn.plot.ly/plotly-2.9.0.min']\n",
       "            }\n",
       "        });\n",
       "        require(['plotly'], function(Plotly) {\n",
       "            window._Plotly = Plotly;\n",
       "        });\n",
       "        }\n",
       "        </script>\n",
       "        "
      ]
     },
     "metadata": {},
     "output_type": "display_data"
    },
    {
     "name": "stdout",
     "output_type": "stream",
     "text": [
      "Author: Kannan Singaravelu\n",
      "\n",
      "Last updated: 2023-02-26\n",
      "\n",
      "Python implementation: CPython\n",
      "Python version       : 3.9.12\n",
      "IPython version      : 8.2.0\n",
      "\n",
      "Compiler    : MSC v.1916 64 bit (AMD64)\n",
      "OS          : Windows\n",
      "Release     : 10\n",
      "Machine     : AMD64\n",
      "Processor   : Intel64 Family 6 Model 158 Stepping 10, GenuineIntel\n",
      "CPU cores   : 6\n",
      "Architecture: 64bit\n",
      "\n",
      "plotly   : 5.6.0\n",
      "pandas   : 1.4.2\n",
      "numpy    : 1.21.5\n",
      "cufflinks: 0.17.3\n",
      "yfinance : 0.2.12\n",
      "\n"
     ]
    }
   ],
   "source": [
    "# Import pandas & yfinance\n",
    "import pandas as pd\n",
    "import yfinance as yf\n",
    "\n",
    "# Import numpy\n",
    "import numpy as np\n",
    "from numpy import *\n",
    "from numpy.linalg import multi_dot\n",
    "\n",
    "# Import cufflinks\n",
    "import cufflinks as cf\n",
    "cf.set_config_file(offline=True, dimensions=((1000,600))) # theme= 'henanigans'\n",
    "\n",
    "# Import plotly express for EF plot\n",
    "import plotly.express as px\n",
    "# px.defaults.template = \"plotly_dark\"\n",
    "px.defaults.width, px.defaults.height = 1000, 600\n",
    "\n",
    "# Machine info & package version\n",
    "from watermark import watermark\n",
    "%load_ext watermark\n",
    "%watermark -a \"Kannan Singaravelu\" -u -d -v -m -iv\n",
    "\n",
    "import warnings\n",
    "warnings.filterwarnings('ignore')\n",
    "pd.set_option('display.precision', 4)"
   ]
  },
  {
   "cell_type": "markdown",
   "id": "814a383a",
   "metadata": {},
   "source": [
    "## Retrive Data\n",
    "\n",
    "We will retrieve price data from our list of stocks as before to build our portfolio"
   ]
  },
  {
   "cell_type": "code",
   "execution_count": 2,
   "id": "e264999a",
   "metadata": {},
   "outputs": [],
   "source": [
    "# Specify assets / stocks\n",
    "# international etf portfolio : 'SPY', 'GLD', 'IWM', 'VWO', 'BND']\n",
    "# indian stocks : bank, consumer goods, diversified, it, consumer durables\n",
    "assets = ['HDFCBANK', 'ITC', 'RELIANCE', 'TCS', 'ASIANPAINT']\n",
    "assets.sort()\n",
    "\n",
    "# Number of assets\n",
    "numofasset = len(assets)\n",
    "\n",
    "# Number of portfolio for optimization\n",
    "numofportfolio = 5000"
   ]
  },
  {
   "cell_type": "code",
   "execution_count": 3,
   "id": "429c08b6",
   "metadata": {},
   "outputs": [
    {
     "name": "stdout",
     "output_type": "stream",
     "text": [
      "\n",
      "5 Failed downloads:\n",
      "- HDFCBANK.NS: No timezone found, symbol may be delisted\n",
      "- TCS.NS: No timezone found, symbol may be delisted\n",
      "- ASIANPAINT.NS: No timezone found, symbol may be delisted\n",
      "- ITC.NS: No timezone found, symbol may be delisted\n",
      "- RELIANCE.NS: No timezone found, symbol may be delisted\n"
     ]
    },
    {
     "data": {
      "text/html": [
       "<div>\n",
       "<style scoped>\n",
       "    .dataframe tbody tr th:only-of-type {\n",
       "        vertical-align: middle;\n",
       "    }\n",
       "\n",
       "    .dataframe tbody tr th {\n",
       "        vertical-align: top;\n",
       "    }\n",
       "\n",
       "    .dataframe thead th {\n",
       "        text-align: right;\n",
       "    }\n",
       "</style>\n",
       "<table border=\"1\" class=\"dataframe\">\n",
       "  <thead>\n",
       "    <tr style=\"text-align: right;\">\n",
       "      <th></th>\n",
       "      <th>ASIANPAINT</th>\n",
       "      <th>HDFCBANK</th>\n",
       "      <th>ITC</th>\n",
       "      <th>RELIANCE</th>\n",
       "      <th>TCS</th>\n",
       "    </tr>\n",
       "    <tr>\n",
       "      <th>Date</th>\n",
       "      <th></th>\n",
       "      <th></th>\n",
       "      <th></th>\n",
       "      <th></th>\n",
       "      <th></th>\n",
       "    </tr>\n",
       "  </thead>\n",
       "  <tbody>\n",
       "  </tbody>\n",
       "</table>\n",
       "</div>"
      ],
      "text/plain": [
       "Empty DataFrame\n",
       "Columns: [ASIANPAINT, HDFCBANK, ITC, RELIANCE, TCS]\n",
       "Index: []"
      ]
     },
     "execution_count": 3,
     "metadata": {},
     "output_type": "execute_result"
    }
   ],
   "source": [
    "# Get yahoo tickers\n",
    "yahooticker = [x+'.NS' for x in assets]\n",
    "# Fetch / read data for multiple stocks at once\n",
    "df = yf.download(yahooticker, start='2015-01-01', end='2022-12-31', progress=False)['Adj Close']\n",
    "df.columns = assets\n",
    "\n",
    "# write data to file for future use\n",
    "# df.to_csv('data/india_stocks.csv')\n",
    "\n",
    "# Read from file\n",
    "# df = pd.read_csv('data/india_stocks.csv', index_col=0, parse_dates=True)\n",
    "\n",
    "# Display dataframe\n",
    "df"
   ]
  }
 ],
 "metadata": {
  "kernelspec": {
   "display_name": "Python 3 (ipykernel)",
   "language": "python",
   "name": "python3"
  },
  "language_info": {
   "codemirror_mode": {
    "name": "ipython",
    "version": 3
   },
   "file_extension": ".py",
   "mimetype": "text/x-python",
   "name": "python",
   "nbconvert_exporter": "python",
   "pygments_lexer": "ipython3",
   "version": "3.9.12"
  }
 },
 "nbformat": 4,
 "nbformat_minor": 5
}
