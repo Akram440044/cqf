{
 "cells": [
  {
   "cell_type": "markdown",
   "id": "82e4bc13",
   "metadata": {},
   "source": [
    "# K-Nearest Neighbors\n",
    "\n",
    "The K-Nearest Neighbors (KNN) is one of the simplest machine learning algorithms that can be used for both regression and classification. KNN is a lazy learning algorithm and doesn’t technically train a model to make predictions. Instead an observation is predicted to be the class of that of the largest proportion of the k nearest observations. KNN method is a direct attempt at approximating the conditional expectation using actual data.\n",
    "\n",
    "For **regression**, the predicted value is the mean of the $K$ neighbors and the estimator is given as \n",
    "\n",
    "$$\\hat{f}(x) = Average[y_i|x_i \\in \\mathcal{N}_k(x)]$$\n",
    "\n",
    "where, $\\mathcal{N}_k(x)$ is a neighborhood of $x$ containing the $k$ closest observations.\n",
    "\n",
    "For **classification**, the predicted label is the class with the plurality, i.e., which class is most represented among the neighbors. This is equivlent to taking a majority vote among the $k$ nearest neighbors. For each class $j=1,...,K$, we then compute the empirical (conditional) probability \n",
    "\n",
    "$$Or(G=j| X=x_0)=\\frac{1}{k}\\sum_{i\\in \\mathcal{N}_k(x)} I(y_i=j)$$\n",
    "\n",
    "and assign the observation to the class with the highest empirical probability. Here, $I(y_i=j)$ is the indicator function returning 1 if $y_i=j$ and 0 otherwise.\n",
    "\n",
    "## The Three Steps\n",
    "\n",
    "The popularity of KNN comes from the fact that it is very easy to understand and interpret. It’s accuracy is often comparable or even better than more complicated algorithms. Once, $k$\n",
    " is specified, finding nearest neighbors is a 3-step process.\n",
    "\n",
    "| Steps  | Remarks                                                      |\n",
    "| ------ | ------------------------------------------------------------ |\n",
    "| Step 1 | Compute the distance, usually Euclidian                      |\n",
    "| Step 2 | Sort by ascending distance to find the kk NN                 |\n",
    "| Step 3 | Compute the average or probability of the kk NN observations |\n",
    "\n",
    "## Finding the Neighbours\n",
    "\n",
    "Intuitively, distance can be thought of as a measure of similarity. Euclidean distance is the most commonly used but other distance metrics such as Manhattan work as well. The generalized distance metric is called the Minkowski distance, defined as \n",
    "\n",
    "$$d = \\bigg( \\sum_{n=i}^n |x_i-y_i|^p \\bigg)^{1/p}$$\n",
    "\n",
    ", where $x_i$ and $y_i$ are the two observations for which distance $d$ is being calculated with a hyperparameter, integer $p$.\n",
    "\n",
    "When $p=1$, the Minkowski distance is the Manhattan distance and when $p=2$, the Minkowski distance is the just the standard Euclidean distance. With the $K$ neighbors identified using distance metrics, the algorithm can make a classification or prediction with the label values of the neighbors.\n",
    "\n",
    "# KNN Model\n",
    "\n",
    "KNN is a non-parametric method and it does not assume any function as there are no parameters to be estimated. The selection of the number of neighbors $k$ is done using the training set. Selecting $k$ close to 1 gives the most flexibility (low bias), but also has the highest variability (high variance) while on the other hand, selecting a large $k$ gives the least flexibility (high bias), but also has the lowest variability (low variance). In particular, $k=N$ will assign all new test observations to a single class. The best way of selecting $k$ is through cross validation. Another alternative approach is to employ the popular Elbow method to select $k$.\n",
    "\n",
    "## Problem Statement\n",
    "\n",
    "The objective is to predict market movement based on classification algorithm. In this lab, we'll use KNN to predict market direction and devise a trading strategies based on it."
   ]
  },
  {
   "cell_type": "code",
   "execution_count": 1,
   "id": "dca3d1f8",
   "metadata": {},
   "outputs": [],
   "source": [
    "import pandas as pd\n",
    "import numpy as np\n",
    "import matplotlib.pyplot as plt\n",
    "\n",
    "plt.style.use('fivethirtyeight')\n",
    "\n",
    "# processing\n",
    "from sklearn.preprocessing import MinMaxScaler\n",
    "from sklearn.pipeline import Pipeline\n",
    "from sklearn.model_selection import (train_test_split,\n",
    "                                     GridSearchCV, \n",
    "                                     TimeSeriesSplit, \n",
    "                                     cross_val_score)\n",
    "\n",
    "# Classifier\n",
    "from sklearn.neighbors import KNeighborsClassifier\n",
    "\n",
    "# Metrics\n",
    "from sklearn.metrics import (precision_recall_curve, \n",
    "                             roc_curve, \n",
    "                             RocCurveDisplay, \n",
    "                             ConfusionMatrixDisplay)\n",
    "\n",
    "from sklearn.metrics import (accuracy_score, \n",
    "                             f1_score, \n",
    "                             recall_score, \n",
    "                             precision_score, \n",
    "                             roc_auc_score, \n",
    "                             auc)\n",
    "\n",
    "from sklearn.metrics import (classification_report, \n",
    "                             confusion_matrix)\n",
    "\n",
    "import warnings\n",
    "warnings.filterwarnings('ignore')\n",
    "\n",
    "\n",
    "# https://towardsdatascience.com/20-simple-yet-powerful-features-for-time-series-using-date-and-time-af9da649e5dc"
   ]
  },
  {
   "cell_type": "markdown",
   "id": "c861a268",
   "metadata": {},
   "source": [
    "## Load Data"
   ]
  },
  {
   "cell_type": "code",
   "execution_count": 2,
   "id": "02b11162",
   "metadata": {},
   "outputs": [
    {
     "data": {
      "text/html": [
       "<div>\n",
       "<style scoped>\n",
       "    .dataframe tbody tr th:only-of-type {\n",
       "        vertical-align: middle;\n",
       "    }\n",
       "\n",
       "    .dataframe tbody tr th {\n",
       "        vertical-align: top;\n",
       "    }\n",
       "\n",
       "    .dataframe thead th {\n",
       "        text-align: right;\n",
       "    }\n",
       "</style>\n",
       "<table border=\"1\" class=\"dataframe\">\n",
       "  <thead>\n",
       "    <tr style=\"text-align: right;\">\n",
       "      <th></th>\n",
       "      <th>Open</th>\n",
       "      <th>High</th>\n",
       "      <th>Low</th>\n",
       "      <th>Close</th>\n",
       "      <th>Adj Close</th>\n",
       "      <th>Volume</th>\n",
       "    </tr>\n",
       "    <tr>\n",
       "      <th>Date</th>\n",
       "      <th></th>\n",
       "      <th></th>\n",
       "      <th></th>\n",
       "      <th></th>\n",
       "      <th></th>\n",
       "      <th></th>\n",
       "    </tr>\n",
       "  </thead>\n",
       "  <tbody>\n",
       "    <tr>\n",
       "      <th>1999-12-31</th>\n",
       "      <td>146.84375</td>\n",
       "      <td>147.50000</td>\n",
       "      <td>146.250000</td>\n",
       "      <td>146.8750</td>\n",
       "      <td>100.376900</td>\n",
       "      <td>3172700</td>\n",
       "    </tr>\n",
       "    <tr>\n",
       "      <th>2000-01-03</th>\n",
       "      <td>148.25000</td>\n",
       "      <td>148.25000</td>\n",
       "      <td>143.875000</td>\n",
       "      <td>145.4375</td>\n",
       "      <td>99.394493</td>\n",
       "      <td>8164300</td>\n",
       "    </tr>\n",
       "    <tr>\n",
       "      <th>2000-01-04</th>\n",
       "      <td>143.53125</td>\n",
       "      <td>144.06250</td>\n",
       "      <td>139.640625</td>\n",
       "      <td>139.7500</td>\n",
       "      <td>95.507530</td>\n",
       "      <td>8089800</td>\n",
       "    </tr>\n",
       "    <tr>\n",
       "      <th>2000-01-05</th>\n",
       "      <td>139.93750</td>\n",
       "      <td>141.53125</td>\n",
       "      <td>137.250000</td>\n",
       "      <td>140.0000</td>\n",
       "      <td>95.678391</td>\n",
       "      <td>12177900</td>\n",
       "    </tr>\n",
       "    <tr>\n",
       "      <th>2000-01-06</th>\n",
       "      <td>139.62500</td>\n",
       "      <td>141.50000</td>\n",
       "      <td>137.750000</td>\n",
       "      <td>137.7500</td>\n",
       "      <td>94.140717</td>\n",
       "      <td>6227200</td>\n",
       "    </tr>\n",
       "  </tbody>\n",
       "</table>\n",
       "</div>"
      ],
      "text/plain": [
       "                 Open       High         Low     Close   Adj Close    Volume\n",
       "Date                                                                        \n",
       "1999-12-31  146.84375  147.50000  146.250000  146.8750  100.376900   3172700\n",
       "2000-01-03  148.25000  148.25000  143.875000  145.4375   99.394493   8164300\n",
       "2000-01-04  143.53125  144.06250  139.640625  139.7500   95.507530   8089800\n",
       "2000-01-05  139.93750  141.53125  137.250000  140.0000   95.678391  12177900\n",
       "2000-01-06  139.62500  141.50000  137.750000  137.7500   94.140717   6227200"
      ]
     },
     "execution_count": 2,
     "metadata": {},
     "output_type": "execute_result"
    }
   ],
   "source": [
    "# Load locally stored data\n",
    "df = pd.read_csv('spy.csv', index_col=0, parse_dates=True)\n",
    "\n",
    "# Check first 5 values \n",
    "df.head()"
   ]
  },
  {
   "cell_type": "markdown",
   "id": "56896ff3",
   "metadata": {},
   "source": [
    "## EDA of Original dataset\n",
    "\n",
    "(EDA stands for Explantory Data Analysis)"
   ]
  },
  {
   "cell_type": "code",
   "execution_count": 3,
   "id": "a9d58e00",
   "metadata": {
    "scrolled": true
   },
   "outputs": [
    {
     "data": {
      "text/html": [
       "<div>\n",
       "<style scoped>\n",
       "    .dataframe tbody tr th:only-of-type {\n",
       "        vertical-align: middle;\n",
       "    }\n",
       "\n",
       "    .dataframe tbody tr th {\n",
       "        vertical-align: top;\n",
       "    }\n",
       "\n",
       "    .dataframe thead th {\n",
       "        text-align: right;\n",
       "    }\n",
       "</style>\n",
       "<table border=\"1\" class=\"dataframe\">\n",
       "  <thead>\n",
       "    <tr style=\"text-align: right;\">\n",
       "      <th></th>\n",
       "      <th>Open</th>\n",
       "      <th>High</th>\n",
       "      <th>Low</th>\n",
       "      <th>Close</th>\n",
       "      <th>Adj Close</th>\n",
       "      <th>Volume</th>\n",
       "    </tr>\n",
       "  </thead>\n",
       "  <tbody>\n",
       "    <tr>\n",
       "      <th>count</th>\n",
       "      <td>5114.000000</td>\n",
       "      <td>5114.000000</td>\n",
       "      <td>5114.000000</td>\n",
       "      <td>5114.000000</td>\n",
       "      <td>5114.000000</td>\n",
       "      <td>5.114000e+03</td>\n",
       "    </tr>\n",
       "    <tr>\n",
       "      <th>mean</th>\n",
       "      <td>159.857972</td>\n",
       "      <td>160.798386</td>\n",
       "      <td>158.829985</td>\n",
       "      <td>159.860942</td>\n",
       "      <td>136.333938</td>\n",
       "      <td>1.127593e+08</td>\n",
       "    </tr>\n",
       "    <tr>\n",
       "      <th>std</th>\n",
       "      <td>60.679463</td>\n",
       "      <td>60.830274</td>\n",
       "      <td>60.515930</td>\n",
       "      <td>60.694065</td>\n",
       "      <td>67.923663</td>\n",
       "      <td>9.870486e+07</td>\n",
       "    </tr>\n",
       "    <tr>\n",
       "      <th>min</th>\n",
       "      <td>67.949997</td>\n",
       "      <td>70.000000</td>\n",
       "      <td>67.099998</td>\n",
       "      <td>68.110001</td>\n",
       "      <td>54.184429</td>\n",
       "      <td>1.436600e+06</td>\n",
       "    </tr>\n",
       "    <tr>\n",
       "      <th>25%</th>\n",
       "      <td>115.752501</td>\n",
       "      <td>116.662502</td>\n",
       "      <td>114.902502</td>\n",
       "      <td>115.897499</td>\n",
       "      <td>87.412493</td>\n",
       "      <td>4.821255e+07</td>\n",
       "    </tr>\n",
       "    <tr>\n",
       "      <th>50%</th>\n",
       "      <td>137.085007</td>\n",
       "      <td>137.955002</td>\n",
       "      <td>136.110001</td>\n",
       "      <td>136.945000</td>\n",
       "      <td>106.488850</td>\n",
       "      <td>8.357545e+07</td>\n",
       "    </tr>\n",
       "    <tr>\n",
       "      <th>75%</th>\n",
       "      <td>201.767498</td>\n",
       "      <td>202.787498</td>\n",
       "      <td>200.722504</td>\n",
       "      <td>201.872505</td>\n",
       "      <td>182.951584</td>\n",
       "      <td>1.515544e+08</td>\n",
       "    </tr>\n",
       "    <tr>\n",
       "      <th>max</th>\n",
       "      <td>337.790009</td>\n",
       "      <td>339.079987</td>\n",
       "      <td>337.480011</td>\n",
       "      <td>338.339996</td>\n",
       "      <td>336.362091</td>\n",
       "      <td>8.710263e+08</td>\n",
       "    </tr>\n",
       "  </tbody>\n",
       "</table>\n",
       "</div>"
      ],
      "text/plain": [
       "              Open         High          Low        Close    Adj Close  \\\n",
       "count  5114.000000  5114.000000  5114.000000  5114.000000  5114.000000   \n",
       "mean    159.857972   160.798386   158.829985   159.860942   136.333938   \n",
       "std      60.679463    60.830274    60.515930    60.694065    67.923663   \n",
       "min      67.949997    70.000000    67.099998    68.110001    54.184429   \n",
       "25%     115.752501   116.662502   114.902502   115.897499    87.412493   \n",
       "50%     137.085007   137.955002   136.110001   136.945000   106.488850   \n",
       "75%     201.767498   202.787498   200.722504   201.872505   182.951584   \n",
       "max     337.790009   339.079987   337.480011   338.339996   336.362091   \n",
       "\n",
       "             Volume  \n",
       "count  5.114000e+03  \n",
       "mean   1.127593e+08  \n",
       "std    9.870486e+07  \n",
       "min    1.436600e+06  \n",
       "25%    4.821255e+07  \n",
       "50%    8.357545e+07  \n",
       "75%    1.515544e+08  \n",
       "max    8.710263e+08  "
      ]
     },
     "execution_count": 3,
     "metadata": {},
     "output_type": "execute_result"
    }
   ],
   "source": [
    "# Descriptive statistics\n",
    "df.describe()\n"
   ]
  },
  {
   "cell_type": "markdown",
   "id": "837d39a9",
   "metadata": {},
   "source": [
    "## Cleaning & Imputation\n",
    "\n",
    "Data is already cleaned. No further processing or imputation required."
   ]
  },
  {
   "cell_type": "code",
   "execution_count": 4,
   "id": "ddf72924",
   "metadata": {},
   "outputs": [
    {
     "data": {
      "text/plain": [
       "Open         0\n",
       "High         0\n",
       "Low          0\n",
       "Close        0\n",
       "Adj Close    0\n",
       "Volume       0\n",
       "dtype: int64"
      ]
     },
     "execution_count": 4,
     "metadata": {},
     "output_type": "execute_result"
    }
   ],
   "source": [
    "# Check for missing values\n",
    "df.isnull().sum()"
   ]
  },
  {
   "cell_type": "markdown",
   "id": "f14b8e51",
   "metadata": {},
   "source": [
    "## Feature Specification\n",
    "\n",
    "Features or Predictors are also known as an independent variable which are used to determine the value of the target variable. We will derive a features set from the original dataset."
   ]
  },
  {
   "cell_type": "code",
   "execution_count": 5,
   "id": "8802b10a",
   "metadata": {},
   "outputs": [],
   "source": [
    "# Predictors\n",
    "df['O-C'] = df.Open - df.Close\n",
    "df['H-L'] = df.High - df.Low\n",
    "\n",
    "X = df[['O-C', 'H-L']].values"
   ]
  },
  {
   "cell_type": "markdown",
   "id": "da7be4fb",
   "metadata": {},
   "source": [
    "## Target or Label Definition\n",
    "\n",
    "Label or the target variable is also known as the dependent variable. Here, the target variable is whether Nifty Index price will close up or down on the next trading day. If the tomorrow’s closing price is greater than the 0.995 of today's closing price, then we will buy the Nifty, else we will sell the index.\n",
    "\n",
    "We assign a value of +1 for the buy signal and -1 for the sell signal to target variable. The target can be described as : \n",
    "\n",
    "$$y_t = \\begin{cases}  +1, & \\text{if}\\ \\ p_{t+1}> 0.995 \\times p_t \\\\\n",
    "-1,& \\text{if}\\ \\ p_{t+1} \\ \\text{otherwise} \\end{cases}$$\n",
    "\n",
    "where, $p_t$ is the current closing price of Nifty Index and $p_{t+1}$ is the 1-day forward closing price of the index."
   ]
  },
  {
   "cell_type": "code",
   "execution_count": 6,
   "id": "aa0cae5e",
   "metadata": {},
   "outputs": [
    {
     "data": {
      "text/plain": [
       "array([-1, -1,  1, ...,  1,  1, -1])"
      ]
     },
     "execution_count": 6,
     "metadata": {},
     "output_type": "execute_result"
    }
   ],
   "source": [
    "# Target\n",
    "y = np.where(df['Adj Close'].shift(-1)>0.995*df['Adj Close'],1,-1) \n",
    "y"
   ]
  },
  {
   "cell_type": "code",
   "execution_count": 7,
   "id": "09198a8b",
   "metadata": {},
   "outputs": [
    {
     "data": {
      "text/plain": [
       " 1    3885\n",
       "-1    1229\n",
       "dtype: int64"
      ]
     },
     "execution_count": 7,
     "metadata": {},
     "output_type": "execute_result"
    }
   ],
   "source": [
    "# Value counts for class 1 and -1\n",
    "pd.Series(y).value_counts()"
   ]
  },
  {
   "cell_type": "markdown",
   "id": "8f5e60d3",
   "metadata": {},
   "source": [
    "## Split Data"
   ]
  },
  {
   "cell_type": "code",
   "execution_count": 8,
   "id": "a2cdb95e",
   "metadata": {},
   "outputs": [
    {
     "name": "stdout",
     "output_type": "stream",
     "text": [
      "Train and Test Size 4091, 1023\n"
     ]
    }
   ],
   "source": [
    "# Splitting the datasets into training and testing data.\n",
    "# Always keep shuffle = False for financial time series\n",
    "X_train, X_test, y_train, y_test = train_test_split(X, y, test_size=0.2, shuffle=False)\n",
    "\n",
    "# Output the train and test data size\n",
    "print(f\"Train and Test Size {len(X_train)}, {len(X_test)}\")"
   ]
  },
  {
   "cell_type": "markdown",
   "id": "67d9b7e1",
   "metadata": {},
   "source": [
    "## Fit Model\n",
    "\n",
    "Since the KNN model calculates distances, the dataset needs to be scaled for the model to work properly. All the features should have a similar scale. The scaling can be accomplished by using the `MinMaxScaler` transformer."
   ]
  },
  {
   "cell_type": "code",
   "execution_count": 9,
   "id": "21756a12",
   "metadata": {},
   "outputs": [
    {
     "data": {
      "text/plain": [
       "Pipeline(steps=[('scaler', MinMaxScaler()),\n",
       "                ('classifier', KNeighborsClassifier())])"
      ]
     },
     "execution_count": 9,
     "metadata": {},
     "output_type": "execute_result"
    }
   ],
   "source": [
    "# Scale and fit the model\n",
    "model = Pipeline([\n",
    "    (\"scaler\", MinMaxScaler()), \n",
    "    (\"classifier\", KNeighborsClassifier())\n",
    "]) \n",
    "model.fit(X_train, y_train)"
   ]
  },
  {
   "cell_type": "markdown",
   "id": "67892a1b",
   "metadata": {},
   "source": [
    "## Predict Model"
   ]
  },
  {
   "cell_type": "code",
   "execution_count": 10,
   "id": "76ac2c35",
   "metadata": {},
   "outputs": [],
   "source": [
    "# Predicting the test dataset\n",
    "y_pred = model.predict(X_test)\n",
    "\n",
    "# Predict Probabilities\n",
    "y_proba = model.predict_proba(X_test)"
   ]
  },
  {
   "cell_type": "code",
   "execution_count": 11,
   "id": "7bb971b0",
   "metadata": {},
   "outputs": [
    {
     "name": "stdout",
     "output_type": "stream",
     "text": [
      "Train Accuracy: 0.7802, Test Accuracy: 0.7498\n"
     ]
    }
   ],
   "source": [
    "acc_train = accuracy_score(y_train, model.predict(X_train))\n",
    "acc_test = accuracy_score(y_test, y_pred)\n",
    "\n",
    "print(f'Train Accuracy: {acc_train:0.4}, Test Accuracy: {acc_test:0.4}')"
   ]
  },
  {
   "cell_type": "markdown",
   "id": "0383dba3",
   "metadata": {},
   "source": [
    "# Prediction Quality"
   ]
  },
  {
   "cell_type": "markdown",
   "id": "997e6f11",
   "metadata": {},
   "source": [
    "## Confusion Matrix\n",
    "\n",
    "Confusion matrix is a table used to describe the performance of a classification model on a set of test data for which the true values are known.\n",
    "\n",
    "\n",
    "| Outcome        | Position |\n",
    "| -------------- | ----------------- |\n",
    "| True Negative  | upper-left        |\n",
    "| False Negative | lower-left        |\n",
    "| False Positive | upper-right       |\n",
    "| True Positive  | lower-right       |\n",
    "\n",
    "\n",
    "**True Positive** is an outcome where the model correctly predicts the positive class. Similarly, a true negative is an outcome where the model correctly predicts the negative class.\n",
    "\n",
    "**False Positive** is an outcome where the model incorrectly predicts the positive class. And a false negative is an outcome where the model incorrectly predicts the negative class.\n",
    "\n",
    "Note: In a binary classification task, the terms ‘positive’ and ‘negative’ refer to the classifier’s prediction, and the terms ‘true’ and ‘false’ refer to whether that prediction corresponds to the external judgment (sometimes known as the ‘observation’) and the axes can be flipped."
   ]
  },
  {
   "cell_type": "code",
   "execution_count": 12,
   "id": "e3f4aeef",
   "metadata": {},
   "outputs": [
    {
     "data": {
      "image/png": "[encoded data removed]",
      "text/plain": [
       "<Figure size 432x288 with 2 Axes>"
      ]
     },
     "metadata": {},
     "output_type": "display_data"
    }
   ],
   "source": [
    "# Display confussion matrix\n",
    "disp = ConfusionMatrixDisplay.from_estimator(\n",
    "        model,\n",
    "        X_test,\n",
    "        y_test,\n",
    "        display_labels=model.classes_,\n",
    "        cmap=plt.cm.Blues\n",
    "    )\n",
    "disp.ax_.set_title('Confusion matrix')\n",
    "plt.show()"
   ]
  },
  {
   "cell_type": "markdown",
   "id": "e579f62b",
   "metadata": {},
   "source": [
    "## Classification Report\n",
    "\n",
    "A classification report is used to measure the quality of predictions from a classification algorithm."
   ]
  },
  {
   "cell_type": "code",
   "execution_count": 13,
   "id": "ddec0420",
   "metadata": {},
   "outputs": [
    {
     "name": "stdout",
     "output_type": "stream",
     "text": [
      "              precision    recall  f1-score   support\n",
      "\n",
      "          -1       0.25      0.25      0.25       170\n",
      "           1       0.85      0.85      0.85       853\n",
      "\n",
      "    accuracy                           0.75      1023\n",
      "   macro avg       0.55      0.55      0.55      1023\n",
      "weighted avg       0.75      0.75      0.75      1023\n",
      "\n"
     ]
    }
   ],
   "source": [
    "# Classification Report\n",
    "print(classification_report(y_test, y_pred))"
   ]
  },
  {
   "cell_type": "markdown",
   "id": "b8de4dd2",
   "metadata": {},
   "source": [
    "**Macro Average**\n",
    "\n",
    "Average of precision (or recall or f1-score) of different classes.\n",
    "\n",
    "**Weighted Average**\n",
    "\n",
    "Actual Class1 instance * precision (or recall or f1-score) of Class1 + Actual Class2 instance * (or recall or f1-score) of Class2."
   ]
  },
  {
   "cell_type": "markdown",
   "id": "14c87fe3",
   "metadata": {},
   "source": [
    "## Receiver Operator Characterisitc Curve (ROC)\n",
    "\n",
    "The area under the ROC curve (AUC) is a measure of how well a model can distinguish between two classes. The ROC curve is created by plotting the true positive rate (TPR) against the false positive rate (FPR) at various classification thresholds."
   ]
  },
  {
   "cell_type": "code",
   "execution_count": 14,
   "id": "ea81e5aa",
   "metadata": {},
   "outputs": [
    {
     "data": {
      "image/png": "[encoded data removed]",
      "text/plain": [
       "<Figure size 432x288 with 1 Axes>"
      ]
     },
     "metadata": {},
     "output_type": "display_data"
    }
   ],
   "source": [
    "# Display ROCCurve \n",
    "disp_roc = RocCurveDisplay.from_estimator(\n",
    "            model, \n",
    "            X_test, \n",
    "            y_test,\n",
    "            name='KNN')\n",
    "disp_roc.ax_.set_title('ROC Curve')\n",
    "plt.show()"
   ]
  },
  {
   "attachments": {},
   "cell_type": "markdown",
   "id": "9141f913",
   "metadata": {},
   "source": [
    "# Hyper-parameter Tuning\n",
    "Hyper-parameters are parameters that are not directly learnt within estimators. In scikit-learn they are passed as arguments to the constructor of the estimator classes. It is possible and recommended to search the hyper-parameter space for the best cross validation score. Any parameter provided when constructing an estimator may be optimized in this manner.\n",
    "\n",
    "Cross-validation of Time Series\n",
    "\n",
    "Time series data are sequential in nature and are characterised by the correlation between observations. Classical cross-validation techniques such as KFold assume the samples are independent and identically distributed, and would result in poor estimates when applied on time series data.\n",
    "\n",
    "To preserve the order and have training set occur prior to the test set, we use Forward Chaining method in which the model is initially trained and tested with the same windows size. And, for each subsequent fold, the training window increases in size, encompassing both the previous training data and test data. The new test window once again follows the training window but stays the same length.\n",
    "\n",
    "https://i.stack.imgur.com/gzsVX.png![image.png](attachment:image.png)\n",
    "\n",
    "The figure shows the time-series split for cross validation.\n",
    "\n",
    "We will tune the hyperparameters to select the K-Best Neighbor by TimeSeriesSplit from scikit-learn. This is a forward chaining cross-validation method and is a variation from the KFold. In the kth split, it returns first k folds as train set and the (k+1)th fold as test set. Unlike standard cross-validation methods, successive training sets are supersets of those that come before them."
   ]
  },
  {
   "cell_type": "code",
   "execution_count": 15,
   "id": "e1cb3be3",
   "metadata": {},
   "outputs": [
    {
     "name": "stdout",
     "output_type": "stream",
     "text": [
      "[   0    1    2 ... 1702 1703 1704] [1706 1707 1708 ... 3407 3408 3409]\n",
      "[   0    1    2 ... 3406 3407 3408] [3410 3411 3412 ... 5111 5112 5113]\n"
     ]
    }
   ],
   "source": [
    "# Example: First 2 split\n",
    "tscv = TimeSeriesSplit(n_splits=2, gap=1)\n",
    "for train, test in tscv.split(X):\n",
    "    print(train, test)"
   ]
  },
  {
   "cell_type": "code",
   "execution_count": 16,
   "id": "b7bd9c61",
   "metadata": {},
   "outputs": [],
   "source": [
    "# Cross-validation\n",
    "tscv = TimeSeriesSplit(n_splits=5, gap=1)"
   ]
  },
  {
   "cell_type": "markdown",
   "id": "1fc8951f",
   "metadata": {},
   "source": [
    "## GridSearch\n",
    "\n",
    "The conventional way of performing hyperparameter optimization has been a grid search (aka parameter sweep). It is an exhaustive search through a manually specified subset of the hyperparameter space of a learning algorithm. A grid search algorithm must be guided by some performance metric, typically measured by cross-validation on the training set or evaluation on a validation set.\n",
    "\n",
    "GridSearch performs exhaustive search over specified parameter values for an estimator. It implements a “fit” and a “score” method among other methods. The parameters of the estimator used to apply these methods are optimized by cross-validated grid-search over a parameter grid."
   ]
  },
  {
   "cell_type": "code",
   "execution_count": 17,
   "id": "88cacaf5",
   "metadata": {},
   "outputs": [
    {
     "data": {
      "text/plain": [
       "{'memory': None,\n",
       " 'steps': [('scaler', MinMaxScaler()), ('classifier', KNeighborsClassifier())],\n",
       " 'verbose': False,\n",
       " 'scaler': MinMaxScaler(),\n",
       " 'classifier': KNeighborsClassifier(),\n",
       " 'scaler__clip': False,\n",
       " 'scaler__copy': True,\n",
       " 'scaler__feature_range': (0, 1),\n",
       " 'classifier__algorithm': 'auto',\n",
       " 'classifier__leaf_size': 30,\n",
       " 'classifier__metric': 'minkowski',\n",
       " 'classifier__metric_params': None,\n",
       " 'classifier__n_jobs': None,\n",
       " 'classifier__n_neighbors': 5,\n",
       " 'classifier__p': 2,\n",
       " 'classifier__weights': 'uniform'}"
      ]
     },
     "execution_count": 17,
     "metadata": {},
     "output_type": "execute_result"
    }
   ],
   "source": [
    "# Get parameters list\n",
    "model.get_params()"
   ]
  },
  {
   "cell_type": "code",
   "execution_count": 18,
   "id": "f02f01bb",
   "metadata": {},
   "outputs": [
    {
     "name": "stdout",
     "output_type": "stream",
     "text": [
      "Fitting 5 folds for each of 50 candidates, totalling 250 fits\n"
     ]
    },
    {
     "data": {
      "text/plain": [
       "GridSearchCV(cv=TimeSeriesSplit(gap=1, max_train_size=None, n_splits=5, test_size=None),\n",
       "             estimator=Pipeline(steps=[('scaler', MinMaxScaler()),\n",
       "                                       ('classifier', KNeighborsClassifier())]),\n",
       "             n_jobs=-1,\n",
       "             param_grid={'classifier__n_neighbors': array([ 1,  2,  3,  4,  5,  6,  7,  8,  9, 10, 11, 12, 13, 14, 15, 16, 17,\n",
       "       18, 19, 20, 21, 22, 23, 24, 25, 26, 27, 28, 29, 30, 31, 32, 33, 34,\n",
       "       35, 36, 37, 38, 39, 40, 41, 42, 43, 44, 45, 46, 47, 48, 49, 50])},\n",
       "             scoring='roc_auc', verbose=1)"
      ]
     },
     "execution_count": 18,
     "metadata": {},
     "output_type": "execute_result"
    }
   ],
   "source": [
    "# Perform Gridsearch and fit\n",
    "param_grid = {\"classifier__n_neighbors\": np.arange(1,51,1)}\n",
    "\n",
    "grid_search = GridSearchCV(model, param_grid, scoring='roc_auc', n_jobs=-1, cv=tscv, verbose=1)\n",
    "grid_search.fit(X_train, y_train)"
   ]
  },
  {
   "cell_type": "code",
   "execution_count": 19,
   "id": "b8de4feb",
   "metadata": {},
   "outputs": [
    {
     "name": "stdout",
     "output_type": "stream",
     "text": [
      "Optimal Neighbours: 18, Best Scors: 0.5361\n"
     ]
    }
   ],
   "source": [
    "# Best Params & Scores\n",
    "print(f\"Optimal Neighbours: {grid_search.best_params_['classifier__n_neighbors']}, Best Scors: {round(grid_search.best_score_,4)}\")"
   ]
  },
  {
   "cell_type": "markdown",
   "id": "248575e3",
   "metadata": {},
   "source": [
    "## Tuned Model\n",
    "\n",
    "Let's now train and predict the model with the best search parameter."
   ]
  },
  {
   "cell_type": "code",
   "execution_count": 20,
   "id": "bd0ebc5d",
   "metadata": {},
   "outputs": [
    {
     "data": {
      "text/plain": [
       "KNeighborsClassifier(n_neighbors=18)"
      ]
     },
     "execution_count": 20,
     "metadata": {},
     "output_type": "execute_result"
    }
   ],
   "source": [
    "# Instantiate KNN model with search param\n",
    "clf = KNeighborsClassifier(n_neighbors = grid_search.best_params_['classifier__n_neighbors'])\n",
    "# Fit the model\n",
    "clf.fit(X_train, y_train)"
   ]
  },
  {
   "cell_type": "code",
   "execution_count": 21,
   "id": "25d51869",
   "metadata": {},
   "outputs": [
    {
     "name": "stdout",
     "output_type": "stream",
     "text": [
      "\n",
      " Training Accuracy \t: 0.747 \n",
      " Test Accuracy \t\t: 0.7859\n"
     ]
    }
   ],
   "source": [
    "# Predicting the test dataset\n",
    "y_pred = clf.predict(X_test)\n",
    "# Measure Accuracy\n",
    "acc_train = accuracy_score(y_train, clf.predict(X_train))\n",
    "acc_test = accuracy_score(y_test, y_pred)\n",
    "# Print Accuracy\n",
    "print(f'\\n Training Accuracy \\t: {acc_train :0.4} \\n Test Accuracy \\t\\t: {acc_test :0.4}')"
   ]
  },
  {
   "cell_type": "code",
   "execution_count": 22,
   "id": "530b7530",
   "metadata": {},
   "outputs": [
    {
     "data": {
      "image/png": "[encoded data removed]",
      "text/plain": [
       "<Figure size 432x288 with 2 Axes>"
      ]
     },
     "metadata": {},
     "output_type": "display_data"
    }
   ],
   "source": [
    "# Display confussion matrix\n",
    "disp = ConfusionMatrixDisplay.from_estimator(\n",
    "        clf,\n",
    "        X_test,\n",
    "        y_test,\n",
    "        display_labels=model.classes_,\n",
    "        cmap=plt.cm.Blues\n",
    "    )\n",
    "disp.ax_.set_title('Confusion matrix')\n",
    "plt.show()"
   ]
  },
  {
   "cell_type": "code",
   "execution_count": 23,
   "id": "909c9523",
   "metadata": {},
   "outputs": [
    {
     "data": {
      "image/png": "[encoded data removed]",
      "text/plain": [
       "<Figure size 432x288 with 1 Axes>"
      ]
     },
     "metadata": {},
     "output_type": "display_data"
    }
   ],
   "source": [
    "# Display ROCCurve \n",
    "disp_roc = RocCurveDisplay.from_estimator(\n",
    "            clf, \n",
    "            X_test, \n",
    "            y_test,\n",
    "            name='Tuned KNN')\n",
    "disp_roc.ax_.set_title('ROC Curve')\n",
    "plt.show()"
   ]
  },
  {
   "cell_type": "code",
   "execution_count": 24,
   "id": "9c03f18a",
   "metadata": {},
   "outputs": [
    {
     "name": "stdout",
     "output_type": "stream",
     "text": [
      "              precision    recall  f1-score   support\n",
      "\n",
      "          -1       0.26      0.15      0.19       170\n",
      "           1       0.84      0.91      0.88       853\n",
      "\n",
      "    accuracy                           0.79      1023\n",
      "   macro avg       0.55      0.53      0.53      1023\n",
      "weighted avg       0.75      0.79      0.76      1023\n",
      "\n"
     ]
    }
   ],
   "source": [
    "# Classification Report\n",
    "print(classification_report(y_test, y_pred))"
   ]
  },
  {
   "cell_type": "markdown",
   "id": "74c1cc43",
   "metadata": {},
   "source": [
    "**Observation**\n",
    "\n",
    "1. Test accuracy improved more than 5% as compared to the earlier model.\n",
    "2. Recall for Class +1 improved by more than 10% as compared to the earlier model while recall for Class -1 decreased by 40%.\n",
    "3. Model improved predictor for upside when compared to the downside.\n",
    "4. Class imbalance skews the prediction and needs to be addressed.\n"
   ]
  },
  {
   "cell_type": "markdown",
   "id": "7c2dcf93",
   "metadata": {},
   "source": [
    "# Trading Strategy\n",
    "\n",
    "Let's now define a trading strategy. We will use the predicted signal to buy or sell. We then compare the result of this strategy with the buy and hold and visualize the performance of the KNN Algorithm."
   ]
  },
  {
   "cell_type": "code",
   "execution_count": 25,
   "id": "80796755",
   "metadata": {},
   "outputs": [],
   "source": [
    "# Subsume into a new dataframe\n",
    "df1 = df.copy()                      # df[-len(X_test)\n",
    "df1['Signal'] = clf.predict(X)       # clf.predict(X_test)"
   ]
  },
  {
   "cell_type": "code",
   "execution_count": 26,
   "id": "ddef6e8b",
   "metadata": {},
   "outputs": [],
   "source": [
    "# Daily Returns\n",
    "df1['Returns'] = np.log(df1['Adj Close']).diff().fillna(0)\n",
    "\n",
    "# Strategy Returns\n",
    "df1['Strategy'] = df1['Returns'] * df1['Signal'].shift(1).fillna(0)\n",
    "\n",
    "# Localize index for pyfolio\n",
    "df1.index = df1.index.tz_localize('utc')"
   ]
  },
  {
   "cell_type": "code",
   "execution_count": 27,
   "id": "fb1fc8b8",
   "metadata": {},
   "outputs": [
    {
     "data": {
      "text/html": [
       "<div>\n",
       "<style scoped>\n",
       "    .dataframe tbody tr th:only-of-type {\n",
       "        vertical-align: middle;\n",
       "    }\n",
       "\n",
       "    .dataframe tbody tr th {\n",
       "        vertical-align: top;\n",
       "    }\n",
       "\n",
       "    .dataframe thead th {\n",
       "        text-align: right;\n",
       "    }\n",
       "</style>\n",
       "<table border=\"1\" class=\"dataframe\">\n",
       "  <thead>\n",
       "    <tr style=\"text-align: right;\">\n",
       "      <th></th>\n",
       "      <th>Open</th>\n",
       "      <th>High</th>\n",
       "      <th>Low</th>\n",
       "      <th>Close</th>\n",
       "      <th>Adj Close</th>\n",
       "      <th>Volume</th>\n",
       "      <th>O-C</th>\n",
       "      <th>H-L</th>\n",
       "      <th>Signal</th>\n",
       "      <th>Returns</th>\n",
       "      <th>Strategy</th>\n",
       "    </tr>\n",
       "    <tr>\n",
       "      <th>Date</th>\n",
       "      <th></th>\n",
       "      <th></th>\n",
       "      <th></th>\n",
       "      <th></th>\n",
       "      <th></th>\n",
       "      <th></th>\n",
       "      <th></th>\n",
       "      <th></th>\n",
       "      <th></th>\n",
       "      <th></th>\n",
       "      <th></th>\n",
       "    </tr>\n",
       "  </thead>\n",
       "  <tbody>\n",
       "    <tr>\n",
       "      <th>2020-04-16 00:00:00+00:00</th>\n",
       "      <td>279.149994</td>\n",
       "      <td>280.029999</td>\n",
       "      <td>275.760010</td>\n",
       "      <td>279.100006</td>\n",
       "      <td>279.100006</td>\n",
       "      <td>131798300</td>\n",
       "      <td>0.049988</td>\n",
       "      <td>4.269989</td>\n",
       "      <td>1</td>\n",
       "      <td>0.004813</td>\n",
       "      <td>0.004813</td>\n",
       "    </tr>\n",
       "    <tr>\n",
       "      <th>2020-04-17 00:00:00+00:00</th>\n",
       "      <td>285.380005</td>\n",
       "      <td>287.299988</td>\n",
       "      <td>282.399994</td>\n",
       "      <td>286.640015</td>\n",
       "      <td>286.640015</td>\n",
       "      <td>146684800</td>\n",
       "      <td>-1.260010</td>\n",
       "      <td>4.899994</td>\n",
       "      <td>1</td>\n",
       "      <td>0.026657</td>\n",
       "      <td>0.026657</td>\n",
       "    </tr>\n",
       "    <tr>\n",
       "      <th>2020-04-20 00:00:00+00:00</th>\n",
       "      <td>282.609985</td>\n",
       "      <td>286.790009</td>\n",
       "      <td>281.350006</td>\n",
       "      <td>281.589996</td>\n",
       "      <td>281.589996</td>\n",
       "      <td>100109300</td>\n",
       "      <td>1.019989</td>\n",
       "      <td>5.440002</td>\n",
       "      <td>1</td>\n",
       "      <td>-0.017775</td>\n",
       "      <td>-0.017775</td>\n",
       "    </tr>\n",
       "    <tr>\n",
       "      <th>2020-04-21 00:00:00+00:00</th>\n",
       "      <td>276.730011</td>\n",
       "      <td>278.040009</td>\n",
       "      <td>272.019989</td>\n",
       "      <td>273.040009</td>\n",
       "      <td>273.040009</td>\n",
       "      <td>126385700</td>\n",
       "      <td>3.690002</td>\n",
       "      <td>6.020020</td>\n",
       "      <td>1</td>\n",
       "      <td>-0.030834</td>\n",
       "      <td>-0.030834</td>\n",
       "    </tr>\n",
       "    <tr>\n",
       "      <th>2020-04-22 00:00:00+00:00</th>\n",
       "      <td>278.350006</td>\n",
       "      <td>281.000000</td>\n",
       "      <td>276.910004</td>\n",
       "      <td>279.100006</td>\n",
       "      <td>279.100006</td>\n",
       "      <td>93524600</td>\n",
       "      <td>-0.750000</td>\n",
       "      <td>4.089996</td>\n",
       "      <td>-1</td>\n",
       "      <td>0.021952</td>\n",
       "      <td>0.021952</td>\n",
       "    </tr>\n",
       "    <tr>\n",
       "      <th>2020-04-23 00:00:00+00:00</th>\n",
       "      <td>280.489990</td>\n",
       "      <td>283.940002</td>\n",
       "      <td>278.750000</td>\n",
       "      <td>279.079987</td>\n",
       "      <td>279.079987</td>\n",
       "      <td>104709700</td>\n",
       "      <td>1.410004</td>\n",
       "      <td>5.190002</td>\n",
       "      <td>1</td>\n",
       "      <td>-0.000072</td>\n",
       "      <td>0.000072</td>\n",
       "    </tr>\n",
       "    <tr>\n",
       "      <th>2020-04-24 00:00:00+00:00</th>\n",
       "      <td>280.730011</td>\n",
       "      <td>283.700012</td>\n",
       "      <td>278.500000</td>\n",
       "      <td>282.970001</td>\n",
       "      <td>282.970001</td>\n",
       "      <td>85166000</td>\n",
       "      <td>-2.239990</td>\n",
       "      <td>5.200012</td>\n",
       "      <td>1</td>\n",
       "      <td>0.013842</td>\n",
       "      <td>0.013842</td>\n",
       "    </tr>\n",
       "    <tr>\n",
       "      <th>2020-04-27 00:00:00+00:00</th>\n",
       "      <td>285.119995</td>\n",
       "      <td>288.269989</td>\n",
       "      <td>284.619995</td>\n",
       "      <td>287.049988</td>\n",
       "      <td>287.049988</td>\n",
       "      <td>77896600</td>\n",
       "      <td>-1.929993</td>\n",
       "      <td>3.649994</td>\n",
       "      <td>-1</td>\n",
       "      <td>0.014315</td>\n",
       "      <td>0.014315</td>\n",
       "    </tr>\n",
       "    <tr>\n",
       "      <th>2020-04-28 00:00:00+00:00</th>\n",
       "      <td>291.019989</td>\n",
       "      <td>291.399994</td>\n",
       "      <td>285.399994</td>\n",
       "      <td>285.730011</td>\n",
       "      <td>285.730011</td>\n",
       "      <td>105270000</td>\n",
       "      <td>5.289978</td>\n",
       "      <td>6.000000</td>\n",
       "      <td>1</td>\n",
       "      <td>-0.004609</td>\n",
       "      <td>0.004609</td>\n",
       "    </tr>\n",
       "    <tr>\n",
       "      <th>2020-04-29 00:00:00+00:00</th>\n",
       "      <td>291.529999</td>\n",
       "      <td>294.880005</td>\n",
       "      <td>290.410004</td>\n",
       "      <td>293.209991</td>\n",
       "      <td>293.209991</td>\n",
       "      <td>118745600</td>\n",
       "      <td>-1.679993</td>\n",
       "      <td>4.470001</td>\n",
       "      <td>1</td>\n",
       "      <td>0.025842</td>\n",
       "      <td>0.025842</td>\n",
       "    </tr>\n",
       "  </tbody>\n",
       "</table>\n",
       "</div>"
      ],
      "text/plain": [
       "                                 Open        High         Low       Close  \\\n",
       "Date                                                                        \n",
       "2020-04-16 00:00:00+00:00  279.149994  280.029999  275.760010  279.100006   \n",
       "2020-04-17 00:00:00+00:00  285.380005  287.299988  282.399994  286.640015   \n",
       "2020-04-20 00:00:00+00:00  282.609985  286.790009  281.350006  281.589996   \n",
       "2020-04-21 00:00:00+00:00  276.730011  278.040009  272.019989  273.040009   \n",
       "2020-04-22 00:00:00+00:00  278.350006  281.000000  276.910004  279.100006   \n",
       "2020-04-23 00:00:00+00:00  280.489990  283.940002  278.750000  279.079987   \n",
       "2020-04-24 00:00:00+00:00  280.730011  283.700012  278.500000  282.970001   \n",
       "2020-04-27 00:00:00+00:00  285.119995  288.269989  284.619995  287.049988   \n",
       "2020-04-28 00:00:00+00:00  291.019989  291.399994  285.399994  285.730011   \n",
       "2020-04-29 00:00:00+00:00  291.529999  294.880005  290.410004  293.209991   \n",
       "\n",
       "                            Adj Close     Volume       O-C       H-L  Signal  \\\n",
       "Date                                                                           \n",
       "2020-04-16 00:00:00+00:00  279.100006  131798300  0.049988  4.269989       1   \n",
       "2020-04-17 00:00:00+00:00  286.640015  146684800 -1.260010  4.899994       1   \n",
       "2020-04-20 00:00:00+00:00  281.589996  100109300  1.019989  5.440002       1   \n",
       "2020-04-21 00:00:00+00:00  273.040009  126385700  3.690002  6.020020       1   \n",
       "2020-04-22 00:00:00+00:00  279.100006   93524600 -0.750000  4.089996      -1   \n",
       "2020-04-23 00:00:00+00:00  279.079987  104709700  1.410004  5.190002       1   \n",
       "2020-04-24 00:00:00+00:00  282.970001   85166000 -2.239990  5.200012       1   \n",
       "2020-04-27 00:00:00+00:00  287.049988   77896600 -1.929993  3.649994      -1   \n",
       "2020-04-28 00:00:00+00:00  285.730011  105270000  5.289978  6.000000       1   \n",
       "2020-04-29 00:00:00+00:00  293.209991  118745600 -1.679993  4.470001       1   \n",
       "\n",
       "                            Returns  Strategy  \n",
       "Date                                           \n",
       "2020-04-16 00:00:00+00:00  0.004813  0.004813  \n",
       "2020-04-17 00:00:00+00:00  0.026657  0.026657  \n",
       "2020-04-20 00:00:00+00:00 -0.017775 -0.017775  \n",
       "2020-04-21 00:00:00+00:00 -0.030834 -0.030834  \n",
       "2020-04-22 00:00:00+00:00  0.021952  0.021952  \n",
       "2020-04-23 00:00:00+00:00 -0.000072  0.000072  \n",
       "2020-04-24 00:00:00+00:00  0.013842  0.013842  \n",
       "2020-04-27 00:00:00+00:00  0.014315  0.014315  \n",
       "2020-04-28 00:00:00+00:00 -0.004609  0.004609  \n",
       "2020-04-29 00:00:00+00:00  0.025842  0.025842  "
      ]
     },
     "execution_count": 27,
     "metadata": {},
     "output_type": "execute_result"
    }
   ],
   "source": [
    "# Check the output\n",
    "df1.tail(10)"
   ]
  },
  {
   "cell_type": "markdown",
   "id": "2a5f65b8",
   "metadata": {},
   "source": [
    "# Return Analysis"
   ]
  },
  {
   "cell_type": "code",
   "execution_count": 28,
   "id": "b9f4ebee",
   "metadata": {},
   "outputs": [],
   "source": [
    "# Import pyfolio\n",
    "import pyfolio as pf"
   ]
  },
  {
   "cell_type": "code",
   "execution_count": 29,
   "id": "44325a4d",
   "metadata": {},
   "outputs": [],
   "source": [
    "# Create Tear sheet using pyfolio for outsample - for X_test\n",
    "# pf.create_simple_tear_sheet(df1['Strategy'])"
   ]
  },
  {
   "cell_type": "code",
   "execution_count": 30,
   "id": "31743f61",
   "metadata": {},
   "outputs": [
    {
     "data": {
      "text/html": [
       "<table border=\"1\" class=\"dataframe\">\n",
       "  <thead>\n",
       "    <tr style=\"text-align: right;\"><th>Start date</th><td colspan=4>1999-12-31</td></tr>\n",
       "    <tr style=\"text-align: right;\"><th>End date</th><td colspan=4>2020-04-29</td></tr>\n",
       "    <tr style=\"text-align: right;\"><th>In-sample months</th><td colspan=4>194</td></tr>\n",
       "    <tr style=\"text-align: right;\"><th>Out-of-sample months</th><td colspan=4>48</td></tr>\n",
       "    <tr style=\"text-align: right;\">\n",
       "      <th></th>\n",
       "      <th>In-sample</th>\n",
       "      <th>Out-of-sample</th>\n",
       "      <th>All</th>\n",
       "    </tr>\n",
       "  </thead>\n",
       "  <tbody>\n",
       "    <tr>\n",
       "      <th>Annual return</th>\n",
       "      <td>18.2%</td>\n",
       "      <td>21.5%</td>\n",
       "      <td>18.9%</td>\n",
       "    </tr>\n",
       "    <tr>\n",
       "      <th>Cumulative returns</th>\n",
       "      <td>1417.1%</td>\n",
       "      <td>120.6%</td>\n",
       "      <td>3247.5%</td>\n",
       "    </tr>\n",
       "    <tr>\n",
       "      <th>Annual volatility</th>\n",
       "      <td>20.1%</td>\n",
       "      <td>19.0%</td>\n",
       "      <td>19.9%</td>\n",
       "    </tr>\n",
       "    <tr>\n",
       "      <th>Sharpe ratio</th>\n",
       "      <td>0.93</td>\n",
       "      <td>1.12</td>\n",
       "      <td>0.97</td>\n",
       "    </tr>\n",
       "    <tr>\n",
       "      <th>Calmar ratio</th>\n",
       "      <td>0.38</td>\n",
       "      <td>1.48</td>\n",
       "      <td>0.39</td>\n",
       "    </tr>\n",
       "    <tr>\n",
       "      <th>Stability</th>\n",
       "      <td>0.98</td>\n",
       "      <td>0.80</td>\n",
       "      <td>0.99</td>\n",
       "    </tr>\n",
       "    <tr>\n",
       "      <th>Max drawdown</th>\n",
       "      <td>-47.9%</td>\n",
       "      <td>-14.5%</td>\n",
       "      <td>-47.9%</td>\n",
       "    </tr>\n",
       "    <tr>\n",
       "      <th>Omega ratio</th>\n",
       "      <td>1.19</td>\n",
       "      <td>1.29</td>\n",
       "      <td>1.21</td>\n",
       "    </tr>\n",
       "    <tr>\n",
       "      <th>Sortino ratio</th>\n",
       "      <td>1.36</td>\n",
       "      <td>1.69</td>\n",
       "      <td>1.42</td>\n",
       "    </tr>\n",
       "    <tr>\n",
       "      <th>Skew</th>\n",
       "      <td>-0.06</td>\n",
       "      <td>0.53</td>\n",
       "      <td>0.04</td>\n",
       "    </tr>\n",
       "    <tr>\n",
       "      <th>Kurtosis</th>\n",
       "      <td>9.88</td>\n",
       "      <td>23.03</td>\n",
       "      <td>12.08</td>\n",
       "    </tr>\n",
       "    <tr>\n",
       "      <th>Tail ratio</th>\n",
       "      <td>1.00</td>\n",
       "      <td>0.99</td>\n",
       "      <td>0.99</td>\n",
       "    </tr>\n",
       "    <tr>\n",
       "      <th>Daily value at risk</th>\n",
       "      <td>-2.5%</td>\n",
       "      <td>-2.3%</td>\n",
       "      <td>-2.4%</td>\n",
       "    </tr>\n",
       "  </tbody>\n",
       "</table>"
      ],
      "text/plain": [
       "<IPython.core.display.HTML object>"
      ]
     },
     "metadata": {},
     "output_type": "display_data"
    },
    {
     "ename": "AttributeError",
     "evalue": "'numpy.int64' object has no attribute 'to_pydatetime'",
     "output_type": "error",
     "traceback": [
      "\u001b[0;31m---------------------------------------------------------------------------\u001b[0m",
      "\u001b[0;31mAttributeError\u001b[0m                            Traceback (most recent call last)",
      "Input \u001b[0;32mIn [30]\u001b[0m, in \u001b[0;36m<cell line: 2>\u001b[0;34m()\u001b[0m\n\u001b[1;32m      1\u001b[0m \u001b[38;5;66;03m# Live start date 2016-04-07\u001b[39;00m\n\u001b[0;32m----> 2\u001b[0m \u001b[43mpf\u001b[49m\u001b[38;5;241;43m.\u001b[39;49m\u001b[43mcreate_returns_tear_sheet\u001b[49m\u001b[43m(\u001b[49m\u001b[43mdf1\u001b[49m\u001b[43m[\u001b[49m\u001b[38;5;124;43m'\u001b[39;49m\u001b[38;5;124;43mStrategy\u001b[39;49m\u001b[38;5;124;43m'\u001b[39;49m\u001b[43m]\u001b[49m\u001b[43m,\u001b[49m\u001b[43m \u001b[49m\u001b[43mlive_start_date\u001b[49m\u001b[38;5;241;43m=\u001b[39;49m\u001b[38;5;124;43m'\u001b[39;49m\u001b[38;5;124;43m2016-04-07\u001b[39;49m\u001b[38;5;124;43m'\u001b[39;49m\u001b[43m)\u001b[49m\n",
      "File \u001b[0;32m~/opt/anaconda3/lib/python3.9/site-packages/pyfolio/plotting.py:52\u001b[0m, in \u001b[0;36mcustomize.<locals>.call_w_context\u001b[0;34m(*args, **kwargs)\u001b[0m\n\u001b[1;32m     50\u001b[0m \u001b[38;5;28;01mif\u001b[39;00m set_context:\n\u001b[1;32m     51\u001b[0m     \u001b[38;5;28;01mwith\u001b[39;00m plotting_context(), axes_style():\n\u001b[0;32m---> 52\u001b[0m         \u001b[38;5;28;01mreturn\u001b[39;00m \u001b[43mfunc\u001b[49m\u001b[43m(\u001b[49m\u001b[38;5;241;43m*\u001b[39;49m\u001b[43margs\u001b[49m\u001b[43m,\u001b[49m\u001b[43m \u001b[49m\u001b[38;5;241;43m*\u001b[39;49m\u001b[38;5;241;43m*\u001b[39;49m\u001b[43mkwargs\u001b[49m\u001b[43m)\u001b[49m\n\u001b[1;32m     53\u001b[0m \u001b[38;5;28;01melse\u001b[39;00m:\n\u001b[1;32m     54\u001b[0m     \u001b[38;5;28;01mreturn\u001b[39;00m func(\u001b[38;5;241m*\u001b[39margs, \u001b[38;5;241m*\u001b[39m\u001b[38;5;241m*\u001b[39mkwargs)\n",
      "File \u001b[0;32m~/opt/anaconda3/lib/python3.9/site-packages/pyfolio/tears.py:504\u001b[0m, in \u001b[0;36mcreate_returns_tear_sheet\u001b[0;34m(returns, positions, transactions, live_start_date, cone_std, benchmark_rets, bootstrap, turnover_denom, header_rows, return_fig)\u001b[0m\n\u001b[1;32m    494\u001b[0m     returns \u001b[38;5;241m=\u001b[39m utils\u001b[38;5;241m.\u001b[39mclip_returns_to_benchmark(returns, benchmark_rets)\n\u001b[1;32m    496\u001b[0m plotting\u001b[38;5;241m.\u001b[39mshow_perf_stats(returns, benchmark_rets,\n\u001b[1;32m    497\u001b[0m                          positions\u001b[38;5;241m=\u001b[39mpositions,\n\u001b[1;32m    498\u001b[0m                          transactions\u001b[38;5;241m=\u001b[39mtransactions,\n\u001b[0;32m   (...)\u001b[0m\n\u001b[1;32m    501\u001b[0m                          live_start_date\u001b[38;5;241m=\u001b[39mlive_start_date,\n\u001b[1;32m    502\u001b[0m                          header_rows\u001b[38;5;241m=\u001b[39mheader_rows)\n\u001b[0;32m--> 504\u001b[0m \u001b[43mplotting\u001b[49m\u001b[38;5;241;43m.\u001b[39;49m\u001b[43mshow_worst_drawdown_periods\u001b[49m\u001b[43m(\u001b[49m\u001b[43mreturns\u001b[49m\u001b[43m)\u001b[49m\n\u001b[1;32m    506\u001b[0m vertical_sections \u001b[38;5;241m=\u001b[39m \u001b[38;5;241m11\u001b[39m\n\u001b[1;32m    508\u001b[0m \u001b[38;5;28;01mif\u001b[39;00m live_start_date \u001b[38;5;129;01mis\u001b[39;00m \u001b[38;5;129;01mnot\u001b[39;00m \u001b[38;5;28;01mNone\u001b[39;00m:\n",
      "File \u001b[0;32m~/opt/anaconda3/lib/python3.9/site-packages/pyfolio/plotting.py:1664\u001b[0m, in \u001b[0;36mshow_worst_drawdown_periods\u001b[0;34m(returns, top)\u001b[0m\n\u001b[1;32m   1648\u001b[0m \u001b[38;5;28;01mdef\u001b[39;00m \u001b[38;5;21mshow_worst_drawdown_periods\u001b[39m(returns, top\u001b[38;5;241m=\u001b[39m\u001b[38;5;241m5\u001b[39m):\n\u001b[1;32m   1649\u001b[0m     \u001b[38;5;124;03m\"\"\"\u001b[39;00m\n\u001b[1;32m   1650\u001b[0m \u001b[38;5;124;03m    Prints information about the worst drawdown periods.\u001b[39;00m\n\u001b[1;32m   1651\u001b[0m \n\u001b[0;32m   (...)\u001b[0m\n\u001b[1;32m   1661\u001b[0m \u001b[38;5;124;03m        Amount of top drawdowns periods to plot (default 5).\u001b[39;00m\n\u001b[1;32m   1662\u001b[0m \u001b[38;5;124;03m    \"\"\"\u001b[39;00m\n\u001b[0;32m-> 1664\u001b[0m     drawdown_df \u001b[38;5;241m=\u001b[39m \u001b[43mtimeseries\u001b[49m\u001b[38;5;241;43m.\u001b[39;49m\u001b[43mgen_drawdown_table\u001b[49m\u001b[43m(\u001b[49m\u001b[43mreturns\u001b[49m\u001b[43m,\u001b[49m\u001b[43m \u001b[49m\u001b[43mtop\u001b[49m\u001b[38;5;241;43m=\u001b[39;49m\u001b[43mtop\u001b[49m\u001b[43m)\u001b[49m\n\u001b[1;32m   1665\u001b[0m     utils\u001b[38;5;241m.\u001b[39mprint_table(\n\u001b[1;32m   1666\u001b[0m         drawdown_df\u001b[38;5;241m.\u001b[39msort_values(\u001b[38;5;124m'\u001b[39m\u001b[38;5;124mNet drawdown in \u001b[39m\u001b[38;5;124m%\u001b[39m\u001b[38;5;124m'\u001b[39m, ascending\u001b[38;5;241m=\u001b[39m\u001b[38;5;28;01mFalse\u001b[39;00m),\n\u001b[1;32m   1667\u001b[0m         name\u001b[38;5;241m=\u001b[39m\u001b[38;5;124m'\u001b[39m\u001b[38;5;124mWorst drawdown periods\u001b[39m\u001b[38;5;124m'\u001b[39m,\n\u001b[1;32m   1668\u001b[0m         float_format\u001b[38;5;241m=\u001b[39m\u001b[38;5;124m'\u001b[39m\u001b[38;5;132;01m{0:.2f}\u001b[39;00m\u001b[38;5;124m'\u001b[39m\u001b[38;5;241m.\u001b[39mformat,\n\u001b[1;32m   1669\u001b[0m     )\n",
      "File \u001b[0;32m~/opt/anaconda3/lib/python3.9/site-packages/pyfolio/timeseries.py:1008\u001b[0m, in \u001b[0;36mgen_drawdown_table\u001b[0;34m(returns, top)\u001b[0m\n\u001b[1;32m   1003\u001b[0m     df_drawdowns\u001b[38;5;241m.\u001b[39mloc[i, \u001b[38;5;124m'\u001b[39m\u001b[38;5;124mDuration\u001b[39m\u001b[38;5;124m'\u001b[39m] \u001b[38;5;241m=\u001b[39m \u001b[38;5;28mlen\u001b[39m(pd\u001b[38;5;241m.\u001b[39mdate_range(peak,\n\u001b[1;32m   1004\u001b[0m                                                         recovery,\n\u001b[1;32m   1005\u001b[0m                                                         freq\u001b[38;5;241m=\u001b[39m\u001b[38;5;124m'\u001b[39m\u001b[38;5;124mB\u001b[39m\u001b[38;5;124m'\u001b[39m))\n\u001b[1;32m   1006\u001b[0m df_drawdowns\u001b[38;5;241m.\u001b[39mloc[i, \u001b[38;5;124m'\u001b[39m\u001b[38;5;124mPeak date\u001b[39m\u001b[38;5;124m'\u001b[39m] \u001b[38;5;241m=\u001b[39m (peak\u001b[38;5;241m.\u001b[39mto_pydatetime()\n\u001b[1;32m   1007\u001b[0m                                     \u001b[38;5;241m.\u001b[39mstrftime(\u001b[38;5;124m'\u001b[39m\u001b[38;5;124m%\u001b[39m\u001b[38;5;124mY-\u001b[39m\u001b[38;5;124m%\u001b[39m\u001b[38;5;124mm-\u001b[39m\u001b[38;5;132;01m%d\u001b[39;00m\u001b[38;5;124m'\u001b[39m))\n\u001b[0;32m-> 1008\u001b[0m df_drawdowns\u001b[38;5;241m.\u001b[39mloc[i, \u001b[38;5;124m'\u001b[39m\u001b[38;5;124mValley date\u001b[39m\u001b[38;5;124m'\u001b[39m] \u001b[38;5;241m=\u001b[39m (\u001b[43mvalley\u001b[49m\u001b[38;5;241;43m.\u001b[39;49m\u001b[43mto_pydatetime\u001b[49m()\n\u001b[1;32m   1009\u001b[0m                                       \u001b[38;5;241m.\u001b[39mstrftime(\u001b[38;5;124m'\u001b[39m\u001b[38;5;124m%\u001b[39m\u001b[38;5;124mY-\u001b[39m\u001b[38;5;124m%\u001b[39m\u001b[38;5;124mm-\u001b[39m\u001b[38;5;132;01m%d\u001b[39;00m\u001b[38;5;124m'\u001b[39m))\n\u001b[1;32m   1010\u001b[0m \u001b[38;5;28;01mif\u001b[39;00m \u001b[38;5;28misinstance\u001b[39m(recovery, \u001b[38;5;28mfloat\u001b[39m):\n\u001b[1;32m   1011\u001b[0m     df_drawdowns\u001b[38;5;241m.\u001b[39mloc[i, \u001b[38;5;124m'\u001b[39m\u001b[38;5;124mRecovery date\u001b[39m\u001b[38;5;124m'\u001b[39m] \u001b[38;5;241m=\u001b[39m recovery\n",
      "\u001b[0;31mAttributeError\u001b[0m: 'numpy.int64' object has no attribute 'to_pydatetime'"
     ]
    }
   ],
   "source": [
    "# Live start date 2016-04-07\n",
    "pf.create_returns_tear_sheet(df1['Strategy'], live_start_date='2016-04-07')"
   ]
  }
 ],
 "metadata": {
  "kernelspec": {
   "display_name": "Python 3 (ipykernel)",
   "language": "python",
   "name": "python3"
  },
  "language_info": {
   "codemirror_mode": {
    "name": "ipython",
    "version": 3
   },
   "file_extension": ".py",
   "mimetype": "text/x-python",
   "name": "python",
   "nbconvert_exporter": "python",
   "pygments_lexer": "ipython3",
   "version": "3.9.12"
  },
  "toc": {
   "base_numbering": 1,
   "nav_menu": {},
   "number_sections": true,
   "sideBar": true,
   "skip_h1_title": false,
   "title_cell": "Table of Contents",
   "title_sidebar": "Contents",
   "toc_cell": false,
   "toc_position": {},
   "toc_section_display": true,
   "toc_window_display": false
  }
 },
 "nbformat": 4,
 "nbformat_minor": 5
}
