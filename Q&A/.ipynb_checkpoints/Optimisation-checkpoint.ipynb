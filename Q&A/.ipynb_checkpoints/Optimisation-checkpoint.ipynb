{
 "cells": [
  {
   "cell_type": "code",
   "execution_count": 2,
   "id": "a3762eb7",
   "metadata": {},
   "outputs": [],
   "source": [
    "import numpy as np\n",
    "import pandas as pd\n",
    "import matplotlib.pyplot as plt\n",
    "import scipy\n",
    "\n",
    "plt.style.use('fivethirtyeight')"
   ]
  },
  {
   "cell_type": "markdown",
   "id": "6eabc2b8",
   "metadata": {},
   "source": [
    "Assume there 4 assets in the market, $X_1, X_2, X_3, X_4$. With $\\mu$ and $\\sigma$ and correlation, $R$, showing below,"
   ]
  },
  {
   "cell_type": "code",
   "execution_count": 3,
   "id": "69018e5f",
   "metadata": {},
   "outputs": [],
   "source": [
    "mu = np.array([0.04, 0.08, 0.12, 0.15])\n",
    "sigma = np.array([0.07, 0.12, 0.18 , 0.26])\n",
    "R = np.array([[1,0.2, 0.5, 0.3],[0.2, 1, 0.7, 0.4], [0.5, 0.7, 1, 0.9],[0.3, 0.4, 0.9, 1]])\n",
    "m = 0.1"
   ]
  },
  {
   "cell_type": "markdown",
   "id": "1756f8cd",
   "metadata": {},
   "source": [
    "# In Matrix"
   ]
  },
  {
   "cell_type": "markdown",
   "id": "6f9d30c1",
   "metadata": {},
   "source": [
    "The variance-covariance matrix is,\n",
    "\n",
    "$$\\Sigma = SRS$$\n",
    "\n",
    ", where $S$ matrix is put the vector $\\sigma$ into the diagonal elements."
   ]
  },
  {
   "cell_type": "code",
   "execution_count": 4,
   "id": "f16fcdaa",
   "metadata": {
    "scrolled": true
   },
   "outputs": [
    {
     "name": "stdout",
     "output_type": "stream",
     "text": [
      "[[0.0049  0.00168 0.0063  0.00546]\n",
      " [0.00168 0.0144  0.01512 0.01248]\n",
      " [0.0063  0.01512 0.0324  0.04212]\n",
      " [0.00546 0.01248 0.04212 0.0676 ]]\n"
     ]
    },
    {
     "data": {
      "text/plain": [
       "array([ 0.05867697,  0.75902696, -0.31954512,  0.50184119])"
      ]
     },
     "execution_count": 4,
     "metadata": {},
     "output_type": "execute_result"
    }
   ],
   "source": [
    "S = np.diag(sigma)\n",
    "Sigma = np.dot(np.dot(S,R),S)\n",
    "One = np.ones(4)\n",
    "print(Sigma)\n",
    "\n",
    "A = np.dot(np.dot(One.T , np.linalg.inv(Sigma)),One)\n",
    "B = np.dot(np.dot(mu.T, np.linalg.inv(Sigma)), One)\n",
    "C = np.dot(np.dot(mu.T, np.linalg.inv(Sigma)), mu)\n",
    "\n",
    "lam = (A*m - B)/(A*C - B**2)\n",
    "gam = (C - B*m)/(A*C - B**2)\n",
    "\n",
    "w_star = np.linalg.inv(Sigma) @ (lam * mu + gam * One)\n",
    "w_star"
   ]
  },
  {
   "cell_type": "markdown",
   "id": "44f17ef7",
   "metadata": {},
   "source": [
    "# In Optimizer\n",
    "\n",
    "The Initial Number really matters"
   ]
  },
  {
   "cell_type": "code",
   "execution_count": 6,
   "id": "594a487b",
   "metadata": {},
   "outputs": [
    {
     "name": "stdout",
     "output_type": "stream",
     "text": [
      "[0.08725729 0.03923668 0.25476198 0.61874405]\n",
      "[0.07826812 0.5153163  0.17727887 0.22913671]\n"
     ]
    }
   ],
   "source": [
    "def objective(w):\n",
    "    y = 1/2 * w.T @ Sigma @ w\n",
    "    return y\n",
    "\n",
    "def constraint1(w):\n",
    "    y = w.T @ np.ones( len(w) ) - 1\n",
    "    return y\n",
    "\n",
    "def constraint2(w):\n",
    "    y = m - w.T @ mu \n",
    "    return y\n",
    "\n",
    "con1 = {'type':'eq', 'fun':constraint1}  # equality constraint\n",
    "con2 = {'type':'eq', 'fun':constraint2}  # equality constraint\n",
    "cons = [con1, con2]\n",
    "\n",
    "\n",
    "\n",
    "# initialised weights\n",
    "w0 = np.random.rand(len(mu))\n",
    "w0 = w0 / w0.sum()\n",
    "# w0 = np.array([0.2332982 , 0.21006827, 0.30157908, 0.25505446])\n",
    "\n",
    "# solve it\n",
    "solution = scipy.optimize.minimize(objective, \n",
    "                                   w0, \n",
    "                                   #method = 'rust-constr ',\n",
    "                                   constraints=cons\n",
    "                                   )\n",
    "print(w0)\n",
    "print(solution.x)"
   ]
  },
  {
   "cell_type": "markdown",
   "id": "2c5a1c51",
   "metadata": {},
   "source": [
    "# A bit Plotting"
   ]
  },
  {
   "cell_type": "code",
   "execution_count": 25,
   "id": "4df5a04d",
   "metadata": {},
   "outputs": [
    {
     "data": {
      "text/plain": [
       "<matplotlib.collections.PathCollection at 0x7f3341adfc10>"
      ]
     },
     "execution_count": 25,
     "metadata": {},
     "output_type": "execute_result"
    },
    {
     "data": {
      "image/png": "[encoded data removed]",
      "text/plain": [
       "<Figure size 640x480 with 1 Axes>"
      ]
     },
     "metadata": {},
     "output_type": "display_data"
    }
   ],
   "source": [
    "def cal_w(m):\n",
    "    lam = (A*m - B)/(A*C - B**2)\n",
    "    gam = (C - B*m)/(A*C - B**2)\n",
    "    w_star = np.linalg.inv(Sigma) @ (lam * mu + gam * One)\n",
    "    return w_star\n",
    "\n",
    "\n",
    "m = np.linspace(0, 1, 100)\n",
    "sigma_p = []\n",
    "for i in m:\n",
    "    w = cal_w(i)\n",
    "    sigma_temp = w.T @ Sigma @ w\n",
    "    sigma_p.append(sigma_temp)\n",
    "    \n",
    "plt.scatter(sigma_p, m)\n",
    "plt.scatter(y=w_star.T @  mu, x = w_star.T @ Sigma @ w_star, s = 200)\n",
    "plt.scatter(y=solution.x.T @  mu, x = solution.x.T @ Sigma @ solution.x, s = 50)"
   ]
  }
 ],
 "metadata": {
  "kernelspec": {
   "display_name": "Python 3 (ipykernel)",
   "language": "python",
   "name": "python3"
  },
  "language_info": {
   "codemirror_mode": {
    "name": "ipython",
    "version": 3
   },
   "file_extension": ".py",
   "mimetype": "text/x-python",
   "name": "python",
   "nbconvert_exporter": "python",
   "pygments_lexer": "ipython3",
   "version": "3.9.12"
  },
  "toc": {
   "base_numbering": 1,
   "nav_menu": {},
   "number_sections": true,
   "sideBar": true,
   "skip_h1_title": false,
   "title_cell": "Table of Contents",
   "title_sidebar": "Contents",
   "toc_cell": false,
   "toc_position": {},
   "toc_section_display": true,
   "toc_window_display": false
  }
 },
 "nbformat": 4,
 "nbformat_minor": 5
}
