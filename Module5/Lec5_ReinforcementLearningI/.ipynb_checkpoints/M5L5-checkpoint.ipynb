{
 "cells": [
  {
   "cell_type": "code",
   "execution_count": 3,
   "id": "0c6bd6f9",
   "metadata": {},
   "outputs": [],
   "source": [
    "import numpy as np \n",
    "import pandas as pd\n",
    "import matplotlib.pyplot as plt\n",
    "\n",
    "import warnings\n",
    "warnings.filterwarnings('ignore')"
   ]
  },
  {
   "cell_type": "markdown",
   "id": "05870929",
   "metadata": {},
   "source": [
    "## 1. Learning Agents\n",
    "\n",
    "- The agent repeatedly takes **action** $a_t \\in \\mathbb{A}$ in discrete time periods, $t \\in \\mathbb{N}.$\n",
    "- When the agent choose action $a_t$ at time $t$, it obtaints an immediate **observable reward**, $r_{t+1}$.\n",
    "- The **return** $G_t$ at time $t$ is some function $f$ of the future rewards $G_t= f(r_{t+1} , r_{t+2},\\cdots)$.\n",
    "- Often we use $G_t = \\sum_{i=t}^{\\infty} \\gamma^i r_{i+1}$, where $\\gamma \\ in [0,1]$ is the **time discounting** of the agent.\n",
    "\n",
    "## 2. Markov Decision Processes\n",
    "- The reward is a function of the action chosen in the previous state $s_t \\in \\mathbb{S}$.\n",
    "- The $s$ state and action $a$ at time $t$ determines the probability of the subsequent state s ′ and reward $r$.\n",
    "- The probabilities are specified by the function $p(s',r|s,a)$.\n",
    "- This specifies a finite **Markov Decision-Process**.\n",
    "- The goal of the agent is to maximise the expected return $\\mathbb{E}(G)$.\n",
    "- The agent follows a **policy** which specifies an action to take in each state: $\\pi(s)\\in\\mathbb{A}$.\n",
    "- The optimal policy is denoted $\\pi^*$ .\n",
    "\n",
    "## 3. Value Functions\n",
    "\n",
    "We use the function $v(a)$ to denote the expected return for action a over the entire episode:\n",
    "\n",
    "$$\\begin{equation}\\begin{split}\n",
    "v(a) &= \\mathbb{E}(G|a_t = a,  \\forall_t) \\\\\n",
    "&= \\mathbb{E}(R_{a})\n",
    "\\end{split}\\end{equation}\n",
    "$$\n",
    "\n",
    "- Typically, the function $v$ is unknown to the agent.\n",
    "- In this scenario, the agent performs *sequential decision making under uncertainty*.\n",
    "\n",
    "---\n",
    "\n",
    "Consider a $n$-armed bandit, where $R_{a}\\sim N(a, 1)$\n",
    "\n",
    "Each Bandit's output is a random variable that follows a **mean** of 'a', and **variance** of 1."
   ]
  },
  {
   "cell_type": "code",
   "execution_count": 11,
   "id": "1cf0dc2c",
   "metadata": {},
   "outputs": [
    {
     "data": {
      "text/plain": [
       "0.5569790343983417"
      ]
     },
     "execution_count": 11,
     "metadata": {},
     "output_type": "execute_result"
    }
   ],
   "source": [
    "def play_bandit(a=1.0, variance=1.0):\n",
    "    \"\"\" Return the reward from taking action a \"\"\" \n",
    "    return np.random.normal(a, scale=np.sqrt(variance))\n",
    "\n",
    "r_2 = play_bandit(a=1) \n",
    "r_2"
   ]
  },
  {
   "cell_type": "markdown",
   "id": "e1dac39c",
   "metadata": {},
   "source": [
    "## 4. Greedy Action\n",
    "\n",
    "If we can compute $v(a)$, then the agent's optimal policy is simple. That is the agent simply choose the action with the highest expection.\n",
    "\n",
    "$$a^* = arg\\max_{a} v(a)$$\n",
    "\n",
    "- we call $a^*$ as the **greedy action**.\n",
    "\n",
    "## 5. Learning as Sampling\n",
    "\n",
    "The random variates, $r_t$, are directly observable.\n",
    "They are samples from the distribution $F_{a}(r)$.\n",
    "\n",
    "$$r_t \\sim^{distribution} F_{a}(r)$$\n",
    "\n",
    "How can we estimate $v(\\alpha)$ given the observed rewards $r_1,r_2, ..., r_t$?\n",
    "\n",
    "## 6. Value Estimation\n",
    "We can use the *sampling to estimate* $v(.)$,\n",
    "\n",
    "$$Q_r(a) = \\frac{r_1+r_2+...+r_k}{k}$$\n",
    "\n",
    "- By the law of large numbers,\n",
    "\n",
    "$$ \\lim_{k\\to\\infty}Q(a) = v(a) $$"
   ]
  },
  {
   "cell_type": "code",
   "execution_count": 44,
   "id": "ddbbc63a",
   "metadata": {},
   "outputs": [],
   "source": [
    "# three different ways of writing that function\n",
    "def sample_from_bandit(a, k):\n",
    "    \"\"\"\n",
    "    run play_bandit with parameter a and k. \n",
    "    k is the number of time of running that play_bandit\n",
    "    \"\"\"\n",
    "    rewards = []\n",
    "    for t in range(k):\n",
    "        r = play_bandit(a)\n",
    "        rewards.append(r)\n",
    "    return np.mean(rewards)\n",
    "\n",
    "# or, write in a map\n",
    "def sample_from_bandit(a,k):\n",
    "    return np.mean(map(lambda i: play_bandita), range(k))\n",
    "\n",
    "# Or, in a comprehension way,\n",
    "def sample_from_bandit(a, k):\n",
    "    return np.mean([play_bandit(a) for i in range(k)])"
   ]
  },
  {
   "cell_type": "code",
   "execution_count": 57,
   "id": "ad2eda9d",
   "metadata": {
    "scrolled": true
   },
   "outputs": [
    {
     "data": {
      "text/plain": [
       "2.0437623838570276"
      ]
     },
     "execution_count": 57,
     "metadata": {},
     "output_type": "execute_result"
    }
   ],
   "source": [
    "q_2 = sample_from_bandit(a=2, k=200)\n",
    "q_2"
   ]
  },
  {
   "cell_type": "markdown",
   "id": "031e6b53",
   "metadata": {},
   "source": [
    "Further code optimisation could be implemented, for instance, for large sample sizes we need to allocate memory to hold all the previous samples."
   ]
  },
  {
   "cell_type": "markdown",
   "id": "6395b34e",
   "metadata": {},
   "source": [
    "## 7. Incremental update of estimates\n",
    "\n",
    "$$\\begin{equation}\n",
    "\\begin{split}\n",
    "Q_{k} & = \\frac{1}{k} \\sum_{i=1}^k r_i \\\\\n",
    "& = \\frac{1}{k}(r_k + \\sum_{i=1}^{k-1} r_i) \\\\\n",
    "& = \\frac{1}{k}[r_k + (k-1) \\frac{1}{k-1}\\sum_{i=1}^{k-1} r_i] \\\\\n",
    "& = \\frac{1}{k}[r_k + (k-1)Q_{k-1}] \\\\\n",
    "& = \\frac{1}{k}[r_k + k\\cdot Q_{k-1} - Q_{k-1}] \\\\\n",
    "& = Q_{k-1} + \\frac{1}{k}[r_k - Q_{k-1}] \n",
    "\\end{split}\n",
    "\\end{equation}$$\n",
    "\n",
    "What does it implicate? It implicates that the next period estimate is equal to (1) a previous preiod estimate plus (2) a difference with a step size '1/k'.\n",
    "\n",
    "### 7.1 Temporal Difference Learning\n",
    "- We are adjusting/updating an old estimate towards a new estimate based on more recent information.\n",
    "- We can think of the coefficient $(k)^{−1}$ as a step size parameter.\n",
    "$$\\begin{equation}\\begin{split}\n",
    "Q_{k+1} &= Q_k+\\frac{1}{k} [r_k - Q_k] \n",
    "&= \\sum_{k=1}^{N+1} \\frac{1}{k} [r_k - Q_k]\n",
    "\\end{split}\\end{equation}$$\n",
    "\n",
    "`new_estimate = old_estimate + step_size * (target - old_estimate)`\n",
    "\n",
    "#### Incremental Updates in Python"
   ]
  },
  {
   "cell_type": "code",
   "execution_count": 79,
   "id": "cab8305f",
   "metadata": {},
   "outputs": [],
   "source": [
    "def update_q(old_estimate, target_estimate, k): \n",
    "    step_size = 1.0 / (k+1) \n",
    "    error = target_estimate - old_estimate \n",
    "    return old_estimate + step_size * error\n",
    "\n",
    "def sample_from_bandit(a, k):\n",
    "    \"\"\"\n",
    "    Calculate the estimated value, \n",
    "    by iteratively update the steps different.\n",
    "    \"\"\"\n",
    "    current_estimate = 0.\n",
    "    for t in range(k):\n",
    "        current_estimate = update_q(current_estimate, play_bandit(a), t) \n",
    "        return current_estimate"
   ]
  },
  {
   "cell_type": "code",
   "execution_count": 88,
   "id": "90547da4",
   "metadata": {},
   "outputs": [
    {
     "data": {
      "text/plain": [
       "-0.5233647792763718"
      ]
     },
     "execution_count": 88,
     "metadata": {},
     "output_type": "execute_result"
    }
   ],
   "source": [
    "q_2 = sample_from_bandit(a=2, k=100000) \n",
    "q_2"
   ]
  },
  {
   "cell_type": "markdown",
   "id": "ef47ad7a",
   "metadata": {},
   "source": [
    "### 7.2 Using a Constant Step Size\n",
    "\n",
    "Recall that with our previous update rule, the step_size parameter varies with each update.\n",
    "\n",
    "$$Q_{k+1} = \\frac{1}{k}[r_k-Q_k]$$\n",
    "\n",
    "Alternatively, we can use a constant step size $\\alpha \\in [0,1]$\n",
    "\n",
    "$$Q_{k+1} =Q_k + \\alpha [r_k - Q_k] $$\n",
    "\n",
    "## 8. Exponential Moving-average of Rewards\n",
    "\n",
    "$$\n",
    "\\begin{equation} \\begin{split}\n",
    "Q_{k+1} &= Q_k + \\alpha [r_k - Q_k] \\\\\n",
    "&= \\alpha r_k + (1-\\alpha) Q_k \\\\\n",
    "&= \\alpha r_k + (1-\\alpha)[\\alpha r_{k-1} + (1-\\alpha)Q_{k-1}] \\\\\n",
    "&= \\alpha r_k + (1-\\alpha)\\alpha r_{k-1} + (1-\\alpha)^2 \\alpha Q_{k-1} \\\\\n",
    "&= \\alpha r_k + (1-\\alpha)\\alpha r_{k-1} + (1-\\alpha)^2 \\alpha Q_{k-1} + \\cdots + (1-\\alpha)^{k-1} \\alpha Q_{1} + (1-\\alpha)^{k} \\alpha Q_{0}\\\\\n",
    "&= (1-\\alpha)^k Q_0 + \\sum^k_{i=1} \\alpha (1-\\alpha)^{k-i} r_i\n",
    "\\end{split} \\end{equation}\n",
    "$$\n",
    "\n",
    "## 9. Recency\n",
    "\n",
    "- Thus we see that if we use **constant step-size parameter**, we are calculating an exponential (i.e. time-weighted) ***moving average***.\n",
    "- The moving average is an estimate of the expected reward.\n",
    "- The parameter $\\alpha$ is sometimes called the ***recency***. ($\\alpha$, *alpha* denotes the ***recency***. P.S. the alphabet $a$ denotes the ***action***).\n",
    "- This parameter is *not* learned, but instead *is chosen* by the scientist.\n",
    "    - Parameters that are chosen but not learned are called *hyper-parameters*.\n",
    "\n",
    "### Non-stationary environments\n",
    "If the first moment of the reward distribution is **non-stationary**, then we should choose a larger values of $\\alpha$.\n",
    "\n",
    "Large $\\alpha$ means large weights of the arbitary term, and goes close to the random walk."
   ]
  },
  {
   "cell_type": "code",
   "execution_count": 90,
   "id": "2896e42b",
   "metadata": {},
   "outputs": [],
   "source": [
    "# updating with a chosen hyper-parameter recency, called alpha\n",
    "def update_q(old_estimate, target_estimate, recency=0.2):\n",
    "    \"\"\"\n",
    "    Updating with a chosen hyper-parameter recency, called alpha\n",
    "    \"\"\"\n",
    "    error = target_estimate - old_estimate \n",
    "    return old_estimate + recency * error"
   ]
  },
  {
   "cell_type": "markdown",
   "id": "fbe3d914",
   "metadata": {},
   "source": [
    "## 10. Action Selection\n",
    "\n",
    "As discussed, if we have accurate estimates $Q(a) = v(a)$, then the optimal policy $\\pi^*$ is straightforward:\n",
    "\n",
    "$$a_t^* = arg\\max_{a} Q_t(a)$$\n",
    "\n",
    "The Optimal Policy is $a = a^*$ such that $a$ could maximise the estimate\n",
    "\n",
    "However, is this the optimal policy if estimates are inaccurate?\n",
    "\n",
    "### 10.1 Exploration\n",
    "- Value forecasting and policy selection are not independent.\n",
    "- If estimates $Q(a)$ are based on small sample sizes $k_a$ , and we always choose a non-representitive *greedy action*, then our policy will be sub-optimal.\n",
    "- **Taking the greedy action is called *Exploitation***.\n",
    "- In order to learn, our agent must also **explore** the environment by sampling from alternative actions.\n",
    "- This is true even when current information suggests that the alternative are suboptimal;\n",
    "- current information may be inaccurate.\n",
    "\n",
    "In my personal understanding, there are steps to learn from the data evovlution.\n",
    "**The first step is Exploration**. We may explore the action to see which action rewards more. **The second step is Exploitation**. We take the *greedy action*, by which we mean that we are about to take actions that give highest reward from the exploration phase.\n",
    "\n",
    "### 10.2 Drawback of Exploration & Exploitation\n",
    "\n",
    "There are some drawbacks of that structure like the above. For instance, if the exploration data-set is not large enough, or if the exploration results are not representative, then the exploitation phase would be misled.\n",
    "\n",
    "### 10.3 $\\epsilon$-greedy Exploration\n",
    "- There are many different strategies for exploration.\n",
    "- With $\\epsilon$-greedy exploration with probability ϵ we choose an action randomly, otherwise we exploit.\n",
    "- We introduce a new hyper-parameter $\\epsilon \\in [0, 1]$.\n",
    "- Each time we choose action, we draw a random variate $\\eta_t \\sim U(0,1)$\n",
    "\n",
    "$$\\begin{cases}\n",
    "a_t :\\sim U(1,n) &, \\text{if $\\eta_t > \\epsilon $.  to Explore. Randomly choose an action}\\\\\n",
    "a_t = a_t^* &, \\text{if $\\eta_t \\leq \\epsilon$. to Exploit. Taking the Greedy Action}\n",
    " \\end{cases}$$\n",
    "\n",
    "There would be a random number generator $\\eta_t \\sim U(0,1)$. The value of $\\eta_t$ above or below a threshold would determine the action to be Explore / Exploit.\n",
    "- Explore is to randomly choose a action from a given distribution.\n",
    "- Exploitation is to choose the greedy action."
   ]
  },
  {
   "cell_type": "code",
   "execution_count": 122,
   "id": "4bd0a7c6",
   "metadata": {},
   "outputs": [],
   "source": [
    "# the epsilon exploration\n",
    "def explore(q):\n",
    "    return np.random.randint(len(q))\n",
    "\n",
    "def exploit(q):\n",
    "    greedy_actions, = np.where(q == np.max(q)) \n",
    "    return np.random.choice(greedy_actions)\n",
    "\n",
    "# randomly choose to explore or exploit\n",
    "def act(q, epsilon=0.99):\n",
    "    if np.random.random() >= epsilon:\n",
    "        return explore(q) \n",
    "    else:\n",
    "        return exploit(q)"
   ]
  },
  {
   "cell_type": "code",
   "execution_count": 123,
   "id": "e568a94b",
   "metadata": {},
   "outputs": [],
   "source": [
    "# a completet example\n",
    "def simulate_agent(n = 20, T = 5000, epsilon=0.99, variance=1.0):\n",
    "    q = np.zeros(n) \n",
    "    actions = np.zeros(T) \n",
    "    rewards = np.zeros(T) \n",
    "    for t in range(T):\n",
    "        a = act(q, epsilon) \n",
    "        reward = play_bandit(a, variance)\n",
    "        q[a] = update_q(q[a], reward)\n",
    "        actions[t] = a\n",
    "        rewards[t] = reward\n",
    "\n",
    "    return q, actions, rewards"
   ]
  },
  {
   "cell_type": "markdown",
   "id": "09e0984e",
   "metadata": {},
   "source": [
    "## 11. The time series of actions $a_t$\n",
    "\n",
    "From the below figure, we can find that most of the actions are the Xth, for which I may consider as the the Exploit behaviour. Other actions might be the Explore.\n",
    "\n",
    "### 11.1 Action Distribution Plot\n",
    "\n",
    "Run the below cell several times, you might find that the percentage of optimal action sometimes is significatnly lower than $\\epsilon=99$%. That is due to the **non-representative exploration set**."
   ]
  },
  {
   "cell_type": "code",
   "execution_count": 225,
   "id": "9d20008a",
   "metadata": {},
   "outputs": [
    {
     "data": {
      "image/png": "[encoded data removed]",
      "text/plain": [
       "<Figure size 432x288 with 1 Axes>"
      ]
     },
     "metadata": {
      "needs_background": "light"
     },
     "output_type": "display_data"
    }
   ],
   "source": [
    "q, actions, rewards = simulate_agent() \n",
    "plt.plot(actions) \n",
    "plt.xlabel('$t$')\n",
    "plt.ylabel('$a_t$')\n",
    "plt.title(f' The Optimal Action is {q.argmax()}th. \\n \\\n",
    "        The percentage of optimal action account for {(actions == q.argmax()).sum() / len(actions) * 100}%')\n",
    "plt.show()"
   ]
  },
  {
   "cell_type": "markdown",
   "id": "9cb8d590",
   "metadata": {},
   "source": [
    "### Rewards $r_t$ Plot"
   ]
  },
  {
   "cell_type": "code",
   "execution_count": 226,
   "id": "2a2a52a0",
   "metadata": {},
   "outputs": [
    {
     "data": {
      "image/png": "[encoded data removed]",
      "text/plain": [
       "<Figure size 432x288 with 1 Axes>"
      ]
     },
     "metadata": {
      "needs_background": "light"
     },
     "output_type": "display_data"
    }
   ],
   "source": [
    "plt.plot(rewards) \n",
    "plt.xlabel('$t$'); \n",
    "plt.ylabel('$r_t$'); \n",
    "plt.show()"
   ]
  },
  {
   "cell_type": "markdown",
   "id": "ea7e2f40",
   "metadata": {},
   "source": [
    "## 12. The Expected Reward\n",
    "\n",
    "From this single realisation of the model we can calculate a crude estimate of the expected reward from following our epsilon-greedy policy. "
   ]
  },
  {
   "cell_type": "code",
   "execution_count": 247,
   "id": "681e7ae8",
   "metadata": {},
   "outputs": [
    {
     "name": "stdout",
     "output_type": "stream",
     "text": [
      "The Optimal Reward is 20.095615163366052, \n",
      " our all-period mean reward is 11.480451960981592 \n",
      " our last-part mean reward is 16.946393445150765\n"
     ]
    }
   ],
   "source": [
    "print(f'The Optimal Reward is {rewards.max()}, \\n \\\n",
    "our all-period mean reward is {np.mean(rewards)} \\n \\\n",
    "our last-part mean reward is {np.mean(rewards[4500:])}')"
   ]
  },
  {
   "cell_type": "code",
   "execution_count": 245,
   "id": "103b5e0c",
   "metadata": {},
   "outputs": [
    {
     "data": {
      "text/plain": [
       "1.4323084582215662"
      ]
     },
     "execution_count": 245,
     "metadata": {},
     "output_type": "execute_result"
    }
   ],
   "source": [
    "np.var(rewards[4500:])"
   ]
  },
  {
   "cell_type": "code",
   "execution_count": 241,
   "id": "08872192",
   "metadata": {},
   "outputs": [
    {
     "data": {
      "text/plain": [
       "15.700650551273084"
      ]
     },
     "execution_count": 241,
     "metadata": {},
     "output_type": "execute_result"
    }
   ],
   "source": [
    "np.var(rewards)"
   ]
  },
  {
   "cell_type": "markdown",
   "id": "c5cd171c",
   "metadata": {},
   "source": [
    "## 13. Tuning the exploration rate hyper-parameter\n",
    "\n",
    "What factors determine the optimal choice of $\\epsilon$?\n",
    "\n",
    "### 13.1 The exploration/exploitation trade-off\n",
    "\n",
    "- Exploration can be costly since there is an opportunity-cost from not taking the greedy action, provided that our value estimates are accurate.\n",
    "- If estimates are inaccurate, we must explore in order to increase accuracy through sampling.\n",
    "\n",
    "### Standard Error of the Mean\n",
    "\n",
    "Our $Q$ values are sample means, therefore their standard error is:\n",
    "\n",
    "$$SE_Q = \\frac{\\sigma_r}{\\sqrt{k_{\\alpha}}}$$\n",
    "\n",
    "### Uncertainty in Rewards\n",
    "\n",
    "- If we are certain about the rewards then there is no need to explore.\n",
    "- Uncertainty can arise from:\n",
    "    - *variance* in the reward distributions, and\n",
    "    - non-stationarity in the underlying data-generation process for each reward distribution.\n",
    "- Note that variance in reward distributions can be a modelling artifact;\n",
    "- since sometimes we lack *knowledge* of, or the ability to *control*, extraneous variables which affect the reward.\n",
    "- This latter uncertaintity relates to the concept of *states*, which we discuss later.\n",
    "\n",
    "### Increasing the Exploration Rate\n",
    "\n",
    "Let’s rerun the simulation with a higher exploration of $1 − \\epsilon$ by setting $\\epsilon = 0.97$."
   ]
  },
  {
   "cell_type": "code",
   "execution_count": 248,
   "id": "54cd599e",
   "metadata": {},
   "outputs": [],
   "source": [
    "q, actions, rewards = simulate_agent(epsilon=0.97)"
   ]
  },
  {
   "cell_type": "code",
   "execution_count": 249,
   "id": "e9d9dba6",
   "metadata": {},
   "outputs": [
    {
     "data": {
      "text/plain": [
       "18.625838535869995"
      ]
     },
     "execution_count": 249,
     "metadata": {},
     "output_type": "execute_result"
    }
   ],
   "source": [
    "np.mean(rewards[4500:])"
   ]
  },
  {
   "cell_type": "code",
   "execution_count": 250,
   "id": "43d57493",
   "metadata": {},
   "outputs": [
    {
     "data": {
      "text/plain": [
       "5.687238290227329"
      ]
     },
     "execution_count": 250,
     "metadata": {},
     "output_type": "execute_result"
    }
   ],
   "source": [
    "np.var(rewards[4500:])"
   ]
  },
  {
   "cell_type": "markdown",
   "id": "b636a609",
   "metadata": {},
   "source": [
    "### Time Series of Action"
   ]
  },
  {
   "cell_type": "code",
   "execution_count": 251,
   "id": "f07fe58a",
   "metadata": {},
   "outputs": [
    {
     "data": {
      "image/png": "[encoded data removed]",
      "text/plain": [
       "<Figure size 432x288 with 1 Axes>"
      ]
     },
     "metadata": {
      "needs_background": "light"
     },
     "output_type": "display_data"
    }
   ],
   "source": [
    "plt.plot(actions) \n",
    "plt.xlabel('$t$'); \n",
    "plt.ylabel('$a_t$');\n",
    "plt.show()"
   ]
  },
  {
   "cell_type": "markdown",
   "id": "226553a1",
   "metadata": {},
   "source": [
    "### 13.2 Softmax Exploration\n",
    "\n",
    "$$ Pr(A_t = a) = \\frac{e^{Q_t(a)/\\tau}}{\\sum_{b=1}^k e^{Q_t(b)/\\tau}} $$\n",
    "\n",
    ", where $\\tau$ is a hyper-parameter denoting a positive *temperature*.\n",
    "\n",
    "- Higher temperatures cause all actions to be nearly equiprobable (equal probability).\n",
    "- In the limit as $\\tau \\to 0$ softmax action selection is the same as greedy action selection.\n",
    "- Exploration is biased towards those actions with higher currently-estimated return.\n",
    "\n",
    "The above softmax distribution is also named the Boltzmann Distribution.\n",
    "\n",
    "For example, for a series $[1,3,5]$, the softmax would return a probability list $[\\frac{e^{1/\\tau}}{e^{1/\\tau}+e^{3/\\tau}+e^{5/\\tau}}, \\frac{e^{3/\\tau}}{e^{1/\\tau}+e^{3/\\tau}+e^{5/\\tau}}, \\frac{e^{5/\\tau}}{e^{1/\\tau}+e^{3/\\tau}+e^{5/\\tau}}]$\n",
    "\n",
    "#### The Boltzmann distribution in Python"
   ]
  },
  {
   "cell_type": "code",
   "execution_count": 253,
   "id": "535b7017",
   "metadata": {},
   "outputs": [],
   "source": [
    "def boltzmann(propensity, tau):\n",
    "    return np.exp(propensity / tau)\n",
    "\n",
    "def boltzmann_distribution(propensities, tau):\n",
    "    \"\"\"\n",
    "    Softmax Prob\n",
    "    \"\"\"\n",
    "    x = np.array([boltzmann(p, tau) for p in propensities]) \n",
    "    total = np.sum(x)\n",
    "    return x / total"
   ]
  },
  {
   "cell_type": "markdown",
   "id": "fcb37776",
   "metadata": {},
   "source": [
    "#### 13.2.1 Example $Q$ values"
   ]
  },
  {
   "cell_type": "code",
   "execution_count": 257,
   "id": "525568c0",
   "metadata": {},
   "outputs": [
    {
     "data": {
      "image/png": "[encoded data removed]",
      "text/plain": [
       "<Figure size 432x288 with 1 Axes>"
      ]
     },
     "metadata": {
      "needs_background": "light"
     },
     "output_type": "display_data"
    }
   ],
   "source": [
    "Q = np.array([10., 8., 0.9, 1.1, 1.]) \n",
    "plt.bar(range(len(Q)), Q); \n",
    "plt.xlabel('$a$'); \n",
    "plt.ylabel('$Q(a)$') \n",
    "plt.show()"
   ]
  },
  {
   "cell_type": "markdown",
   "id": "f17cf98c",
   "metadata": {},
   "source": [
    "#### Softmax probabilities for $\\tau = 2$\n",
    "- We can compute $Pr(a)$ for a given temperature $\\tau$.\n",
    "- Below we show the action selection probabilities for $\\tau = 2$.\n",
    "- As we increase the temperature, we reduce the skew of the distribution."
   ]
  },
  {
   "cell_type": "code",
   "execution_count": 262,
   "id": "d5b55b0e",
   "metadata": {},
   "outputs": [
    {
     "data": {
      "image/png": "[encoded data removed]",
      "text/plain": [
       "<Figure size 432x288 with 1 Axes>"
      ]
     },
     "metadata": {
      "needs_background": "light"
     },
     "output_type": "display_data"
    }
   ],
   "source": [
    "plt.bar(range(len(Q)), boltzmann_distribution(Q, tau=2.)) \n",
    "plt.xlabel('$a$'); \n",
    "plt.ylabel('$Pr(a)$') \n",
    "plt.show()"
   ]
  },
  {
   "cell_type": "markdown",
   "id": "f262772c",
   "metadata": {},
   "source": [
    "#### 13.2.2 If $\\tau = 10$"
   ]
  },
  {
   "cell_type": "code",
   "execution_count": 26,
   "id": "48a6ea06",
   "metadata": {},
   "outputs": [
    {
     "data": {
      "image/png": "[encoded data removed]",
      "text/plain": [
       "<Figure size 432x288 with 1 Axes>"
      ]
     },
     "metadata": {
      "needs_background": "light"
     },
     "output_type": "display_data"
    }
   ],
   "source": [
    "plt.bar(range(len(Q)), boltzmann_distribution(Q, tau=10.)) \n",
    "plt.xlabel('$a$'); \n",
    "plt.ylabel('$Pr(a)$') \n",
    "plt.show()"
   ]
  },
  {
   "cell_type": "markdown",
   "id": "6431cc1d",
   "metadata": {},
   "source": [
    "#### 13.2.3 If$\\tau = 100$"
   ]
  },
  {
   "cell_type": "code",
   "execution_count": 27,
   "id": "942c54d7",
   "metadata": {},
   "outputs": [
    {
     "data": {
      "image/png": "[encoded data removed]",
      "text/plain": [
       "<Figure size 432x288 with 1 Axes>"
      ]
     },
     "metadata": {
      "needs_background": "light"
     },
     "output_type": "display_data"
    }
   ],
   "source": [
    "Q = np.array([10., 8., 1., 1., 1.])\n",
    "plt.bar(range(len(Q)), boltzmann_distribution(Q, tau=100.)) \n",
    "plt.xlabel('$a$'); \n",
    "plt.ylabel('$Pr(a)$') \n",
    "plt.show()"
   ]
  },
  {
   "cell_type": "markdown",
   "id": "8e063057",
   "metadata": {},
   "source": [
    "From the above figures, we can find that the probability distribution converges to be equally weighted, as $\\tau \\to \\infty$.\n",
    "\n",
    "## Summary\n",
    "- Reinforcement-learning is an example of machine-learning.\n",
    "- It can be used to solve stochastic control problems.\n",
    "- We do not require a model of the environment; we can learn directly from *experience*; e.g. a realised profit/loss.\n",
    "- Successful application of this technique requires careful selection of hyper-parameters.\n",
    "- We should consider uncertainty and risk when selecting exploration parameters.\n",
    "- So far, we have considered problems with a single state.\n",
    "- We will next extend this framework to multiple states using a case-study of a simple algorithmic trading strategy."
   ]
  }
 ],
 "metadata": {
  "kernelspec": {
   "display_name": "Python 3 (ipykernel)",
   "language": "python",
   "name": "python3"
  },
  "language_info": {
   "codemirror_mode": {
    "name": "ipython",
    "version": 3
   },
   "file_extension": ".py",
   "mimetype": "text/x-python",
   "name": "python",
   "nbconvert_exporter": "python",
   "pygments_lexer": "ipython3",
   "version": "3.9.12"
  }
 },
 "nbformat": 4,
 "nbformat_minor": 5
}
