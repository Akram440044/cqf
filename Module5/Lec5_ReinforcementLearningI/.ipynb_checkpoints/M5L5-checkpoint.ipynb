{
 "cells": [
  {
   "cell_type": "code",
   "execution_count": 28,
   "id": "0c6bd6f9",
   "metadata": {},
   "outputs": [],
   "source": [
    "import numpy as np \n",
    "import pandas as pd\n",
    "import matplotlib.pyplot as plt\n",
    "\n",
    "import warnings\n",
    "warnings.filterwarnings('ignore')"
   ]
  },
  {
   "cell_type": "markdown",
   "id": "05870929",
   "metadata": {},
   "source": [
    "### Learning Agents\n",
    "\n",
    "- The agent repeatedly takes **action** $a_t \\in \\mathbb{A}$ in discrete time periods, $t \\in \\mathbb{N}.$\n",
    "- When the agent choose action $a_t$ at time $t$, it obtaints an immediate **observable reward**, $r_{t+1}$.\n",
    "- The **return** $G_t$ at time $t$ is some function $f$ of the future rewards $G_t= f(r_{t+1} , r_{t+2},\\cdots)$.\n",
    "- Often we use $G_t = \\sum_{i=t}^{\\infty} \\gamma^i r_{i+1}$, where $\\gamma \\ in [0,1]$ is the **time discounting** of the agent.\n",
    "\n",
    "### Markov Decision Processes\n",
    "- The reward is a function of the action chosen in the previous state $s_t \\in \\mathbb{S}$.\n",
    "- The $s$ state and action $a$ at time $t$ determines the probability of the subsequent state s ′ and reward $r$.\n",
    "- The probabilities are specified by the function $p(s',r|s,a)$.\n",
    "- This specifies a finite **Markov Decision-Process**.\n",
    "- The goal of the agent is to maximise the expected return $\\mathbb{E}(G)$.\n",
    "- The agent follows a **policy** which specifies an action to take in each state: $\\pi(s)\\in\\mathbb{A}$.\n",
    "- The optimal policy is denoted $\\pi^*$ .\n",
    "\n",
    "### Value Functions\n",
    "\n",
    "We use the function $v(a)$ to denote the expected return for action a over the entire episode:\n",
    "\n",
    "$$v(a) = \\mathbb{E}(G|a_t = a)$$\n",
    "\n",
    "$$ = \\mathbb{E}(R_{a})$$\n",
    "\n",
    "- Typically, the function $v$ is unknown to the agent.\n",
    "- In this scenario, the agent performs *sequential decision making under uncertainty*.\n",
    "\n",
    "Consider a $n$-armed bandit, where $R_{a}\\sim N(a, 1)$"
   ]
  },
  {
   "cell_type": "code",
   "execution_count": 2,
   "id": "1cf0dc2c",
   "metadata": {},
   "outputs": [
    {
     "data": {
      "text/plain": [
       "0.6132729513500659"
      ]
     },
     "execution_count": 2,
     "metadata": {},
     "output_type": "execute_result"
    }
   ],
   "source": [
    "def play_bandit(a, variance=1.0):\n",
    "    \"\"\" Return the reward from taking action a \"\"\" \n",
    "    return np.random.normal(a, scale=np.sqrt(variance))\n",
    "\n",
    "r_2 = play_bandit(a=1) \n",
    "r_2"
   ]
  },
  {
   "cell_type": "markdown",
   "id": "e1dac39c",
   "metadata": {},
   "source": [
    "### Greedy Action\n",
    "\n",
    "If we can compute $v(a)$, then the agent's optimal policy is simple. That is the agent simply choose the action with the highest expection.\n",
    "\n",
    "$$a^* = arg\\max_{a} v(a)$$\n",
    "\n",
    "- we call $a^*$ as the **greedy action**.\n",
    "\n",
    "### Learning as Sampling\n",
    "\n",
    "The random variates, $r_t$, are directly observable.\n",
    "They are samples from the distribution $F_{a}(r)$.\n",
    "\n",
    "$$r_t \\sim^{distribution} F_{a}(r)$$\n",
    "\n",
    "How can we estimate $v(\\alpha)$ given the observed rewards $r_1,r_2, ..., r_t$?\n",
    "\n",
    "### Value Estimation\n",
    "We can use the *sampling to estimate* $v(.)$,\n",
    "\n",
    "$$Q_r(a) = \\frac{r_1+r_2+...+r_k}{k}$$\n",
    "\n",
    "- By the law of large numbers,\n",
    "\n",
    "$$ \\lim_{k\\to\\infty}Q(a) = v(a) $$"
   ]
  },
  {
   "cell_type": "code",
   "execution_count": 3,
   "id": "ddbbc63a",
   "metadata": {},
   "outputs": [],
   "source": [
    "def sample_from_bandit(a, k):\n",
    "    rewards = []\n",
    "    for t in range(k):\n",
    "        r = play_bandit(a)\n",
    "        rewards.append(r)\n",
    "    return np.mean(rewards)"
   ]
  },
  {
   "cell_type": "code",
   "execution_count": 4,
   "id": "ad2eda9d",
   "metadata": {},
   "outputs": [
    {
     "data": {
      "text/plain": [
       "1.5088149667445818"
      ]
     },
     "execution_count": 4,
     "metadata": {},
     "output_type": "execute_result"
    }
   ],
   "source": [
    "q_2 = sample_from_bandit(a=2, k=20)\n",
    "q_2"
   ]
  },
  {
   "cell_type": "markdown",
   "id": "123f8d10",
   "metadata": {},
   "source": [
    "#### Optimise the Coding\n",
    "\n",
    "Using `map`, instead of a loop, to speed up the algorithm."
   ]
  },
  {
   "cell_type": "code",
   "execution_count": 5,
   "id": "d847764e",
   "metadata": {},
   "outputs": [],
   "source": [
    "def sample_from_bandit(a,k):\n",
    "    return np.mean(map(lambda i: play_bandita), range(k))"
   ]
  },
  {
   "cell_type": "markdown",
   "id": "0304c5fb",
   "metadata": {},
   "source": [
    "Or, in a comprehension way,"
   ]
  },
  {
   "cell_type": "code",
   "execution_count": 6,
   "id": "e49c1a9d",
   "metadata": {},
   "outputs": [],
   "source": [
    "def sample_from_bandit(a,k):\n",
    "    return np.mean(map(lambda i: play_bandita), range(k))"
   ]
  },
  {
   "cell_type": "markdown",
   "id": "031e6b53",
   "metadata": {},
   "source": [
    "Further code optimisation could be implemented, for instance, for large sample sizes we need to allocate memory to hold all the previous samples."
   ]
  },
  {
   "cell_type": "markdown",
   "id": "6395b34e",
   "metadata": {},
   "source": [
    "### Incremental update of estimates\n",
    "\n",
    "$$\\begin{equation}\n",
    "\\begin{split}\n",
    "Q_{k+1} & = \\frac{1}{k} \\sum_{i=1}^k r_i \\\\\n",
    "& = \\frac{1}{k}(r_k + \\sum_{i=1}^{k-1} r_i) \\\\\n",
    "& = \\frac{1}{k}(r_k + (k-1) \\frac{1}{k-1}\\sum_{i=1}^{k-1} r_i) \\\\\n",
    "& = \\frac{1}{k}[r_k + (k-1)Q_k] \\\\\n",
    "& = \\frac{1}{k}[r_k + k\\cdot Q_k - Q_k] \\\\\n",
    "& = Q_k + \\frac{1}{k}[r_k - Q_k] \n",
    "\\end{split}\n",
    "\\end{equation}$$\n",
    "\n",
    "### Temporal Difference Learning\n",
    "- We are adjusting/updating an old estimate towards a new estimate based on more recent information.\n",
    "- We can think of the coefficient $(k)^{−1}$ as a step size parameter.\n",
    "$$Q_{k+1} = \\frac{1}{k} [r_k - Q_k] $$\n",
    "\n",
    "`new_estimate = old_estimate + step_size * (target - old_estimate)`\n",
    "\n",
    "#### Incremental Updates in Python"
   ]
  },
  {
   "cell_type": "code",
   "execution_count": 7,
   "id": "cab8305f",
   "metadata": {},
   "outputs": [],
   "source": [
    "def update_q(old_estimate, target_estimate, k): \n",
    "    step_size = 1./(k+1) \n",
    "    error = target_estimate - old_estimate \n",
    "    return old_estimate + step_size * error\n",
    "\n",
    "def sample_from_bandit(a, k):\n",
    "\n",
    "    current_estimate = 0.\n",
    "    for t in range(k):\n",
    "        current_estimate = update_q(current_estimate, play_bandit(a), t) \n",
    "        return current_estimate"
   ]
  },
  {
   "cell_type": "code",
   "execution_count": 8,
   "id": "90547da4",
   "metadata": {},
   "outputs": [
    {
     "data": {
      "text/plain": [
       "0.5294183826006025"
      ]
     },
     "execution_count": 8,
     "metadata": {},
     "output_type": "execute_result"
    }
   ],
   "source": [
    "q_2 = sample_from_bandit(a=2, k=100000) \n",
    "q_2"
   ]
  },
  {
   "cell_type": "markdown",
   "id": "ef47ad7a",
   "metadata": {},
   "source": [
    "### Using a Constant Step Size\n",
    "\n",
    "Recall that with our previous update rule, the step_size parameter varies with each update.\n",
    "\n",
    "$$Q_{k+1} = \\frac{1}{k}[r_k-Q_k]$$\n",
    "\n",
    "Alternatively, we can use a constant step size $\\alpha \\in [0,1]$\n",
    "\n",
    "$$Q_{k+1} =Q_k + \\alpha [r_k - Q_k] $$\n",
    "\n",
    "### Exponential Moving-average of Rewards\n",
    "\n",
    "$$\n",
    "\\begin{equation} \\begin{split}\n",
    "Q_{k+1} &= Q_k + \\alpha [r_k - Q_k] \\\\\n",
    "&= \\alpha r_k + (1-\\alpha) Q_k \\\\\n",
    "&= \\alpha r_k + (1-\\alpha)[\\alpha r_{k-1} + (1-\\alpha)Q_{k-1}] \\\\\n",
    "&= \\alpha r_k + (1-\\alpha)\\alpha r_{k-1} + (1-\\alpha)^2 \\alpha Q_{k-1} \\\\\n",
    "&= \\alpha r_k + (1-\\alpha)\\alpha r_{k-1} + (1-\\alpha)^2 \\alpha Q_{k-1} + \\cdots + (1-\\alpha)^{k-1} \\alpha Q_{1} + (1-\\alpha)^{k} \\alpha Q_{0}\\\\\n",
    "&= (1-\\alpha)^k Q_0 + \\sum^k_{i=1} \\alpha (1-\\alpha)^{k-i} r_i\n",
    "\\end{split} \\end{equation}\n",
    "$$\n",
    "\n",
    "### Recency\n",
    "\n",
    "- Thus we see that if we use constant step-size parameter, we are calculating an exponential (i.e. time-weighted) *moving average*.\n",
    "- The moving average is an estimate of the expected reward.\n",
    "- The parameter $\\alpha$ is sometimes called the ***recency***. ($\\alpha$, *alpha* denotes the ***recency***, and $a$ denotes the ***action***)\n",
    "- This parameter is *not* learned, but instead is chosen by the scientist.\n",
    "- Parameters that are chosen but not learned are called *hyper-parameters*.\n",
    "\n",
    "#### Non-stationary environments\n",
    "If the first moment of the reward distribution is **non-stationary**, then we should choose a larger values of $\\alpha$."
   ]
  },
  {
   "cell_type": "code",
   "execution_count": 9,
   "id": "2896e42b",
   "metadata": {},
   "outputs": [],
   "source": [
    "def update_q(old_estimate, target_estimate, recency=0.2):\n",
    "    \n",
    "    error = target_estimate - old_estimate \n",
    "    return old_estimate + recency * error"
   ]
  },
  {
   "cell_type": "markdown",
   "id": "fbe3d914",
   "metadata": {},
   "source": [
    "### Action Selection\n",
    "\n",
    "As discussed, if we have accurate estimates $Q(a) = v(a)$, then the optimal policy $\\pi^*$ is straightforward:\n",
    "\n",
    "$$a_t^* = arg\\max_{a} Q_t(a)$$\n",
    "\n",
    "- However, is this the optimal policy if estimates are inaccurate?\n",
    "\n",
    "#### Exploration\n",
    "- Value forecasting and policy selection are not independent.\n",
    "- If estimates $Q(a)$ are based on small sample sizes $k_a$ , and we always choose the *greedy action*, then our policy will be suboptimal.\n",
    "- Taking the greedy action is called exploitation.\n",
    "- In order to learn, our agent must also *explore* the environment by sampling from alternative actions.\n",
    "- This is true even when current information suggests that the alternative are suboptimal;\n",
    "- current information may be inaccurate.\n",
    "\n",
    "#### $\\epsilon$-greedy exploration\n",
    "- There are many different strategies for exploration.\n",
    "- With $\\epsilon$-greedy exploration with probability ϵ we choose an action randomly, otherwise we exploit.\n",
    "- We introduce a new hyper-parameter $\\epsilonϵ ∈ [0, 1]$.\n",
    "- Each time we choose action, we draw a random variate $\\eta_t \\sim U(0,1)$\n",
    "\n",
    "$$ \\eta_t \\leq \\epsilon \\Rightarrow a_t = a_t^* $$\n",
    "$$ \\eta_t > \\epsilon \\Rightarrow a_t \\sim U(1,n) $$"
   ]
  },
  {
   "cell_type": "code",
   "execution_count": 10,
   "id": "4bd0a7c6",
   "metadata": {},
   "outputs": [],
   "source": [
    "# the epsilon exploration\n",
    "def explore(q):\n",
    "    return np.random.randint(len(q))\n",
    "\n",
    "def exploit(q):\n",
    "    greedy_actions, = np.where(q == np.max(q)) \n",
    "    return np.random.choice(greedy_actions)\n",
    "\n",
    "# break ties randomly\n",
    "def act(q, epsilon=0.99):\n",
    "    if np.random.random() < epsilon:\n",
    "        return exploit(q) \n",
    "    else:\n",
    "        return explore(q)"
   ]
  },
  {
   "cell_type": "code",
   "execution_count": 11,
   "id": "e568a94b",
   "metadata": {},
   "outputs": [],
   "source": [
    "# a completet example\n",
    "\n",
    "def simulate_agent(n = 20, T = 5000, epsilon=0.99, variance=1.0):\n",
    "    q = np.zeros(n) \n",
    "    actions = np.zeros(T) \n",
    "    rewards = np.zeros(T) \n",
    "    for t in range(T):\n",
    "        a = act(q, epsilon) \n",
    "        reward = play_bandit(a, variance)\n",
    "        q[a] = update_q(q[a], reward)\n",
    "        actions[t] = a\n",
    "        rewards[t] = reward\n",
    "\n",
    "    return q, actions, rewards"
   ]
  },
  {
   "cell_type": "markdown",
   "id": "09e0984e",
   "metadata": {},
   "source": [
    "### The time series of actions $a_t$"
   ]
  },
  {
   "cell_type": "code",
   "execution_count": 14,
   "id": "9d20008a",
   "metadata": {},
   "outputs": [
    {
     "data": {
      "image/png": "[encoded data removed]",
      "text/plain": [
       "<Figure size 432x288 with 1 Axes>"
      ]
     },
     "metadata": {
      "needs_background": "light"
     },
     "output_type": "display_data"
    }
   ],
   "source": [
    "import matplotlib.pyplot as plt\n",
    "\n",
    "q, actions, rewards = simulate_agent() \n",
    "plt.plot(actions) \n",
    "plt.xlabel('$t$'); \n",
    "plt.ylabel('$a_t$'); \n",
    "plt.show()"
   ]
  },
  {
   "cell_type": "markdown",
   "id": "9cb8d590",
   "metadata": {},
   "source": [
    "### The time series of rewards $r_t$"
   ]
  },
  {
   "cell_type": "code",
   "execution_count": 15,
   "id": "2a2a52a0",
   "metadata": {},
   "outputs": [
    {
     "data": {
      "image/png": "[encoded data removed]",
      "text/plain": [
       "<Figure size 432x288 with 1 Axes>"
      ]
     },
     "metadata": {
      "needs_background": "light"
     },
     "output_type": "display_data"
    }
   ],
   "source": [
    "plt.plot(rewards) \n",
    "plt.xlabel('$t$'); \n",
    "plt.ylabel('$r_t$'); \n",
    "plt.show()"
   ]
  },
  {
   "cell_type": "markdown",
   "id": "ea7e2f40",
   "metadata": {},
   "source": [
    "### The expected reward\n",
    "\n",
    "From this single realisation of the model we can calculate a crude estimate of the expected reward from following our epsilon-greedy policy"
   ]
  },
  {
   "cell_type": "code",
   "execution_count": 16,
   "id": "4e967d4b",
   "metadata": {},
   "outputs": [
    {
     "data": {
      "text/plain": [
       "16.967424076968978"
      ]
     },
     "execution_count": 16,
     "metadata": {},
     "output_type": "execute_result"
    }
   ],
   "source": [
    "np.mean(rewards)"
   ]
  },
  {
   "cell_type": "markdown",
   "id": "81716138",
   "metadata": {},
   "source": [
    "Although the policy improves over time, it is still below the value of the optimal policy $V_{a^*=20} = 20$:"
   ]
  },
  {
   "cell_type": "code",
   "execution_count": 17,
   "id": "5a71d246",
   "metadata": {},
   "outputs": [
    {
     "data": {
      "text/plain": [
       "16.943301765133555"
      ]
     },
     "execution_count": 17,
     "metadata": {},
     "output_type": "execute_result"
    }
   ],
   "source": [
    "np.mean(rewards[4500:])"
   ]
  },
  {
   "cell_type": "code",
   "execution_count": 18,
   "id": "103b5e0c",
   "metadata": {},
   "outputs": [
    {
     "data": {
      "text/plain": [
       "1.4493848691227038"
      ]
     },
     "execution_count": 18,
     "metadata": {},
     "output_type": "execute_result"
    }
   ],
   "source": [
    "np.var(rewards[4500:])"
   ]
  },
  {
   "cell_type": "markdown",
   "id": "c5cd171c",
   "metadata": {},
   "source": [
    "### Tuning the exploration rate hyper-parameter\n",
    "\n",
    "What factors determine the optimal choice of $\\epsilon$?\n",
    "\n",
    "#### The exploration/exploitation trade-off\n",
    "\n",
    "- Exploration can be costly since there is an opportunity-cost from not taking the greedy action;\n",
    "- provided that our value estimates are accurate.\n",
    "- If estimates are inaccurate, we must explore in order to increase accuracy through sampling.\n",
    "\n",
    "### Standard Error of the Mean\n",
    "\n",
    "Our $Q$ values are sample means, therefore their standard error is:\n",
    "\n",
    "$$SE_Q = \\frac{\\sigma_r}{\\sqrt{k_{\\alpha}}}$$\n",
    "\n",
    "### Uncertainty in rewards\n",
    "\n",
    "- If we are certain about the rewards then there is no need to explore.\n",
    "- Uncertainty can arise from:\n",
    "    - *variance* in the reward distributions, and\n",
    "    - non-stationarity in the underlying data-generation process for each reward distribution.\n",
    "- Note that variance in reward distributions can be a modelling artifact;\n",
    "- since sometimes we lack *knowledge* of, or the ability to *control*, extraneous variables which affect the reward.\n",
    "- This latter uncertaintity relates to the concept of *states*, which we discuss later.\n",
    "\n",
    "### Increasing the Exploration Rate\n",
    "\n",
    "Let’s rerun the simulation with a higher exploration of $1 − \\epsilon$ by setting $\\epsilon = 0.97$."
   ]
  },
  {
   "cell_type": "code",
   "execution_count": 19,
   "id": "54cd599e",
   "metadata": {},
   "outputs": [],
   "source": [
    "q, actions, rewards = simulate_agent(epsilon=0.97)"
   ]
  },
  {
   "cell_type": "code",
   "execution_count": 20,
   "id": "e9d9dba6",
   "metadata": {},
   "outputs": [
    {
     "data": {
      "text/plain": [
       "17.505174876854987"
      ]
     },
     "execution_count": 20,
     "metadata": {},
     "output_type": "execute_result"
    }
   ],
   "source": [
    "np.mean(rewards[4500:])"
   ]
  },
  {
   "cell_type": "code",
   "execution_count": 21,
   "id": "43d57493",
   "metadata": {},
   "outputs": [
    {
     "data": {
      "text/plain": [
       "3.522856888391505"
      ]
     },
     "execution_count": 21,
     "metadata": {},
     "output_type": "execute_result"
    }
   ],
   "source": [
    "np.var(rewards[4500:])"
   ]
  },
  {
   "cell_type": "markdown",
   "id": "b636a609",
   "metadata": {},
   "source": [
    "### Time Series of Action"
   ]
  },
  {
   "cell_type": "code",
   "execution_count": 22,
   "id": "f07fe58a",
   "metadata": {},
   "outputs": [
    {
     "data": {
      "image/png": "[encoded data removed]",
      "text/plain": [
       "<Figure size 432x288 with 1 Axes>"
      ]
     },
     "metadata": {
      "needs_background": "light"
     },
     "output_type": "display_data"
    }
   ],
   "source": [
    "plt.plot(actions) \n",
    "plt.xlabel('$t$'); \n",
    "plt.ylabel('$a_t$');\n",
    "plt.show()"
   ]
  },
  {
   "cell_type": "markdown",
   "id": "226553a1",
   "metadata": {},
   "source": [
    "### Softmax Exploration\n",
    "\n",
    "$$ Pr(A_t = a) = \\frac{e^{Q_t(a)/\\tau}}{\\sum_{b=1}^k e^{Q_t(b)/\\tau}} $$\n",
    "\n",
    ", where $\\tau$ is a hyper-parameter denoting a positive *temperature*.\n",
    "\n",
    "- Higher temperatures cause all actions to be nearly equiprobable.\n",
    "- In the limit as $\\tau \\to 0$ softmax action selection is the same as greedy action selection.\n",
    "- Exploration is biased towards those actions with higher currently-estimated return.\n",
    "\n",
    "### The Boltzmann distribution in Python"
   ]
  },
  {
   "cell_type": "code",
   "execution_count": 23,
   "id": "535b7017",
   "metadata": {},
   "outputs": [],
   "source": [
    "def boltzmann(propensity, tau):\n",
    "    return np.exp(propensity / tau)\n",
    "\n",
    "def boltzmann_distribution(propensities, tau):\n",
    "    x = np.array([boltzmann(p, tau) for p in propensities]) \n",
    "    total = np.sum(x)\n",
    "    return x / total"
   ]
  },
  {
   "cell_type": "markdown",
   "id": "fcb37776",
   "metadata": {},
   "source": [
    "### Example $Q$ values"
   ]
  },
  {
   "cell_type": "code",
   "execution_count": 24,
   "id": "525568c0",
   "metadata": {},
   "outputs": [
    {
     "data": {
      "image/png": "[encoded data removed]",
      "text/plain": [
       "<Figure size 432x288 with 1 Axes>"
      ]
     },
     "metadata": {
      "needs_background": "light"
     },
     "output_type": "display_data"
    }
   ],
   "source": [
    "Q = np.array([10., 8., 0.9, 1.1, 1.]) \n",
    "plt.bar(range(len(Q)), Q); \n",
    "plt.xlabel('$a$'); \n",
    "plt.ylabel('$Q(a)$') \n",
    "plt.show()"
   ]
  },
  {
   "cell_type": "markdown",
   "id": "f17cf98c",
   "metadata": {},
   "source": [
    "### Softmax probabilities for $\\tau = 2$\n",
    "- We can compute $Pr(a)$ for a given temperature $\\tau$.\n",
    "- Below we show the action selection probabilities for $\\tau = 2$.\n",
    "- As we increase the temperature, we reduce the skew of the distribution."
   ]
  },
  {
   "cell_type": "code",
   "execution_count": 25,
   "id": "d5b55b0e",
   "metadata": {},
   "outputs": [
    {
     "data": {
      "image/png": "[encoded data removed]",
      "text/plain": [
       "<Figure size 432x288 with 1 Axes>"
      ]
     },
     "metadata": {
      "needs_background": "light"
     },
     "output_type": "display_data"
    }
   ],
   "source": [
    "plt.bar(range(len(Q)), boltzmann_distribution(Q, tau=2.)) \n",
    "plt.xlabel('$a$'); \n",
    "plt.ylabel('$Pr(a)$') \n",
    "plt.show()"
   ]
  },
  {
   "cell_type": "markdown",
   "id": "f262772c",
   "metadata": {},
   "source": [
    "#### $\\tau = 10$"
   ]
  },
  {
   "cell_type": "code",
   "execution_count": 26,
   "id": "48a6ea06",
   "metadata": {},
   "outputs": [
    {
     "data": {
      "image/png": "[encoded data removed]",
      "text/plain": [
       "<Figure size 432x288 with 1 Axes>"
      ]
     },
     "metadata": {
      "needs_background": "light"
     },
     "output_type": "display_data"
    }
   ],
   "source": [
    "plt.bar(range(len(Q)), boltzmann_distribution(Q, tau=10.)) \n",
    "plt.xlabel('$a$'); \n",
    "plt.ylabel('$Pr(a)$') \n",
    "plt.show()"
   ]
  },
  {
   "cell_type": "markdown",
   "id": "6431cc1d",
   "metadata": {},
   "source": [
    "#### $\\tau = 100$"
   ]
  },
  {
   "cell_type": "code",
   "execution_count": 27,
   "id": "942c54d7",
   "metadata": {},
   "outputs": [
    {
     "data": {
      "image/png": "[encoded data removed]",
      "text/plain": [
       "<Figure size 432x288 with 1 Axes>"
      ]
     },
     "metadata": {
      "needs_background": "light"
     },
     "output_type": "display_data"
    }
   ],
   "source": [
    "Q = np.array([10., 8., 1., 1., 1.])\n",
    "plt.bar(range(len(Q)), boltzmann_distribution(Q, tau=100.)) \n",
    "plt.xlabel('$a$'); \n",
    "plt.ylabel('$Pr(a)$') \n",
    "plt.show()"
   ]
  },
  {
   "cell_type": "markdown",
   "id": "8e063057",
   "metadata": {},
   "source": [
    "## Summary\n",
    "- Reinforcement-learning is an example of machine-learning.\n",
    "- It can be used to solve stochastic control problems.\n",
    "- We do not require a model of the environment; we can learn directly from *experience*; e.g. a realised profit/loss.\n",
    "- Successful application of this technique requires careful selection of hyper-parameters.\n",
    "- We should consider uncertainty and risk when selecting exploration parameters.\n",
    "- So far, we have considered problems with a single state.\n",
    "- We will next extend this framework to multiple states using a case-study of a simple algorithmic trading strategy."
   ]
  }
 ],
 "metadata": {
  "kernelspec": {
   "display_name": "Python 3 (ipykernel)",
   "language": "python",
   "name": "python3"
  },
  "language_info": {
   "codemirror_mode": {
    "name": "ipython",
    "version": 3
   },
   "file_extension": ".py",
   "mimetype": "text/x-python",
   "name": "python",
   "nbconvert_exporter": "python",
   "pygments_lexer": "ipython3",
   "version": "3.9.12"
  }
 },
 "nbformat": 4,
 "nbformat_minor": 5
}
