{
 "cells": [
  {
   "cell_type": "markdown",
   "id": "58853931",
   "metadata": {},
   "source": [
    "# Reinforcement Learning Case Study"
   ]
  },
  {
   "cell_type": "code",
   "execution_count": 1,
   "id": "d9821131",
   "metadata": {},
   "outputs": [],
   "source": [
    "import numpy as np\n",
    "import pandas as pd\n",
    "import matplotlib.pyplot as plt\n",
    "\n",
    "import warnings\n",
    "warnings.filterwarnings('ignore')"
   ]
  },
  {
   "cell_type": "markdown",
   "id": "273c56dd",
   "metadata": {},
   "source": [
    "## Overview\n",
    "\n",
    "- We will implement a simplified algorithmic trading strategy in Python using reinforcementlearning.\n",
    "- Our agent will attempt to earn profit from market-making in a high-frequency market.\n",
    "- We will consider a simplified environment, but the problem can be scaled up to more realistic scenarios.\n",
    "- It is based on the work of [Chan and Shelton 2001; “An Electronic Market-Maker”](https://dspace.mit.edu/handle/1721.1/7220).\n",
    "- A more structured, and fully commented, version of the code used in these notes is available on [github](https://github.com/phelps-sg/learning-market-maker/tree/master).\n",
    "\n",
    "## Training an agent in a simulation\n",
    "- Allowing an agent to learn in the real-world can be risky.\n",
    "- We can train our agent in a simulation environment.\n",
    "- The simulation environment is sometimes called a “gym”.\n",
    "- If the simulation is a good model of the real-world then the learned policy will still perform well in real-world.\n",
    "- The agent can still adapt its policy online in the real-world even if the simulation is not a good model.\n",
    "\n",
    "## The Market Model\n",
    "- We consider three types of agent:\n",
    "    - informed traders,\n",
    "    - uninformed traders, and\n",
    "    - a single market-maker.\n",
    "- Prices evolve intra-day in discrete time periods t ∈ N.\n",
    "- A single asset is traded.\n",
    "- All trades and orders involve a single share of the asset.\n",
    "- There is no order crossing between traders.\n",
    "- The arrival of traders at the market follow a Poisson process.\n",
    "\n",
    "### The Fundamental Price\n",
    "- The true price of the asset $p_t^* \\in \\mathbb{Z}$ follows a Poisson process.\n",
    "- The parameter $\\lambda_p\\in [0,1]$ is the probability of a discrete change in the price.\n",
    "\n",
    "$$ p_t^*(t) = p_0 + \\sum_{i=1}^t \\eta_t $$\n",
    "\n",
    ", where $\\eta_t$ is choosen i.i.d. from $(-1,+1,0)$ with probabilitites $(\\lambda_p ,\\lambda_p, 1-2\\lambda_p)$ respectively.\n",
    "\n",
    "### The Market Maker\n",
    "\n",
    "- In the simplest form of the model, the market maker posts a single price $p_t^m$.\n",
    "- The market maker can adjust its price:\n",
    "\n",
    "$$ p^m_{t+1} = p_t + \\Delta p_t $$\n",
    "\n",
    ", where the price changes are discrete and finite, $\\Delta p_t \\in \\{ -1, 0, +1 \\}$.\n",
    "\n",
    "- The reward at time $t$ is the change in the profit:\n",
    "    - for a sell order: $r_t = p_t^* - p_t^m$\n",
    "    - for a buy order: $r_t = p_t^m - p_t^*$\n",
    "- More advanced versions of the model consider separate bid and ask prices, and corresponding spread.\n",
    "\n",
    "### Informmed Traders\n",
    "- Informed traders have information about the fundamental price p t ∗ .\n",
    "- They can submit market orders for immediate execution at the market-maker’s price p t m .\n",
    "- They submit\n",
    "    - a buy order iff. $p_t^* > p_t^m $. \n",
    "    - a sell order iff. $p_t^* < p_t^m $. \n",
    "    - no order iff.$ p_t^* = p_t^m $.\n",
    "- They arrive at the market with probability $\\lambda_i$ .\n",
    "\n",
    "### Uninformed traders\n",
    "- Uninformed traders arrive at the market with probability $2 \\lambda_u$.\n",
    "- They submit a buy order for $+1$ shares with probability $\\lambda_u$, or a sell order for $−1$ shares with equal probability $\\lambda_u$.\n",
    "\n",
    "### The Overall Process\n",
    "\n",
    "- All Poisson processes are combined:\n",
    "$$2\\lambda_p + 2\\lambda_u + \\lambda_i = 1$$\n",
    "- There is an event at every discrete time period $t$.\n",
    "- Trade occurs a finite period of time $t \\in \\{ 1, 2, \\cdots, T\\}$ where $T$ is the duration of a single trading day.\n",
    "- The market maker operates over many days.\n",
    "- The initial conditions for every day are the same; they are independent *episodes*.\n",
    "\n",
    "### The Market Maker as an Agent\n",
    "\n",
    "- We can consider the market-maker as an adaptive agent.\n",
    "- The environment consists of the observable variables in the market.\n",
    "- Initially the observable state is the total order-imbalance $IMB_t$ .\n",
    "- The variables are discrete, therefore there is a discrete state space.\n",
    "- The market-maker chooses actions in discrete time periods $t$.\n",
    "- The set of actions A available to the agent is $\\Delta p \\in \\mathbb{A} = {-1,0,+1}$.\n",
    "- It can choose actions conditional on observations in order to maximise expected return $\\mathbb{E}[G]$, where $G = \\sum_t \\gamma^t r_t .\n",
    "\n",
    "### Pearameterising the Model\n",
    "In the following examples we use the parameterisation of the model:\n",
    "\n",
    "- $\\lambda_p = 0.2$\n",
    "- $\\lambda_u = 0.1$\n",
    "- $\\lambda_i = 0.4$\n",
    "- $T = 150$\n",
    "- $p_0^* = 200$"
   ]
  },
  {
   "cell_type": "code",
   "execution_count": 2,
   "id": "05445f80",
   "metadata": {},
   "outputs": [],
   "source": [
    "INITIAL_PRICE = 200 \n",
    "MAX_T = 150\n",
    "\n",
    "PROB_PRICE = 0.2\n",
    "\n",
    "PROB_PRICE_UP = PROB_PRICE \n",
    "PROB_PRICE_DOWN = PROB_PRICE\n",
    "\n",
    "PROB_UNINFORMED = 0.1\n",
    "\n",
    "PROB_UNINFORMED_BUY = PROB_UNINFORMED \n",
    "PROB_UNINFORMED_SELL = PROB_UNINFORMED\n",
    "\n",
    "PROB_INFORMED = 0.4\n",
    "\n",
    "ALL_PROB = [PROB_PRICE_DOWN, \n",
    "            PROB_PRICE_UP, \n",
    "            PROB_UNINFORMED_BUY, \n",
    "            PROB_UNINFORMED_SELL, \n",
    "            PROB_INFORMED]"
   ]
  },
  {
   "cell_type": "code",
   "execution_count": 3,
   "id": "7f2975d6",
   "metadata": {},
   "outputs": [
    {
     "data": {
      "text/plain": [
       "1.0"
      ]
     },
     "execution_count": 3,
     "metadata": {},
     "output_type": "execute_result"
    }
   ],
   "source": [
    "np.sum(ALL_PROB)"
   ]
  },
  {
   "cell_type": "markdown",
   "id": "62d496a6",
   "metadata": {},
   "source": [
    "### Representing Events"
   ]
  },
  {
   "cell_type": "code",
   "execution_count": 4,
   "id": "5d02b309",
   "metadata": {},
   "outputs": [],
   "source": [
    "EVENT_PRICE_CHANGE_UP    = 0\n",
    "EVENT_PRICE_CHANGE_DOWN  = 1\n",
    "EVENT_UNINFORMED_BUY     = 2\n",
    "EVENT_UNINFORMED_SELL    = 3\n",
    "EVENT_INFORMED_ARRIVAL   = 4\n",
    "\n",
    "ALL_EVENT = [EVENT_PRICE_CHANGE_DOWN, \n",
    "             EVENT_PRICE_CHANGE_UP, \n",
    "             EVENT_UNINFORMED_SELL, \n",
    "             EVENT_UNINFORMED_BUY, \n",
    "             EVENT_INFORMED_ARRIVAL]"
   ]
  },
  {
   "cell_type": "markdown",
   "id": "a8d3fb65",
   "metadata": {},
   "source": [
    "### Simulating the Poisson Process\n",
    "\n",
    "The Possion Distribution is used to simulate a discrete event occurs several times within a certain time period."
   ]
  },
  {
   "cell_type": "code",
   "execution_count": 5,
   "id": "894cd789",
   "metadata": {},
   "outputs": [],
   "source": [
    "def simulate_events(probabilities=ALL_PROB):\n",
    "    return np.random.choice(ALL_EVENT, p=probabilities, size=MAX_T)"
   ]
  },
  {
   "cell_type": "code",
   "execution_count": 6,
   "id": "901dbad0",
   "metadata": {},
   "outputs": [
    {
     "data": {
      "text/plain": [
       "array([4, 0, 4, 3, 1, 4, 2, 4, 2, 4])"
      ]
     },
     "execution_count": 6,
     "metadata": {},
     "output_type": "execute_result"
    }
   ],
   "source": [
    "events = simulate_events()\n",
    "\n",
    "# i.e. the first 10 events\n",
    "events[:10]"
   ]
  },
  {
   "cell_type": "markdown",
   "id": "b1a37b1a",
   "metadata": {},
   "source": [
    "### Simulating the Price Process"
   ]
  },
  {
   "cell_type": "code",
   "execution_count": 7,
   "id": "f132a090",
   "metadata": {},
   "outputs": [],
   "source": [
    "fundamental_price_changes = np.zeros(MAX_T)"
   ]
  },
  {
   "cell_type": "code",
   "execution_count": 8,
   "id": "136f226b",
   "metadata": {},
   "outputs": [],
   "source": [
    "fundamental_price_changes[events == EVENT_PRICE_CHANGE_DOWN] = -1 \n",
    "fundamental_price_changes[events == EVENT_PRICE_CHANGE_UP] = +1"
   ]
  },
  {
   "cell_type": "code",
   "execution_count": 9,
   "id": "32d0dc3a",
   "metadata": {},
   "outputs": [
    {
     "data": {
      "text/plain": [
       "array([ 0.,  1.,  0.,  0., -1.,  0.,  0.,  0.,  0.,  0.])"
      ]
     },
     "execution_count": 9,
     "metadata": {},
     "output_type": "execute_result"
    }
   ],
   "source": [
    "fundamental_price_changes[:10]"
   ]
  },
  {
   "cell_type": "code",
   "execution_count": 10,
   "id": "a5c79f05",
   "metadata": {},
   "outputs": [],
   "source": [
    "fundamental_price = \\\n",
    "    INITIAL_PRICE + np.cumsum(fundamental_price_changes)"
   ]
  },
  {
   "cell_type": "code",
   "execution_count": 11,
   "id": "3462fa62",
   "metadata": {},
   "outputs": [
    {
     "data": {
      "text/plain": [
       "array([200., 201., 201., 201., 200., 200., 200., 200., 200., 200.])"
      ]
     },
     "execution_count": 11,
     "metadata": {},
     "output_type": "execute_result"
    }
   ],
   "source": [
    "fundamental_price[:10]"
   ]
  },
  {
   "cell_type": "markdown",
   "id": "47232dd4",
   "metadata": {},
   "source": [
    "### As a Function"
   ]
  },
  {
   "cell_type": "code",
   "execution_count": 12,
   "id": "e7a4880e",
   "metadata": {},
   "outputs": [],
   "source": [
    "def simulate_fundamental_price(events):\n",
    "    price_changes = np.zeros(MAX_T) \n",
    "    price_changes[events == EVENT_PRICE_CHANGE_DOWN] = -1 \n",
    "    price_changes[events == EVENT_PRICE_CHANGE_UP] = +1 \n",
    "    return INITIAL_PRICE + np.cumsum(price_changes) \n",
    "\n",
    "fundamental_price = simulate_fundamental_price(events)"
   ]
  },
  {
   "cell_type": "markdown",
   "id": "38e1e234",
   "metadata": {},
   "source": [
    "### A single realisation of the price process."
   ]
  },
  {
   "cell_type": "code",
   "execution_count": 13,
   "id": "a83f3004",
   "metadata": {},
   "outputs": [
    {
     "data": {
      "image/png": "[encoded data removed]",
      "text/plain": [
       "<Figure size 432x288 with 1 Axes>"
      ]
     },
     "metadata": {
      "needs_background": "light"
     },
     "output_type": "display_data"
    }
   ],
   "source": [
    "plt.plot(fundamental_price) \n",
    "plt.xlabel('$t$'); \n",
    "plt.ylabel('$p_t^*$') \n",
    "plt.show()"
   ]
  },
  {
   "cell_type": "markdown",
   "id": "468d5ac0",
   "metadata": {},
   "source": [
    "### Uninformed traders"
   ]
  },
  {
   "cell_type": "code",
   "execution_count": 14,
   "id": "c76e6233",
   "metadata": {},
   "outputs": [
    {
     "data": {
      "text/plain": [
       "array([ 0.,  0.,  0., -1.,  0.,  0.,  1.,  0.,  1.,  0.])"
      ]
     },
     "execution_count": 14,
     "metadata": {},
     "output_type": "execute_result"
    }
   ],
   "source": [
    "def simulate_uninformed_orders(events):\n",
    "    orders = np.zeros(MAX_T) \n",
    "    orders[events == EVENT_UNINFORMED_BUY] = +1 \n",
    "    orders[events == EVENT_UNINFORMED_SELL] = -1 \n",
    "    return orders\n",
    "\n",
    "uninformed_orders = simulate_uninformed_orders(events) \n",
    "uninformed_orders[:10]"
   ]
  },
  {
   "cell_type": "markdown",
   "id": "4c4df619",
   "metadata": {},
   "source": [
    "### Uninformed Order-imbalance"
   ]
  },
  {
   "cell_type": "code",
   "execution_count": 15,
   "id": "f0c712b7",
   "metadata": {},
   "outputs": [
    {
     "data": {
      "image/png": "[encoded data removed]",
      "text/plain": [
       "<Figure size 432x288 with 1 Axes>"
      ]
     },
     "metadata": {
      "needs_background": "light"
     },
     "output_type": "display_data"
    }
   ],
   "source": [
    "plt.plot(np.cumsum(uninformed_orders)) \n",
    "plt.xlabel('$t$'); plt.ylabel('$IMB_t$') \n",
    "plt.show()"
   ]
  },
  {
   "cell_type": "markdown",
   "id": "d4fefa0f",
   "metadata": {},
   "source": [
    "### Informed Traders"
   ]
  },
  {
   "cell_type": "code",
   "execution_count": 16,
   "id": "0c400858",
   "metadata": {},
   "outputs": [],
   "source": [
    "def informed_strategy(current_price, mm_price):\n",
    "    if current_price > mm_price:\n",
    "        return 1 \n",
    "    elif current_price < mm_price:\n",
    "        return -1 \n",
    "    else:\n",
    "        return 0"
   ]
  },
  {
   "cell_type": "markdown",
   "id": "156a3d40",
   "metadata": {},
   "source": [
    "### A Simple Market-Making Strategy\n",
    "- Initially we consider a very simple policy for our market-making agent.\n",
    "- The policy $\\pi_h$ is parameterised by a single threshold parameter $h$.\n",
    "    - Increase the price by a single tick if the order-imbalance is $+h$.\n",
    "    - Decrease the price by a single tick if the order-imbalance is $−h$."
   ]
  },
  {
   "cell_type": "code",
   "execution_count": 17,
   "id": "cf3eea87",
   "metadata": {},
   "outputs": [],
   "source": [
    "def mm_threshold_strategy(order_imbalance, threshold=2):\n",
    "    if order_imbalance == -threshold:\n",
    "        return -1 \n",
    "    elif order_imbalance == +threshold:\n",
    "        return +1 \n",
    "    else:\n",
    "        return 0"
   ]
  },
  {
   "cell_type": "markdown",
   "id": "8d9e3500",
   "metadata": {},
   "source": [
    "### The Reward Function"
   ]
  },
  {
   "cell_type": "code",
   "execution_count": 18,
   "id": "a989c17b",
   "metadata": {},
   "outputs": [],
   "source": [
    "def mm_reward(current_fundamental_price, mm_current_price, order_sign):\n",
    "    if order_sign < 0:\n",
    "        return current_fundamental_price - mm_current_price \n",
    "    elif order_sign > 0:\n",
    "        return mm_current_price - current_fundamental_price \n",
    "    else:\n",
    "        return 0"
   ]
  },
  {
   "cell_type": "markdown",
   "id": "6763676a",
   "metadata": {},
   "source": [
    "### The Market Simulation"
   ]
  },
  {
   "cell_type": "code",
   "execution_count": 19,
   "id": "f2c5c1cf",
   "metadata": {},
   "outputs": [],
   "source": [
    "def simulate_market(events, uninformed_orders, fundamental_price, mm_strategy=mm_threshold_strategy, threshold=1):\n",
    "    mm_prices = np.zeros(MAX_T); order_imbalances = np.zeros(MAX_T) \n",
    "    informed_orders = np.zeros(MAX_T); \n",
    "    rewards = np.zeros(MAX_T); \n",
    "    actions = np.zeros(MAX_T) \n",
    "    t_mm = 0; \n",
    "    mm_current_price = INITIAL_PRICE\n",
    "\n",
    "    for t in range(MAX_T):\n",
    "        if events[t] == EVENT_INFORMED_ARRIVAL:\n",
    "            order = informed_strategy(fundamental_price[t], mm_current_price)\n",
    "            informed_orders[t] = order\n",
    "        else:\n",
    "            order = uninformed_orders[t]\n",
    "        \n",
    "        imbalance = np.sum(informed_orders[t_mm:t] + uninformed_orders[t_mm:t])\n",
    "        \n",
    "        mm_price_delta = mm_strategy(imbalance, threshold) \n",
    "\n",
    "        if mm_price_delta != 0:\n",
    "            t_mm = t \n",
    "            mm_current_price += mm_price_delta\n",
    "        \n",
    "        order_imbalances[t] = imbalance; mm_prices[t] = mm_current_price\n",
    "        actions[t] = mm_price_delta;\n",
    "        rewards[t] = mm_reward(fundamental_price[t], mm_current_price, order)\n",
    "\n",
    "    return mm_prices, order_imbalances, rewards, actions"
   ]
  },
  {
   "cell_type": "markdown",
   "id": "55fc50b2",
   "metadata": {},
   "source": [
    "### Order-Imbalance Time Series"
   ]
  },
  {
   "cell_type": "code",
   "execution_count": 20,
   "id": "45862d32",
   "metadata": {},
   "outputs": [
    {
     "data": {
      "image/png": "[encoded data removed]",
      "text/plain": [
       "<Figure size 432x288 with 1 Axes>"
      ]
     },
     "metadata": {
      "needs_background": "light"
     },
     "output_type": "display_data"
    }
   ],
   "source": [
    "mm_prices, order_imbalances, rewards, actions = \\\n",
    "    simulate_market(events, uninformed_orders, fundamental_price, threshold=2)\n",
    "\n",
    "plt.plot(order_imbalances); \n",
    "plt.xlabel('$t$'); \n",
    "plt.ylabel('$IMB_t$') \n",
    "plt.show()"
   ]
  },
  {
   "cell_type": "markdown",
   "id": "9f8d0336",
   "metadata": {},
   "source": [
    "### Price Time Series"
   ]
  },
  {
   "cell_type": "code",
   "execution_count": 21,
   "id": "299c4b94",
   "metadata": {},
   "outputs": [
    {
     "data": {
      "image/png": "[encoded data removed]",
      "text/plain": [
       "<Figure size 432x288 with 1 Axes>"
      ]
     },
     "metadata": {
      "needs_background": "light"
     },
     "output_type": "display_data"
    }
   ],
   "source": [
    "plt.plot(mm_prices); \n",
    "plt.plot(fundamental_price) \n",
    "plt.xlabel('$t$'); \n",
    "plt.legend(['$p^m_t$','$p^*_t$']) \n",
    "plt.show()"
   ]
  },
  {
   "cell_type": "markdown",
   "id": "c960592c",
   "metadata": {},
   "source": [
    "### Reward Time Series $r_t$"
   ]
  },
  {
   "cell_type": "code",
   "execution_count": 22,
   "id": "8d473192",
   "metadata": {},
   "outputs": [
    {
     "data": {
      "image/png": "[encoded data removed]",
      "text/plain": [
       "<Figure size 432x288 with 1 Axes>"
      ]
     },
     "metadata": {
      "needs_background": "light"
     },
     "output_type": "display_data"
    }
   ],
   "source": [
    "plt.plot(rewards) \n",
    "plt.xlabel('$t$'); \n",
    "plt.ylabel('$r_t$') \n",
    "plt.show()"
   ]
  },
  {
   "cell_type": "markdown",
   "id": "b3332be8",
   "metadata": {},
   "source": [
    "## Policy evaluation\n",
    "- Each value of the threshold parameter h defines a policy $\\pi_h$ .\n",
    "- In the experiments above we set $h = 2$.\n",
    "- We can estimate the expected reward, and hence the expected return, across the episode.\n",
    "- With no time-discounting, i.e. $\\gamma = 1$, the return $G$ is approximately:"
   ]
  },
  {
   "cell_type": "markdown",
   "id": "f47a268b",
   "metadata": {},
   "source": [
    "## Monte-carlo policy evaluation"
   ]
  },
  {
   "cell_type": "markdown",
   "id": "a3b28700",
   "metadata": {},
   "source": [
    "- We will attempt to obtain more accurate value estimates using Monte-Carlo estimation.\n",
    "- First we restructure our code so that we can easily rerun an entire simulation with given parameters."
   ]
  },
  {
   "cell_type": "code",
   "execution_count": 23,
   "id": "e845986f",
   "metadata": {},
   "outputs": [],
   "source": [
    "def simulate_all(mm_strategy=mm_threshold_strategy, threshold=1, probabilities=ALL_PROB):\n",
    "    events = simulate_events(probabilities)\n",
    "    fundamental_price = simulate_fundamental_price(events) \n",
    "    uninformed_orders = simulate_uninformed_orders(events) \n",
    "    \n",
    "    return simulate_market(events, uninformed_orders, fundamental_price, mm_strategy, threshold)"
   ]
  },
  {
   "cell_type": "code",
   "execution_count": 24,
   "id": "c3fd8ba5",
   "metadata": {},
   "outputs": [
    {
     "data": {
      "text/plain": [
       "-0.36666666666666664"
      ]
     },
     "execution_count": 24,
     "metadata": {},
     "output_type": "execute_result"
    }
   ],
   "source": [
    "mm_prices, order_imbalances, rewards, actions = simulate_all(threshold=1) \n",
    "np.mean(rewards)"
   ]
  },
  {
   "cell_type": "markdown",
   "id": "85f3cb22",
   "metadata": {},
   "source": [
    "### Using the sample-mean to estimate expected value\n",
    "- We realise the model many times.\n",
    "- Each realisation is a single episode or trajectory.\n",
    "- We can consider each episode as a sample.\n",
    "- We use the sample mean as the best estimator for the expectation."
   ]
  },
  {
   "cell_type": "code",
   "execution_count": 25,
   "id": "d8ad2b94",
   "metadata": {},
   "outputs": [],
   "source": [
    "def evaluate(policy, probabilities=ALL_PROB, samples=1000):\n",
    "    return np.mean([np.mean( simulate_all(threshold=policy)[2] ) for i in range(samples)])"
   ]
  },
  {
   "cell_type": "markdown",
   "id": "3880983c",
   "metadata": {},
   "source": [
    "### Comparing policies\n",
    "\n",
    "$v(\\pi_1)\\approx$"
   ]
  },
  {
   "cell_type": "code",
   "execution_count": 26,
   "id": "35c745f3",
   "metadata": {},
   "outputs": [
    {
     "data": {
      "text/plain": [
       "-0.4403933333333333"
      ]
     },
     "execution_count": 26,
     "metadata": {},
     "output_type": "execute_result"
    }
   ],
   "source": [
    "evaluate(policy=1)"
   ]
  },
  {
   "cell_type": "markdown",
   "id": "a65e49b7",
   "metadata": {},
   "source": [
    "$v(\\pi_2)\\approx$"
   ]
  },
  {
   "cell_type": "code",
   "execution_count": 27,
   "id": "ce553bc6",
   "metadata": {},
   "outputs": [
    {
     "data": {
      "text/plain": [
       "-0.5309266666666668"
      ]
     },
     "execution_count": 27,
     "metadata": {},
     "output_type": "execute_result"
    }
   ],
   "source": [
    "evaluate(policy=2)"
   ]
  },
  {
   "cell_type": "markdown",
   "id": "f1db9560",
   "metadata": {},
   "source": [
    "$v(\\pi_3)\\approx$"
   ]
  },
  {
   "cell_type": "code",
   "execution_count": 28,
   "id": "207fd68d",
   "metadata": {},
   "outputs": [
    {
     "data": {
      "text/plain": [
       "-0.6895266666666666"
      ]
     },
     "execution_count": 28,
     "metadata": {},
     "output_type": "execute_result"
    }
   ],
   "source": [
    "evaluate(policy=3)"
   ]
  },
  {
   "cell_type": "markdown",
   "id": "06c321f4",
   "metadata": {},
   "source": [
    "### The value of states\n",
    "- We can also estimate the value of a given state s assumming a fixed policy $\\pi$.\n",
    "- For a threshold $h = 2$, i.e. $\\pi=\\pi_2$ the states are $s\\in \\{ -2,-1,0,+1,+2 \\}$.\n",
    "- We first simulate a single episode."
   ]
  },
  {
   "cell_type": "code",
   "execution_count": 29,
   "id": "d73204ae",
   "metadata": {},
   "outputs": [
    {
     "data": {
      "text/plain": [
       "-0.44666666666666666"
      ]
     },
     "execution_count": 29,
     "metadata": {},
     "output_type": "execute_result"
    }
   ],
   "source": [
    "mm_prices, order_imbalances, rewards, actions = simulate_all(threshold=2)\n",
    "\n",
    "np.mean(rewards)"
   ]
  },
  {
   "cell_type": "markdown",
   "id": "741c1510",
   "metadata": {},
   "source": [
    "### The value of states"
   ]
  },
  {
   "cell_type": "code",
   "execution_count": 30,
   "id": "bf3ff7f8",
   "metadata": {
    "scrolled": true
   },
   "outputs": [
    {
     "data": {
      "text/plain": [
       "{(-2, -0.09090909090909091),\n",
       " (-1, -0.5172413793103449),\n",
       " (0, -0.5849056603773585),\n",
       " (1, -0.43478260869565216),\n",
       " (2, 0.0)}"
      ]
     },
     "execution_count": 30,
     "metadata": {},
     "output_type": "execute_result"
    }
   ],
   "source": [
    "value_fn = {(state, np.mean(rewards[order_imbalances == state])) \\\n",
    "            for state in [-2, -1, 0, +1, +2]} \n",
    "value_fn"
   ]
  },
  {
   "cell_type": "markdown",
   "id": "7f95af1b",
   "metadata": {},
   "source": [
    "It’s more elegant to represent this as a Python dictionary:"
   ]
  },
  {
   "cell_type": "code",
   "execution_count": 31,
   "id": "714219c5",
   "metadata": {},
   "outputs": [],
   "source": [
    "value_dict = dict(value_fn)"
   ]
  },
  {
   "cell_type": "markdown",
   "id": "968bdb45",
   "metadata": {},
   "source": [
    "To compute $v_{\\pi_2}(1)$ we can use the following"
   ]
  },
  {
   "cell_type": "code",
   "execution_count": 32,
   "id": "26e38d06",
   "metadata": {},
   "outputs": [
    {
     "data": {
      "text/plain": [
       "-0.43478260869565216"
      ]
     },
     "execution_count": 32,
     "metadata": {},
     "output_type": "execute_result"
    }
   ],
   "source": [
    "value_dict[1]"
   ]
  },
  {
   "cell_type": "markdown",
   "id": "cdee60a5",
   "metadata": {},
   "source": [
    "### The value of states\n",
    "- Note that in the previous slide our estimate was based on a single episode.\n",
    "- Below we extend the code on the previous slide to average over many episodes (samples)."
   ]
  },
  {
   "cell_type": "code",
   "execution_count": 33,
   "id": "9bf05213",
   "metadata": {},
   "outputs": [],
   "source": [
    "def expected_reward_by_state(mm_strategy, threshold, probabilities=ALL_PROB, samples=1000):\n",
    "\n",
    "    states = range(-threshold, threshold+1) \n",
    "    result = np.zeros((samples, len(states)))\n",
    "\n",
    "    for i in range(samples):\n",
    "        rewards = simulate_all(mm_strategy, threshold)[2]\n",
    "        result[i, :] = [np.mean(rewards[order_imbalances == state]) for state in states]\n",
    "\n",
    "    return dict(zip(states, np.nanmean(result, axis=0)))"
   ]
  },
  {
   "cell_type": "markdown",
   "id": "988fc768",
   "metadata": {},
   "source": [
    "### Policy Comparision"
   ]
  },
  {
   "cell_type": "markdown",
   "id": "0607fa1d",
   "metadata": {},
   "source": [
    "$v_{\\pi_1}(s)\\approx$"
   ]
  },
  {
   "cell_type": "code",
   "execution_count": 34,
   "id": "f52ec329",
   "metadata": {},
   "outputs": [
    {
     "data": {
      "text/plain": [
       "{-1: -0.44503448275862045, 0: -0.4371886792452835, 1: -0.44130434782608663}"
      ]
     },
     "execution_count": 34,
     "metadata": {},
     "output_type": "execute_result"
    }
   ],
   "source": [
    "expected_reward_by_state(mm_threshold_strategy, threshold=1)"
   ]
  },
  {
   "cell_type": "markdown",
   "id": "6c19483f",
   "metadata": {},
   "source": [
    "$v_{\\pi_2}(s)\\approx$"
   ]
  },
  {
   "cell_type": "code",
   "execution_count": 35,
   "id": "283498ae",
   "metadata": {},
   "outputs": [
    {
     "data": {
      "text/plain": [
       "{-2: -0.5181818181818176,\n",
       " -1: -0.5591379310344817,\n",
       " 0: -0.5297735849056603,\n",
       " 1: -0.5498913043478253,\n",
       " 2: -0.5424545454545452}"
      ]
     },
     "execution_count": 35,
     "metadata": {},
     "output_type": "execute_result"
    }
   ],
   "source": [
    "expected_reward_by_state(mm_threshold_strategy, threshold=2)"
   ]
  },
  {
   "cell_type": "markdown",
   "id": "3d76a7c4",
   "metadata": {},
   "source": [
    "### The value of state action pairs\n",
    "\n",
    "Ideally we would like to compute $v_{\\pi}(s,a)$."
   ]
  },
  {
   "cell_type": "code",
   "execution_count": 36,
   "id": "7c0776a4",
   "metadata": {},
   "outputs": [],
   "source": [
    "def q_table(result, all_actions, all_states):\n",
    "    return pd.DataFrame(result, \n",
    "                        columns=[\"$\\Delta p=%s$\" % a for a in all_actions], \n",
    "                        index=all_states)"
   ]
  },
  {
   "cell_type": "code",
   "execution_count": 37,
   "id": "456d9988",
   "metadata": {},
   "outputs": [],
   "source": [
    "def expected_reward_by_state_action(mm_strategy, threshold, probabilities=ALL_PROB, samples=1000):\n",
    "\n",
    "    all_states = range(-threshold, threshold+1) \n",
    "    all_actions = [-1, 0, +1] \n",
    "    result = np.zeros((samples, len(all_states), len(all_actions)))\n",
    "\n",
    "    for i in range(samples):\n",
    "        _, states, rewards, actions = simulate_all(mm_strategy, threshold)\n",
    "        result[i, :, :] = np.reshape([np.nanmean(rewards[(states == state) & (actions == action)]) \\\n",
    "                                        for state in all_states for action in all_actions], (len(all_states), len(all_actions)))\n",
    "    return np.nanmean(result, axis=0)"
   ]
  },
  {
   "cell_type": "markdown",
   "id": "18348362",
   "metadata": {},
   "source": [
    "### The value function obtained from $\\pi_2$"
   ]
  },
  {
   "cell_type": "code",
   "execution_count": 38,
   "id": "3644f000",
   "metadata": {},
   "outputs": [
    {
     "data": {
      "text/html": [
       "<div>\n",
       "<style scoped>\n",
       "    .dataframe tbody tr th:only-of-type {\n",
       "        vertical-align: middle;\n",
       "    }\n",
       "\n",
       "    .dataframe tbody tr th {\n",
       "        vertical-align: top;\n",
       "    }\n",
       "\n",
       "    .dataframe thead th {\n",
       "        text-align: right;\n",
       "    }\n",
       "</style>\n",
       "<table border=\"1\" class=\"dataframe\">\n",
       "  <thead>\n",
       "    <tr style=\"text-align: right;\">\n",
       "      <th></th>\n",
       "      <th>$\\Delta p=-1$</th>\n",
       "      <th>$\\Delta p=0$</th>\n",
       "      <th>$\\Delta p=1$</th>\n",
       "    </tr>\n",
       "  </thead>\n",
       "  <tbody>\n",
       "    <tr>\n",
       "      <th>-2</th>\n",
       "      <td>-0.390276</td>\n",
       "      <td>NaN</td>\n",
       "      <td>NaN</td>\n",
       "    </tr>\n",
       "    <tr>\n",
       "      <th>-1</th>\n",
       "      <td>NaN</td>\n",
       "      <td>-0.563617</td>\n",
       "      <td>NaN</td>\n",
       "    </tr>\n",
       "    <tr>\n",
       "      <th>0</th>\n",
       "      <td>NaN</td>\n",
       "      <td>-0.556756</td>\n",
       "      <td>NaN</td>\n",
       "    </tr>\n",
       "    <tr>\n",
       "      <th>1</th>\n",
       "      <td>NaN</td>\n",
       "      <td>-0.558060</td>\n",
       "      <td>NaN</td>\n",
       "    </tr>\n",
       "    <tr>\n",
       "      <th>2</th>\n",
       "      <td>NaN</td>\n",
       "      <td>NaN</td>\n",
       "      <td>-0.38391</td>\n",
       "    </tr>\n",
       "  </tbody>\n",
       "</table>\n",
       "</div>"
      ],
      "text/plain": [
       "    $\\Delta p=-1$  $\\Delta p=0$  $\\Delta p=1$\n",
       "-2      -0.390276           NaN           NaN\n",
       "-1            NaN     -0.563617           NaN\n",
       "0             NaN     -0.556756           NaN\n",
       "1             NaN     -0.558060           NaN\n",
       "2             NaN           NaN      -0.38391"
      ]
     },
     "execution_count": 38,
     "metadata": {},
     "output_type": "execute_result"
    }
   ],
   "source": [
    "Q = expected_reward_by_state_action(mm_threshold_strategy, threshold=2, samples=10000) \n",
    "q_table(Q, [-1, 0, +1], range(-2, 3))"
   ]
  },
  {
   "cell_type": "markdown",
   "id": "afc62e2d",
   "metadata": {},
   "source": [
    "### Exploration of the state-space"
   ]
  },
  {
   "cell_type": "code",
   "execution_count": 39,
   "id": "37bdb8b3",
   "metadata": {},
   "outputs": [],
   "source": [
    "def mm_exploration_strategy(order_imbalance, threshold=2, epsilon=0.025):\n",
    "    if np.random.random() <= epsilon:\n",
    "        return np.random.choice([-1, 0, +1]) \n",
    "    else:\n",
    "        if order_imbalance == +threshold:\n",
    "            return -1 \n",
    "        elif order_imbalance == -threshold:\n",
    "            return +1 \n",
    "        else:\n",
    "            return 0"
   ]
  },
  {
   "cell_type": "markdown",
   "id": "91ccf6da",
   "metadata": {},
   "source": [
    "### Results from Monte-Carlo policy evaluation"
   ]
  },
  {
   "cell_type": "code",
   "execution_count": null,
   "id": "f4a8564a",
   "metadata": {},
   "outputs": [],
   "source": [
    "Q = expected_reward_by_state_action(mm_exploration_strategy, threshold=2, samples=50000)"
   ]
  },
  {
   "cell_type": "code",
   "execution_count": null,
   "id": "54cdda33",
   "metadata": {},
   "outputs": [],
   "source": [
    "q_table(Q, [-1, 0, +1], range(-2, 3))"
   ]
  },
  {
   "cell_type": "markdown",
   "id": "a50e796b",
   "metadata": {},
   "source": [
    "The greedy policy:"
   ]
  },
  {
   "cell_type": "code",
   "execution_count": null,
   "id": "5c8982b0",
   "metadata": {},
   "outputs": [],
   "source": [
    "dict({(s, np.where(Q[s+2, :] == np.max(Q[s+2, :]))[0][0] - 1) for s in range(-2, 3)})"
   ]
  },
  {
   "cell_type": "markdown",
   "id": "8700d1d4",
   "metadata": {},
   "source": [
    "## Policy improvement\n",
    "- We have estimated $Q_{\\pi}(s,a)=\\hat{v}_{\\pi}(s,a) \\quad \\forall s\\in \\mathbb{S}, \\forall a \\in \\mathbb{A}$ for a given policy $\\pi$.\n",
    "- If our estimates are accurate, we can use the function $Q$ to find a better policy.\n",
    "- To improve the policy we can simply take the greedy action for a given state: $\\pi'(s) = arg\\max_a Q_{\\pi}(s,a)$.\n",
    "- For the corresponding proof, see the policy improvement theorem.\n",
    "\n",
    "## Policy iteration\n",
    "- Note, however, that if we change the policy from $\\pi$ to $\\pi'$, that our value estimates are outdated.\n",
    "- Value estimates $Q_{\\pi}(s,a)$ are obtained from following a given policy $\\pi$.\n",
    "- Value estimates and policies are not independent of each other.\n",
    "- Therefore we should re-estimate $Q'_{\\pi'}(s,a)$ for the new policy as $\\hat{v}_{\\pi'}(s,a)$.\n",
    "- We iterate until the policy and value estimates converge:\n",
    "\n",
    "$$ \\pi(s,a) \\to Q_{\\pi}(s,a)\\to \\pi'(s,a)\\to Q'_{\\pi'}(s,a) \\to \\pi''(s,a) \\to \\cdots$$\n",
    "\n",
    "![image.png](attachment:image.png)\n",
    "\n",
    "## Generalised Policy Iteration\n",
    "- Many reinforcement-learning interleaving policy improvement and value estimation;\n",
    "    - improve policy based on incomplete samples, while\n",
    "    - improving value estimates by following a (sub-optimal) policy.\n",
    "- These techniques are called Generalised Policy Iteration (GPI) methods."
   ]
  },
  {
   "attachments": {},
   "cell_type": "markdown",
   "id": "2dfb263d",
   "metadata": {},
   "source": [
    "## Temporal-difference (TD) learning\n",
    "\n",
    "Recall that:\n",
    "\n",
    "$$\\begin{equation}\\begin{split}\n",
    "v_{\\pi}(s) &= \\mathbb{E}_{\\pi}[G_t|s_t=s]\\\\\n",
    "&= \\mathbb{E}_{\\pi}[r_{t+1} + \\gamma G_{t+1}|s_t=s]\\\\\n",
    "&= \\mathbb{E}_{\\pi}[r_{t+1} + \\gamma v_{\\pi}(s_{t+1})|s_t=s]\n",
    "\\end{split}\\end{equation}$$\n",
    "\n",
    "- When we use Monte-Carlo methods, $G_t$ is unknown, so we estimate $G_t$ from sampled returns.\n",
    "- When we use dynamic-programming $v_{\\pi}(s_{t+1})$ is unknown, so we use our existing estimate $\\hat{v}_{\\pi}(s_{t+1}) = V(s_{t+1})$ instead.\n",
    "- Temporal difference learning combines both estimates:\n",
    "\n",
    "$$ V(s) \\leftarrow V(s) + \\alpha [r_t + \\gamma V(s_{t+1}) - V(s_t)] $$\n",
    "\n",
    "- We can generalise this to $Q$:\n",
    "\n",
    "$$Q(s_t, a_t) \\leftarrow Q(s_t, a_t) + \\alpha [r_t + \\gamma Q(s_{t+1},a_{t+1})-Q(s_t, a_t)]$$"
   ]
  },
  {
   "cell_type": "markdown",
   "id": "660ebfc6",
   "metadata": {},
   "source": [
    "## Initialising the Q table\n",
    "\n",
    "We first define our action space $\\Delta p_t \\in \\mathbb{A}$ and state space $IMB_t \\in \\mathbb{S}$."
   ]
  },
  {
   "cell_type": "code",
   "execution_count": null,
   "id": "1f79d238",
   "metadata": {},
   "outputs": [],
   "source": [
    "all_actions = [-1, 0, +1] \n",
    "all_states = range(-2, +3)"
   ]
  },
  {
   "cell_type": "markdown",
   "id": "0f933dc8",
   "metadata": {},
   "source": [
    "We will use a matrix to represent our current estimates $Q$."
   ]
  },
  {
   "cell_type": "code",
   "execution_count": null,
   "id": "58e5cd44",
   "metadata": {},
   "outputs": [],
   "source": [
    "def initialise_learner():\n",
    "    return np.zeros((len(all_states), len(all_actions)))"
   ]
  },
  {
   "cell_type": "code",
   "execution_count": null,
   "id": "af97eb41",
   "metadata": {},
   "outputs": [],
   "source": [
    "Q = initialise_learner() \n",
    "q_table(Q, all_actions, all_states)"
   ]
  },
  {
   "cell_type": "markdown",
   "id": "5c1ecc79",
   "metadata": {},
   "source": [
    "### Functions to manipulate $Q$\n",
    "\n",
    "We define the following functions to map from the state and action space into indices of the matrix."
   ]
  },
  {
   "cell_type": "code",
   "execution_count": null,
   "id": "54dcb5fb",
   "metadata": {},
   "outputs": [],
   "source": [
    "def state(imbalance, all_states=range(-2, +3)):\n",
    "    s = int(imbalance) - all_states[0]\n",
    "    ms = len(all_states)-1 \n",
    "    if s > ms:\n",
    "        return ms \n",
    "    elif s < 0:\n",
    "        return 0 \n",
    "    else:\n",
    "        return s\n",
    "\n",
    "def action(price_delta):\n",
    "    return int(price_delta) + 1"
   ]
  },
  {
   "cell_type": "markdown",
   "id": "0ce9900c",
   "metadata": {},
   "source": [
    "We then define functions to obtain $Q$ values from specified actions and states."
   ]
  },
  {
   "cell_type": "code",
   "execution_count": null,
   "id": "a7b9a33d",
   "metadata": {},
   "outputs": [],
   "source": [
    "def q_values(Q, imbalance):\n",
    "    return Q[state(imbalance), :]"
   ]
  },
  {
   "cell_type": "code",
   "execution_count": null,
   "id": "45fa0101",
   "metadata": {},
   "outputs": [],
   "source": [
    "def q_value(Q, imbalance, price_delta):\n",
    "    return Q[state(imbalance), action(price_delta)]"
   ]
  },
  {
   "cell_type": "markdown",
   "id": "439e302f",
   "metadata": {},
   "source": [
    "## Temporal-difference learning in Python\n",
    "\n",
    "We can translate the following equation\n",
    "\n",
    "$$Q(s_t, a_t) \\leftarrow Q(s_t, a_t) + \\alpha [r_t + \\gamma Q(s_{t+1},a_{t+1}) - Q(s_t, a_t)]$$\n",
    "\n",
    "into Python:"
   ]
  },
  {
   "cell_type": "code",
   "execution_count": null,
   "id": "8df697e9",
   "metadata": {},
   "outputs": [],
   "source": [
    "def update_learner(s, a, r, s_, a_, Q, alpha=0.01, gamma=0.0):\n",
    "    Q[state(s), action(a)] += alpha * (r + gamma * q_value(Q, s_, a_) - q_value(Q, s, a))"
   ]
  },
  {
   "cell_type": "markdown",
   "id": "edcd61b7",
   "metadata": {},
   "source": [
    "Now we must modify our simulation code to provide feedback to the agent.\n",
    "\n",
    "## The market-maker as a reinforcement-learning agent"
   ]
  },
  {
   "cell_type": "code",
   "execution_count": null,
   "id": "ccd1e3ef",
   "metadata": {},
   "outputs": [],
   "source": [
    "def simulate_learning_mm(Q, events, uninformed_orders, fundamental_price,mm_policy):\n",
    "    mm_prices = np.zeros(MAX_T, dtype=int); \n",
    "    order_imbalances = np.zeros(MAX_T, dtype=int) \n",
    "    informed_orders = np.zeros(MAX_T, dtype=int); \n",
    "    rewards = np.zeros(MAX_T); \n",
    "    actions = np.zeros(MAX_T, dtype=int); \n",
    "    mm_t_last_change = 0 \n",
    "    mm_current_price = INITIAL_PRICE \n",
    "    for t in range(MAX_T):\n",
    "        if events[t] == EVENT_INFORMED_ARRIVAL:\n",
    "            order = informed_strategy(fundamental_price[t], mm_current_price)\n",
    "            informed_orders[t] = order\n",
    "        else:\n",
    "            order = uninformed_orders[t]\n",
    "        imbalance = np.sum(informed_orders[mm_t_last_change:t] +uninformed_orders[mm_t_last_change:t]) \n",
    "        mm_price_delta = mm_policy(imbalance) \n",
    "        if mm_price_delta != 0:\n",
    "            mm_t_last_change = t\n",
    "            mm_current_price += mm_price_delta\n",
    "        order_imbalances[t] = imbalance; \n",
    "        mm_prices[t] = mm_current_price\n",
    "        \n",
    "        actions[t] = mm_price_delta;\n",
    "        rewards[t] = mm_reward(fundamental_price[t], mm_current_price, order)\n",
    "\n",
    "        if t>0:\n",
    "            update_learner(order_imbalances[t-1], actions[t-1], rewards[t-1], imbalance, mm_price_delta, Q) \n",
    "        \n",
    "    return fundamental_price, mm_prices, order_imbalances, rewards, actions, Q"
   ]
  },
  {
   "cell_type": "markdown",
   "id": "57411937",
   "metadata": {},
   "source": [
    "## On-policy control\n",
    "\n",
    "- Now we can combine policy improvement and policy estimation in a single step.\n",
    "- This algorithm is called SARSA, which is named after the arguments to the function `update_learner`.\n",
    "- We use TD learning to bootstrap $Q$ values, and then form an $\\epsilon$-greedy policy using our value estimates."
   ]
  },
  {
   "cell_type": "code",
   "execution_count": null,
   "id": "0349b621",
   "metadata": {},
   "outputs": [],
   "source": [
    "def mm_learning_strategy(Q, s, epsilon=0.1):\n",
    "    if np.random.random() <= epsilon:\n",
    "        action = np.random.choice([-1, 0, +1]) \n",
    "    else:\n",
    "        values = q_values(Q, s) \n",
    "        max_value = np.max(values) \n",
    "        action = np.random.choice(np.where(values == max_value)[0]) - 1 \n",
    "    return action"
   ]
  },
  {
   "cell_type": "code",
   "execution_count": null,
   "id": "83a1ff2a",
   "metadata": {},
   "outputs": [],
   "source": [
    "def simulate_learning(Q, probabilities=ALL_PROB):\n",
    "    events = simulate_events(probabilities) \n",
    "    fundamental_price = simulate_fundamental_price(events) \n",
    "    uninformed_orders = simulate_uninformed_orders(events)\n",
    "\n",
    "    def sarsa(s):\n",
    "        return mm_learning_strategy(Q, s)\n",
    "\n",
    "    return simulate_learning_mm(Q, events, uninformed_orders, fundamental_price, mm_policy=sarsa)"
   ]
  },
  {
   "cell_type": "markdown",
   "id": "13eed488",
   "metadata": {},
   "source": [
    "## Learning over a single episode"
   ]
  },
  {
   "cell_type": "code",
   "execution_count": null,
   "id": "0eeadb75",
   "metadata": {},
   "outputs": [],
   "source": [
    "Q = initialise_learner()"
   ]
  },
  {
   "cell_type": "code",
   "execution_count": null,
   "id": "84911567",
   "metadata": {},
   "outputs": [],
   "source": [
    "fundamental_price, mm_prices, order_imbalances, rewards, actions, Q = simulate_learning(Q)"
   ]
  },
  {
   "cell_type": "code",
   "execution_count": null,
   "id": "8b5d0eb8",
   "metadata": {},
   "outputs": [],
   "source": [
    "q_table(Q, all_actions, all_states)"
   ]
  },
  {
   "cell_type": "markdown",
   "id": "271778ab",
   "metadata": {},
   "source": [
    "## Learning over many episodes\n",
    "\n",
    "- We simply iterate over many trading days (i.e. episodes) in order to gradually learn the optimal policy.\n",
    "- Each episode is independent, but notice that we re-use the Q-values from the previous episode.\n",
    "- This ensures that we learn across episodes."
   ]
  },
  {
   "cell_type": "code",
   "execution_count": null,
   "id": "a19b1137",
   "metadata": {},
   "outputs": [],
   "source": [
    "EPISODES = 5000\n",
    "\n",
    "for i in range(EPISODES):\n",
    "    fundamental_price, mm_prices, order_imbalances, rewards, actions, Q = simulate_learning(Q)"
   ]
  },
  {
   "cell_type": "markdown",
   "id": "28672c7b",
   "metadata": {},
   "source": [
    "## The results\n",
    "\n",
    "The learned $Q$ values:"
   ]
  },
  {
   "cell_type": "code",
   "execution_count": null,
   "id": "fdfca86f",
   "metadata": {},
   "outputs": [],
   "source": [
    "q_table(Q, all_actions, all_states)"
   ]
  },
  {
   "cell_type": "markdown",
   "id": "2cf816bd",
   "metadata": {},
   "source": [
    "The greedy policy:"
   ]
  },
  {
   "cell_type": "code",
   "execution_count": null,
   "id": "dcaca092",
   "metadata": {},
   "outputs": [],
   "source": [
    "{(s, np.where(Q[state(s), :] == np.max(Q[state(s), :]))[0][0] - 1) for s in all_states}"
   ]
  },
  {
   "cell_type": "markdown",
   "id": "94be7b1c",
   "metadata": {},
   "source": [
    "## The prices from the final trading day"
   ]
  },
  {
   "cell_type": "code",
   "execution_count": null,
   "id": "7707bb3b",
   "metadata": {},
   "outputs": [],
   "source": [
    "plt.plot(mm_prices); \n",
    "plt.plot(fundamental_price) \n",
    "plt.xlabel('$t$'); \n",
    "plt.legend(['$p^m_t$','$p^*_t$']) \n",
    "plt.show()"
   ]
  },
  {
   "cell_type": "markdown",
   "id": "124293e6",
   "metadata": {},
   "source": [
    "## The rewards in the final day"
   ]
  },
  {
   "cell_type": "code",
   "execution_count": null,
   "id": "137ce814",
   "metadata": {},
   "outputs": [],
   "source": [
    "plt.plot(rewards) \n",
    "plt.xlabel('$t$'); \n",
    "plt.ylabel('$r_t$') \n",
    "plt.show()"
   ]
  },
  {
   "cell_type": "markdown",
   "id": "10f40c60",
   "metadata": {},
   "source": [
    "## Conclusion\n",
    "- We have implemented a very simple market-making strategy in a simplified model of a financial market.\n",
    "- The framework is very flexible, and can be extended to more realistic applications, e.g. separate bid and ask qutes.\n",
    "- We can use a simulation model to initially train our agent.\n",
    "- However, the agent can learn directly from the environment in the absence of a model.\n",
    "- Reinforcement-learning can be very useful in reducing model-risk.\n",
    "\n",
    "# Bibliography\n",
    "\n",
    "Chan, N. T., & Shelton, C. (2001). An electronic market-maker.\n",
    "\n",
    "Ganchev, K., Nevmyvaka, Y., Kearns, M., & Vaughan, J. W. (2010). Censored exploration and the dark pool problem. Communications of the ACM, 53(5), 99-107.\n",
    "\n",
    "Mani, M., Phelps, S., & Parsons, S. (2019). Applications of Reinforcement Learning in Automated Market-Making.\n",
    "\n",
    "Sutton, R. S., & Barto, A. G. (2011). Reinforcement learning: An introduction.\n",
    "\n",
    "# Further reading on agent-based modeling\n",
    "\n",
    "Farmer, J. D., & Foley, D. (2009). The economy needs agent-based modelling. Nature, 460(7256), 685-686.\n",
    "\n",
    "Lo, A. W. (2004). The adaptive markets hypothesis. The Journal of Portfolio Management, 30(5), 15-29.\n",
    "\n",
    "Phelps, S. (2012). Applying dependency injection to agent-based modeling: the JABM toolkit. WP056-12, Centre for Computational Finance and Economic Agents (CCFEA), Tech. Rep.\n",
    "\n",
    "Tesfatsion, L., & Judd, K. L. (Eds.). (2006). Handbook of computational economics: agent-based computational economics. Elsevier."
   ]
  }
 ],
 "metadata": {
  "kernelspec": {
   "display_name": "Python 3 (ipykernel)",
   "language": "python",
   "name": "python3"
  },
  "language_info": {
   "codemirror_mode": {
    "name": "ipython",
    "version": 3
   },
   "file_extension": ".py",
   "mimetype": "text/x-python",
   "name": "python",
   "nbconvert_exporter": "python",
   "pygments_lexer": "ipython3",
   "version": "3.9.12"
  }
 },
 "nbformat": 4,
 "nbformat_minor": 5
}
