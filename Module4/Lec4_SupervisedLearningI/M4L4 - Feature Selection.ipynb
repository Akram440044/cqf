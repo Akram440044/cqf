{
 "cells": [
  {
   "cell_type": "code",
   "execution_count": 1,
   "id": "c3124de4",
   "metadata": {},
   "outputs": [],
   "source": [
    "import numpy as np\n",
    "import pandas as pd\n",
    "import matplotlib.pyplot as plt\n",
    "\n",
    "plt.style.use('fivethirtyeight')\n",
    "\n",
    "from sklearn.preprocessing import StandardScaler\n",
    "from sklearn.pipeline import Pipeline\n",
    "\n",
    "from sklearn.linear_model import LinearRegression\n",
    "\n",
    "import shap"
   ]
  },
  {
   "cell_type": "code",
   "execution_count": 2,
   "id": "503b916d",
   "metadata": {},
   "outputs": [],
   "source": [
    "df = pd.read_csv('boston.csv')\n",
    "df.columns = df.columns.str.upper()\n",
    "\n",
    "X = df.drop('MEDV', axis = 1)\n",
    "y = df['MEDV']"
   ]
  },
  {
   "cell_type": "code",
   "execution_count": 3,
   "id": "7b611769",
   "metadata": {},
   "outputs": [],
   "source": [
    "scaler = StandardScaler()\n",
    "\n",
    "# pipe in a stream\n",
    "# 1. standardise dataset\n",
    "# 2. run linear reg\n",
    "pipe = Pipeline([\n",
    "    ('scaler', StandardScaler()), \n",
    "    ('regressor', LinearRegression())\n",
    "])"
   ]
  },
  {
   "cell_type": "code",
   "execution_count": 4,
   "id": "fa042591",
   "metadata": {},
   "outputs": [
    {
     "name": "stdout",
     "output_type": "stream",
     "text": [
      "[30.00384338 25.02556238 30.56759672 28.60703649 27.94352423 25.25628446\n",
      " 23.00180827 19.53598843 11.52363685 18.92026211]\n",
      "R^2: 0.7406\n"
     ]
    }
   ],
   "source": [
    "pipe.fit(X,y)\n",
    "\n",
    "y_pred = pipe.predict(X)\n",
    "\n",
    "print(y_pred[:10])\n",
    "print(f'R^2: {pipe.score(X,y):0.4}')\n",
    "rbase = pipe.score(X,y)"
   ]
  },
  {
   "cell_type": "markdown",
   "id": "b57a6412",
   "metadata": {},
   "source": [
    "# Features Selection\n",
    "\n",
    "Feature selection methods are approaches to reduce the number of input variables that are believed to be most useful to a model. \n",
    "\n",
    "**It is primarily focused on removing non-informative or redundant predictors from the model**. \n",
    "\n",
    "We’ll focus on five methods in relation to linear regression."
   ]
  },
  {
   "cell_type": "markdown",
   "id": "3f941acd",
   "metadata": {},
   "source": [
    "## Method 1: Multicollinearity VIF\n",
    "\n",
    "Multicollinearity occurs when two or more independent variables are highly correlated with one another in a regression model. This means that an independent variable can be predicted from another independent variable in a regression model.\n",
    "\n",
    "Multicollinearity can be detected using various methods and one such method is Variable Inflation Factors (VIF). VIF determines the strength of the correlation between the independent variables (It is predicted by taking a variable and regressing it against every other variable).\n",
    "\n",
    "VIF score of an independent variable represents how well the variable is explained by other independent variables.\n",
    "\n",
    ">For example, for a set of regressors $X_1, X_2, \\cdots, X_k$. \n",
    "> We run $X_1$ on $X_2, X_3, \\cdots, X_k$\n",
    ">, and run $X_2$ on $X_1, X_3, \\cdots, X_k$\n",
    ">, repetitively.\n",
    "\n",
    "$R^2$ value is determined to find out how well an independent variable is described by the other independent variables. A high value of $R^2$ means that the variable is highly correlated with the other variables. This is captured by the VIF which is denoted below:\n",
    "\n",
    "$$VIF = \\frac{1}{1-R^2}$$\n",
    "\n",
    "- VIF starts at 1 and has no upper limit.\n",
    "- VIF = 1, no correlation between the independent variable and the other variables.\n",
    "- VIF exceeding 5 or 10 indicates high multicollinearity betwen this independent variable and the others."
   ]
  },
  {
   "cell_type": "code",
   "execution_count": 5,
   "id": "ac03fdc9",
   "metadata": {
    "scrolled": true
   },
   "outputs": [
    {
     "data": {
      "text/html": [
       "<div>\n",
       "<style scoped>\n",
       "    .dataframe tbody tr th:only-of-type {\n",
       "        vertical-align: middle;\n",
       "    }\n",
       "\n",
       "    .dataframe tbody tr th {\n",
       "        vertical-align: top;\n",
       "    }\n",
       "\n",
       "    .dataframe thead th {\n",
       "        text-align: right;\n",
       "    }\n",
       "</style>\n",
       "<table border=\"1\" class=\"dataframe\">\n",
       "  <thead>\n",
       "    <tr style=\"text-align: right;\">\n",
       "      <th></th>\n",
       "      <th>Feature</th>\n",
       "      <th>VIF_Factor</th>\n",
       "    </tr>\n",
       "  </thead>\n",
       "  <tbody>\n",
       "    <tr>\n",
       "      <th>3</th>\n",
       "      <td>CHAS</td>\n",
       "      <td>1.07</td>\n",
       "    </tr>\n",
       "    <tr>\n",
       "      <th>11</th>\n",
       "      <td>B</td>\n",
       "      <td>1.35</td>\n",
       "    </tr>\n",
       "    <tr>\n",
       "      <th>0</th>\n",
       "      <td>CRIM</td>\n",
       "      <td>1.79</td>\n",
       "    </tr>\n",
       "    <tr>\n",
       "      <th>10</th>\n",
       "      <td>PTRATIO</td>\n",
       "      <td>1.80</td>\n",
       "    </tr>\n",
       "    <tr>\n",
       "      <th>5</th>\n",
       "      <td>RM</td>\n",
       "      <td>1.93</td>\n",
       "    </tr>\n",
       "    <tr>\n",
       "      <th>1</th>\n",
       "      <td>ZN</td>\n",
       "      <td>2.30</td>\n",
       "    </tr>\n",
       "    <tr>\n",
       "      <th>12</th>\n",
       "      <td>LSTAT</td>\n",
       "      <td>2.94</td>\n",
       "    </tr>\n",
       "    <tr>\n",
       "      <th>6</th>\n",
       "      <td>AGE</td>\n",
       "      <td>3.10</td>\n",
       "    </tr>\n",
       "    <tr>\n",
       "      <th>7</th>\n",
       "      <td>DIS</td>\n",
       "      <td>3.96</td>\n",
       "    </tr>\n",
       "    <tr>\n",
       "      <th>2</th>\n",
       "      <td>INDUS</td>\n",
       "      <td>3.99</td>\n",
       "    </tr>\n",
       "    <tr>\n",
       "      <th>4</th>\n",
       "      <td>NOX</td>\n",
       "      <td>4.39</td>\n",
       "    </tr>\n",
       "    <tr>\n",
       "      <th>8</th>\n",
       "      <td>RAD</td>\n",
       "      <td>7.48</td>\n",
       "    </tr>\n",
       "    <tr>\n",
       "      <th>9</th>\n",
       "      <td>TAX</td>\n",
       "      <td>9.01</td>\n",
       "    </tr>\n",
       "  </tbody>\n",
       "</table>\n",
       "</div>"
      ],
      "text/plain": [
       "    Feature  VIF_Factor\n",
       "3      CHAS        1.07\n",
       "11        B        1.35\n",
       "0      CRIM        1.79\n",
       "10  PTRATIO        1.80\n",
       "5        RM        1.93\n",
       "1        ZN        2.30\n",
       "12    LSTAT        2.94\n",
       "6       AGE        3.10\n",
       "7       DIS        3.96\n",
       "2     INDUS        3.99\n",
       "4       NOX        4.39\n",
       "8       RAD        7.48\n",
       "9       TAX        9.01"
      ]
     },
     "execution_count": 5,
     "metadata": {},
     "output_type": "execute_result"
    }
   ],
   "source": [
    "from statsmodels.stats.outliers_influence import variance_inflation_factor\n",
    "\n",
    "def vif(X):\n",
    "    # standardise the dataset\n",
    "    xs = scaler.fit_transform(X)\n",
    "    \n",
    "    # subsume into a Dataframe\n",
    "    vif = pd.DataFrame()\n",
    "    vif['Feature'] = X.columns\n",
    "    vif['VIF_Factor'] = [variance_inflation_factor(xs, i) for i in range(xs.shape[1])]\n",
    "    \n",
    "    return vif\n",
    "\n",
    "vif(X).round(2).sort_values(by='VIF_Factor')"
   ]
  },
  {
   "cell_type": "code",
   "execution_count": 6,
   "id": "5db7d218",
   "metadata": {
    "scrolled": true
   },
   "outputs": [
    {
     "data": {
      "text/html": [
       "<div>\n",
       "<style scoped>\n",
       "    .dataframe tbody tr th:only-of-type {\n",
       "        vertical-align: middle;\n",
       "    }\n",
       "\n",
       "    .dataframe tbody tr th {\n",
       "        vertical-align: top;\n",
       "    }\n",
       "\n",
       "    .dataframe thead th {\n",
       "        text-align: right;\n",
       "    }\n",
       "</style>\n",
       "<table border=\"1\" class=\"dataframe\">\n",
       "  <thead>\n",
       "    <tr style=\"text-align: right;\">\n",
       "      <th></th>\n",
       "      <th>Feature</th>\n",
       "      <th>VIF_Factor</th>\n",
       "    </tr>\n",
       "  </thead>\n",
       "  <tbody>\n",
       "    <tr>\n",
       "      <th>3</th>\n",
       "      <td>CHAS</td>\n",
       "      <td>1.057805</td>\n",
       "    </tr>\n",
       "    <tr>\n",
       "      <th>9</th>\n",
       "      <td>B</td>\n",
       "      <td>1.316559</td>\n",
       "    </tr>\n",
       "    <tr>\n",
       "      <th>0</th>\n",
       "      <td>CRIM</td>\n",
       "      <td>1.478206</td>\n",
       "    </tr>\n",
       "    <tr>\n",
       "      <th>8</th>\n",
       "      <td>PTRATIO</td>\n",
       "      <td>1.496077</td>\n",
       "    </tr>\n",
       "    <tr>\n",
       "      <th>5</th>\n",
       "      <td>RM</td>\n",
       "      <td>1.872532</td>\n",
       "    </tr>\n",
       "    <tr>\n",
       "      <th>1</th>\n",
       "      <td>ZN</td>\n",
       "      <td>2.154483</td>\n",
       "    </tr>\n",
       "    <tr>\n",
       "      <th>10</th>\n",
       "      <td>LSTAT</td>\n",
       "      <td>2.936487</td>\n",
       "    </tr>\n",
       "    <tr>\n",
       "      <th>6</th>\n",
       "      <td>AGE</td>\n",
       "      <td>3.075755</td>\n",
       "    </tr>\n",
       "    <tr>\n",
       "      <th>2</th>\n",
       "      <td>INDUS</td>\n",
       "      <td>3.179166</td>\n",
       "    </tr>\n",
       "    <tr>\n",
       "      <th>4</th>\n",
       "      <td>NOX</td>\n",
       "      <td>3.901348</td>\n",
       "    </tr>\n",
       "    <tr>\n",
       "      <th>7</th>\n",
       "      <td>DIS</td>\n",
       "      <td>3.954443</td>\n",
       "    </tr>\n",
       "  </tbody>\n",
       "</table>\n",
       "</div>"
      ],
      "text/plain": [
       "    Feature  VIF_Factor\n",
       "3      CHAS    1.057805\n",
       "9         B    1.316559\n",
       "0      CRIM    1.478206\n",
       "8   PTRATIO    1.496077\n",
       "5        RM    1.872532\n",
       "1        ZN    2.154483\n",
       "10    LSTAT    2.936487\n",
       "6       AGE    3.075755\n",
       "2     INDUS    3.179166\n",
       "4       NOX    3.901348\n",
       "7       DIS    3.954443"
      ]
     },
     "execution_count": 6,
     "metadata": {},
     "output_type": "execute_result"
    }
   ],
   "source": [
    "# we find TAX & RAD might be highly correlated\n",
    "# , and might result in multicollinearity\n",
    "newX = X.drop(['TAX','RAD'], axis = 1)\n",
    "\n",
    "temp = vif(newX).sort_values(by = 'VIF_Factor')\n",
    "temp"
   ]
  },
  {
   "cell_type": "code",
   "execution_count": 7,
   "id": "b6bffa69",
   "metadata": {},
   "outputs": [],
   "source": [
    "# Filter the first six features\n",
    "\n",
    "X_method1 = X[temp['Feature'].values[:6]]"
   ]
  },
  {
   "cell_type": "code",
   "execution_count": 8,
   "id": "b3799813",
   "metadata": {},
   "outputs": [
    {
     "name": "stdout",
     "output_type": "stream",
     "text": [
      "[28.57799551 24.78825544 30.16715122 28.03678666 29.13085894 23.98038835\n",
      " 24.50415657 25.65810523 21.62521274 24.29070206]\n",
      "R^2: 0.6273\n"
     ]
    }
   ],
   "source": [
    "# reg X_method1 on y\n",
    "# X_method1 is when exclude multicollinearity\n",
    "pipe.fit(X_method1, y)\n",
    "\n",
    "y_pred1 = pipe.predict(X_method1)\n",
    "\n",
    "print(y_pred1[:10])\n",
    "print(f'R^2: {pipe.score(X_method1, y):0.4}')\n",
    "r1 = pipe.score(X_method1, y)"
   ]
  },
  {
   "cell_type": "markdown",
   "id": "dbba0a01",
   "metadata": {},
   "source": [
    "## Method 2: SelectKBest\n",
    "\n",
    "Select features according to the $k$ highest scores. Univariate feature selection works by selecting the best features based on univariate statistical tests.\n",
    "\n",
    "`SelectKBest` is used to select `k` number of varialbes that have highest scores.\n",
    "\n",
    "`f_regression` is used to calculate the F-statistics of each var in X on y. `f_regression` is the **score function** for `SelectKBest`."
   ]
  },
  {
   "cell_type": "code",
   "execution_count": 9,
   "id": "e997c9bb",
   "metadata": {},
   "outputs": [],
   "source": [
    "from sklearn.feature_selection import (f_regression,  # ANOVA F-value between label/feature for classification tasks\n",
    "                                       SelectKBest, \n",
    "                                       SelectPercentile)"
   ]
  },
  {
   "cell_type": "code",
   "execution_count": 10,
   "id": "c599714f",
   "metadata": {},
   "outputs": [
    {
     "data": {
      "text/plain": [
       "SelectKBest(k=6, score_func=<function f_regression at 0x7f85d24124c0>)"
      ]
     },
     "execution_count": 10,
     "metadata": {},
     "output_type": "execute_result"
    }
   ],
   "source": [
    "# initialise the class\n",
    "method2 = SelectKBest(f_regression, k=6)\n",
    "\n",
    "# fit the model\n",
    "method2.fit(X,y)\n",
    "\n",
    "# Iterate the score \n",
    "for f, s in zip(X.columns, method2.scores_):\n",
    "    print(f'F-score: {s:0.4} for feature {f}')"
   ]
  },
  {
   "cell_type": "code",
   "execution_count": 84,
   "id": "0e668b9b",
   "metadata": {},
   "outputs": [
    {
     "name": "stdout",
     "output_type": "stream",
     "text": [
      "[ 2  4  5  9 10 12]\n"
     ]
    },
    {
     "data": {
      "text/plain": [
       "Index(['INDUS', 'NOX', 'RM', 'TAX', 'PTRATIO', 'LSTAT'], dtype='object')"
      ]
     },
     "execution_count": 84,
     "metadata": {},
     "output_type": "execute_result"
    }
   ],
   "source": [
    "# Show selected features\n",
    "print(method2.get_support(indices=True))\n",
    "\n",
    "# Filter six features with highest score \n",
    "X_method2 = X.columns[method2.get_support(indices=True)]\n",
    "X_method2"
   ]
  },
  {
   "cell_type": "code",
   "execution_count": 14,
   "id": "e1bc31a2",
   "metadata": {},
   "outputs": [
    {
     "name": "stdout",
     "output_type": "stream",
     "text": [
      "[30.57014999 26.10398705 32.45084162 31.0219246  30.41087418 27.1380861\n",
      " 24.46192059 21.5381886  13.13415681 21.87515864]\n",
      "R^2: 0.681\n"
     ]
    }
   ],
   "source": [
    "# use those selected features to run the fit/train model \n",
    "pipe.fit(X_method2, y) \n",
    "\n",
    "# predict labels \n",
    "y_pred = pipe.predict(X_method2) \n",
    "\n",
    "print(y_pred[:10]) \n",
    "print(f'R^2: {pipe.score(X_method2, y):0.4}')\n",
    "r2 = pipe.score(X_method2, y)"
   ]
  },
  {
   "cell_type": "code",
   "execution_count": 15,
   "id": "ca0d6616",
   "metadata": {},
   "outputs": [
    {
     "data": {
      "text/plain": [
       "array([ 0.59754458, -0.39395547,  3.26810054, -0.48846049, -1.9764135 ,\n",
       "       -3.89469824])"
      ]
     },
     "execution_count": 15,
     "metadata": {},
     "output_type": "execute_result"
    }
   ],
   "source": [
    "# check the coefficients \n",
    "pipe['regressor'].coef_"
   ]
  },
  {
   "cell_type": "markdown",
   "id": "b79b1543",
   "metadata": {},
   "source": [
    "## Method 3: RFE\n",
    "\n",
    "Feature ranking with **Recursive Feature Elimination (RFE)**. The goal is to select features by recursively considering smaller and smaller sets of features."
   ]
  },
  {
   "cell_type": "code",
   "execution_count": 16,
   "id": "cb04627c",
   "metadata": {},
   "outputs": [],
   "source": [
    "# Feature Selection using RFE \n",
    "from sklearn.feature_selection import RFE"
   ]
  },
  {
   "cell_type": "code",
   "execution_count": 86,
   "id": "129a6d26",
   "metadata": {},
   "outputs": [
    {
     "name": "stdout",
     "output_type": "stream",
     "text": [
      "[False False False  True  True  True False  True False False  True False\n",
      "  True]\n",
      "[3 5 4 1 1 1 8 1 2 6 1 7 1]\n"
     ]
    }
   ],
   "source": [
    "# Method 3 \n",
    "method3 = RFE(LinearRegression(), n_features_to_select=6, step=1) \n",
    "method3.fit(X,y)\n",
    "\n",
    "# Check the selected position, we select 6 features\n",
    "print(method3.support_)\n",
    "\n",
    "# Get the feature ranking \n",
    "print(method3.ranking_)"
   ]
  },
  {
   "cell_type": "code",
   "execution_count": 87,
   "id": "d6a676a7",
   "metadata": {
    "scrolled": true
   },
   "outputs": [
    {
     "data": {
      "text/plain": [
       "1"
      ]
     },
     "execution_count": 87,
     "metadata": {},
     "output_type": "execute_result"
    }
   ],
   "source": [
    "min_value"
   ]
  },
  {
   "cell_type": "code",
   "execution_count": 89,
   "id": "7b32365b",
   "metadata": {},
   "outputs": [
    {
     "data": {
      "text/plain": [
       "[3, 4, 5, 7, 10, 12]"
      ]
     },
     "execution_count": 89,
     "metadata": {},
     "output_type": "execute_result"
    }
   ],
   "source": [
    "# Select Six Features\n",
    "min_value = min(method3.ranking_) \n",
    "\n",
    "# Select if the ranking == 1, as the target features\n",
    "col = [i for i, x in enumerate(method3.ranking_) if x == min_value] \n",
    "col"
   ]
  },
  {
   "cell_type": "code",
   "execution_count": 94,
   "id": "93587b82",
   "metadata": {},
   "outputs": [
    {
     "name": "stdout",
     "output_type": "stream",
     "text": [
      "Index(['CHAS', 'NOX', 'RM', 'DIS', 'PTRATIO', 'LSTAT'], dtype='object')\n"
     ]
    }
   ],
   "source": [
    "# Filter selected features \n",
    "X_method3 = X[X.columns[col]]\n",
    "\n",
    "# show those features\n",
    "print(X.columns[col])"
   ]
  },
  {
   "cell_type": "code",
   "execution_count": 95,
   "id": "b070e27c",
   "metadata": {},
   "outputs": [
    {
     "name": "stdout",
     "output_type": "stream",
     "text": [
      "[31.0142456  25.79278275 31.84611084 29.74856961 28.99930186 26.11951419\n",
      " 23.13348366 19.51563196 10.99759368 19.25866209]\n",
      "R^2: 0.7158\n"
     ]
    }
   ],
   "source": [
    "# fit/train model \n",
    "pipe.fit(X_method3, y)\n",
    "\n",
    "# predict labels \n",
    "y_pred3 = pipe.predict(X_method3) \n",
    "\n",
    "print(y_pred3[:10])\n",
    "print(f'R^2: {pipe.score(X_method3, y):0.4}')\n",
    "r3 = pipe.score(X_method3, y)"
   ]
  },
  {
   "cell_type": "code",
   "execution_count": 23,
   "id": "4b3ccc74",
   "metadata": {},
   "outputs": [
    {
     "data": {
      "text/plain": [
       "array([ 0.82321941, -2.16945087,  2.88617319, -2.40778286, -2.16874483,\n",
       "       -4.06526959])"
      ]
     },
     "execution_count": 23,
     "metadata": {},
     "output_type": "execute_result"
    }
   ],
   "source": [
    "# check the coefficients \n",
    "pipe['regressor'].coef_"
   ]
  },
  {
   "cell_type": "markdown",
   "id": "23f194a8",
   "metadata": {},
   "source": [
    "## Method 4: RFECV\n",
    "\n",
    "RFECV means Recursive Feature Elimination with Cross-Validation.\n",
    "\n",
    "A recursive feature elimination with automatic tuning of the number of features selected with cross-validation."
   ]
  },
  {
   "cell_type": "code",
   "execution_count": 100,
   "id": "76dd6ece",
   "metadata": {},
   "outputs": [
    {
     "data": {
      "text/plain": [
       "RFECV(cv=10, estimator=LinearRegression())"
      ]
     },
     "execution_count": 100,
     "metadata": {},
     "output_type": "execute_result"
    }
   ],
   "source": [
    "from sklearn.feature_selection import RFECV\n",
    "\n",
    "# Method 4 \n",
    "method4 = RFECV(LinearRegression(), cv=10) \n",
    "method4.fit(X,y)"
   ]
  },
  {
   "cell_type": "code",
   "execution_count": 106,
   "id": "51fd4771",
   "metadata": {
    "scrolled": true
   },
   "outputs": [
    {
     "name": "stdout",
     "output_type": "stream",
     "text": [
      "6\n",
      "[ 3  4  5  7 10 12]\n",
      "[False False False  True  True  True False  True False False  True False\n",
      "  True]\n",
      "[3 5 4 1 1 1 8 1 2 6 1 7 1]\n"
     ]
    }
   ],
   "source": [
    "# Get the selected features with CV \n",
    "print(method4.n_features_)\n",
    "\n",
    "# Get the index of the selected features \n",
    "print(method4.get_support(indices=True))\n",
    "\n",
    "# Check the selected position \n",
    "print(method4.support_)\n",
    "\n",
    "# Get the feature ranking \n",
    "print(method4.ranking_)\n",
    "\n",
    "# # Select Six Features \n",
    "# min_value = min(method4.ranking_) \n",
    "# col = [i for i, x in enumerate(method4.ranking_) if x == min_value] \n",
    "# col"
   ]
  },
  {
   "cell_type": "code",
   "execution_count": 107,
   "id": "258cd1b5",
   "metadata": {},
   "outputs": [
    {
     "name": "stdout",
     "output_type": "stream",
     "text": [
      "Index(['CHAS', 'NOX', 'RM', 'DIS', 'PTRATIO', 'LSTAT'], dtype='object')\n"
     ]
    }
   ],
   "source": [
    "# Filter selected features \n",
    "X_method4 = X[X.columns[col]]\n",
    "\n",
    "print(X.columns[col])"
   ]
  },
  {
   "cell_type": "code",
   "execution_count": 108,
   "id": "1bc09d6c",
   "metadata": {},
   "outputs": [
    {
     "name": "stdout",
     "output_type": "stream",
     "text": [
      "[31.0142456  25.79278275 31.84611084 29.74856961 28.99930186 26.11951419\n",
      " 23.13348366 19.51563196 10.99759368 19.25866209]\n",
      "R^2: 0.7158\n"
     ]
    }
   ],
   "source": [
    "# fit/train model \n",
    "pipe.fit(X_method4, y)\n",
    "\n",
    "# predict labels \n",
    "y_pred4 = pipe.predict(X_method4)\n",
    "\n",
    "print(y_pred4[:10]) \n",
    "print(f'R^2: {pipe.score(X_method4, y):0.4}')\n",
    "r4 = pipe.score(X_method4, y)"
   ]
  },
  {
   "cell_type": "code",
   "execution_count": 109,
   "id": "79de2354",
   "metadata": {},
   "outputs": [
    {
     "data": {
      "text/plain": [
       "array([ 0.82321941, -2.16945087,  2.88617319, -2.40778286, -2.16874483,\n",
       "       -4.06526959])"
      ]
     },
     "execution_count": 109,
     "metadata": {},
     "output_type": "execute_result"
    }
   ],
   "source": [
    "# check the coefficients \n",
    "pipe['regressor'].coef_"
   ]
  },
  {
   "cell_type": "markdown",
   "id": "5bb34cf9",
   "metadata": {},
   "source": [
    "## Method 5: SHAP\n",
    "\n",
    "SHAP (SHapley Additive exPlanations) is a game theoretic approach to explain the output of any machine learning model. It connects optimal credit allocation with local explanations using the classic Shapley values from game theory and their related extensions.\n",
    "\n",
    "Shapley values are a widely used approach from cooperative game theory that come with desirable properties and is the average marginal contribution of a feature value across all possible coalitions."
   ]
  },
  {
   "cell_type": "code",
   "execution_count": 34,
   "id": "751fb94a",
   "metadata": {},
   "outputs": [
    {
     "data": {
      "text/plain": [
       "Pipeline(steps=[('scaler', StandardScaler()),\n",
       "                ('regressor', LinearRegression())])"
      ]
     },
     "execution_count": 34,
     "metadata": {},
     "output_type": "execute_result"
    }
   ],
   "source": [
    "# 100 instances for use as the background distribution \n",
    "X100 = shap.utils.sample(X, 100, random_state=42) \n",
    "pipe.fit(X, y)"
   ]
  },
  {
   "cell_type": "code",
   "execution_count": 35,
   "id": "d8ba3a86",
   "metadata": {},
   "outputs": [
    {
     "name": "stderr",
     "output_type": "stream",
     "text": [
      "Permutation explainer: 507it [00:19, 14.57it/s]                                 \n"
     ]
    }
   ],
   "source": [
    "# compute the SHAP values for the linear model \n",
    "explainer = shap.Explainer(pipe.predict, X100) \n",
    "shap_values = explainer(X)"
   ]
  },
  {
   "cell_type": "code",
   "execution_count": 36,
   "id": "764244d3",
   "metadata": {},
   "outputs": [
    {
     "data": {
      "image/png": "[encoded data removed]",
      "text/plain": [
       "<Figure size 576x482.4 with 2 Axes>"
      ]
     },
     "metadata": {},
     "output_type": "display_data"
    }
   ],
   "source": [
    "shap.plots.beeswarm(shap_values, max_display=20)"
   ]
  },
  {
   "cell_type": "markdown",
   "id": "753ff864",
   "metadata": {},
   "source": [
    "The above plot shows the feature importance of a linear model, where the variables are ranked in descending order and the horizontal location shows whether the effect of that value is associated with a higher or lower prediction.\n",
    "\n",
    "- Color shows whether that variable is high (in red) or low (in blue) for that observation.\n",
    "- A high level has a high and positive impact on the quality rating.\n",
    "- Impact is shown on the X-axis."
   ]
  },
  {
   "cell_type": "code",
   "execution_count": 37,
   "id": "cc769b95",
   "metadata": {},
   "outputs": [],
   "source": [
    "# Filter selected features \n",
    "X_method5 = X[['LSTAT', 'DIS', 'RM', 'PTRATIO', 'CRIM']]"
   ]
  },
  {
   "cell_type": "code",
   "execution_count": 38,
   "id": "bf0695a2",
   "metadata": {},
   "outputs": [
    {
     "name": "stdout",
     "output_type": "stream",
     "text": [
      "[31.63761273 25.5236182  32.0243847  30.38600726 29.5358719  26.50795486\n",
      " 23.71933951 19.96956586 10.8068779  20.1215183 ]\n",
      "R^2: 0.6958\n"
     ]
    }
   ],
   "source": [
    "# use those selected features into the linear regression\n",
    "# fit/train model \n",
    "pipe.fit(X_method5, y)\n",
    "\n",
    "# predict labels\n",
    "\n",
    "y_pred5 = pipe.predict(X_method5)\n",
    "\n",
    "print(y_pred5[:10]) \n",
    "print(f'R^2: {pipe.score(X_method5, y):0.4}')\n",
    "r5 = pipe.score(X_method5, y)"
   ]
  },
  {
   "cell_type": "markdown",
   "id": "88611270",
   "metadata": {},
   "source": [
    "## Comparision\n",
    "\n",
    "Given the boston housing dataset is a processed data, there seems to be no improvement in the score on feature reduction.\n",
    "\n",
    "Alternatively, one might split the data into train and test sets to study the impact of over or under fitting of the model. The Recursive Feature Elimination is closer to the original scoring with just six features while the impact of each of these features is explained by the SHAP values."
   ]
  },
  {
   "cell_type": "code",
   "execution_count": 56,
   "id": "16cdc22e",
   "metadata": {
    "scrolled": true
   },
   "outputs": [
    {
     "data": {
      "text/html": [
       "<div>\n",
       "<style scoped>\n",
       "    .dataframe tbody tr th:only-of-type {\n",
       "        vertical-align: middle;\n",
       "    }\n",
       "\n",
       "    .dataframe tbody tr th {\n",
       "        vertical-align: top;\n",
       "    }\n",
       "\n",
       "    .dataframe thead th {\n",
       "        text-align: right;\n",
       "    }\n",
       "</style>\n",
       "<table border=\"1\" class=\"dataframe\">\n",
       "  <thead>\n",
       "    <tr style=\"text-align: right;\">\n",
       "      <th></th>\n",
       "      <th>R_Squared</th>\n",
       "      <th>Improvement</th>\n",
       "    </tr>\n",
       "    <tr>\n",
       "      <th>Feature Selection Method</th>\n",
       "      <th></th>\n",
       "      <th></th>\n",
       "    </tr>\n",
       "  </thead>\n",
       "  <tbody>\n",
       "    <tr>\n",
       "      <th>Original</th>\n",
       "      <td>0.7406</td>\n",
       "      <td>NaN</td>\n",
       "    </tr>\n",
       "    <tr>\n",
       "      <th>VIF</th>\n",
       "      <td>0.6273</td>\n",
       "      <td>-0.152984</td>\n",
       "    </tr>\n",
       "    <tr>\n",
       "      <th>SelectKBest</th>\n",
       "      <td>0.6810</td>\n",
       "      <td>0.085605</td>\n",
       "    </tr>\n",
       "    <tr>\n",
       "      <th>RFE</th>\n",
       "      <td>0.7158</td>\n",
       "      <td>0.051101</td>\n",
       "    </tr>\n",
       "    <tr>\n",
       "      <th>RFECV</th>\n",
       "      <td>0.7158</td>\n",
       "      <td>0.000000</td>\n",
       "    </tr>\n",
       "    <tr>\n",
       "      <th>SHAP</th>\n",
       "      <td>0.6958</td>\n",
       "      <td>-0.027941</td>\n",
       "    </tr>\n",
       "  </tbody>\n",
       "</table>\n",
       "</div>"
      ],
      "text/plain": [
       "                          R_Squared  Improvement\n",
       "Feature Selection Method                        \n",
       "Original                     0.7406          NaN\n",
       "VIF                          0.6273    -0.152984\n",
       "SelectKBest                  0.6810     0.085605\n",
       "RFE                          0.7158     0.051101\n",
       "RFECV                        0.7158     0.000000\n",
       "SHAP                         0.6958    -0.027941"
      ]
     },
     "execution_count": 56,
     "metadata": {},
     "output_type": "execute_result"
    }
   ],
   "source": [
    "df_show = pd.DataFrame()\n",
    "df_show['Feature Selection Method'] = ['Original', \n",
    "                                       'VIF', \n",
    "                                       'SelectKBest', \n",
    "                                       'RFE', \n",
    "                                       'RFECV', \n",
    "                                       'SHAP']\n",
    "df_show['R_Squared'] = np.round([rbase, r1, r2, r3, r4, r5],4)\n",
    "df_show.index = df_show['Feature Selection Method']\n",
    "df_show = df_show.drop('Feature Selection Method', axis = 1)\n",
    "df_show['Improvement'] = df_show.R_Squared.pct_change()\n",
    "df_show"
   ]
  },
  {
   "cell_type": "markdown",
   "id": "6e1f0100",
   "metadata": {},
   "source": [
    "# Custom Estimators\n",
    "\n",
    "Scikit-learn provides dozens of machine learning models and transformers. However, our workflow sometimes requires us to specify the models or transformations; and such models or transformations should have the `fit`, and either `predict` or `transform` methods that are in compliance with scikit-learn so that we can leverage its functionalities such as Pipeline, GridSearchCV classes and such other features.\n",
    "\n",
    "In other words, we can define our own `class` of the ML algorithm, and then be piped into the `pipe` of `sklearn`.\n",
    "\n",
    "This is achieved with custom estimators. Scikit-learn has a base class called `BaseEstimator` that all estimators **inherit** and these models inherit additional classes such as `RegressorMixin`, `ClassifierMixin`, and `TransformerMixin`. We can thus customize our models by inheriting these classes that are in compliance with scikit-learn.\n",
    "\n",
    "Transformers are estimators which implement a `transform` method. \n",
    "Regressors are estimators that implement a predict method while classifiers implement `predict` method in addition to the probability output of the predictions using the `predict_proba` method. For this exercise, we will limit our discussion to transformers."
   ]
  },
  {
   "cell_type": "code",
   "execution_count": 57,
   "id": "e1294541",
   "metadata": {},
   "outputs": [],
   "source": [
    "# Import Base and Transformer classes \n",
    "from sklearn.base import BaseEstimator, TransformerMixin"
   ]
  },
  {
   "cell_type": "markdown",
   "id": "4dc5c4dc",
   "metadata": {},
   "source": [
    "We will now specify the percentiles for the lower and upper bound and define our fit method that calculates values required to transform the outlier values.\n",
    "\n",
    "Here below is an example of creating an winsorisation tranformer."
   ]
  },
  {
   "cell_type": "code",
   "execution_count": 110,
   "id": "b793e054",
   "metadata": {},
   "outputs": [],
   "source": [
    "# Create custom transformer class \n",
    "# , by inheriting base and additional classes\n",
    "class OutlierTransform(BaseEstimator, TransformerMixin):\n",
    "\n",
    "    def __init__(self, q_lower, q_upper):\n",
    "        self.q_lower = q_lower \n",
    "        self.q_upper = q_upper\n",
    "\n",
    "    def fit(self, X, y=None):\n",
    "        self.lower = np.percentile(X, self.q_lower, axis=0) \n",
    "        self.upper = np.percentile(X, self.q_upper, axis=0)\n",
    "        return self \n",
    "    \n",
    "    def transform(self, X):\n",
    "        Xt = X.copy() \n",
    "        idx_lower = X < self.lower \n",
    "        idx_upper = X > self.upper\n",
    "        # winsorise, make values less or greater than that given percentile value equal to the percentile value\n",
    "        for i in range(X.shape[1]):\n",
    "            Xt[idx_lower[:,i], i] = self.lower[i]\n",
    "            Xt[idx_upper[:,i], i] = self.upper[i]\n",
    "\n",
    "        return Xt"
   ]
  },
  {
   "cell_type": "markdown",
   "id": "1f233ffc",
   "metadata": {},
   "source": [
    "Fit method always returns self, which is a copy of the fitted estimator. If self is not returned, this will not be fully compatibale with scikit-learn and will not work with the pipelines."
   ]
  },
  {
   "cell_type": "code",
   "execution_count": 111,
   "id": "d472d539",
   "metadata": {},
   "outputs": [
    {
     "name": "stdout",
     "output_type": "stream",
     "text": [
      "[*********************100%***********************]  1 of 1 completed\n"
     ]
    },
    {
     "data": {
      "text/html": [
       "<div>\n",
       "<style scoped>\n",
       "    .dataframe tbody tr th:only-of-type {\n",
       "        vertical-align: middle;\n",
       "    }\n",
       "\n",
       "    .dataframe tbody tr th {\n",
       "        vertical-align: top;\n",
       "    }\n",
       "\n",
       "    .dataframe thead th {\n",
       "        text-align: right;\n",
       "    }\n",
       "</style>\n",
       "<table border=\"1\" class=\"dataframe\">\n",
       "  <thead>\n",
       "    <tr style=\"text-align: right;\">\n",
       "      <th></th>\n",
       "      <th>1D_RET</th>\n",
       "      <th>5D_RET</th>\n",
       "      <th>20D_RET</th>\n",
       "      <th>60D_RET</th>\n",
       "      <th>120D_RET</th>\n",
       "    </tr>\n",
       "    <tr>\n",
       "      <th>Date</th>\n",
       "      <th></th>\n",
       "      <th></th>\n",
       "      <th></th>\n",
       "      <th></th>\n",
       "      <th></th>\n",
       "    </tr>\n",
       "  </thead>\n",
       "  <tbody>\n",
       "    <tr>\n",
       "      <th>2015-06-25</th>\n",
       "      <td>-0.002974</td>\n",
       "      <td>-0.008924</td>\n",
       "      <td>-0.008714</td>\n",
       "      <td>0.016645</td>\n",
       "      <td>0.021431</td>\n",
       "    </tr>\n",
       "    <tr>\n",
       "      <th>2015-06-26</th>\n",
       "      <td>-0.000390</td>\n",
       "      <td>-0.004028</td>\n",
       "      <td>-0.002800</td>\n",
       "      <td>0.020294</td>\n",
       "      <td>0.040043</td>\n",
       "    </tr>\n",
       "  </tbody>\n",
       "</table>\n",
       "</div>"
      ],
      "text/plain": [
       "              1D_RET    5D_RET   20D_RET   60D_RET  120D_RET\n",
       "Date                                                        \n",
       "2015-06-25 -0.002974 -0.008924 -0.008714  0.016645  0.021431\n",
       "2015-06-26 -0.000390 -0.004028 -0.002800  0.020294  0.040043"
      ]
     },
     "execution_count": 111,
     "metadata": {},
     "output_type": "execute_result"
    }
   ],
   "source": [
    "import yfinance as yf\n",
    "\n",
    "spx = yf.download('^GSPC',start='2015-01-01')\n",
    "\n",
    "# Calculate returns and add it to existing DataFrame as a column \n",
    "rdict = {str(i)+'D_RET': \n",
    "         spx['Adj Close'].pct_change(i) for i in [1,5,20,60,120]}\n",
    "\n",
    "# Convert to dataframe \n",
    "rdf = pd.DataFrame(rdict).dropna()\n",
    "\n",
    "# Check the output \n",
    "rdf.head(2)"
   ]
  },
  {
   "cell_type": "code",
   "execution_count": 73,
   "id": "032e6d0d",
   "metadata": {},
   "outputs": [
    {
     "data": {
      "text/plain": [
       "array([[-0.00297357, -0.00892399, -0.00871372,  0.01664507,  0.0214314 ],\n",
       "       [-0.00039008, -0.00402846, -0.00279963,  0.02029434,  0.04004298],\n",
       "       [-0.02086619, -0.03071823, -0.02561411, -0.00450907,  0.02747909],\n",
       "       ...,\n",
       "       [-0.0073186 , -0.01046699,  0.01460808,  0.0365453 ,  0.00861009],\n",
       "       [ 0.00875758, -0.01114089,  0.00385208,  0.05058724,  0.01832661],\n",
       "       [ 0.01304909,  0.00321333,  0.00862703,  0.05628746,  0.03284875]])"
      ]
     },
     "execution_count": 73,
     "metadata": {},
     "output_type": "execute_result"
    }
   ],
   "source": [
    "# Convert to numpy array \n",
    "Xnew = rdf.values \n",
    "Xnew"
   ]
  },
  {
   "cell_type": "code",
   "execution_count": 74,
   "id": "e64cc354",
   "metadata": {},
   "outputs": [
    {
     "data": {
      "text/html": [
       "<div>\n",
       "<style scoped>\n",
       "    .dataframe tbody tr th:only-of-type {\n",
       "        vertical-align: middle;\n",
       "    }\n",
       "\n",
       "    .dataframe tbody tr th {\n",
       "        vertical-align: top;\n",
       "    }\n",
       "\n",
       "    .dataframe thead th {\n",
       "        text-align: right;\n",
       "    }\n",
       "</style>\n",
       "<table border=\"1\" class=\"dataframe\">\n",
       "  <thead>\n",
       "    <tr style=\"text-align: right;\">\n",
       "      <th></th>\n",
       "      <th>1D_RET</th>\n",
       "      <th>5D_RET</th>\n",
       "      <th>20D_RET</th>\n",
       "      <th>60D_RET</th>\n",
       "      <th>120D_RET</th>\n",
       "    </tr>\n",
       "  </thead>\n",
       "  <tbody>\n",
       "    <tr>\n",
       "      <th>count</th>\n",
       "      <td>1995.000000</td>\n",
       "      <td>1995.000000</td>\n",
       "      <td>1995.000000</td>\n",
       "      <td>1995.000000</td>\n",
       "      <td>1995.000000</td>\n",
       "    </tr>\n",
       "    <tr>\n",
       "      <th>mean</th>\n",
       "      <td>0.000418</td>\n",
       "      <td>0.001992</td>\n",
       "      <td>0.007940</td>\n",
       "      <td>0.022584</td>\n",
       "      <td>0.044483</td>\n",
       "    </tr>\n",
       "    <tr>\n",
       "      <th>std</th>\n",
       "      <td>0.011986</td>\n",
       "      <td>0.024174</td>\n",
       "      <td>0.046554</td>\n",
       "      <td>0.070140</td>\n",
       "      <td>0.091650</td>\n",
       "    </tr>\n",
       "    <tr>\n",
       "      <th>min</th>\n",
       "      <td>-0.119841</td>\n",
       "      <td>-0.179666</td>\n",
       "      <td>-0.309439</td>\n",
       "      <td>-0.305884</td>\n",
       "      <td>-0.248372</td>\n",
       "    </tr>\n",
       "    <tr>\n",
       "      <th>25%</th>\n",
       "      <td>-0.003807</td>\n",
       "      <td>-0.007507</td>\n",
       "      <td>-0.011476</td>\n",
       "      <td>-0.010415</td>\n",
       "      <td>-0.011733</td>\n",
       "    </tr>\n",
       "    <tr>\n",
       "      <th>50%</th>\n",
       "      <td>0.000594</td>\n",
       "      <td>0.004056</td>\n",
       "      <td>0.014230</td>\n",
       "      <td>0.034010</td>\n",
       "      <td>0.046968</td>\n",
       "    </tr>\n",
       "    <tr>\n",
       "      <th>75%</th>\n",
       "      <td>0.005814</td>\n",
       "      <td>0.014573</td>\n",
       "      <td>0.033044</td>\n",
       "      <td>0.064025</td>\n",
       "      <td>0.101117</td>\n",
       "    </tr>\n",
       "    <tr>\n",
       "      <th>max</th>\n",
       "      <td>0.093828</td>\n",
       "      <td>0.173974</td>\n",
       "      <td>0.224841</td>\n",
       "      <td>0.391566</td>\n",
       "      <td>0.493238</td>\n",
       "    </tr>\n",
       "  </tbody>\n",
       "</table>\n",
       "</div>"
      ],
      "text/plain": [
       "            1D_RET       5D_RET      20D_RET      60D_RET     120D_RET\n",
       "count  1995.000000  1995.000000  1995.000000  1995.000000  1995.000000\n",
       "mean      0.000418     0.001992     0.007940     0.022584     0.044483\n",
       "std       0.011986     0.024174     0.046554     0.070140     0.091650\n",
       "min      -0.119841    -0.179666    -0.309439    -0.305884    -0.248372\n",
       "25%      -0.003807    -0.007507    -0.011476    -0.010415    -0.011733\n",
       "50%       0.000594     0.004056     0.014230     0.034010     0.046968\n",
       "75%       0.005814     0.014573     0.033044     0.064025     0.101117\n",
       "max       0.093828     0.173974     0.224841     0.391566     0.493238"
      ]
     },
     "execution_count": 74,
     "metadata": {},
     "output_type": "execute_result"
    }
   ],
   "source": [
    "# Descriptive Statistics \n",
    "rdf.describe()"
   ]
  },
  {
   "cell_type": "code",
   "execution_count": 75,
   "id": "3f98b903",
   "metadata": {},
   "outputs": [
    {
     "data": {
      "text/plain": [
       "OutlierTransform(q_lower=5, q_upper=95)"
      ]
     },
     "execution_count": 75,
     "metadata": {},
     "output_type": "execute_result"
    }
   ],
   "source": [
    "# create, fit and transform for 5 and 95 percentile \n",
    "data_transform = OutlierTransform(5,95) \n",
    "data_transform.fit(Xnew)"
   ]
  },
  {
   "cell_type": "code",
   "execution_count": 76,
   "id": "eeffc2cb",
   "metadata": {},
   "outputs": [
    {
     "data": {
      "text/plain": [
       "array([[-0.00297357, -0.00892399, -0.00871372,  0.01664507,  0.0214314 ],\n",
       "       [-0.00039008, -0.00402846, -0.00279963,  0.02029434,  0.04004298],\n",
       "       [-0.01824113, -0.03071823, -0.02561411, -0.00450907,  0.02747909],\n",
       "       ...,\n",
       "       [-0.0073186 , -0.01046699,  0.01460808,  0.0365453 ,  0.00861009],\n",
       "       [ 0.00875758, -0.01114089,  0.00385208,  0.05058724,  0.01832661],\n",
       "       [ 0.01304909,  0.00321333,  0.00862703,  0.05628746,  0.03284875]])"
      ]
     },
     "execution_count": 76,
     "metadata": {},
     "output_type": "execute_result"
    }
   ],
   "source": [
    "Xt = data_transform.transform(Xnew) \n",
    "Xt"
   ]
  },
  {
   "cell_type": "code",
   "execution_count": 77,
   "id": "2349821a",
   "metadata": {},
   "outputs": [
    {
     "data": {
      "text/html": [
       "<div>\n",
       "<style scoped>\n",
       "    .dataframe tbody tr th:only-of-type {\n",
       "        vertical-align: middle;\n",
       "    }\n",
       "\n",
       "    .dataframe tbody tr th {\n",
       "        vertical-align: top;\n",
       "    }\n",
       "\n",
       "    .dataframe thead th {\n",
       "        text-align: right;\n",
       "    }\n",
       "</style>\n",
       "<table border=\"1\" class=\"dataframe\">\n",
       "  <thead>\n",
       "    <tr style=\"text-align: right;\">\n",
       "      <th></th>\n",
       "      <th>0</th>\n",
       "      <th>1</th>\n",
       "      <th>2</th>\n",
       "      <th>3</th>\n",
       "      <th>4</th>\n",
       "    </tr>\n",
       "  </thead>\n",
       "  <tbody>\n",
       "    <tr>\n",
       "      <th>count</th>\n",
       "      <td>1995.000000</td>\n",
       "      <td>1995.000000</td>\n",
       "      <td>1995.000000</td>\n",
       "      <td>1995.000000</td>\n",
       "      <td>1995.000000</td>\n",
       "    </tr>\n",
       "    <tr>\n",
       "      <th>mean</th>\n",
       "      <td>0.000501</td>\n",
       "      <td>0.002408</td>\n",
       "      <td>0.008773</td>\n",
       "      <td>0.023047</td>\n",
       "      <td>0.044183</td>\n",
       "    </tr>\n",
       "    <tr>\n",
       "      <th>std</th>\n",
       "      <td>0.008666</td>\n",
       "      <td>0.018673</td>\n",
       "      <td>0.036384</td>\n",
       "      <td>0.058506</td>\n",
       "      <td>0.079889</td>\n",
       "    </tr>\n",
       "    <tr>\n",
       "      <th>min</th>\n",
       "      <td>-0.018241</td>\n",
       "      <td>-0.038852</td>\n",
       "      <td>-0.069588</td>\n",
       "      <td>-0.105183</td>\n",
       "      <td>-0.109930</td>\n",
       "    </tr>\n",
       "    <tr>\n",
       "      <th>25%</th>\n",
       "      <td>-0.003807</td>\n",
       "      <td>-0.007507</td>\n",
       "      <td>-0.011476</td>\n",
       "      <td>-0.010415</td>\n",
       "      <td>-0.011733</td>\n",
       "    </tr>\n",
       "    <tr>\n",
       "      <th>50%</th>\n",
       "      <td>0.000594</td>\n",
       "      <td>0.004056</td>\n",
       "      <td>0.014230</td>\n",
       "      <td>0.034010</td>\n",
       "      <td>0.046968</td>\n",
       "    </tr>\n",
       "    <tr>\n",
       "      <th>75%</th>\n",
       "      <td>0.005814</td>\n",
       "      <td>0.014573</td>\n",
       "      <td>0.033044</td>\n",
       "      <td>0.064025</td>\n",
       "      <td>0.101117</td>\n",
       "    </tr>\n",
       "    <tr>\n",
       "      <th>max</th>\n",
       "      <td>0.016478</td>\n",
       "      <td>0.036575</td>\n",
       "      <td>0.067831</td>\n",
       "      <td>0.114704</td>\n",
       "      <td>0.181422</td>\n",
       "    </tr>\n",
       "  </tbody>\n",
       "</table>\n",
       "</div>"
      ],
      "text/plain": [
       "                 0            1            2            3            4\n",
       "count  1995.000000  1995.000000  1995.000000  1995.000000  1995.000000\n",
       "mean      0.000501     0.002408     0.008773     0.023047     0.044183\n",
       "std       0.008666     0.018673     0.036384     0.058506     0.079889\n",
       "min      -0.018241    -0.038852    -0.069588    -0.105183    -0.109930\n",
       "25%      -0.003807    -0.007507    -0.011476    -0.010415    -0.011733\n",
       "50%       0.000594     0.004056     0.014230     0.034010     0.046968\n",
       "75%       0.005814     0.014573     0.033044     0.064025     0.101117\n",
       "max       0.016478     0.036575     0.067831     0.114704     0.181422"
      ]
     },
     "execution_count": 77,
     "metadata": {},
     "output_type": "execute_result"
    }
   ],
   "source": [
    "# Transformed Data \n",
    "pd.DataFrame(Xt).describe()"
   ]
  },
  {
   "cell_type": "code",
   "execution_count": 112,
   "id": "5e3b2c7d",
   "metadata": {},
   "outputs": [
    {
     "data": {
      "text/plain": [
       "<BarContainer object of 200 artists>"
      ]
     },
     "execution_count": 112,
     "metadata": {},
     "output_type": "execute_result"
    }
   ],
   "source": [
    "_"
   ]
  },
  {
   "cell_type": "code",
   "execution_count": 113,
   "id": "7318feb5",
   "metadata": {},
   "outputs": [
    {
     "data": {
      "text/plain": [
       "<matplotlib.legend.Legend at 0x7f85db743280>"
      ]
     },
     "execution_count": 113,
     "metadata": {},
     "output_type": "execute_result"
    },
    {
     "data": {
      "image/png": "[encoded data removed]",
      "text/plain": [
       "<Figure size 432x288 with 1 Axes>"
      ]
     },
     "metadata": {},
     "output_type": "display_data"
    }
   ],
   "source": [
    "# Plot settings \n",
    "import seaborn as sns \n",
    "sns.set()\n",
    "\n",
    "# Plot historgram of 1day returns \n",
    "plt.hist(Xnew[:,0], \n",
    "         density=True, \n",
    "         bins=200, \n",
    "         alpha=1, \n",
    "         color='b', \n",
    "         label = 'Original') \n",
    "plt.hist(Xt[:,0], \n",
    "         density=True, \n",
    "         bins=bins, \n",
    "         alpha=1, \n",
    "         color='r', \n",
    "         label = 'Transformed')\n",
    "\n",
    "# Set title \n",
    "plt.title('Original vs Transformed Distribution')\n",
    "\n",
    "# Set x and y axis limits \n",
    "plt.xlim(-0.05, 0.05)\n",
    "\n",
    "# Set legends \n",
    "plt.legend()"
   ]
  }
 ],
 "metadata": {
  "kernelspec": {
   "display_name": "Python 3 (ipykernel)",
   "language": "python",
   "name": "python3"
  },
  "language_info": {
   "codemirror_mode": {
    "name": "ipython",
    "version": 3
   },
   "file_extension": ".py",
   "mimetype": "text/x-python",
   "name": "python",
   "nbconvert_exporter": "python",
   "pygments_lexer": "ipython3",
   "version": "3.9.13"
  },
  "toc": {
   "base_numbering": 1,
   "nav_menu": {},
   "number_sections": true,
   "sideBar": true,
   "skip_h1_title": false,
   "title_cell": "Table of Contents",
   "title_sidebar": "Contents",
   "toc_cell": false,
   "toc_position": {},
   "toc_section_display": true,
   "toc_window_display": false
  }
 },
 "nbformat": 4,
 "nbformat_minor": 5
}
