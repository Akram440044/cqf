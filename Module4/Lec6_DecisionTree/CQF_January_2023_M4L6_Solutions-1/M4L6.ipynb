{
 "cells": [
  {
   "cell_type": "code",
   "execution_count": 1,
   "id": "ba95d8fc",
   "metadata": {},
   "outputs": [],
   "source": [
    "import numpy as np\n",
    "import pandas as pd\n",
    "import matplotlib.pyplot as plt\n",
    "from sklearn.tree import DecisionTreeClassifier, plot_tree, export_graphviz, export_text"
   ]
  },
  {
   "cell_type": "code",
   "execution_count": 2,
   "id": "58080f52",
   "metadata": {},
   "outputs": [],
   "source": [
    "train = pd.read_excel('data/lendingclubtraindata.xlsx')\n",
    "validation=pd.read_excel('data/lendingclubvaldata.xlsx')\n",
    "test=pd.read_excel('data/lendingclubtestdata.xlsx')\n",
    "\n",
    "\n",
    "# store target column\n",
    "y_train = train['loan_status']\n",
    "y_val=validation['loan_status']\n",
    "y_test=test['loan_status']"
   ]
  },
  {
   "cell_type": "code",
   "execution_count": 3,
   "id": "b2111aae",
   "metadata": {},
   "outputs": [
    {
     "name": "stdout",
     "output_type": "stream",
     "text": [
      "Initial entropy= 0.7381931419673073\n"
     ]
    }
   ],
   "source": [
    "# exercise 1\n",
    "prob_1=len(y_train[y_train==1])/len(y_train)\n",
    "prob_2=1.0-prob_1\n",
    "print(\"Initial entropy=\",-prob_1*np.log2(prob_1)-prob_2*np.log2(prob_2))"
   ]
  },
  {
   "cell_type": "code",
   "execution_count": 4,
   "id": "f27aef12",
   "metadata": {},
   "outputs": [
    {
     "name": "stdout",
     "output_type": "stream",
     "text": [
      "prob own home= 0.604\n"
     ]
    }
   ],
   "source": [
    "# exercise 2\n",
    "# From the dataset we have that 60.40% own their home and 39.60% rent.\n",
    "home_owners=train[train.home_ownership==1]\n",
    "home_owner_prob=len(home_owners)/len(y_train)\n",
    "print('prob own home=',home_owner_prob)"
   ]
  },
  {
   "cell_type": "code",
   "execution_count": 5,
   "id": "8aecada3",
   "metadata": {},
   "outputs": [
    {
     "name": "stdout",
     "output_type": "stream",
     "text": [
      "prob own home and paid = 0.8171712393566698\n"
     ]
    }
   ],
   "source": [
    "# Loans were fully paid for 81.72 % of those who owned their home\n",
    "home_owners_paid=home_owners[home_owners.loan_status==1]\n",
    "prob_home_owner_paid=len(home_owners_paid)/len(home_owners)\n",
    "print('prob own home and paid =',prob_home_owner_paid)"
   ]
  },
  {
   "cell_type": "code",
   "execution_count": 6,
   "id": "c9571f55",
   "metadata": {},
   "outputs": [
    {
     "name": "stdout",
     "output_type": "stream",
     "text": [
      "prob own rent and paid = 0.7528860028860029\n"
     ]
    }
   ],
   "source": [
    "# 75.29% of those who rented paid their loans\n",
    "home_rent=train[train.home_ownership==0]\n",
    "home_rent_paid=home_rent[home_rent.loan_status==1]\n",
    "prob_home_rent_paid=len(home_rent_paid)/len(home_rent)\n",
    "print('prob own rent and paid =',prob_home_rent_paid)\n",
    "\n",
    "# , the entropy is\n",
    "# 0.6040(−0.8172 ln(0.8172) − 0.1828 ln(0.1828))\n",
    "# + 0.3960(−0.7529 ln(0.7529) − 0.2471 ln(0.2471)) = 0.7339\n",
    "# So the reduction in entropy if we use this feature is 0.7382 − 0.7339 = 0.0043"
   ]
  },
  {
   "cell_type": "code",
   "execution_count": 7,
   "id": "75f8fae5",
   "metadata": {},
   "outputs": [],
   "source": [
    "# exercise 3\n",
    "\n",
    "# remove target column to create feature only dataset\n",
    "X_train = train.drop('loan_status',axis=1)\n",
    "X_val=validation.drop('loan_status',axis=1)\n",
    "X_test=test.drop('loan_status',axis=1)"
   ]
  },
  {
   "cell_type": "code",
   "execution_count": 8,
   "id": "849450a5",
   "metadata": {},
   "outputs": [
    {
     "name": "stdout",
     "output_type": "stream",
     "text": [
      "train_score= 0.7917142857142857\n",
      "test_score= 0.7917030567685589\n"
     ]
    }
   ],
   "source": [
    "clf = DecisionTreeClassifier(criterion='entropy',max_depth=4,min_samples_split=1000,min_samples_leaf=200,random_state=0)\n",
    "clf = clf.fit(X_train,y_train)\n",
    "# fig, ax = plt.subplots(figsize=(40, 30))\n",
    "# plot_tree(clf, filled=True, feature_names=X_train.columns, proportion=True)\n",
    "# plt.show()\n",
    "\n",
    "train_score=clf.score(X_train,y_train)\n",
    "test_score=clf.score(X_test,y_test)\n",
    "\n",
    "print('train_score=',train_score)\n",
    "print('test_score=',test_score)"
   ]
  }
 ],
 "metadata": {
  "kernelspec": {
   "display_name": "Python 3 (ipykernel)",
   "language": "python",
   "name": "python3"
  },
  "language_info": {
   "codemirror_mode": {
    "name": "ipython",
    "version": 3
   },
   "file_extension": ".py",
   "mimetype": "text/x-python",
   "name": "python",
   "nbconvert_exporter": "python",
   "pygments_lexer": "ipython3",
   "version": "3.9.13"
  }
 },
 "nbformat": 4,
 "nbformat_minor": 5
}
