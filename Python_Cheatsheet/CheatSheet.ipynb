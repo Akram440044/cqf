{
 "cells": [
  {
   "cell_type": "markdown",
   "id": "054ea1a3",
   "metadata": {},
   "source": [
    "# A Copy Paste Sheet"
   ]
  },
  {
   "cell_type": "markdown",
   "id": "474ce74e",
   "metadata": {},
   "source": [
    "## 0. Tips of Pandas DataFrame\n",
    "##  1. Class 对象\n",
    "##  2. 遍历dir下文件\n",
    "##  3. time魔术命令\n",
    "##  4. 数据统计基本情况\n",
    "##  5. 数据预处理\n",
    "##  6. Get Data\n",
    "##  7. 转换时间格式（待测试\n",
    "##  8. Statistic Table Output\n",
    "##  9. String in DataFrame\n",
    "## 10. Date Features\n",
    "## 11. Subplots\n",
    "## 12. Get Dummy\n",
    "## 13. Select and Shuffle (np array in and remove)\n",
    "## 14. flip a dictionary"
   ]
  },
  {
   "cell_type": "code",
   "execution_count": 2,
   "id": "754d62fc",
   "metadata": {},
   "outputs": [],
   "source": [
    "import numpy as np\n",
    "import pandas as pd"
   ]
  },
  {
   "cell_type": "markdown",
   "id": "a8fcf6e2",
   "metadata": {},
   "source": [
    "# 0. Tips for Pandas DataFrame"
   ]
  },
  {
   "cell_type": "code",
   "execution_count": null,
   "id": "ce26af05",
   "metadata": {},
   "outputs": [],
   "source": [
    "# return the loc of max/min\n",
    "df.argmax()"
   ]
  },
  {
   "cell_type": "code",
   "execution_count": null,
   "id": "31bce060",
   "metadata": {},
   "outputs": [],
   "source": [
    "# return the # of unique value\n",
    "df.nunique()"
   ]
  },
  {
   "cell_type": "markdown",
   "id": "56e50100",
   "metadata": {},
   "source": [
    "## 1. Class 对象"
   ]
  },
  {
   "cell_type": "code",
   "execution_count": 3,
   "id": "f51234d8",
   "metadata": {
    "scrolled": true
   },
   "outputs": [
    {
     "data": {
      "text/plain": [
       "94.55350394125902"
      ]
     },
     "execution_count": 3,
     "metadata": {},
     "output_type": "execute_result"
    }
   ],
   "source": [
    "# 这是一个类\n",
    "class debt():\n",
    "    # 属性\n",
    "    def __init__(self, n, rm, c, fv):\n",
    "        self.n = n\n",
    "        self.rm = rm\n",
    "        self.c = c\n",
    "        self.__fv = fv\n",
    "        \n",
    "    # 方法  \n",
    "    def get_pv(self):\n",
    "        return self.__fv\n",
    "    \n",
    "    def __pv_calc(self, n, rm, c, fv):\n",
    "        pv =0\n",
    "        interest = 0\n",
    "\n",
    "        for i in range(n):\n",
    "            interest = c* fv /((1+rm)**(i+1))\n",
    "            pv += interest\n",
    "\n",
    "        pv += fv/((1+rm)**n)\n",
    "\n",
    "        return pv \n",
    "    \n",
    "    def get_pv(self):\n",
    "        return self.__pv_calc(self.n, self.rm, self.c, self.__fv)\n",
    "    \n",
    "# 这是一个对象\n",
    "my_debt = debt(3, 0.05, 0.03, 100)\n",
    "\n",
    "my_debt.get_pv()"
   ]
  },
  {
   "cell_type": "markdown",
   "id": "827961a5",
   "metadata": {},
   "source": [
    "# 2. 遍历 dir下文件\n",
    "\n",
    "在我日常工作中，os用的最多的是在加载数据中，目标文件夹的遍历，在这里一同给到大家，方便你CV：\n",
    "\n",
    "~~~python  \n",
    "import pandas as pd\n",
    "import os\n",
    "import os.path\n",
    "\n",
    "# 获取指定路径下的所有文件，文件夹\n",
    "for parent, dirnames, filenames in os.walk(file_dir,  followlinks=True):\n",
    "    for filename in filenames:\n",
    "        dir_temp = os.path.join(parent, filename)\n",
    "        df_temp = pd.read_csv(dir_temp, encoding='GB18030')\n",
    "\n",
    "~~~"
   ]
  },
  {
   "cell_type": "code",
   "execution_count": 4,
   "id": "edae4f7c",
   "metadata": {},
   "outputs": [],
   "source": [
    "import pandas as pd\n",
    "import os\n",
    "import os.path"
   ]
  },
  {
   "cell_type": "code",
   "execution_count": 5,
   "id": "75848dee",
   "metadata": {},
   "outputs": [
    {
     "data": {
      "text/plain": [
       "'/Users/mie/Desktop/CQF'"
      ]
     },
     "execution_count": 5,
     "metadata": {},
     "output_type": "execute_result"
    }
   ],
   "source": [
    "file_dir=os.getcwd()\n",
    "file_dir"
   ]
  },
  {
   "cell_type": "code",
   "execution_count": 6,
   "id": "152237fe",
   "metadata": {
    "scrolled": true
   },
   "outputs": [
    {
     "name": "stdout",
     "output_type": "stream",
     "text": [
      "/Users/mie/Desktop/CQF/.DS_Store\n",
      "/Users/mie/Desktop/CQF/CheatSheet.ipynb\n",
      "-------------\n",
      "/Users/mie/Desktop/CQF/教材 电子版/10. paul wilmott introduces quantitative finance.pdf\n",
      "/Users/mie/Desktop/CQF/教材 电子版/7. frequently asked questions in quantitative finance 2nd edition.pdf\n",
      "/Users/mie/Desktop/CQF/教材 电子版/3. 4. 5. Paul Wilmott on Quantitative Finance Vol 1-3, 2nd Ed.pdf\n",
      "/Users/mie/Desktop/CQF/教材 电子版/6. （The_Wiley_Finance_Series）_Jon_Gregory－The_xVA_Challenge__Counterparty_Credit_Risk，_Funding，_Collateral，_and_Capital－Wiley_（2015）.pdf\n",
      "/Users/mie/Desktop/CQF/教材 电子版/11. Machine Learning.pdf\n",
      "/Users/mie/Desktop/CQF/教材 电子版/9. Derivatives_Models_on_Models.pdf\n",
      "/Users/mie/Desktop/CQF/教材 电子版/8.Jackel- Monte-Carlo Methods In Finance.pdf\n",
      "/Users/mie/Desktop/CQF/教材 电子版/2. Asset Price Dynamics, Volatility, and Prediction Stephen J. Taylor 2005.pdf\n",
      "/Users/mie/Desktop/CQF/教材 电子版/1. Python_for_Finance__Mastering_Data－Driven_Finance_.pdf\n",
      "-------------\n",
      "/Users/mie/Desktop/CQF/Pre/.DS_Store\n",
      "/Users/mie/Desktop/CQF/Pre/CQF Pre Course Maths Test.pdf\n",
      "/Users/mie/Desktop/CQF/Pre/Answer_CQF_pre_Test2014.pdf\n",
      "-------------\n",
      "/Users/mie/Desktop/CQF/Pre/CQF_Python_Primer/.DS_Store\n",
      "/Users/mie/Desktop/CQF/Pre/CQF_Python_Primer/Python_Primer.pdf\n",
      "-------------\n",
      "/Users/mie/Desktop/CQF/Pre/CQF_Python_Primer/CQF_Python_Primer/Python+Primer+Fitch.ipynb\n",
      "/Users/mie/Desktop/CQF/Pre/CQF_Python_Primer/CQF_Python_Primer/Mary.txt\n",
      "/Users/mie/Desktop/CQF/Pre/CQF_Python_Primer/CQF_Python_Primer/Humpty.txt\n",
      "/Users/mie/Desktop/CQF/Pre/CQF_Python_Primer/CQF_Python_Primer/AAPL.csv\n",
      "-------------\n",
      "/Users/mie/Desktop/CQF/Pre/CQF_Python_Primer/CQF_Python_Primer/.ipynb_checkpoints/Python+Primer+Fitch-checkpoint.ipynb\n",
      "-------------\n",
      "/Users/mie/Desktop/CQF/Pre/Python前导课讲义/Test-面向对象 专题.ipynb\n",
      "/Users/mie/Desktop/CQF/Pre/Python前导课讲义/Primer_Python_D02_Syntax.ipynb\n",
      "/Users/mie/Desktop/CQF/Pre/Python前导课讲义/DebtValue.py\n",
      "/Users/mie/Desktop/CQF/Pre/Python前导课讲义/.DS_Store\n",
      "/Users/mie/Desktop/CQF/Pre/Python前导课讲义/Primer_Python_D08_Module.ipynb\n",
      "/Users/mie/Desktop/CQF/Pre/Python前导课讲义/Primer_Python_D05_Control.ipynb\n",
      "/Users/mie/Desktop/CQF/Pre/Python前导课讲义/Primer_Python_D07_OOP.ipynb\n",
      "/Users/mie/Desktop/CQF/Pre/Python前导课讲义/Primer_Python_D04_Struct.ipynb\n",
      "/Users/mie/Desktop/CQF/Pre/Python前导课讲义/Primer_Python_D15_Zen.ipynb\n",
      "/Users/mie/Desktop/CQF/Pre/Python前导课讲义/Primer_Python_D01_Intro.ipynb\n",
      "/Users/mie/Desktop/CQF/Pre/Python前导课讲义/Primer_Python_D12_Pandas.ipynb\n",
      "/Users/mie/Desktop/CQF/Pre/Python前导课讲义/test.py\n",
      "/Users/mie/Desktop/CQF/Pre/Python前导课讲义/df2OV.csv\n",
      "/Users/mie/Desktop/CQF/Pre/Python前导课讲义/test.png\n",
      "/Users/mie/Desktop/CQF/Pre/Python前导课讲义/Primer_Python_D06_Function.ipynb\n",
      "/Users/mie/Desktop/CQF/Pre/Python前导课讲义/Primer_Python_D13_statsmodels&scipy.ipynb\n",
      "/Users/mie/Desktop/CQF/Pre/Python前导课讲义/Primer_Python_D09_Buind_in_Func.ipynb\n",
      "/Users/mie/Desktop/CQF/Pre/Python前导课讲义/Primer_Python_D11_Numpy.ipynb\n",
      "/Users/mie/Desktop/CQF/Pre/Python前导课讲义/faang_stocks.csv\n",
      "/Users/mie/Desktop/CQF/Pre/Python前导课讲义/Primer_Python_D03_Variables.ipynb\n",
      "/Users/mie/Desktop/CQF/Pre/Python前导课讲义/Test.ipynb\n",
      "/Users/mie/Desktop/CQF/Pre/Python前导课讲义/ex1.xls\n",
      "/Users/mie/Desktop/CQF/Pre/Python前导课讲义/Primer_Python_D14_plotly.ipynb\n",
      "/Users/mie/Desktop/CQF/Pre/Python前导课讲义/Primer_Python_D10_StdLib.ipynb\n",
      "-------------\n",
      "/Users/mie/Desktop/CQF/Pre/Python前导课讲义/my_tools/DebtValue.py\n",
      "/Users/mie/Desktop/CQF/Pre/Python前导课讲义/my_tools/__init__.py\n",
      "-------------\n",
      "/Users/mie/Desktop/CQF/Pre/Python前导课讲义/my_tools/__pycache__/__init__.cpython-38.pyc\n",
      "/Users/mie/Desktop/CQF/Pre/Python前导课讲义/my_tools/__pycache__/DebtValue.cpython-38.pyc\n",
      "-------------\n",
      "/Users/mie/Desktop/CQF/Pre/Python前导课讲义/__pycache__/MyModule.cpython-38.pyc\n",
      "/Users/mie/Desktop/CQF/Pre/Python前导课讲义/__pycache__/DebtValue.cpython-39.pyc\n",
      "/Users/mie/Desktop/CQF/Pre/Python前导课讲义/__pycache__/DebtValue.cpython-38.pyc\n",
      "-------------\n",
      "-------------\n",
      "-------------\n",
      "-------------\n",
      "/Users/mie/Desktop/CQF/Pre/Python前导课讲义/.ipynb_checkpoints/Primer_Python_D11_Numpy-checkpoint.ipynb\n",
      "/Users/mie/Desktop/CQF/Pre/Python前导课讲义/.ipynb_checkpoints/Primer_Python_D08_Module-checkpoint.ipynb\n",
      "/Users/mie/Desktop/CQF/Pre/Python前导课讲义/.ipynb_checkpoints/Primer_Python_D02_Syntax-checkpoint.ipynb\n",
      "/Users/mie/Desktop/CQF/Pre/Python前导课讲义/.ipynb_checkpoints/Primer_Python_D10_StdLib-checkpoint.ipynb\n",
      "/Users/mie/Desktop/CQF/Pre/Python前导课讲义/.ipynb_checkpoints/Primer_Python_D09_Buind_in_Func-checkpoint.ipynb\n",
      "/Users/mie/Desktop/CQF/Pre/Python前导课讲义/.ipynb_checkpoints/Primer_Python_D04_Struct-checkpoint.ipynb\n",
      "/Users/mie/Desktop/CQF/Pre/Python前导课讲义/.ipynb_checkpoints/Primer_Python_D13_statsmodels&scipy-checkpoint.ipynb\n",
      "/Users/mie/Desktop/CQF/Pre/Python前导课讲义/.ipynb_checkpoints/Primer_Python_D12_Pandas-checkpoint.ipynb\n",
      "/Users/mie/Desktop/CQF/Pre/Python前导课讲义/.ipynb_checkpoints/Primer_Python_D05_Control-checkpoint.ipynb\n",
      "/Users/mie/Desktop/CQF/Pre/Python前导课讲义/.ipynb_checkpoints/Test-checkpoint.ipynb\n",
      "/Users/mie/Desktop/CQF/Pre/Python前导课讲义/.ipynb_checkpoints/Test-面向对象 专题-checkpoint.ipynb\n",
      "/Users/mie/Desktop/CQF/Pre/Python前导课讲义/.ipynb_checkpoints/Primer_Python_D01_Intro-checkpoint.ipynb\n",
      "/Users/mie/Desktop/CQF/Pre/Python前导课讲义/.ipynb_checkpoints/Primer_Python_D06_Function-checkpoint.ipynb\n",
      "/Users/mie/Desktop/CQF/Pre/Python前导课讲义/.ipynb_checkpoints/Primer_Python_D07_OOP-checkpoint.ipynb\n",
      "/Users/mie/Desktop/CQF/Pre/Python前导课讲义/.ipynb_checkpoints/Primer_Python_D14_plotly-checkpoint.ipynb\n",
      "/Users/mie/Desktop/CQF/Pre/Python前导课讲义/.ipynb_checkpoints/Primer_Python_D15_Zen-checkpoint.ipynb\n",
      "/Users/mie/Desktop/CQF/Pre/Python前导课讲义/.ipynb_checkpoints/Primer_Python-checkpoint.ipynb\n",
      "/Users/mie/Desktop/CQF/Pre/Python前导课讲义/.ipynb_checkpoints/Primer_Python_D03_Variables-checkpoint.ipynb\n",
      "-------------\n",
      "/Users/mie/Desktop/CQF/Pre/数学前导课讲义/Pre-Calculus.md\n",
      "/Users/mie/Desktop/CQF/Pre/数学前导课讲义/Pre-Probability.md\n",
      "/Users/mie/Desktop/CQF/Pre/数学前导课讲义/.DS_Store\n",
      "/Users/mie/Desktop/CQF/Pre/数学前导课讲义/CQF_Introduction_to_Linear_Algebra.pdf\n",
      "/Users/mie/Desktop/CQF/Pre/数学前导课讲义/Differential Equation.md\n",
      "/Users/mie/Desktop/CQF/Pre/数学前导课讲义/CQF_Differential_Equations.pdf\n",
      "/Users/mie/Desktop/CQF/Pre/数学前导课讲义/Pre-Linear Algebra.md\n",
      "/Users/mie/Desktop/CQF/Pre/数学前导课讲义/CQF_Probability_and_Statistics.pdf\n",
      "/Users/mie/Desktop/CQF/Pre/数学前导课讲义/CQF_Calculus_Primer.pdf\n",
      "-------------\n",
      "/Users/mie/Desktop/CQF/Pre/金融前导课讲义/CQF Pre-course (TVM, FI, MMS, Swap, Der) 20201122.pdf\n",
      "/Users/mie/Desktop/CQF/Pre/金融前导课讲义/CQF_Pre_Fin.pdf\n",
      "-------------\n",
      "/Users/mie/Desktop/CQF/.ipynb_checkpoints/CheatSheet-checkpoint.ipynb\n",
      "-------------\n"
     ]
    }
   ],
   "source": [
    "# 获取指定路径下的所有文件，文件夹\n",
    "for parent, dirnames, filenames in os.walk(file_dir,  followlinks=True):\n",
    "    for filename in filenames:\n",
    "        dir_temp = os.path.join(parent, filename)   #把地址和文件名拼接\n",
    "        print(dir_temp)\n",
    "    print('-------------')"
   ]
  },
  {
   "cell_type": "code",
   "execution_count": 38,
   "id": "178b60ab",
   "metadata": {},
   "outputs": [
    {
     "name": "stdout",
     "output_type": "stream",
     "text": [
      "/Users/mie/Desktop/CQF/Pre/Python前导课讲义/ex1.xls\n"
     ]
    }
   ],
   "source": [
    "# 获取指定路径下的所有文件，文件夹\n",
    "for parent, dirnames, filenames in os.walk(file_dir,  followlinks=True):\n",
    "    for filename in filenames:\n",
    "        dir_temp = os.path.join(parent, filename)   #把地址和文件名拼接\n",
    "        if dir_temp[-3:]=='xls':\n",
    "            print(dir_temp)"
   ]
  },
  {
   "cell_type": "markdown",
   "id": "d44d1a1a",
   "metadata": {},
   "source": [
    "### the other way"
   ]
  },
  {
   "cell_type": "code",
   "execution_count": null,
   "id": "99c191fa",
   "metadata": {},
   "outputs": [],
   "source": [
    "import os\n",
    "\n",
    "def print_file(path, level = 0):\n",
    "    current_dir_file = os.listdir(path)\n",
    "    for file in current_dir_file:\n",
    "        file_path = os.path.join(path, file)\n",
    "        print('\\t'* level + file_path[file_path.rfind(os.sep)+1:])\n",
    "        if os.path.isdir(file_path):\n",
    "            print_file(file_path, level + 1)"
   ]
  },
  {
   "cell_type": "markdown",
   "id": "fc80cab6",
   "metadata": {},
   "source": [
    "# 3. time 魔术命令"
   ]
  },
  {
   "cell_type": "code",
   "execution_count": 9,
   "id": "87a5e648",
   "metadata": {},
   "outputs": [
    {
     "name": "stdout",
     "output_type": "stream",
     "text": [
      "CPU times: user 8 µs, sys: 1 µs, total: 9 µs\n",
      "Wall time: 11 µs\n"
     ]
    },
    {
     "data": {
      "text/plain": [
       "10715086071862673209484250490600018105614048117055336074437503883703510511249361224931983788156958581275946729175531468251871452856923140435984577574698574803934567774824230985421074605062371141877954182153046474983581941267398767559165543946077062914571196477686542167660429831652624386837205668069376"
      ]
     },
     "execution_count": 9,
     "metadata": {},
     "output_type": "execute_result"
    }
   ],
   "source": [
    "%%time\n",
    "\n",
    "2**1000"
   ]
  },
  {
   "cell_type": "markdown",
   "id": "1e29cebf",
   "metadata": {},
   "source": [
    "# 4. 数据统计基本情况"
   ]
  },
  {
   "cell_type": "code",
   "execution_count": 25,
   "id": "2d6edb77",
   "metadata": {},
   "outputs": [
    {
     "name": "stdout",
     "output_type": "stream",
     "text": [
      "/Users/mie/Desktop/CQF/Pre/CQF_Python_Primer/CQF_Python_Primer/AAPL.csv\n",
      "/Users/mie/Desktop/CQF/Pre/Python前导课讲义/df2OV.csv\n",
      "/Users/mie/Desktop/CQF/Pre/Python前导课讲义/faang_stocks.csv\n"
     ]
    }
   ],
   "source": [
    "# 抓取出来csv文件有哪些\n",
    "for parent, dirnames, filenames in os.walk(file_dir,  followlinks=True):\n",
    "    for filename in filenames:\n",
    "        dir_temp = os.path.join(parent, filename)   #把地址和文件名拼接\n",
    "        if filename[-3:]==\"csv\":\n",
    "            print(dir_temp)"
   ]
  },
  {
   "cell_type": "code",
   "execution_count": 26,
   "id": "b3129a2c",
   "metadata": {},
   "outputs": [
    {
     "name": "stdout",
     "output_type": "stream",
     "text": [
      "            Date        AAPL         AMZN          FB         GOOG        NFLX\n",
      "0     2009-12-31   26.061205   134.520004         NaN   308.832428    7.870000\n",
      "1     2010-01-04   26.466835   133.899994         NaN   312.204773    7.640000\n",
      "2     2010-01-05   26.512596   134.690002         NaN   310.829926    7.358572\n",
      "3     2010-01-06   26.090879   132.250000         NaN   302.994293    7.617143\n",
      "4     2010-01-07   26.042646   130.000000         NaN   295.940735    7.485714\n",
      "...          ...         ...          ...         ...          ...         ...\n",
      "2594  2020-04-23  274.287506  2399.449951  185.130005  1276.310059  426.700012\n",
      "2595  2020-04-24  282.206085  2410.219971  190.070007  1279.310059  424.989990\n",
      "2596  2020-04-27  282.405548  2376.000000  187.500000  1275.880005  421.380005\n",
      "2597  2020-04-28  277.827911  2314.080078  182.910004  1233.670044  403.829987\n",
      "2598  2020-04-29  286.953247  2372.709961  194.190002  1341.479980  411.890015\n",
      "\n",
      "[2599 rows x 6 columns]\n",
      "<class 'pandas.core.frame.DataFrame'>\n",
      "CPU times: user 11.7 ms, sys: 3.27 ms, total: 15 ms\n",
      "Wall time: 12.9 ms\n"
     ]
    }
   ],
   "source": [
    "%%time\n",
    "data = pd.read_csv(r'/Users/mie/Desktop/CQF/Pre/Python前导课讲义/faang_stocks.csv')\n",
    "\n",
    "print(data)\n",
    "print(type(data))"
   ]
  },
  {
   "cell_type": "code",
   "execution_count": 27,
   "id": "ddef6533",
   "metadata": {},
   "outputs": [
    {
     "name": "stdout",
     "output_type": "stream",
     "text": [
      "RangeIndex(start=0, stop=2599, step=1)\n"
     ]
    }
   ],
   "source": [
    "print(data.index)"
   ]
  },
  {
   "cell_type": "code",
   "execution_count": 28,
   "id": "9df7ebfb",
   "metadata": {},
   "outputs": [
    {
     "name": "stdout",
     "output_type": "stream",
     "text": [
      "Index(['Date', 'AAPL', 'AMZN', 'FB', 'GOOG', 'NFLX'], dtype='object')\n"
     ]
    }
   ],
   "source": [
    "print(data.columns)"
   ]
  },
  {
   "cell_type": "code",
   "execution_count": 29,
   "id": "1039a239",
   "metadata": {},
   "outputs": [
    {
     "name": "stdout",
     "output_type": "stream",
     "text": [
      "[['2009-12-31' 26.06120491027832 134.52000427246094 nan 308.8324279785156\n",
      "  7.869999885559082]\n",
      " ['2010-01-04' 26.466835021972656 133.89999389648438 nan\n",
      "  312.20477294921875 7.639999866485596]\n",
      " ['2010-01-05' 26.512596130371094 134.69000244140625 nan\n",
      "  310.8299255371094 7.358571529388428]\n",
      " ...\n",
      " ['2020-04-27' 282.4055480957031 2376.0 187.5 1275.8800048828125\n",
      "  421.3800048828125]\n",
      " ['2020-04-28' 277.8279113769531 2314.080078125 182.91000366210935\n",
      "  1233.6700439453125 403.8299865722656]\n",
      " ['2020-04-29' 286.9532470703125 2372.7099609375 194.19000244140625\n",
      "  1341.47998046875 411.8900146484375]]\n"
     ]
    }
   ],
   "source": [
    "print(data.values)"
   ]
  },
  {
   "cell_type": "code",
   "execution_count": 30,
   "id": "72013c7f",
   "metadata": {},
   "outputs": [
    {
     "name": "stdout",
     "output_type": "stream",
     "text": [
      "<class 'pandas.core.frame.DataFrame'>\n",
      "RangeIndex: 2599 entries, 0 to 2598\n",
      "Data columns (total 6 columns):\n",
      " #   Column  Non-Null Count  Dtype  \n",
      "---  ------  --------------  -----  \n",
      " 0   Date    2599 non-null   object \n",
      " 1   AAPL    2599 non-null   float64\n",
      " 2   AMZN    2599 non-null   float64\n",
      " 3   FB      1999 non-null   float64\n",
      " 4   GOOG    2599 non-null   float64\n",
      " 5   NFLX    2599 non-null   float64\n",
      "dtypes: float64(5), object(1)\n",
      "memory usage: 122.0+ KB\n",
      "None\n"
     ]
    }
   ],
   "source": [
    "# 查看基本统计信息\n",
    "print(data.info())"
   ]
  },
  {
   "cell_type": "code",
   "execution_count": 31,
   "id": "db20e7e3",
   "metadata": {},
   "outputs": [
    {
     "name": "stdout",
     "output_type": "stream",
     "text": [
      "              AAPL         AMZN           FB         GOOG         NFLX\n",
      "count  2599.000000  2599.000000  1999.000000  2599.000000  2599.000000\n",
      "mean    109.311866   717.898226   112.921926   665.300403   123.477451\n",
      "std      65.143457   617.428749    58.198616   342.896046   121.875064\n",
      "min      23.751026   108.610001    17.730000   217.220810     7.018571\n",
      "25%      57.737783   232.279999    65.330002   322.277023    26.976428\n",
      "50%      93.625145   387.600006   114.599998   572.553955    67.435715\n",
      "75%     150.969185  1002.019989   168.834999   972.014984   185.250000\n",
      "max     326.316681  2410.219971   223.229996  1526.689941   439.170013\n"
     ]
    }
   ],
   "source": [
    "print(data.describe())"
   ]
  },
  {
   "cell_type": "markdown",
   "id": "4a7ae14a",
   "metadata": {},
   "source": [
    "# 5. 数据预处理 "
   ]
  },
  {
   "cell_type": "markdown",
   "id": "e396ff13",
   "metadata": {},
   "source": [
    "用过excel的人，都会对excel中简化了的计算念念不忘，当然，python也提供了这一快捷方式。由于本节内容比较容易，我们在此只是把常用运算展示一下，不做深入讲解。\n",
    "~~~python\n",
    "df.sum(axis=1) # 每列/行求和结果\n",
    "df.mean(axis=1 ) # 每列/行求均值\n",
    "df.max(axis=1 ) # 每列/行求最大值\n",
    "df.min(axis=1) # 每列/行求最小值\n",
    "df.median(axis=1) # 每列/行求中间值\n",
    "df.mode(axis=1) # 每列/行中出现最多的值\n",
    "df.var(axis=1) # 每列/行求方差\n",
    "df.std(axis=1) # 每列/行求标准差\n",
    "df.quantile(0.25) # 求1/4分位数，可以0.5、0.75等分位数\n",
    "df.corr() # 求整个DataFrame表中的相关性\n",
    "~~~\n",
    "\n",
    "不得不说，df.corr() 实在太好用了\n",
    "\n",
    "## 数据预处理\n",
    "\n",
    "我们拿到的数据集，很少是可以直接使用的。pandas为我们提供了比较丰富的预处理函数。比如，面对丢失的值时：\n",
    "\n",
    "~~~python\n",
    "# 判断哪个值是缺失值，如果缺失返回True，否则为False\n",
    "df.isnull()              \n",
    "\n",
    "df.dropna() # 默认删除含缺失值的行\n",
    "df.dropna(how=’all’) # 删除全为空值的行，不全为空值的行不会删除2\n",
    "df.fillna(0) # 用0填充所有空值\n",
    "df.fillna({‘Sex’:’male’,’Age’:’30’}) # 对性别列中空值填充男，年龄填充30\n",
    "\n",
    "~~~\n",
    "\n",
    "另一个常用操作是去重，即舍弃重复值：\n",
    "\n",
    "~~~python\n",
    "\n",
    "df.fillna({‘Sex’:’male’,’Age’:’30’}) # 对性别列中空值填充男，年龄填充30\n",
    "df.drop_duplicates() # 默认对所有值进行重复值检查，保留第一行的值\n",
    "df.drop_duplicates(subset=’Sex’)  # 对性别列中重复值查询保留第一行\n",
    "df.drop_duplicates(subset=[’Sex’,’Age’]，keep=’last’)  # 对性别和公司两列查重keep设置默认为first（保留第一个），可设置为last（保留最后一个） 或False(不部不保留)\n",
    "\n",
    "~~~\n",
    "\n",
    "我们还经常性的改一下df中的数据格式。比较常见的是一个数值会被误认为是一个字符串，之类的情况吧：\n",
    "\n",
    "\n",
    "~~~python\n",
    "\n",
    "df[‘Age’].dtype  # 查看ID列的数据类型\n",
    "df[‘Age’].astype(‘float’)  # 将ID列的数据类型转换为float类型\n",
    "\n",
    "~~~\n",
    "\n",
    "最后，操作index也是必备的。\n",
    "\n",
    "pandas基础语法中一个重要的概念是index。索引的概念有点像SQL的主键，不过它的功能更强大，分析师能够很轻松的通过索引选取一个数据或者一组数据。一般情况下，我们尽可能的不去动索引，容易乱；但是你要是非要动也可以，比如：\n",
    "\n",
    "\n",
    "~~~python\n",
    "\n",
    "# 索引排序\n",
    "df.sort_index()\n",
    "\n",
    "df.columns=[‘a’,’b’,’c’]   # 为无索引表添加列索引\n",
    "df.index=[1,2,3]   # 添加行索引\n",
    "df.set_index(‘PassengerId’)  # 指明要用的列作为行索列\n",
    "df.rename(index={‘PassengerId’:’NewPassengerId’}) 对行索引进行重新命名\n",
    "df.rename(columns={1:’一’,2:’二’}) # 对列索引进行重新命名\n",
    "df.reset_index() # 默认将全部index转化为column\n",
    "df.reset_index(level=0) # 将0级索引转化为column\n",
    "df.reset_index(drop=True) # 删除原有索引\n",
    "\n",
    "~~~\n",
    "\n",
    "\n",
    "在此我们不讨论双重索引了，虽然很好用，先简单点的常规操作来一遍。双重或者多重索引可以作为思考题留给大家琢磨。"
   ]
  },
  {
   "cell_type": "code",
   "execution_count": 36,
   "id": "3e07d152",
   "metadata": {
    "scrolled": true
   },
   "outputs": [
    {
     "data": {
      "text/html": [
       "<div>\n",
       "<style scoped>\n",
       "    .dataframe tbody tr th:only-of-type {\n",
       "        vertical-align: middle;\n",
       "    }\n",
       "\n",
       "    .dataframe tbody tr th {\n",
       "        vertical-align: top;\n",
       "    }\n",
       "\n",
       "    .dataframe thead th {\n",
       "        text-align: right;\n",
       "    }\n",
       "</style>\n",
       "<table border=\"1\" class=\"dataframe\">\n",
       "  <thead>\n",
       "    <tr style=\"text-align: right;\">\n",
       "      <th></th>\n",
       "      <th>Date</th>\n",
       "      <th>AAPL</th>\n",
       "      <th>AMZN</th>\n",
       "      <th>FB</th>\n",
       "      <th>GOOG</th>\n",
       "      <th>NFLX</th>\n",
       "    </tr>\n",
       "  </thead>\n",
       "  <tbody>\n",
       "    <tr>\n",
       "      <th>0</th>\n",
       "      <td>2009-12-31</td>\n",
       "      <td>26.061205</td>\n",
       "      <td>134.520004</td>\n",
       "      <td>NaN</td>\n",
       "      <td>308.832428</td>\n",
       "      <td>7.870000</td>\n",
       "    </tr>\n",
       "    <tr>\n",
       "      <th>1</th>\n",
       "      <td>2010-01-04</td>\n",
       "      <td>26.466835</td>\n",
       "      <td>133.899994</td>\n",
       "      <td>NaN</td>\n",
       "      <td>312.204773</td>\n",
       "      <td>7.640000</td>\n",
       "    </tr>\n",
       "    <tr>\n",
       "      <th>2</th>\n",
       "      <td>2010-01-05</td>\n",
       "      <td>26.512596</td>\n",
       "      <td>134.690002</td>\n",
       "      <td>NaN</td>\n",
       "      <td>310.829926</td>\n",
       "      <td>7.358572</td>\n",
       "    </tr>\n",
       "    <tr>\n",
       "      <th>3</th>\n",
       "      <td>2010-01-06</td>\n",
       "      <td>26.090879</td>\n",
       "      <td>132.250000</td>\n",
       "      <td>NaN</td>\n",
       "      <td>302.994293</td>\n",
       "      <td>7.617143</td>\n",
       "    </tr>\n",
       "    <tr>\n",
       "      <th>4</th>\n",
       "      <td>2010-01-07</td>\n",
       "      <td>26.042646</td>\n",
       "      <td>130.000000</td>\n",
       "      <td>NaN</td>\n",
       "      <td>295.940735</td>\n",
       "      <td>7.485714</td>\n",
       "    </tr>\n",
       "    <tr>\n",
       "      <th>...</th>\n",
       "      <td>...</td>\n",
       "      <td>...</td>\n",
       "      <td>...</td>\n",
       "      <td>...</td>\n",
       "      <td>...</td>\n",
       "      <td>...</td>\n",
       "    </tr>\n",
       "    <tr>\n",
       "      <th>2594</th>\n",
       "      <td>2020-04-23</td>\n",
       "      <td>274.287506</td>\n",
       "      <td>2399.449951</td>\n",
       "      <td>185.130005</td>\n",
       "      <td>1276.310059</td>\n",
       "      <td>426.700012</td>\n",
       "    </tr>\n",
       "    <tr>\n",
       "      <th>2595</th>\n",
       "      <td>2020-04-24</td>\n",
       "      <td>282.206085</td>\n",
       "      <td>2410.219971</td>\n",
       "      <td>190.070007</td>\n",
       "      <td>1279.310059</td>\n",
       "      <td>424.989990</td>\n",
       "    </tr>\n",
       "    <tr>\n",
       "      <th>2596</th>\n",
       "      <td>2020-04-27</td>\n",
       "      <td>282.405548</td>\n",
       "      <td>2376.000000</td>\n",
       "      <td>187.500000</td>\n",
       "      <td>1275.880005</td>\n",
       "      <td>421.380005</td>\n",
       "    </tr>\n",
       "    <tr>\n",
       "      <th>2597</th>\n",
       "      <td>2020-04-28</td>\n",
       "      <td>277.827911</td>\n",
       "      <td>2314.080078</td>\n",
       "      <td>182.910004</td>\n",
       "      <td>1233.670044</td>\n",
       "      <td>403.829987</td>\n",
       "    </tr>\n",
       "    <tr>\n",
       "      <th>2598</th>\n",
       "      <td>2020-04-29</td>\n",
       "      <td>286.953247</td>\n",
       "      <td>2372.709961</td>\n",
       "      <td>194.190002</td>\n",
       "      <td>1341.479980</td>\n",
       "      <td>411.890015</td>\n",
       "    </tr>\n",
       "  </tbody>\n",
       "</table>\n",
       "<p>2599 rows × 6 columns</p>\n",
       "</div>"
      ],
      "text/plain": [
       "            Date        AAPL         AMZN          FB         GOOG        NFLX\n",
       "0     2009-12-31   26.061205   134.520004         NaN   308.832428    7.870000\n",
       "1     2010-01-04   26.466835   133.899994         NaN   312.204773    7.640000\n",
       "2     2010-01-05   26.512596   134.690002         NaN   310.829926    7.358572\n",
       "3     2010-01-06   26.090879   132.250000         NaN   302.994293    7.617143\n",
       "4     2010-01-07   26.042646   130.000000         NaN   295.940735    7.485714\n",
       "...          ...         ...          ...         ...          ...         ...\n",
       "2594  2020-04-23  274.287506  2399.449951  185.130005  1276.310059  426.700012\n",
       "2595  2020-04-24  282.206085  2410.219971  190.070007  1279.310059  424.989990\n",
       "2596  2020-04-27  282.405548  2376.000000  187.500000  1275.880005  421.380005\n",
       "2597  2020-04-28  277.827911  2314.080078  182.910004  1233.670044  403.829987\n",
       "2598  2020-04-29  286.953247  2372.709961  194.190002  1341.479980  411.890015\n",
       "\n",
       "[2599 rows x 6 columns]"
      ]
     },
     "execution_count": 36,
     "metadata": {},
     "output_type": "execute_result"
    }
   ],
   "source": [
    "data"
   ]
  },
  {
   "cell_type": "markdown",
   "id": "2d8ea208",
   "metadata": {},
   "source": [
    "# 6. Get Data"
   ]
  },
  {
   "cell_type": "code",
   "execution_count": 40,
   "id": "f05a7e56",
   "metadata": {},
   "outputs": [],
   "source": [
    "import pandas_datareader.data as web"
   ]
  },
  {
   "cell_type": "code",
   "execution_count": null,
   "id": "19b21966",
   "metadata": {},
   "outputs": [],
   "source": [
    "symbol = 'WIKI/AAPL'  # or 'AAPL.US'\n",
    "df = web.DataReader(symbol, 'quandl', '2015-01-01', '2017-03-05',api_key='FiaPBJnUr_NDoMM4BW7o')\n",
    "#   FiaPBJnUr_NDoMM4BW7o"
   ]
  },
  {
   "cell_type": "markdown",
   "id": "fc32e25b",
   "metadata": {},
   "source": [
    "## 6.1 FRED"
   ]
  },
  {
   "cell_type": "code",
   "execution_count": null,
   "id": "68aa48f1",
   "metadata": {},
   "outputs": [],
   "source": [
    "from fredapi import Fred as Fred\n",
    "\n",
    "fred_key='ffc8bae82c04b73a42221721a114855a'\n",
    "fred = Fred(api_key=fred_key)"
   ]
  },
  {
   "cell_type": "code",
   "execution_count": null,
   "id": "2207bbe4",
   "metadata": {},
   "outputs": [],
   "source": [
    "employee_us = fred.get_series('PAYEMS','2022-01-01')\n",
    "tbill3m = fred.get_series('DTB3','2022-01-01')\n",
    "fx_usdcny = fred.get_series('DEXCHUS','2022-01-01')\n",
    "ffr = fred.get_series('DFF','2022-01-01')\n",
    "uscpi = fred.get_series('CORESTICKM159SFRBATL','2022-01-01')\n",
    "export_china = fred.get_series('XTEXVA01CNM664S','2022-01-01')"
   ]
  },
  {
   "cell_type": "markdown",
   "id": "820457e3",
   "metadata": {},
   "source": [
    "## 6.2 pandas_datareader (Yahoo!)"
   ]
  },
  {
   "cell_type": "code",
   "execution_count": null,
   "id": "728bf805",
   "metadata": {},
   "outputs": [],
   "source": [
    "import pandas_datareader as datareader"
   ]
  },
  {
   "cell_type": "code",
   "execution_count": null,
   "id": "0752375c",
   "metadata": {},
   "outputs": [],
   "source": [
    "sh = datareader.data.DataReader('000001.SS', 'yahoo')\n",
    "sh"
   ]
  },
  {
   "cell_type": "markdown",
   "id": "6c35131c",
   "metadata": {},
   "source": [
    "## 6.3 Tushare"
   ]
  },
  {
   "cell_type": "code",
   "execution_count": 4,
   "id": "486dd0d9",
   "metadata": {},
   "outputs": [],
   "source": [
    "import tushare as ts\n",
    "tushare_token = 'b6c86b5366c2bf38446c46c821e38c26f6db3ee187b8ee8fef470f33'\n",
    "\n",
    "ts.set_token(tushare_token)\n",
    "pro = ts.pro_api()"
   ]
  },
  {
   "cell_type": "code",
   "execution_count": 9,
   "id": "9725cca8",
   "metadata": {},
   "outputs": [
    {
     "data": {
      "text/html": [
       "<div>\n",
       "<style scoped>\n",
       "    .dataframe tbody tr th:only-of-type {\n",
       "        vertical-align: middle;\n",
       "    }\n",
       "\n",
       "    .dataframe tbody tr th {\n",
       "        vertical-align: top;\n",
       "    }\n",
       "\n",
       "    .dataframe thead th {\n",
       "        text-align: right;\n",
       "    }\n",
       "</style>\n",
       "<table border=\"1\" class=\"dataframe\">\n",
       "  <thead>\n",
       "    <tr style=\"text-align: right;\">\n",
       "      <th></th>\n",
       "      <th>ts_code</th>\n",
       "      <th>trade_date</th>\n",
       "      <th>open</th>\n",
       "      <th>high</th>\n",
       "      <th>low</th>\n",
       "      <th>close</th>\n",
       "      <th>pre_close</th>\n",
       "      <th>change</th>\n",
       "      <th>pct_chg</th>\n",
       "      <th>vol</th>\n",
       "      <th>amount</th>\n",
       "    </tr>\n",
       "  </thead>\n",
       "  <tbody>\n",
       "    <tr>\n",
       "      <th>0</th>\n",
       "      <td>000001.SZ</td>\n",
       "      <td>20180718</td>\n",
       "      <td>8.75</td>\n",
       "      <td>8.85</td>\n",
       "      <td>8.69</td>\n",
       "      <td>8.70</td>\n",
       "      <td>8.72</td>\n",
       "      <td>-0.02</td>\n",
       "      <td>-0.23</td>\n",
       "      <td>525152.77</td>\n",
       "      <td>460697.377</td>\n",
       "    </tr>\n",
       "    <tr>\n",
       "      <th>1</th>\n",
       "      <td>000001.SZ</td>\n",
       "      <td>20180717</td>\n",
       "      <td>8.74</td>\n",
       "      <td>8.75</td>\n",
       "      <td>8.66</td>\n",
       "      <td>8.72</td>\n",
       "      <td>8.73</td>\n",
       "      <td>-0.01</td>\n",
       "      <td>-0.11</td>\n",
       "      <td>375356.33</td>\n",
       "      <td>326396.994</td>\n",
       "    </tr>\n",
       "    <tr>\n",
       "      <th>2</th>\n",
       "      <td>000001.SZ</td>\n",
       "      <td>20180716</td>\n",
       "      <td>8.85</td>\n",
       "      <td>8.90</td>\n",
       "      <td>8.69</td>\n",
       "      <td>8.73</td>\n",
       "      <td>8.88</td>\n",
       "      <td>-0.15</td>\n",
       "      <td>-1.69</td>\n",
       "      <td>689845.58</td>\n",
       "      <td>603427.713</td>\n",
       "    </tr>\n",
       "    <tr>\n",
       "      <th>3</th>\n",
       "      <td>000001.SZ</td>\n",
       "      <td>20180713</td>\n",
       "      <td>8.92</td>\n",
       "      <td>8.94</td>\n",
       "      <td>8.82</td>\n",
       "      <td>8.88</td>\n",
       "      <td>8.88</td>\n",
       "      <td>0.00</td>\n",
       "      <td>0.00</td>\n",
       "      <td>603378.21</td>\n",
       "      <td>535401.175</td>\n",
       "    </tr>\n",
       "    <tr>\n",
       "      <th>4</th>\n",
       "      <td>000001.SZ</td>\n",
       "      <td>20180712</td>\n",
       "      <td>8.60</td>\n",
       "      <td>8.97</td>\n",
       "      <td>8.58</td>\n",
       "      <td>8.88</td>\n",
       "      <td>8.64</td>\n",
       "      <td>0.24</td>\n",
       "      <td>2.78</td>\n",
       "      <td>1140492.31</td>\n",
       "      <td>1008658.828</td>\n",
       "    </tr>\n",
       "    <tr>\n",
       "      <th>5</th>\n",
       "      <td>000001.SZ</td>\n",
       "      <td>20180711</td>\n",
       "      <td>8.76</td>\n",
       "      <td>8.83</td>\n",
       "      <td>8.68</td>\n",
       "      <td>8.78</td>\n",
       "      <td>8.98</td>\n",
       "      <td>-0.20</td>\n",
       "      <td>-2.23</td>\n",
       "      <td>851296.70</td>\n",
       "      <td>744765.824</td>\n",
       "    </tr>\n",
       "    <tr>\n",
       "      <th>6</th>\n",
       "      <td>000001.SZ</td>\n",
       "      <td>20180710</td>\n",
       "      <td>9.02</td>\n",
       "      <td>9.02</td>\n",
       "      <td>8.89</td>\n",
       "      <td>8.98</td>\n",
       "      <td>9.03</td>\n",
       "      <td>-0.05</td>\n",
       "      <td>-0.55</td>\n",
       "      <td>896862.02</td>\n",
       "      <td>803038.965</td>\n",
       "    </tr>\n",
       "    <tr>\n",
       "      <th>7</th>\n",
       "      <td>000001.SZ</td>\n",
       "      <td>20180709</td>\n",
       "      <td>8.69</td>\n",
       "      <td>9.03</td>\n",
       "      <td>8.68</td>\n",
       "      <td>9.03</td>\n",
       "      <td>8.66</td>\n",
       "      <td>0.37</td>\n",
       "      <td>4.27</td>\n",
       "      <td>1409954.60</td>\n",
       "      <td>1255007.609</td>\n",
       "    </tr>\n",
       "    <tr>\n",
       "      <th>8</th>\n",
       "      <td>000001.SZ</td>\n",
       "      <td>20180706</td>\n",
       "      <td>8.61</td>\n",
       "      <td>8.78</td>\n",
       "      <td>8.45</td>\n",
       "      <td>8.66</td>\n",
       "      <td>8.60</td>\n",
       "      <td>0.06</td>\n",
       "      <td>0.70</td>\n",
       "      <td>988282.69</td>\n",
       "      <td>852071.526</td>\n",
       "    </tr>\n",
       "    <tr>\n",
       "      <th>9</th>\n",
       "      <td>000001.SZ</td>\n",
       "      <td>20180705</td>\n",
       "      <td>8.62</td>\n",
       "      <td>8.73</td>\n",
       "      <td>8.55</td>\n",
       "      <td>8.60</td>\n",
       "      <td>8.61</td>\n",
       "      <td>-0.01</td>\n",
       "      <td>-0.12</td>\n",
       "      <td>835768.77</td>\n",
       "      <td>722169.579</td>\n",
       "    </tr>\n",
       "    <tr>\n",
       "      <th>10</th>\n",
       "      <td>000001.SZ</td>\n",
       "      <td>20180704</td>\n",
       "      <td>8.63</td>\n",
       "      <td>8.75</td>\n",
       "      <td>8.61</td>\n",
       "      <td>8.61</td>\n",
       "      <td>8.67</td>\n",
       "      <td>-0.06</td>\n",
       "      <td>-0.69</td>\n",
       "      <td>711153.37</td>\n",
       "      <td>617278.559</td>\n",
       "    </tr>\n",
       "    <tr>\n",
       "      <th>11</th>\n",
       "      <td>000001.SZ</td>\n",
       "      <td>20180703</td>\n",
       "      <td>8.69</td>\n",
       "      <td>8.70</td>\n",
       "      <td>8.45</td>\n",
       "      <td>8.67</td>\n",
       "      <td>8.61</td>\n",
       "      <td>0.06</td>\n",
       "      <td>0.70</td>\n",
       "      <td>1274838.57</td>\n",
       "      <td>1096657.033</td>\n",
       "    </tr>\n",
       "    <tr>\n",
       "      <th>12</th>\n",
       "      <td>000001.SZ</td>\n",
       "      <td>20180702</td>\n",
       "      <td>9.05</td>\n",
       "      <td>9.05</td>\n",
       "      <td>8.55</td>\n",
       "      <td>8.61</td>\n",
       "      <td>9.09</td>\n",
       "      <td>-0.48</td>\n",
       "      <td>-5.28</td>\n",
       "      <td>1315520.13</td>\n",
       "      <td>1158545.868</td>\n",
       "    </tr>\n",
       "  </tbody>\n",
       "</table>\n",
       "</div>"
      ],
      "text/plain": [
       "      ts_code trade_date  open  high   low  close  pre_close  change  pct_chg  \\\n",
       "0   000001.SZ   20180718  8.75  8.85  8.69   8.70       8.72   -0.02    -0.23   \n",
       "1   000001.SZ   20180717  8.74  8.75  8.66   8.72       8.73   -0.01    -0.11   \n",
       "2   000001.SZ   20180716  8.85  8.90  8.69   8.73       8.88   -0.15    -1.69   \n",
       "3   000001.SZ   20180713  8.92  8.94  8.82   8.88       8.88    0.00     0.00   \n",
       "4   000001.SZ   20180712  8.60  8.97  8.58   8.88       8.64    0.24     2.78   \n",
       "5   000001.SZ   20180711  8.76  8.83  8.68   8.78       8.98   -0.20    -2.23   \n",
       "6   000001.SZ   20180710  9.02  9.02  8.89   8.98       9.03   -0.05    -0.55   \n",
       "7   000001.SZ   20180709  8.69  9.03  8.68   9.03       8.66    0.37     4.27   \n",
       "8   000001.SZ   20180706  8.61  8.78  8.45   8.66       8.60    0.06     0.70   \n",
       "9   000001.SZ   20180705  8.62  8.73  8.55   8.60       8.61   -0.01    -0.12   \n",
       "10  000001.SZ   20180704  8.63  8.75  8.61   8.61       8.67   -0.06    -0.69   \n",
       "11  000001.SZ   20180703  8.69  8.70  8.45   8.67       8.61    0.06     0.70   \n",
       "12  000001.SZ   20180702  9.05  9.05  8.55   8.61       9.09   -0.48    -5.28   \n",
       "\n",
       "           vol       amount  \n",
       "0    525152.77   460697.377  \n",
       "1    375356.33   326396.994  \n",
       "2    689845.58   603427.713  \n",
       "3    603378.21   535401.175  \n",
       "4   1140492.31  1008658.828  \n",
       "5    851296.70   744765.824  \n",
       "6    896862.02   803038.965  \n",
       "7   1409954.60  1255007.609  \n",
       "8    988282.69   852071.526  \n",
       "9    835768.77   722169.579  \n",
       "10   711153.37   617278.559  \n",
       "11  1274838.57  1096657.033  \n",
       "12  1315520.13  1158545.868  "
      ]
     },
     "execution_count": 9,
     "metadata": {},
     "output_type": "execute_result"
    }
   ],
   "source": [
    "df = pro.query('daily', ts_code='000001.SZ', start_date='20180701', end_date='20180718')\n",
    "df"
   ]
  },
  {
   "cell_type": "markdown",
   "id": "814f488c",
   "metadata": {},
   "source": [
    "# 7. 转换时间格式（待测试"
   ]
  },
  {
   "cell_type": "code",
   "execution_count": null,
   "id": "262cf63a",
   "metadata": {},
   "outputs": [],
   "source": [
    "# 时间格式：\n",
    "BS_df[['ConvTermStartDate']] =pd.to_datetime(BS_df[['ConvTermStartDate']].stack()).unstack()\n",
    "BS_df[['ConvTermEndDate']] =pd.to_datetime(BS_df[['ConvTermEndDate']].stack()).unstack()\n",
    "BS_df[['Date']] =pd.to_datetime(BS_df[['Date']].stack()).unstack()"
   ]
  },
  {
   "cell_type": "markdown",
   "id": "69f8c1af",
   "metadata": {},
   "source": [
    "# 8. Statistic Table Output"
   ]
  },
  {
   "cell_type": "markdown",
   "id": "203f040d",
   "metadata": {},
   "source": [
    "### 8.1 Method 1 (Regressions)"
   ]
  },
  {
   "cell_type": "code",
   "execution_count": 1,
   "id": "863a7922",
   "metadata": {},
   "outputs": [],
   "source": [
    "import pandas as pd        \n",
    "import statsmodels.api as sm\n",
    "from statsmodels.iolib.summary2 import summary_col\n",
    "\n",
    "df = pd.read_stata('http://www.stata-press.com/data/r14/auto.dta')\n",
    "df['cons'] = 1\n",
    "\n",
    "Y = df['mpg']\n",
    "X1 = df[['weight', 'cons']]\n",
    "X2 = df[['weight', 'price', 'cons']]\n",
    "X3 = df[['weight', 'price', 'length', 'cons']]\n",
    "X4 = df[['weight', 'price', 'length', 'displacement', 'cons']]\n",
    "\n",
    "reg1 = sm.OLS(Y, X1).fit()\n",
    "reg2 = sm.OLS(Y, X2).fit()\n",
    "reg3 = sm.OLS(Y, X3).fit()\n",
    "reg4 = sm.OLS(Y, X4).fit()\n",
    "\n",
    "results = summary_col([reg1, reg2, reg3, reg4],stars=True,float_format='%0.2f',\n",
    "                  model_names=['Model\\n(1)', 'Model\\n(2)', 'Model\\n(3)',  'Model\\n(4)'],\n",
    "                  info_dict={'N':lambda x: \"{0:d}\".format(int(x.nobs)),\n",
    "                             'R2':lambda x: \"{:.2f}\".format(x.rsquared)})"
   ]
  },
  {
   "cell_type": "code",
   "execution_count": 3,
   "id": "7eeb1df0",
   "metadata": {},
   "outputs": [
    {
     "data": {
      "text/html": [
       "<table class=\"simpletable\">\n",
       "<tr>\n",
       "         <td></td>          <th>Model</th>    <th>Model</th>    <th>Model</th>    <th>Model</th> \n",
       "</tr>\n",
       "<tr>\n",
       "         <td></td>           <th>(1)</th>      <th>(2)</th>      <th>(3)</th>      <th>(4)</th>  \n",
       "</tr>\n",
       "<tr>\n",
       "  <th>R-squared</th>        <td>0.65</td>     <td>0.65</td>     <td>0.67</td>     <td>0.67</td>  \n",
       "</tr>\n",
       "<tr>\n",
       "  <th>R-squared Adj.</th>   <td>0.65</td>     <td>0.64</td>     <td>0.65</td>     <td>0.65</td>  \n",
       "</tr>\n",
       "<tr>\n",
       "  <th>cons</th>           <td>39.44***</td> <td>39.44***</td> <td>49.68***</td> <td>50.02***</td>\n",
       "</tr>\n",
       "<tr>\n",
       "  <th></th>                <td>(1.61)</td>   <td>(1.62)</td>   <td>(6.33)</td>   <td>(6.41)</td> \n",
       "</tr>\n",
       "<tr>\n",
       "  <th>displacement</th>       <td></td>         <td></td>         <td></td>       <td>0.00</td>  \n",
       "</tr>\n",
       "<tr>\n",
       "  <th></th>                   <td></td>         <td></td>         <td></td>      <td>(0.01)</td> \n",
       "</tr>\n",
       "<tr>\n",
       "  <th>length</th>             <td></td>         <td></td>      <td>-0.10*</td>    <td>-0.09</td> \n",
       "</tr>\n",
       "<tr>\n",
       "  <th></th>                   <td></td>         <td></td>      <td>(0.06)</td>   <td>(0.06)</td> \n",
       "</tr>\n",
       "<tr>\n",
       "  <th>price</th>              <td></td>       <td>-0.00</td>    <td>-0.00</td>    <td>-0.00</td> \n",
       "</tr>\n",
       "<tr>\n",
       "  <th></th>                   <td></td>      <td>(0.00)</td>   <td>(0.00)</td>   <td>(0.00)</td> \n",
       "</tr>\n",
       "<tr>\n",
       "  <th>weight</th>         <td>-0.01***</td> <td>-0.01***</td>  <td>-0.00*</td>   <td>-0.00*</td> \n",
       "</tr>\n",
       "<tr>\n",
       "  <th></th>                <td>(0.00)</td>   <td>(0.00)</td>   <td>(0.00)</td>   <td>(0.00)</td> \n",
       "</tr>\n",
       "<tr>\n",
       "  <th>N</th>                 <td>74</td>       <td>74</td>       <td>74</td>       <td>74</td>   \n",
       "</tr>\n",
       "<tr>\n",
       "  <th>R2</th>               <td>0.65</td>     <td>0.65</td>     <td>0.67</td>     <td>0.67</td>  \n",
       "</tr>\n",
       "</table>"
      ],
      "text/plain": [
       "<class 'statsmodels.iolib.summary2.Summary'>\n",
       "\"\"\"\n",
       "\n",
       "==================================================\n",
       "                Model    Model    Model    Model  \n",
       "                 (1)      (2)      (3)      (4)   \n",
       "--------------------------------------------------\n",
       "R-squared      0.65     0.65     0.67     0.67    \n",
       "R-squared Adj. 0.65     0.64     0.65     0.65    \n",
       "cons           39.44*** 39.44*** 49.68*** 50.02***\n",
       "               (1.61)   (1.62)   (6.33)   (6.41)  \n",
       "displacement                              0.00    \n",
       "                                          (0.01)  \n",
       "length                           -0.10*   -0.09   \n",
       "                                 (0.06)   (0.06)  \n",
       "price                   -0.00    -0.00    -0.00   \n",
       "                        (0.00)   (0.00)   (0.00)  \n",
       "weight         -0.01*** -0.01*** -0.00*   -0.00*  \n",
       "               (0.00)   (0.00)   (0.00)   (0.00)  \n",
       "N              74       74       74       74      \n",
       "R2             0.65     0.65     0.67     0.67    \n",
       "==================================================\n",
       "Standard errors in parentheses.\n",
       "* p<.1, ** p<.05, ***p<.01\n",
       "\"\"\""
      ]
     },
     "execution_count": 3,
     "metadata": {},
     "output_type": "execute_result"
    }
   ],
   "source": [
    "results"
   ]
  },
  {
   "cell_type": "code",
   "execution_count": null,
   "id": "35d3e397",
   "metadata": {},
   "outputs": [],
   "source": [
    "results_text = results.as_text()\n",
    "\n",
    "import csv\n",
    "resultFile = open(\"table.csv\",'w')\n",
    "resultFile.write(results_text)\n",
    "resultFile.close()"
   ]
  },
  {
   "cell_type": "markdown",
   "id": "daff6e40",
   "metadata": {},
   "source": [
    "### 8.2 Single Table"
   ]
  },
  {
   "cell_type": "code",
   "execution_count": 4,
   "id": "5da15d14",
   "metadata": {},
   "outputs": [],
   "source": [
    "# Linear Regression\n",
    "import numpy as np\n",
    "import pandas as pd\n",
    "from sklearn import datasets # get the dataset\n",
    "#from sklearn.linear_model import LinearRegression\n",
    "import statsmodels.api as sm"
   ]
  },
  {
   "cell_type": "code",
   "execution_count": 5,
   "id": "2a0671b8",
   "metadata": {
    "scrolled": true
   },
   "outputs": [],
   "source": [
    "# Import a Dataset\n",
    "dataset = datasets.load_diabetes()\n",
    "\n",
    "# Concate that Dataset, as confirm X & Y\n",
    "X = pd.DataFrame(dataset.data)\n",
    "Y = pd.DataFrame(dataset.target)\n",
    "YX = pd.concat([Y,X],axis=1)\n",
    "\n",
    "# Through this Method, we need mannually add a contant vector.\n",
    "x = sm.add_constant(X)"
   ]
  },
  {
   "cell_type": "code",
   "execution_count": 6,
   "id": "542d13bd",
   "metadata": {},
   "outputs": [
    {
     "data": {
      "text/html": [
       "<table class=\"simpletable\">\n",
       "<caption>OLS Regression Results</caption>\n",
       "<tr>\n",
       "  <th>Dep. Variable:</th>            <td>0</td>        <th>  R-squared:         </th> <td>   0.518</td>\n",
       "</tr>\n",
       "<tr>\n",
       "  <th>Model:</th>                   <td>OLS</td>       <th>  Adj. R-squared:    </th> <td>   0.507</td>\n",
       "</tr>\n",
       "<tr>\n",
       "  <th>Method:</th>             <td>Least Squares</td>  <th>  F-statistic:       </th> <td>   46.27</td>\n",
       "</tr>\n",
       "<tr>\n",
       "  <th>Date:</th>             <td>Thu, 17 Nov 2022</td> <th>  Prob (F-statistic):</th> <td>3.83e-62</td>\n",
       "</tr>\n",
       "<tr>\n",
       "  <th>Time:</th>                 <td>10:58:13</td>     <th>  Log-Likelihood:    </th> <td> -2386.0</td>\n",
       "</tr>\n",
       "<tr>\n",
       "  <th>No. Observations:</th>      <td>   442</td>      <th>  AIC:               </th> <td>   4794.</td>\n",
       "</tr>\n",
       "<tr>\n",
       "  <th>Df Residuals:</th>          <td>   431</td>      <th>  BIC:               </th> <td>   4839.</td>\n",
       "</tr>\n",
       "<tr>\n",
       "  <th>Df Model:</th>              <td>    10</td>      <th>                     </th>     <td> </td>   \n",
       "</tr>\n",
       "<tr>\n",
       "  <th>Covariance Type:</th>      <td>nonrobust</td>    <th>                     </th>     <td> </td>   \n",
       "</tr>\n",
       "</table>\n",
       "<table class=\"simpletable\">\n",
       "<tr>\n",
       "    <td></td>       <th>coef</th>     <th>std err</th>      <th>t</th>      <th>P>|t|</th>  <th>[0.025</th>    <th>0.975]</th>  \n",
       "</tr>\n",
       "<tr>\n",
       "  <th>const</th> <td>  152.1335</td> <td>    2.576</td> <td>   59.061</td> <td> 0.000</td> <td>  147.071</td> <td>  157.196</td>\n",
       "</tr>\n",
       "<tr>\n",
       "  <th>0</th>     <td>  -10.0122</td> <td>   59.749</td> <td>   -0.168</td> <td> 0.867</td> <td> -127.448</td> <td>  107.424</td>\n",
       "</tr>\n",
       "<tr>\n",
       "  <th>1</th>     <td> -239.8191</td> <td>   61.222</td> <td>   -3.917</td> <td> 0.000</td> <td> -360.151</td> <td> -119.488</td>\n",
       "</tr>\n",
       "<tr>\n",
       "  <th>2</th>     <td>  519.8398</td> <td>   66.534</td> <td>    7.813</td> <td> 0.000</td> <td>  389.069</td> <td>  650.610</td>\n",
       "</tr>\n",
       "<tr>\n",
       "  <th>3</th>     <td>  324.3904</td> <td>   65.422</td> <td>    4.958</td> <td> 0.000</td> <td>  195.805</td> <td>  452.976</td>\n",
       "</tr>\n",
       "<tr>\n",
       "  <th>4</th>     <td> -792.1842</td> <td>  416.684</td> <td>   -1.901</td> <td> 0.058</td> <td>-1611.169</td> <td>   26.801</td>\n",
       "</tr>\n",
       "<tr>\n",
       "  <th>5</th>     <td>  476.7458</td> <td>  339.035</td> <td>    1.406</td> <td> 0.160</td> <td> -189.621</td> <td> 1143.113</td>\n",
       "</tr>\n",
       "<tr>\n",
       "  <th>6</th>     <td>  101.0446</td> <td>  212.533</td> <td>    0.475</td> <td> 0.635</td> <td> -316.685</td> <td>  518.774</td>\n",
       "</tr>\n",
       "<tr>\n",
       "  <th>7</th>     <td>  177.0642</td> <td>  161.476</td> <td>    1.097</td> <td> 0.273</td> <td> -140.313</td> <td>  494.442</td>\n",
       "</tr>\n",
       "<tr>\n",
       "  <th>8</th>     <td>  751.2793</td> <td>  171.902</td> <td>    4.370</td> <td> 0.000</td> <td>  413.409</td> <td> 1089.150</td>\n",
       "</tr>\n",
       "<tr>\n",
       "  <th>9</th>     <td>   67.6254</td> <td>   65.984</td> <td>    1.025</td> <td> 0.306</td> <td>  -62.065</td> <td>  197.316</td>\n",
       "</tr>\n",
       "</table>\n",
       "<table class=\"simpletable\">\n",
       "<tr>\n",
       "  <th>Omnibus:</th>       <td> 1.506</td> <th>  Durbin-Watson:     </th> <td>   2.029</td>\n",
       "</tr>\n",
       "<tr>\n",
       "  <th>Prob(Omnibus):</th> <td> 0.471</td> <th>  Jarque-Bera (JB):  </th> <td>   1.404</td>\n",
       "</tr>\n",
       "<tr>\n",
       "  <th>Skew:</th>          <td> 0.017</td> <th>  Prob(JB):          </th> <td>   0.496</td>\n",
       "</tr>\n",
       "<tr>\n",
       "  <th>Kurtosis:</th>      <td> 2.726</td> <th>  Cond. No.          </th> <td>    227.</td>\n",
       "</tr>\n",
       "</table><br/><br/>Notes:<br/>[1] Standard Errors assume that the covariance matrix of the errors is correctly specified."
      ],
      "text/plain": [
       "<class 'statsmodels.iolib.summary.Summary'>\n",
       "\"\"\"\n",
       "                            OLS Regression Results                            \n",
       "==============================================================================\n",
       "Dep. Variable:                      0   R-squared:                       0.518\n",
       "Model:                            OLS   Adj. R-squared:                  0.507\n",
       "Method:                 Least Squares   F-statistic:                     46.27\n",
       "Date:                Thu, 17 Nov 2022   Prob (F-statistic):           3.83e-62\n",
       "Time:                        10:58:13   Log-Likelihood:                -2386.0\n",
       "No. Observations:                 442   AIC:                             4794.\n",
       "Df Residuals:                     431   BIC:                             4839.\n",
       "Df Model:                          10                                         \n",
       "Covariance Type:            nonrobust                                         \n",
       "==============================================================================\n",
       "                 coef    std err          t      P>|t|      [0.025      0.975]\n",
       "------------------------------------------------------------------------------\n",
       "const        152.1335      2.576     59.061      0.000     147.071     157.196\n",
       "0            -10.0122     59.749     -0.168      0.867    -127.448     107.424\n",
       "1           -239.8191     61.222     -3.917      0.000    -360.151    -119.488\n",
       "2            519.8398     66.534      7.813      0.000     389.069     650.610\n",
       "3            324.3904     65.422      4.958      0.000     195.805     452.976\n",
       "4           -792.1842    416.684     -1.901      0.058   -1611.169      26.801\n",
       "5            476.7458    339.035      1.406      0.160    -189.621    1143.113\n",
       "6            101.0446    212.533      0.475      0.635    -316.685     518.774\n",
       "7            177.0642    161.476      1.097      0.273    -140.313     494.442\n",
       "8            751.2793    171.902      4.370      0.000     413.409    1089.150\n",
       "9             67.6254     65.984      1.025      0.306     -62.065     197.316\n",
       "==============================================================================\n",
       "Omnibus:                        1.506   Durbin-Watson:                   2.029\n",
       "Prob(Omnibus):                  0.471   Jarque-Bera (JB):                1.404\n",
       "Skew:                           0.017   Prob(JB):                        0.496\n",
       "Kurtosis:                       2.726   Cond. No.                         227.\n",
       "==============================================================================\n",
       "\n",
       "Notes:\n",
       "[1] Standard Errors assume that the covariance matrix of the errors is correctly specified.\n",
       "\"\"\""
      ]
     },
     "execution_count": 6,
     "metadata": {},
     "output_type": "execute_result"
    }
   ],
   "source": [
    "# Regress and Get Results\n",
    "results = sm.OLS(Y,x).fit()\n",
    "Y_predict = results.predict(x)\n",
    "results.summary() "
   ]
  },
  {
   "cell_type": "markdown",
   "id": "17e26573",
   "metadata": {},
   "source": [
    "# 9. String in DataFrame"
   ]
  },
  {
   "cell_type": "code",
   "execution_count": null,
   "id": "6a79058c",
   "metadata": {},
   "outputs": [],
   "source": [
    "df.index.str.split('.').str[-1]"
   ]
  },
  {
   "cell_type": "code",
   "execution_count": null,
   "id": "4b56caaf",
   "metadata": {},
   "outputs": [],
   "source": [
    "df.index.str.replace(' ','')"
   ]
  },
  {
   "cell_type": "markdown",
   "id": "01497709",
   "metadata": {},
   "source": [
    "# 10. Create Date Features"
   ]
  },
  {
   "cell_type": "code",
   "execution_count": null,
   "id": "b0eaecd7",
   "metadata": {},
   "outputs": [],
   "source": [
    "from pandas.api.types import CategoricalDtype\n",
    "cat_type = CategoricalDtype(categories=['Monday','Tuesday',\n",
    "                                        'Wednesday',\n",
    "                                        'Thursday','Friday',\n",
    "                                        'Saturday','Sunday'],\n",
    "                            ordered=True)\n",
    "\n",
    "\n",
    "def create_features(df, label = None):\n",
    "    df = df.copy()\n",
    "    df['date'] = df.index\n",
    "    df['hour'] = df['date'].dt.hour\n",
    "    df['dayofweek'] = df['date'].dt.dayofweek\n",
    "    df['weekday'] = df['date'].dt.day_name()\n",
    "    df['weekday'] = df['weekday'].astype(cat_type)\n",
    "    df['quarter'] = df['date'].dt.quarter\n",
    "    df['month'] = df['date'].dt.month\n",
    "    df['year'] = df['date'].dt.year\n",
    "    df['dayofyear'] = df['date'].dt.dayofyear\n",
    "    df['dayofmonth'] = df['date'].dt.day\n",
    "    df['weekofyear'] = df['date'].dt.weekofyear\n",
    "    df['date_offset'] = (df.date.dt.month*100 + df.date.dt.day - 320)%1300\n",
    "    df['season'] = pd.cut( df['date_offset'], [0,300,602,900,1300] ,\n",
    "                          labels = ['Spring', 'Summer', 'Fall', 'Winter'])\n",
    "    X = df[['hour','dayofweek','quarter','month','year',\n",
    "            'dayofyear','dayofmonth','weekofyear','weekday',\n",
    "            'season']]\n",
    "    if label:\n",
    "        y = df[label]\n",
    "        return X,y\n",
    "    return X"
   ]
  },
  {
   "cell_type": "markdown",
   "id": "7976f8a4",
   "metadata": {},
   "source": [
    "# 11. Subplots"
   ]
  },
  {
   "cell_type": "code",
   "execution_count": null,
   "id": "145209c4",
   "metadata": {},
   "outputs": [],
   "source": [
    "fig, axs = plt.subplots( 5, 1, figsize=(15,15), sharex=True )\n",
    "\n",
    "fold = 0\n",
    "for train_idx, val_idx in tss.split(df):\n",
    "    train = df.iloc[train_idx]\n",
    "    test = df.iloc[val_idx]\n",
    "    \n",
    "    train['PJME_MW'].plot(ax=axs[fold], \n",
    "                          label='Training Set', \n",
    "                          title=f'Data Train/Test Split Fold {fold}')\n",
    "    test['PJME_MW'].plot(ax=axs[fold], \n",
    "                         label='Test Set')\n",
    "    axs[fold].axvline( test.index.min(), color='black', ls='--' )\n",
    "    fold += 1"
   ]
  },
  {
   "cell_type": "markdown",
   "id": "b8d5af95",
   "metadata": {},
   "source": [
    "# 12. Get dummy"
   ]
  },
  {
   "cell_type": "code",
   "execution_count": null,
   "id": "c1817929",
   "metadata": {},
   "outputs": [],
   "source": [
    "pd.get_dummy( df )"
   ]
  },
  {
   "cell_type": "markdown",
   "id": "3e76031d",
   "metadata": {},
   "source": [
    "# 13. Select and Shuffle"
   ]
  },
  {
   "cell_type": "code",
   "execution_count": 73,
   "id": "260f9c68",
   "metadata": {},
   "outputs": [],
   "source": [
    "array = np.arange(32)"
   ]
  },
  {
   "cell_type": "code",
   "execution_count": 74,
   "id": "e62c1cd2",
   "metadata": {},
   "outputs": [
    {
     "data": {
      "text/plain": [
       "11"
      ]
     },
     "execution_count": 74,
     "metadata": {},
     "output_type": "execute_result"
    }
   ],
   "source": [
    "# Select one from the array\n",
    "np.random.choice(array)"
   ]
  },
  {
   "cell_type": "code",
   "execution_count": 82,
   "id": "2797aaf6",
   "metadata": {},
   "outputs": [
    {
     "name": "stdout",
     "output_type": "stream",
     "text": [
      "[20 28  1  0  9  7 25 29  2 31 27]\n",
      "[26  3 14 30 19 22  4 16  8 18  6]\n",
      "[ 5 10 11 12 13 15 17 21 23 24]\n"
     ]
    }
   ],
   "source": [
    "# 将32支球队随机分三组\n",
    "a = np.random.choice(array, size = 11, replace = False)\n",
    "array = np.setdiff1d(array, a)\n",
    "b = np.random.choice(array, size = 11, replace = False)\n",
    "c = np.setdiff1d(array, b)\n",
    "\n",
    "\n",
    "print(a)\n",
    "print(b)\n",
    "print(c)"
   ]
  },
  {
   "cell_type": "code",
   "execution_count": 83,
   "id": "f366cd32",
   "metadata": {},
   "outputs": [
    {
     "data": {
      "text/plain": [
       "array([ 3,  4,  5,  6,  8, 10, 11, 12, 13, 14, 15, 16, 17, 18, 19, 21, 22,\n",
       "       23, 24, 26, 30])"
      ]
     },
     "execution_count": 83,
     "metadata": {},
     "output_type": "execute_result"
    }
   ],
   "source": [
    "# 比对两个array，返回 differ的值\n",
    "np.setdiff1d(array, a)"
   ]
  },
  {
   "cell_type": "code",
   "execution_count": 37,
   "id": "19b6a98d",
   "metadata": {},
   "outputs": [],
   "source": [
    "# shuffle an array\n",
    "np.random.shuffle(array)"
   ]
  },
  {
   "cell_type": "markdown",
   "id": "5ffc21a4",
   "metadata": {},
   "source": [
    "https://blog.finxter.com/how-to-remove-specific-elements-in-a-numpy-array/"
   ]
  },
  {
   "cell_type": "markdown",
   "id": "0be7a1c4",
   "metadata": {},
   "source": [
    "## 13. Remove an Arrary from Another"
   ]
  },
  {
   "cell_type": "markdown",
   "id": "bc01ea47",
   "metadata": {},
   "source": [
    "### Method 1.   `np.delete`   delete only index not value"
   ]
  },
  {
   "cell_type": "code",
   "execution_count": 98,
   "id": "94d3397f",
   "metadata": {},
   "outputs": [],
   "source": [
    "array = np.arange(32)\n",
    "np.random.shuffle(array)"
   ]
  },
  {
   "cell_type": "code",
   "execution_count": 100,
   "id": "812f18a1",
   "metadata": {},
   "outputs": [],
   "source": [
    "array = np.arange(32)\n",
    "np.random.shuffle(array)\n",
    "a = np.random.choice(array, size = 11, replace = False)\n",
    "deleted_indice = [1,3]"
   ]
  },
  {
   "cell_type": "code",
   "execution_count": 101,
   "id": "76249ac5",
   "metadata": {
    "scrolled": true
   },
   "outputs": [
    {
     "data": {
      "text/plain": [
       "array([31, 12,  5, 23, 28, 26,  3, 17,  7,  6, 20, 25,  8, 22,  4, 14, 19,\n",
       "       21, 24,  9, 30, 10, 11, 16,  1, 15, 27, 18,  2, 29])"
      ]
     },
     "execution_count": 101,
     "metadata": {},
     "output_type": "execute_result"
    }
   ],
   "source": [
    "# elements in the index [1, 3] are deleted\n",
    "np.delete(array, deleted_indice)"
   ]
  },
  {
   "cell_type": "markdown",
   "id": "beca05de",
   "metadata": {},
   "source": [
    "### Method 2. `np.where` can filter elements/values\n",
    "\n",
    "`np.where(  ,   ,  )`\n",
    "\n",
    "The 1st element is the filter condition, if\n",
    "\n",
    "The 2nd element is the return if ture\n",
    "\n",
    "The 3rd element is the return if False"
   ]
  },
  {
   "cell_type": "code",
   "execution_count": 107,
   "id": "275f8d67",
   "metadata": {},
   "outputs": [
    {
     "data": {
      "text/plain": [
       "array([31, 13, 12,  0,  5, 23, 28, 26,  3, 17,  7,  6, 20, 25,  8, 22,  4,\n",
       "       14, 19, 21, 24,  9, 30, 10, 11, 16,  1, 15, 27, 18,  2, 29])"
      ]
     },
     "execution_count": 107,
     "metadata": {},
     "output_type": "execute_result"
    }
   ],
   "source": [
    "array"
   ]
  },
  {
   "cell_type": "code",
   "execution_count": 113,
   "id": "ff7eb806",
   "metadata": {
    "scrolled": true
   },
   "outputs": [
    {
     "data": {
      "text/plain": [
       "array([ 0, 13, 12,  0,  5,  0,  0,  0,  3,  0,  7,  6,  0,  0,  8,  0,  4,\n",
       "       14,  0,  0,  0,  9,  0, 10, 11,  0,  1, 15,  0,  0,  2,  0])"
      ]
     },
     "execution_count": 113,
     "metadata": {},
     "output_type": "execute_result"
    }
   ],
   "source": [
    "np.where(array<16, array, 0 )"
   ]
  },
  {
   "cell_type": "code",
   "execution_count": 120,
   "id": "d2d29236",
   "metadata": {},
   "outputs": [
    {
     "data": {
      "text/plain": [
       "array([0, 0, 0, 0, 0, 0, 0, 0, 0, 0, 0, 0, 0, 0, 0, 0, 0, 0, 0, 0, 0, 0,\n",
       "       0, 0, 0, 0, 1, 0, 0, 0, 2, 0])"
      ]
     },
     "execution_count": 120,
     "metadata": {},
     "output_type": "execute_result"
    }
   ],
   "source": [
    "np.where((array == 1) | (array ==2) , array, 0)"
   ]
  },
  {
   "cell_type": "markdown",
   "id": "1ee83bd5",
   "metadata": {},
   "source": [
    "###### `np.where` 不传入return值可以返回valude对应的 index，此后在传入 `np.delete` 即可"
   ]
  },
  {
   "cell_type": "code",
   "execution_count": 123,
   "id": "3fad77b5",
   "metadata": {},
   "outputs": [
    {
     "data": {
      "text/plain": [
       "array([31, 13, 12,  0,  5, 23, 28, 26,  3, 17,  7,  6, 20, 25,  8, 22,  4,\n",
       "       14, 19, 21, 24,  9, 30, 10, 11, 16,  1, 15, 27, 18,  2, 29])"
      ]
     },
     "execution_count": 123,
     "metadata": {},
     "output_type": "execute_result"
    }
   ],
   "source": [
    "array"
   ]
  },
  {
   "cell_type": "code",
   "execution_count": 125,
   "id": "bb122bfe",
   "metadata": {},
   "outputs": [
    {
     "data": {
      "text/plain": [
       "array([31,  0,  5, 23, 28, 26,  3, 17,  7,  6, 20, 25,  8, 22,  4, 14, 19,\n",
       "       21, 24,  9, 30, 10, 11, 16,  1, 15, 27, 18,  2, 29])"
      ]
     },
     "execution_count": 125,
     "metadata": {},
     "output_type": "execute_result"
    }
   ],
   "source": [
    "# 直接delete会删除 index对应的值，而不是value对应的值\n",
    "np.delete(array, [1,2])"
   ]
  },
  {
   "cell_type": "code",
   "execution_count": 127,
   "id": "a1798da4",
   "metadata": {
    "scrolled": true
   },
   "outputs": [
    {
     "data": {
      "text/plain": [
       "array([31, 13, 12,  0,  5, 23, 28, 26,  3, 17,  7,  6, 20, 25,  8, 22,  4,\n",
       "       14, 19, 21, 24,  9, 30, 10, 11, 16, 15, 27, 18, 29])"
      ]
     },
     "execution_count": 127,
     "metadata": {},
     "output_type": "execute_result"
    }
   ],
   "source": [
    "# 通过`np.where`找到value对应的index后，传入`np.delete`即可删除\n",
    "deleted_index = np.where((array == 1) | (array ==2))\n",
    "np.delete(array, deleted_index)"
   ]
  },
  {
   "cell_type": "markdown",
   "id": "cb20b2f0",
   "metadata": {},
   "source": [
    "### Method 3. `np.setdiff1d`"
   ]
  },
  {
   "cell_type": "code",
   "execution_count": 93,
   "id": "1079a7ff",
   "metadata": {},
   "outputs": [
    {
     "data": {
      "text/plain": [
       "array([ 0,  1,  4,  5,  6,  7, 10, 11, 12, 13, 14, 15, 16, 17, 18, 21, 22,\n",
       "       25, 26, 30, 31])"
      ]
     },
     "execution_count": 93,
     "metadata": {},
     "output_type": "execute_result"
    }
   ],
   "source": [
    "np.setdiff1d(array, a)"
   ]
  },
  {
   "cell_type": "markdown",
   "id": "4d837c59",
   "metadata": {},
   "source": [
    "### Method 4. `np.isin`"
   ]
  },
  {
   "cell_type": "code",
   "execution_count": 139,
   "id": "290108ba",
   "metadata": {},
   "outputs": [
    {
     "data": {
      "text/plain": [
       "array([ True, False,  True, False, False, False,  True,  True, False,\n",
       "        True, False, False, False, False, False, False, False, False,\n",
       "        True,  True, False, False, False,  True,  True, False, False,\n",
       "        True, False, False, False,  True])"
      ]
     },
     "execution_count": 139,
     "metadata": {},
     "output_type": "execute_result"
    }
   ],
   "source": [
    "# np.isin 可以返回bool list\n",
    "np.isin(array, a)"
   ]
  },
  {
   "cell_type": "code",
   "execution_count": 134,
   "id": "6cd9d3fc",
   "metadata": {
    "scrolled": true
   },
   "outputs": [
    {
     "data": {
      "text/plain": [
       "array([31, 12, 28, 26, 17, 19, 21, 10, 11, 15, 29])"
      ]
     },
     "execution_count": 134,
     "metadata": {},
     "output_type": "execute_result"
    }
   ],
   "source": [
    "# return elements same in array a\n",
    "array[np.isin(array, a)]"
   ]
  },
  {
   "cell_type": "code",
   "execution_count": 141,
   "id": "1ac45cf3",
   "metadata": {},
   "outputs": [
    {
     "data": {
      "text/plain": [
       "array([13,  0,  5, 23,  3,  7,  6, 20, 25,  8, 22,  4, 14, 24,  9, 30, 16,\n",
       "        1, 27, 18,  2])"
      ]
     },
     "execution_count": 141,
     "metadata": {},
     "output_type": "execute_result"
    }
   ],
   "source": [
    "# return elements excepted in array a\n",
    "array[~ np.isin(array, a)]"
   ]
  },
  {
   "cell_type": "markdown",
   "id": "37053bbd",
   "metadata": {},
   "source": [
    "### Method 5. `np.in1d`"
   ]
  },
  {
   "cell_type": "code",
   "execution_count": 143,
   "id": "b62786cc",
   "metadata": {},
   "outputs": [
    {
     "data": {
      "text/plain": [
       "array([31, 12, 28, 26, 17, 19, 21, 10, 11, 15, 29])"
      ]
     },
     "execution_count": 143,
     "metadata": {},
     "output_type": "execute_result"
    }
   ],
   "source": [
    "array[np.in1d(array, a)]"
   ]
  },
  {
   "cell_type": "markdown",
   "id": "582bc576",
   "metadata": {},
   "source": [
    "### Method 6. Compare in a list [ ]"
   ]
  },
  {
   "cell_type": "code",
   "execution_count": 159,
   "id": "dd7c1235",
   "metadata": {},
   "outputs": [
    {
     "name": "stdout",
     "output_type": "stream",
     "text": [
      "1 13\n",
      "3 0\n"
     ]
    }
   ],
   "source": [
    "for i, val in enumerate(array):\n",
    "    if i in deleted_indice:\n",
    "        print(i,val)"
   ]
  },
  {
   "cell_type": "code",
   "execution_count": 160,
   "id": "109286f0",
   "metadata": {},
   "outputs": [
    {
     "data": {
      "text/plain": [
       "[13, 0]"
      ]
     },
     "execution_count": 160,
     "metadata": {},
     "output_type": "execute_result"
    }
   ],
   "source": [
    "[val for i,val in enumerate(array) if i in deleted_indice]"
   ]
  },
  {
   "cell_type": "code",
   "execution_count": 161,
   "id": "ea51f79e",
   "metadata": {},
   "outputs": [
    {
     "data": {
      "text/plain": [
       "{1: 13, 3: 0}"
      ]
     },
     "execution_count": 161,
     "metadata": {},
     "output_type": "execute_result"
    }
   ],
   "source": [
    "{i:val for i,val in enumerate(array) if i in deleted_indice}"
   ]
  },
  {
   "cell_type": "markdown",
   "id": "74232345",
   "metadata": {},
   "source": [
    "# 14. flip a dictionary"
   ]
  },
  {
   "cell_type": "code",
   "execution_count": null,
   "id": "ff929440",
   "metadata": {},
   "outputs": [],
   "source": [
    "def dict_flip(dict_source):\n",
    "    dict_flipped = {}\n",
    "    for key, value in dict_source.items():\n",
    "        if value not in dict_flipped:\n",
    "            dict_flipped[value] = [key]\n",
    "        else:\n",
    "            dict_flipped[value].append(key)\n",
    "    return dict_flipped"
   ]
  }
 ],
 "metadata": {
  "kernelspec": {
   "display_name": "Python 3 (ipykernel)",
   "language": "python",
   "name": "python3"
  },
  "language_info": {
   "codemirror_mode": {
    "name": "ipython",
    "version": 3
   },
   "file_extension": ".py",
   "mimetype": "text/x-python",
   "name": "python",
   "nbconvert_exporter": "python",
   "pygments_lexer": "ipython3",
   "version": "3.9.1"
  }
 },
 "nbformat": 4,
 "nbformat_minor": 5
}
