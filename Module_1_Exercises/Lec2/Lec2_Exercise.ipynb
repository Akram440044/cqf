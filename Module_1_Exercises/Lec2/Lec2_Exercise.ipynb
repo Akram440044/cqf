{
 "cells": [
  {
   "cell_type": "code",
   "execution_count": 1,
   "id": "85e79b98",
   "metadata": {},
   "outputs": [],
   "source": [
    "import numpy as np\n",
    "import pandas as pd\n",
    "import matplotlib.pyplot as plt\n",
    "\n",
    "plt.style.use('fivethirtyeight')"
   ]
  },
  {
   "cell_type": "markdown",
   "id": "6060358d",
   "metadata": {},
   "source": [
    "# 1. Delta Hedging"
   ]
  },
  {
   "cell_type": "code",
   "execution_count": 2,
   "id": "b9952ba9",
   "metadata": {},
   "outputs": [],
   "source": [
    "Share_Price = 80\n",
    "p = 0.5\n",
    "K = 79\n",
    "S_up = 84\n",
    "S_down = 76\n",
    "\n",
    "V_up = max(S_up - K, 0)\n",
    "V_down = max(S_down - K, 0)"
   ]
  },
  {
   "cell_type": "markdown",
   "id": "6254cbcf",
   "metadata": {},
   "source": [
    "By using the Delta Hedging, We aim to calculate the amount of share holding $\\Delta$, such that \n",
    "\n",
    "$$ V^+ - \\Delta S^+ = V^- - \\Delta S^- $$\n",
    "\n",
    "$$ \\Delta = \\frac{V^+ - V^-}{S^+ - S^-} $$\n",
    "\n",
    "long a call, short $\\Delta$ portion of Stocks."
   ]
  },
  {
   "cell_type": "code",
   "execution_count": 3,
   "id": "75d2866a",
   "metadata": {},
   "outputs": [
    {
     "name": "stdout",
     "output_type": "stream",
     "text": [
      "Call Option Value at S_up is: 5\n",
      "Call Option Value at S_down is: 0\n",
      "Delta is : 0.625\n",
      "-47.5\n",
      "-47.5\n"
     ]
    }
   ],
   "source": [
    "delta = (V_up - V_down)/(S_up - S_down)\n",
    "\n",
    "print('Call Option Value at S_up is:', V_up)\n",
    "print('Call Option Value at S_down is:', V_down)\n",
    "print('Delta is :', delta)\n",
    "print(V_up - delta*S_up)\n",
    "print(V_down - delta*S_down)"
   ]
  },
  {
   "cell_type": "markdown",
   "id": "40a52411",
   "metadata": {},
   "source": [
    "As we assume there is not interest rate here, $V - \\Delta S = V^+ - \\Delta S^+ = V^- - \\Delta S^-$\n",
    "\n",
    "$$ V =  V^+ - \\Delta S^+  + S$$"
   ]
  },
  {
   "cell_type": "code",
   "execution_count": 4,
   "id": "dc716b58",
   "metadata": {},
   "outputs": [
    {
     "name": "stdout",
     "output_type": "stream",
     "text": [
      "Value of Call Option in this case is : 2.5\n",
      "2.5\n"
     ]
    }
   ],
   "source": [
    "V = V_up - delta * S_up + Share_Price *delta \n",
    "print('Value of Call Option in this case is :', V)\n",
    "print(V_down - delta * S_down + Share_Price*delta)"
   ]
  },
  {
   "cell_type": "code",
   "execution_count": 5,
   "id": "f5107ec1",
   "metadata": {},
   "outputs": [],
   "source": [
    "# P.S. might run through function\n",
    "def option_call(S,K):\n",
    "    return max(S-K, 0)\n",
    "\n",
    "def delta_hedgeing(S_up, S_down, K):\n",
    "    return (option_call(S_up, K) - option_call(S_down, K))/(S_up - S_down)"
   ]
  },
  {
   "cell_type": "markdown",
   "id": "27ee5b24",
   "metadata": {},
   "source": [
    "# 2. Binomial"
   ]
  },
  {
   "cell_type": "code",
   "execution_count": 6,
   "id": "8d69090c",
   "metadata": {},
   "outputs": [],
   "source": [
    "Share_Price2 = 92\n",
    "S_up2 = 98\n",
    "S_down2 = 86\n",
    "K2 = 90\n",
    "rf = 0.02"
   ]
  },
  {
   "cell_type": "markdown",
   "id": "3ac701b7",
   "metadata": {},
   "source": [
    "In this case, interest rate is added. Still, we try to find $\\Delta$, and discount the future value of the artificial portfolio with a long call and a short delta portion of stocks.\n",
    "\n",
    "Then, calculate the present value of call option.\n",
    "\n",
    "$$  V - \\Delta S = e^{-r}\\bigg( V^+ - \\Delta S^+  \\bigg)  $$\n",
    "\n",
    "$$  V= e^{-r}\\bigg( V^+ - \\Delta S^+  \\bigg)   + \\Delta S $$"
   ]
  },
  {
   "cell_type": "code",
   "execution_count": 7,
   "id": "b43e1691",
   "metadata": {},
   "outputs": [
    {
     "name": "stdout",
     "output_type": "stream",
     "text": [
      "Delta is : 0.6666666666666666\n",
      "Value of Call is: 5.1352760637460335\n"
     ]
    }
   ],
   "source": [
    "# Delta\n",
    "delta2 = delta_hedgeing(S_up2, S_down2, K2)\n",
    "print('Delta is :',delta2)\n",
    "\n",
    "# PV of Call Option\n",
    "V2 = np.exp(-rf) * (  option_call(S_up2, K2) - delta2 * S_up2  ) \\\n",
    "    + delta2*Share_Price2\n",
    "print('Value of Call is:',V2)"
   ]
  },
  {
   "cell_type": "markdown",
   "id": "3a4ed8c2",
   "metadata": {},
   "source": [
    "# 3. 'Power' Option"
   ]
  },
  {
   "cell_type": "code",
   "execution_count": 8,
   "id": "62b2e767",
   "metadata": {},
   "outputs": [],
   "source": [
    "def power_option_call(S,K):\n",
    "    return max(S**2-K, 0)\n",
    "\n",
    "def power_delta_hedgeing(S_up, S_down, K):\n",
    "    return (power_option_call(S_up, K) - power_option_call(S_down, K))/(S_up - S_down)"
   ]
  },
  {
   "cell_type": "code",
   "execution_count": 9,
   "id": "35fbb2bc",
   "metadata": {},
   "outputs": [
    {
     "name": "stdout",
     "output_type": "stream",
     "text": [
      "Delta is : 30.0\n",
      "Value of Call is: 70.0\n"
     ]
    }
   ],
   "source": [
    "Share_Price3 = 15\n",
    "S_up3 = 17\n",
    "S_down3 = 13\n",
    "rf = 0\n",
    "K3 = 159\n",
    "\n",
    "# Delta\n",
    "delta3 = power_delta_hedgeing(S_up3, S_down3, K3)\n",
    "print('Delta is :',delta3)\n",
    "\n",
    "# PV of Call Option\n",
    "V3 = np.exp(-rf) * (  power_option_call(S_up3, K3) - delta3 * S_up3  ) \\\n",
    "    + delta3*Share_Price3\n",
    "print('Value of Call is:',V3)"
   ]
  },
  {
   "cell_type": "markdown",
   "id": "397cc821",
   "metadata": {},
   "source": [
    "# 4. Risk-netural Prob"
   ]
  },
  {
   "cell_type": "code",
   "execution_count": 10,
   "id": "81e2331c",
   "metadata": {},
   "outputs": [
    {
     "name": "stdout",
     "output_type": "stream",
     "text": [
      "0.48484848484848503\n",
      "0.48484848484848486\n"
     ]
    }
   ],
   "source": [
    "S_up4 = 92\n",
    "S_down4 = 59\n",
    "Share_Price4 = 75\n",
    "\n",
    "u = S_up4 / Share_Price4\n",
    "d = S_down4 / Share_Price4\n",
    "\n",
    "p = (1 -d)/(u-d)\n",
    "print(p)\n",
    "print( (Share_Price4 - S_down4 ) / (S_up4 - S_down4))"
   ]
  },
  {
   "cell_type": "markdown",
   "id": "19c2a8ff",
   "metadata": {},
   "source": [
    "# 5. Binary Call"
   ]
  },
  {
   "cell_type": "code",
   "execution_count": 11,
   "id": "928d3eae",
   "metadata": {},
   "outputs": [],
   "source": [
    "K5 = 79\n",
    "Share_Price5 = 80\n",
    "S_up5 = 84\n",
    "S_down5 = 76\n",
    "rf = 0\n",
    "\n",
    "def binary_call(S, E):\n",
    "    if S>E:\n",
    "        return 1\n",
    "    else:\n",
    "        return 0\n",
    "    \n",
    "def binary_delta_hedgeing(S_up, S_down, K):\n",
    "    return (binary_call(S_up, K) - binary_call(S_down, K))/(S_up - S_down)"
   ]
  },
  {
   "cell_type": "code",
   "execution_count": 12,
   "id": "044d463b",
   "metadata": {},
   "outputs": [
    {
     "name": "stdout",
     "output_type": "stream",
     "text": [
      "Delta is : 0.125\n",
      "Value of Call is: 0.5\n"
     ]
    }
   ],
   "source": [
    "# Delta\n",
    "delta5 = binary_delta_hedgeing(S_up5, S_down5, K5)\n",
    "print('Delta is :',delta5)\n",
    "\n",
    "# PV of Call Option\n",
    "V5 = np.exp(-rf) * (  binary_call(S_up5, K5) - delta5 * S_up5  ) \\\n",
    "    + delta5*Share_Price5\n",
    "print('Value of Call is:',V5)"
   ]
  },
  {
   "cell_type": "markdown",
   "id": "0426f99f",
   "metadata": {},
   "source": [
    "# 6. Multi-Step Binomial"
   ]
  },
  {
   "cell_type": "code",
   "execution_count": 13,
   "id": "ebf84ff3",
   "metadata": {},
   "outputs": [
    {
     "data": {
      "image/png": "[encoded data removed]",
      "text/plain": [
       "<Figure size 432x288 with 1 Axes>"
      ]
     },
     "metadata": {},
     "output_type": "display_data"
    }
   ],
   "source": [
    "S = 100\n",
    "r = 0.05 # e^r continuously compounding\n",
    "E = 100 # strike price\n",
    "T = 1\n",
    "SD = 0.2 # given in the spreadsheet\n",
    "TimeStep =4\n",
    "dt = T/TimeStep\n",
    "\n",
    "\n",
    "\n",
    "u = 1 + SD * np.sqrt(dt)\n",
    "d = 1 - SD * np.sqrt(dt)\n",
    "pp = (1 + r*dt - d)/(u-d)  # p'\n",
    "\n",
    "\n",
    "N = 100\n",
    "\n",
    "S_list_all = []\n",
    "for i in range(N):\n",
    "    S = 100\n",
    "    S_list_each = [S]\n",
    "    for j in range(TimeStep):\n",
    "        S = S * np.random.choice([u,d])\n",
    "        S_list_each.append(S)\n",
    "    S_list_all.append(S_list_each)\n",
    "    \n",
    "Price_matrix = np.vstack(S_list_all)\n",
    "Price_matrix = np.round(Price_matrix,2)\n",
    "plt.figure()\n",
    "plt.plot( Price_matrix.T )\n",
    "plt.title('The Curve is bended, because of the interest rate')\n",
    "plt.show()"
   ]
  },
  {
   "cell_type": "code",
   "execution_count": 14,
   "id": "371eac13",
   "metadata": {},
   "outputs": [
    {
     "name": "stdout",
     "output_type": "stream",
     "text": [
      "[[  0.   -10.   -19.   -27.1  -34.39]\n",
      " [  0.    10.    -1.   -10.9  -19.81]\n",
      " [  0.     0.    21.     8.9   -1.99]\n",
      " [  0.     0.     0.    33.1   19.79]\n",
      " [  0.     0.     0.     0.    46.41]]\n",
      "[[100.    90.    81.    72.9   65.61]\n",
      " [  0.   110.    99.    89.1   80.19]\n",
      " [  0.     0.   121.   108.9   98.01]\n",
      " [  0.     0.     0.   133.1  119.79]\n",
      " [  0.     0.     0.     0.   146.41]]\n"
     ]
    }
   ],
   "source": [
    "Payoff_matrix = np.zeros(Price_matrix.shape)\n",
    "Payoff_matrix = Price_matrix -100\n",
    "Payoff_matrix = np.round(Payoff_matrix,2)\n",
    "# plt.figure()\n",
    "# plt.plot( Payoff_matrix.T )\n",
    "# plt.title('Payoff Matrix')\n",
    "# plt.show()\n",
    "\n",
    "# reforming the payoff matrix\n",
    "\n",
    "payoff_node = np.zeros([ len(np.unique(Payoff_matrix[:,4])),TimeStep+1])\n",
    "# row is nodes number, col is timestep number\n",
    "price_node = np.zeros([ len(np.unique(Price_matrix[:,4])),TimeStep+1])\n",
    "\n",
    "\n",
    "for i in range(TimeStep,0,-1):\n",
    "    sorted_payoff = np.sort(np.unique(Payoff_matrix[:,i]))\n",
    "    sorted_price = np.sort(np.unique(Price_matrix[:,i]))\n",
    "    payoff_node[0:len(sorted_payoff),i] = sorted_payoff\n",
    "    price_node[0:len(sorted_price),i] = sorted_price\n",
    "    \n",
    "price_node[0,0] = Price_matrix[0,0]\n",
    "print(payoff_node)\n",
    "print(price_node)"
   ]
  },
  {
   "cell_type": "code",
   "execution_count": 15,
   "id": "051b0f32",
   "metadata": {},
   "outputs": [
    {
     "name": "stdout",
     "output_type": "stream",
     "text": [
      "[[10.2860548   3.39334705  0.          0.          0.        ]\n",
      " [ 0.         15.87562872  6.10802469  0.          0.        ]\n",
      " [ 0.          0.         23.82544582 10.99444444  0.        ]\n",
      " [ 0.          0.          0.         34.3345679  19.79      ]\n",
      " [ 0.          0.          0.          0.         46.41      ]]\n"
     ]
    }
   ],
   "source": [
    "payoff_node = np.maximum(payoff_node,0)\n",
    "v_node = np.zeros(price_node.shape)\n",
    "v_node[:,TimeStep] = payoff_node[:,TimeStep]\n",
    "for i in range(TimeStep,0,-1):\n",
    "    for j in range((price_node[:,i]!=0).sum(),1,-1):\n",
    "        s_down, s_up = price_node[j-2:j,i]\n",
    "        v_down, v_up = v_node[j-2:j,i]\n",
    "\n",
    "        delta_temp = (v_up - v_down)/(s_up - s_down)\n",
    "        s_pre = price_node[j-2,i-1]\n",
    "#         v = np.exp(-r/TimeStep)*( v_up - delta_temp * s_up ) + s_pre*delta_temp\n",
    "        v = ( 1/(1+r/TimeStep) ) *( v_up - delta_temp * s_up ) + s_pre*delta_temp\n",
    "        if v_node[j-2,i-1] > v:\n",
    "            v = v_node[j-2,i-1] \n",
    "        v_node[j-2,i-1] = v\n",
    "print(v_node)"
   ]
  },
  {
   "cell_type": "markdown",
   "id": "d60782ed",
   "metadata": {},
   "source": [
    "# 7. Put - 2 Periods"
   ]
  },
  {
   "cell_type": "code",
   "execution_count": 16,
   "id": "e3501b37",
   "metadata": {},
   "outputs": [],
   "source": [
    "put_change = [-3.0, 3.0]\n",
    "S = 63\n",
    "E = 61\n",
    "rf = 0.04 # continuously compounding\n",
    "T = 1\n",
    "TimeStep =2\n",
    "dt = T/TimeStep\n",
    "\n",
    "S_up = S+3\n",
    "S_down = S-3"
   ]
  },
  {
   "cell_type": "markdown",
   "id": "5b7e637f",
   "metadata": {},
   "source": [
    "long put long stock\n",
    "\n",
    "$$p^+  - \\Delta S^+ = p^- - \\Delta S^-$$\n",
    "\n",
    "$$ p - \\Delta S = e^{-rT} \\bigg(  p^+ - \\Delta S^+ \\bigg)$$\n",
    "\n",
    "**Ignore in which direction we long or short the option and stocks, the sign of delta will adjust to be negative itself.**"
   ]
  },
  {
   "cell_type": "code",
   "execution_count": 17,
   "id": "fca8c5a5",
   "metadata": {},
   "outputs": [],
   "source": [
    "def option_put(S, K):\n",
    "    return max(K-S, 0)\n",
    "\n",
    "def delta_put(S_up, S_down, K):\n",
    "    return (option_put(S_down, K)-option_put(S_up, K))/(S_up - S_down)"
   ]
  },
  {
   "cell_type": "code",
   "execution_count": 18,
   "id": "5793a2ec",
   "metadata": {},
   "outputs": [
    {
     "name": "stdout",
     "output_type": "stream",
     "text": [
      "put value is : 14.435695191233663\n"
     ]
    }
   ],
   "source": [
    "delta7 = delta_put(S_up, S_down, K)\n",
    "put_up = option_put(S_up, K)\n",
    "put = np.exp( - rf * 1/2 )*(put_up + delta7 * S_up) - delta7 * S\n",
    "print('put value is :', put)"
   ]
  },
  {
   "cell_type": "code",
   "execution_count": 19,
   "id": "b1794c63",
   "metadata": {
    "scrolled": true
   },
   "outputs": [
    {
     "data": {
      "image/png": "[encoded data removed]",
      "text/plain": [
       "<Figure size 432x288 with 1 Axes>"
      ]
     },
     "metadata": {},
     "output_type": "display_data"
    }
   ],
   "source": [
    "a = 63\n",
    "S = a\n",
    "E = 61 # strike price\n",
    "T = 0.5\n",
    "TimeStep =2\n",
    "dt = T/TimeStep\n",
    "r = 0.04\n",
    "\n",
    "\n",
    "N = 100\n",
    "S_list_all = []\n",
    "for i in range(N):\n",
    "    S = a\n",
    "    S_list_each = [S]\n",
    "    for j in range(TimeStep):\n",
    "        S += np.random.choice([3,-3])\n",
    "        S_list_each.append(S)\n",
    "    S_list_all.append(S_list_each)\n",
    "    \n",
    "Price_matrix = np.vstack(S_list_all)\n",
    "Price_matrix = np.round(Price_matrix,2)\n",
    "plt.figure()\n",
    "plt.plot( Price_matrix.T )\n",
    "plt.title('The Curve is bended, because of the interest rate')\n",
    "plt.show()"
   ]
  },
  {
   "cell_type": "code",
   "execution_count": 20,
   "id": "2f5e1486",
   "metadata": {
    "scrolled": true
   },
   "outputs": [
    {
     "name": "stdout",
     "output_type": "stream",
     "text": [
      "[[ 0.  1.  4.]\n",
      " [ 0. -5. -2.]\n",
      " [ 0.  0. -8.]]\n",
      "[[63. 60. 57.]\n",
      " [ 0. 66. 63.]\n",
      " [ 0.  0. 69.]]\n"
     ]
    }
   ],
   "source": [
    "Payoff_matrix = np.zeros(Price_matrix.shape)\n",
    "Payoff_matrix = E - Price_matrix\n",
    "Payoff_matrix = np.round(Payoff_matrix,2)\n",
    "# plt.figure()\n",
    "# plt.plot( Payoff_matrix.T )\n",
    "# plt.title('Payoff Matrix')\n",
    "# plt.show()\n",
    "\n",
    "# reforming the payoff matrix\n",
    "payoff_node = np.zeros([ len(np.unique(Payoff_matrix[:,TimeStep])),TimeStep+1])\n",
    "# row is nodes number, col is timestep number\n",
    "price_node = np.zeros([ len(np.unique(Price_matrix[:,TimeStep])),TimeStep+1])\n",
    "\n",
    "\n",
    "for i in range(TimeStep,0,-1):\n",
    "#     sorted_payoff = np.sort(np.unique(Payoff_matrix[:,i]))\n",
    "    sorted_payoff = np.sort(np.unique(Payoff_matrix[:,i]))[::-1] # put option, sort in a descending order\n",
    "    sorted_price = np.sort(np.unique(Price_matrix[:,i]))\n",
    "    payoff_node[0:len(sorted_payoff),i] = sorted_payoff\n",
    "    price_node[0:len(sorted_price),i] = sorted_price\n",
    "    \n",
    "price_node[0,0] = Price_matrix[0,0]\n",
    "print(payoff_node)\n",
    "print(price_node)"
   ]
  },
  {
   "cell_type": "code",
   "execution_count": 21,
   "id": "875c4fb9",
   "metadata": {},
   "outputs": [
    {
     "name": "stdout",
     "output_type": "stream",
     "text": [
      "[[0.61788353 1.58209302 4.        ]\n",
      " [0.         0.         0.        ]\n",
      " [0.         0.         0.        ]]\n"
     ]
    }
   ],
   "source": [
    "payoff_node = np.maximum(payoff_node,0)\n",
    "v_node = np.zeros(price_node.shape)\n",
    "v_node[:,TimeStep] = payoff_node[:,TimeStep]\n",
    "for i in range(TimeStep,0,-1):\n",
    "    for j in range((price_node[:,i]!=0).sum(),1,-1):\n",
    "        s_down, s_up = price_node[j-2:j,i]\n",
    "        v_down, v_up = v_node[j-2:j,i]\n",
    "\n",
    "        delta_temp = (v_up - v_down)/(s_up - s_down)\n",
    "        s_pre = price_node[j-2,i-1]\n",
    "        v = np.exp(-r*dt)*( v_up - delta_temp * s_up ) + s_pre*delta_temp\n",
    "#         v = ( 1/(1+r/TimeStep) ) *( v_up - delta_temp * s_up ) + s_pre*delta_temp\n",
    "        if v_node[j-2,i-1] > v:\n",
    "            v = v_node[j-2,i-1] \n",
    "        v_node[j-2,i-1] = v\n",
    "print(v_node)"
   ]
  },
  {
   "cell_type": "markdown",
   "id": "6a3cf17d",
   "metadata": {},
   "source": [
    "# 8. Two-Step Binomial Tree\n",
    "\n",
    "Apply code in Q6"
   ]
  },
  {
   "cell_type": "code",
   "execution_count": 22,
   "id": "b6ab79e8",
   "metadata": {
    "scrolled": true
   },
   "outputs": [
    {
     "data": {
      "image/png": "[encoded data removed]",
      "text/plain": [
       "<Figure size 432x288 with 1 Axes>"
      ]
     },
     "metadata": {},
     "output_type": "display_data"
    }
   ],
   "source": [
    "a = 100\n",
    "S = a\n",
    "E = a + 5 # strike price\n",
    "T = 1\n",
    "SD = 0.2 # given in the spreadsheet\n",
    "TimeStep =2\n",
    "dt = T/TimeStep\n",
    "r = 0\n",
    "\n",
    "\n",
    "N = 100\n",
    "S_list_all = []\n",
    "for i in range(N):\n",
    "    S = a\n",
    "    S_list_each = [S]\n",
    "    for j in range(TimeStep):\n",
    "        S += np.random.choice([10,-10])\n",
    "        S_list_each.append(S)\n",
    "    S_list_all.append(S_list_each)\n",
    "    \n",
    "Price_matrix = np.vstack(S_list_all)\n",
    "Price_matrix = np.round(Price_matrix,2)\n",
    "plt.figure()\n",
    "plt.plot( Price_matrix.T )\n",
    "plt.title('The Curve is bended, because of the interest rate')\n",
    "plt.show()"
   ]
  },
  {
   "cell_type": "code",
   "execution_count": 23,
   "id": "c4ae97fd",
   "metadata": {
    "scrolled": true
   },
   "outputs": [
    {
     "name": "stdout",
     "output_type": "stream",
     "text": [
      "[[  0. -15. -25.]\n",
      " [  0.   5.  -5.]\n",
      " [  0.   0.  15.]]\n",
      "[[100.  90.  80.]\n",
      " [  0. 110. 100.]\n",
      " [  0.   0. 120.]]\n"
     ]
    }
   ],
   "source": [
    "Payoff_matrix = np.zeros(Price_matrix.shape)\n",
    "Payoff_matrix = Price_matrix - E\n",
    "Payoff_matrix = np.round(Payoff_matrix,2)\n",
    "# plt.figure()\n",
    "# plt.plot( Payoff_matrix.T )\n",
    "# plt.title('Payoff Matrix')\n",
    "# plt.show()\n",
    "\n",
    "# reforming the payoff matrix\n",
    "\n",
    "payoff_node = np.zeros([ len(np.unique(Payoff_matrix[:,TimeStep])),TimeStep+1])\n",
    "# row is nodes number, col is timestep number\n",
    "price_node = np.zeros([ len(np.unique(Price_matrix[:,TimeStep])),TimeStep+1])\n",
    "\n",
    "\n",
    "for i in range(TimeStep,0,-1):\n",
    "    sorted_payoff = np.sort(np.unique(Payoff_matrix[:,i]))\n",
    "    sorted_price = np.sort(np.unique(Price_matrix[:,i]))\n",
    "    payoff_node[0:len(sorted_payoff),i] = sorted_payoff\n",
    "    price_node[0:len(sorted_price),i] = sorted_price\n",
    "    \n",
    "price_node[0,0] = Price_matrix[0,0]\n",
    "print(payoff_node)\n",
    "print(price_node)"
   ]
  },
  {
   "cell_type": "code",
   "execution_count": 24,
   "id": "d2e1ef5a",
   "metadata": {},
   "outputs": [
    {
     "name": "stdout",
     "output_type": "stream",
     "text": [
      "[[ 3.75  0.    0.  ]\n",
      " [ 0.    7.5   0.  ]\n",
      " [ 0.    0.   15.  ]]\n"
     ]
    }
   ],
   "source": [
    "payoff_node = np.maximum(payoff_node,0)\n",
    "v_node = np.zeros(price_node.shape)\n",
    "v_node[:,TimeStep] = payoff_node[:,TimeStep]\n",
    "for i in range(TimeStep,0,-1):\n",
    "    for j in range((price_node[:,i]!=0).sum(),1,-1):\n",
    "        s_down, s_up = price_node[j-2:j,i]\n",
    "        v_down, v_up = v_node[j-2:j,i]\n",
    "\n",
    "        delta_temp = (v_up - v_down)/(s_up - s_down)\n",
    "        s_pre = price_node[j-2,i-1]\n",
    "#         v = np.exp(-r/TimeStep)*( v_up - delta_temp * s_up ) + s_pre*delta_temp\n",
    "        v = ( 1/(1+r * dt) ) *( v_up - delta_temp * s_up ) + s_pre*delta_temp\n",
    "        if v_node[j-2,i-1] > v:\n",
    "            v = v_node[j-2,i-1] \n",
    "        v_node[j-2,i-1] = v\n",
    "print(v_node)"
   ]
  }
 ],
 "metadata": {
  "kernelspec": {
   "display_name": "Python 3 (ipykernel)",
   "language": "python",
   "name": "python3"
  },
  "language_info": {
   "codemirror_mode": {
    "name": "ipython",
    "version": 3
   },
   "file_extension": ".py",
   "mimetype": "text/x-python",
   "name": "python",
   "nbconvert_exporter": "python",
   "pygments_lexer": "ipython3",
   "version": "3.9.12"
  },
  "toc": {
   "base_numbering": 1,
   "nav_menu": {},
   "number_sections": true,
   "sideBar": true,
   "skip_h1_title": false,
   "title_cell": "Table of Contents",
   "title_sidebar": "Contents",
   "toc_cell": false,
   "toc_position": {},
   "toc_section_display": true,
   "toc_window_display": false
  }
 },
 "nbformat": 4,
 "nbformat_minor": 5
}
